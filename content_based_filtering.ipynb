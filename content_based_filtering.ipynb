{
 "cells": [
  {
   "cell_type": "code",
   "execution_count": 2,
   "metadata": {
    "ExecuteTime": {
     "end_time": "2021-02-10T21:41:08.512004Z",
     "start_time": "2021-02-10T21:41:06.851676Z"
    }
   },
   "outputs": [],
   "source": [
    "import pandas as pd\n",
    "import numpy as np\n",
    "from ast import literal_eval\n",
    "import seaborn as sns\n",
    "import matplotlib.pyplot as plt\n",
    "from sklearn.feature_extraction.text import CountVectorizer\n",
    "from sklearn.metrics.pairwise import cosine_similarity\n",
    "\n",
    "pd.options.display.max_columns = 100\n",
    "pd.options.display.max_rows = 100\n",
    "pd.options.display.precision = 3\n",
    "sns.set_style('darkgrid')\n",
    "plt.rcParams['figure.figsize'] = [7, 5]\n",
    "plt.rcParams['figure.titlesize'] = 15\n",
    "\n",
    "%matplotlib inline"
   ]
  },
  {
   "cell_type": "markdown",
   "metadata": {},
   "source": [
    "# Loading The Files"
   ]
  },
  {
   "cell_type": "code",
   "execution_count": 3,
   "metadata": {
    "ExecuteTime": {
     "end_time": "2021-02-10T21:41:12.245156Z",
     "start_time": "2021-02-10T21:41:08.513002Z"
    }
   },
   "outputs": [],
   "source": [
    "# Load 'Movies' file\n",
    "movies = pd.read_csv('ml-latest/movies_metadata.csv.zip', \n",
    "                     usecols=['budget', 'genres', 'id', 'original_language', 'original_title', \n",
    "                              'popularity', 'production_companies', 'production_countries', \n",
    "                              'release_date', 'runtime'], low_memory=False)\n",
    "\n",
    "movies.id = movies.id.str.replace('-', '0').astype('int')\n",
    "movies.release_date = pd.to_datetime(movies.release_date, errors='coerce')\n",
    "movies['year'] = movies.release_date.dt.year\n",
    "movies['month'] = movies.release_date.dt.month\n",
    "movies = movies.drop(['release_date'], axis=1)\n",
    "movies = movies[~movies.id.duplicated()]\n",
    "\n",
    "# Load 'Credits' file\n",
    "credits = pd.read_csv('ml-latest/credits.csv.zip', usecols=['id', 'crew', 'cast'])\n",
    "credits = credits[~credits.id.duplicated()]\n",
    "\n",
    "# Load 'keywords' file\n",
    "keywords = pd.read_csv('ml-latest/keywords.csv')\n",
    "keywords = keywords[~keywords.id.duplicated()]\n",
    "\n",
    "# Load 'tags' file\n",
    "tags = pd.read_csv('ml-latest/tags.csv', usecols=['movieId', 'tag'])\n",
    "\n",
    "# Load 'links' file\n",
    "links = pd.read_csv('ml-latest/links.csv')\n",
    "links = links.loc[links.tmdbId.notnull()]\n",
    "links.tmdbId = links.tmdbId.astype('int')"
   ]
  },
  {
   "cell_type": "code",
   "execution_count": 4,
   "metadata": {
    "ExecuteTime": {
     "end_time": "2021-02-10T21:41:12.279069Z",
     "start_time": "2021-02-10T21:41:12.246058Z"
    }
   },
   "outputs": [
    {
     "name": "stdout",
     "output_type": "stream",
     "text": [
      "Number of unique movies: 45436\n"
     ]
    },
    {
     "data": {
      "text/html": [
       "<div>\n",
       "<style scoped>\n",
       "    .dataframe tbody tr th:only-of-type {\n",
       "        vertical-align: middle;\n",
       "    }\n",
       "\n",
       "    .dataframe tbody tr th {\n",
       "        vertical-align: top;\n",
       "    }\n",
       "\n",
       "    .dataframe thead th {\n",
       "        text-align: right;\n",
       "    }\n",
       "</style>\n",
       "<table border=\"1\" class=\"dataframe\">\n",
       "  <thead>\n",
       "    <tr style=\"text-align: right;\">\n",
       "      <th></th>\n",
       "      <th>genres</th>\n",
       "      <th>id</th>\n",
       "      <th>original_language</th>\n",
       "      <th>original_title</th>\n",
       "      <th>production_companies</th>\n",
       "      <th>production_countries</th>\n",
       "    </tr>\n",
       "  </thead>\n",
       "  <tbody>\n",
       "    <tr>\n",
       "      <th>0</th>\n",
       "      <td>[{'id': 16, 'name': 'Animation'}, {'id': 35, '...</td>\n",
       "      <td>862</td>\n",
       "      <td>en</td>\n",
       "      <td>Toy Story</td>\n",
       "      <td>[{'name': 'Pixar Animation Studios', 'id': 3}]</td>\n",
       "      <td>[{'iso_3166_1': 'US', 'name': 'United States o...</td>\n",
       "    </tr>\n",
       "    <tr>\n",
       "      <th>1</th>\n",
       "      <td>[{'id': 12, 'name': 'Adventure'}, {'id': 14, '...</td>\n",
       "      <td>8844</td>\n",
       "      <td>en</td>\n",
       "      <td>Jumanji</td>\n",
       "      <td>[{'name': 'TriStar Pictures', 'id': 559}, {'na...</td>\n",
       "      <td>[{'iso_3166_1': 'US', 'name': 'United States o...</td>\n",
       "    </tr>\n",
       "    <tr>\n",
       "      <th>2</th>\n",
       "      <td>[{'id': 10749, 'name': 'Romance'}, {'id': 35, ...</td>\n",
       "      <td>15602</td>\n",
       "      <td>en</td>\n",
       "      <td>Grumpier Old Men</td>\n",
       "      <td>[{'name': 'Warner Bros.', 'id': 6194}, {'name'...</td>\n",
       "      <td>[{'iso_3166_1': 'US', 'name': 'United States o...</td>\n",
       "    </tr>\n",
       "    <tr>\n",
       "      <th>3</th>\n",
       "      <td>[{'id': 35, 'name': 'Comedy'}, {'id': 18, 'nam...</td>\n",
       "      <td>31357</td>\n",
       "      <td>en</td>\n",
       "      <td>Waiting to Exhale</td>\n",
       "      <td>[{'name': 'Twentieth Century Fox Film Corporat...</td>\n",
       "      <td>[{'iso_3166_1': 'US', 'name': 'United States o...</td>\n",
       "    </tr>\n",
       "    <tr>\n",
       "      <th>4</th>\n",
       "      <td>[{'id': 35, 'name': 'Comedy'}]</td>\n",
       "      <td>11862</td>\n",
       "      <td>en</td>\n",
       "      <td>Father of the Bride Part II</td>\n",
       "      <td>[{'name': 'Sandollar Productions', 'id': 5842}...</td>\n",
       "      <td>[{'iso_3166_1': 'US', 'name': 'United States o...</td>\n",
       "    </tr>\n",
       "  </tbody>\n",
       "</table>\n",
       "</div>"
      ],
      "text/plain": [
       "                                              genres     id original_language  \\\n",
       "0  [{'id': 16, 'name': 'Animation'}, {'id': 35, '...    862                en   \n",
       "1  [{'id': 12, 'name': 'Adventure'}, {'id': 14, '...   8844                en   \n",
       "2  [{'id': 10749, 'name': 'Romance'}, {'id': 35, ...  15602                en   \n",
       "3  [{'id': 35, 'name': 'Comedy'}, {'id': 18, 'nam...  31357                en   \n",
       "4                     [{'id': 35, 'name': 'Comedy'}]  11862                en   \n",
       "\n",
       "                original_title  \\\n",
       "0                    Toy Story   \n",
       "1                      Jumanji   \n",
       "2             Grumpier Old Men   \n",
       "3            Waiting to Exhale   \n",
       "4  Father of the Bride Part II   \n",
       "\n",
       "                                production_companies  \\\n",
       "0     [{'name': 'Pixar Animation Studios', 'id': 3}]   \n",
       "1  [{'name': 'TriStar Pictures', 'id': 559}, {'na...   \n",
       "2  [{'name': 'Warner Bros.', 'id': 6194}, {'name'...   \n",
       "3  [{'name': 'Twentieth Century Fox Film Corporat...   \n",
       "4  [{'name': 'Sandollar Productions', 'id': 5842}...   \n",
       "\n",
       "                                production_countries  \n",
       "0  [{'iso_3166_1': 'US', 'name': 'United States o...  \n",
       "1  [{'iso_3166_1': 'US', 'name': 'United States o...  \n",
       "2  [{'iso_3166_1': 'US', 'name': 'United States o...  \n",
       "3  [{'iso_3166_1': 'US', 'name': 'United States o...  \n",
       "4  [{'iso_3166_1': 'US', 'name': 'United States o...  "
      ]
     },
     "execution_count": 4,
     "metadata": {},
     "output_type": "execute_result"
    }
   ],
   "source": [
    "clean_movies = movies.drop(['budget', 'popularity', 'runtime', 'year', 'month'], axis=1)\n",
    "print(f\"Number of unique movies: {len(clean_movies.id.unique())}\")\n",
    "clean_movies.head()"
   ]
  },
  {
   "cell_type": "code",
   "execution_count": 5,
   "metadata": {
    "ExecuteTime": {
     "end_time": "2021-02-10T21:41:12.291057Z",
     "start_time": "2021-02-10T21:41:12.280056Z"
    }
   },
   "outputs": [
    {
     "name": "stdout",
     "output_type": "stream",
     "text": [
      "Number of unique movies: 45432\n"
     ]
    },
    {
     "data": {
      "text/html": [
       "<div>\n",
       "<style scoped>\n",
       "    .dataframe tbody tr th:only-of-type {\n",
       "        vertical-align: middle;\n",
       "    }\n",
       "\n",
       "    .dataframe tbody tr th {\n",
       "        vertical-align: top;\n",
       "    }\n",
       "\n",
       "    .dataframe thead th {\n",
       "        text-align: right;\n",
       "    }\n",
       "</style>\n",
       "<table border=\"1\" class=\"dataframe\">\n",
       "  <thead>\n",
       "    <tr style=\"text-align: right;\">\n",
       "      <th></th>\n",
       "      <th>cast</th>\n",
       "      <th>crew</th>\n",
       "      <th>id</th>\n",
       "    </tr>\n",
       "  </thead>\n",
       "  <tbody>\n",
       "    <tr>\n",
       "      <th>0</th>\n",
       "      <td>[{'cast_id': 14, 'character': 'Woody (voice)',...</td>\n",
       "      <td>[{'credit_id': '52fe4284c3a36847f8024f49', 'de...</td>\n",
       "      <td>862</td>\n",
       "    </tr>\n",
       "    <tr>\n",
       "      <th>1</th>\n",
       "      <td>[{'cast_id': 1, 'character': 'Alan Parrish', '...</td>\n",
       "      <td>[{'credit_id': '52fe44bfc3a36847f80a7cd1', 'de...</td>\n",
       "      <td>8844</td>\n",
       "    </tr>\n",
       "    <tr>\n",
       "      <th>2</th>\n",
       "      <td>[{'cast_id': 2, 'character': 'Max Goldman', 'c...</td>\n",
       "      <td>[{'credit_id': '52fe466a9251416c75077a89', 'de...</td>\n",
       "      <td>15602</td>\n",
       "    </tr>\n",
       "    <tr>\n",
       "      <th>3</th>\n",
       "      <td>[{'cast_id': 1, 'character': \"Savannah 'Vannah...</td>\n",
       "      <td>[{'credit_id': '52fe44779251416c91011acb', 'de...</td>\n",
       "      <td>31357</td>\n",
       "    </tr>\n",
       "    <tr>\n",
       "      <th>4</th>\n",
       "      <td>[{'cast_id': 1, 'character': 'George Banks', '...</td>\n",
       "      <td>[{'credit_id': '52fe44959251416c75039ed7', 'de...</td>\n",
       "      <td>11862</td>\n",
       "    </tr>\n",
       "  </tbody>\n",
       "</table>\n",
       "</div>"
      ],
      "text/plain": [
       "                                                cast  \\\n",
       "0  [{'cast_id': 14, 'character': 'Woody (voice)',...   \n",
       "1  [{'cast_id': 1, 'character': 'Alan Parrish', '...   \n",
       "2  [{'cast_id': 2, 'character': 'Max Goldman', 'c...   \n",
       "3  [{'cast_id': 1, 'character': \"Savannah 'Vannah...   \n",
       "4  [{'cast_id': 1, 'character': 'George Banks', '...   \n",
       "\n",
       "                                                crew     id  \n",
       "0  [{'credit_id': '52fe4284c3a36847f8024f49', 'de...    862  \n",
       "1  [{'credit_id': '52fe44bfc3a36847f80a7cd1', 'de...   8844  \n",
       "2  [{'credit_id': '52fe466a9251416c75077a89', 'de...  15602  \n",
       "3  [{'credit_id': '52fe44779251416c91011acb', 'de...  31357  \n",
       "4  [{'credit_id': '52fe44959251416c75039ed7', 'de...  11862  "
      ]
     },
     "execution_count": 5,
     "metadata": {},
     "output_type": "execute_result"
    }
   ],
   "source": [
    "print(f\"Number of unique movies: {len(credits.id.unique())}\")\n",
    "credits.head()"
   ]
  },
  {
   "cell_type": "code",
   "execution_count": 6,
   "metadata": {
    "ExecuteTime": {
     "end_time": "2021-02-10T21:41:12.325058Z",
     "start_time": "2021-02-10T21:41:12.292074Z"
    }
   },
   "outputs": [
    {
     "name": "stdout",
     "output_type": "stream",
     "text": [
      "Movies appears in 'celan_movies', but not in 'credits': \n",
      "{401840, 2012009029, 2014001001, 1997008020}\n"
     ]
    }
   ],
   "source": [
    "print(\"Movies appears in 'celan_movies', but not in 'credits': \")\n",
    "print(set(clean_movies.id.unique())^set(credits.id.unique()))"
   ]
  },
  {
   "cell_type": "markdown",
   "metadata": {},
   "source": [
    "# Merging"
   ]
  },
  {
   "cell_type": "code",
   "execution_count": 7,
   "metadata": {
    "ExecuteTime": {
     "end_time": "2021-02-10T21:41:17.319076Z",
     "start_time": "2021-02-10T21:41:12.326060Z"
    }
   },
   "outputs": [],
   "source": [
    "metadata = pd.merge(left=clean_movies, right=credits, on='id')\n",
    "\n",
    "metadata = metadata.merge(keywords, on='id')\n",
    "\n",
    "metadata_links = pd.merge(left=metadata, right=links, left_on='id', right_on='tmdbId')\n",
    "\n",
    "tags_per_movie = tags.groupby('movieId')['tag'].apply(list).reset_index(drop=False)\n",
    "\n",
    "metadata_all = pd.merge(left=metadata_links, right=tags_per_movie, on='movieId')\n",
    "metadata_all = metadata_all.drop(['tmdbId', 'movieId', 'imdbId'], axis=1)"
   ]
  },
  {
   "cell_type": "markdown",
   "metadata": {},
   "source": [
    "# Data Cleaning"
   ]
  },
  {
   "cell_type": "code",
   "execution_count": 8,
   "metadata": {
    "ExecuteTime": {
     "end_time": "2021-02-10T21:41:17.326057Z",
     "start_time": "2021-02-10T21:41:17.321061Z"
    }
   },
   "outputs": [],
   "source": [
    "def get_director(x):\n",
    "    for i in x:\n",
    "        if i['job'] == 'Director':\n",
    "            return i['name']\n",
    "    return np.nan"
   ]
  },
  {
   "cell_type": "code",
   "execution_count": 9,
   "metadata": {
    "ExecuteTime": {
     "end_time": "2021-02-10T21:41:17.346061Z",
     "start_time": "2021-02-10T21:41:17.328056Z"
    }
   },
   "outputs": [],
   "source": [
    "def get_list(x):\n",
    "    if isinstance(x, list):\n",
    "        names = [i['name'] for i in x]\n",
    "        #Check if more than 3 elements exist. If yes, return only first three. If no, return entire list.\n",
    "        if len(names) > 3:\n",
    "            names = names[:3]\n",
    "        return names\n",
    "\n",
    "    #Return empty list in case of missing/malformed data\n",
    "    return []"
   ]
  },
  {
   "cell_type": "code",
   "execution_count": 35,
   "metadata": {
    "ExecuteTime": {
     "end_time": "2021-02-10T21:50:17.808260Z",
     "start_time": "2021-02-10T21:50:17.785258Z"
    }
   },
   "outputs": [],
   "source": [
    "def create_soup(x, dir_weight=0):\n",
    "    \n",
    "    return ' '.join(x['keywords']) + ' ' + \\\n",
    "           ' '.join(x['cast']) + ' ' + \\\n",
    "           ' '.join(x['tag']) + ' ' + \\\n",
    "           ' '.join(x['genres']) + ' ' + \\\n",
    "            ' '.join(x['production_companies']) + ' ' + \\\n",
    "            ' '.join(x['production_countries']) + ' ' + \\\n",
    "            x['director'] + (' ' + x['director'])*4"
   ]
  },
  {
   "cell_type": "markdown",
   "metadata": {},
   "source": [
    "## Extracting Lists"
   ]
  },
  {
   "cell_type": "code",
   "execution_count": 11,
   "metadata": {
    "ExecuteTime": {
     "end_time": "2021-02-10T21:41:47.419851Z",
     "start_time": "2021-02-10T21:41:17.359056Z"
    }
   },
   "outputs": [],
   "source": [
    "features_to_clean = ['genres', 'production_companies', 'production_countries', 'crew', 'cast', 'keywords']\n",
    "\n",
    "for feature in features_to_clean:\n",
    "    metadata_all[feature] = metadata_all[feature].fillna('[]')\n",
    "    metadata_all[feature] = metadata_all[feature].apply(literal_eval)\n",
    "    if feature == 'crew':\n",
    "        metadata_all['director'] = metadata_all[feature].apply(get_director)\n",
    "        metadata_all = metadata_all.drop([feature], axis=1)\n",
    "    else:\n",
    "        metadata_all[feature] = metadata_all[feature].apply(get_list)"
   ]
  },
  {
   "cell_type": "markdown",
   "metadata": {},
   "source": [
    "## Remove Spaces & Make Strings Lower"
   ]
  },
  {
   "cell_type": "code",
   "execution_count": 12,
   "metadata": {
    "ExecuteTime": {
     "end_time": "2021-02-10T21:41:47.427798Z",
     "start_time": "2021-02-10T21:41:47.420798Z"
    }
   },
   "outputs": [],
   "source": [
    "def clean_data(x):\n",
    "    if isinstance(x, list):\n",
    "        return [str.lower(i.replace(\" \", \"\")) for i in x]\n",
    "    else:\n",
    "        #Check if director exists. If not, return empty string\n",
    "        if isinstance(x, str):\n",
    "            return str.lower(x.replace(\" \", \"\"))\n",
    "        else:\n",
    "            return ''"
   ]
  },
  {
   "cell_type": "code",
   "execution_count": 13,
   "metadata": {
    "ExecuteTime": {
     "end_time": "2021-02-10T21:41:47.446801Z",
     "start_time": "2021-02-10T21:41:47.428797Z"
    }
   },
   "outputs": [],
   "source": [
    "def clean_tags(tags_list):\n",
    "    \n",
    "    tags_list = list(set(tags_list))\n",
    "    res = []\n",
    "    for tag in tags_list:\n",
    "        try:\n",
    "            temp = tag.replace(' ', '').lower()\n",
    "        except AttributeError:\n",
    "            temp = ''\n",
    "        \n",
    "        res.append(temp)\n",
    "    \n",
    "    return res"
   ]
  },
  {
   "cell_type": "code",
   "execution_count": 14,
   "metadata": {
    "ExecuteTime": {
     "end_time": "2021-02-10T21:41:48.341836Z",
     "start_time": "2021-02-10T21:41:47.447797Z"
    }
   },
   "outputs": [],
   "source": [
    "features_to_clean = ['genres', 'production_companies', 'production_countries', \n",
    "                     'cast', 'keywords', 'director', 'tag']\n",
    "\n",
    "for feature in features_to_clean:\n",
    "    \n",
    "    if feature == 'tag':\n",
    "        metadata_all[feature] = metadata_all[feature].apply(clean_tags)\n",
    "    else:\n",
    "        metadata_all[feature] = metadata_all[feature].apply(clean_data)"
   ]
  },
  {
   "cell_type": "markdown",
   "metadata": {},
   "source": [
    "## Create Bag-of-Words"
   ]
  },
  {
   "cell_type": "code",
   "execution_count": 36,
   "metadata": {
    "ExecuteTime": {
     "end_time": "2021-02-10T21:50:26.192081Z",
     "start_time": "2021-02-10T21:50:21.553958Z"
    }
   },
   "outputs": [],
   "source": [
    "metadata_all['bow'] = metadata_all.apply(create_soup, axis=1)"
   ]
  },
  {
   "cell_type": "markdown",
   "metadata": {},
   "source": [
    "# Recommend"
   ]
  },
  {
   "cell_type": "code",
   "execution_count": 17,
   "metadata": {
    "ExecuteTime": {
     "end_time": "2021-02-10T21:42:43.940561Z",
     "start_time": "2021-02-10T21:42:43.914561Z"
    }
   },
   "outputs": [],
   "source": [
    "def get_recommendations(title, ind_movies, cosine_sim, top_n=10):\n",
    "    # Get the index of the movie that matches the title\n",
    "    idx = ind_movies[title]\n",
    "    if not isinstance(idx, np.int64):\n",
    "        print(\"There is more then one movie with this title\")\n",
    "        print(\"Choosing only the first one...\")\n",
    "        idx = idx[0]\n",
    "\n",
    "    # Get the pairwsie similarity scores of all movies with that movie\n",
    "    sim_scores = list(enumerate(cosine_sim[idx]))\n",
    "\n",
    "    # Sort the movies based on the similarity scores\n",
    "    sim_scores = sorted(sim_scores, key=lambda x: x[1], reverse=True)\n",
    "\n",
    "    # Get the scores of the top_n most similar movies\n",
    "    sim_scores = sim_scores[1:top_n+1]\n",
    "\n",
    "    # Get the movie indices\n",
    "    movie_indices = [i[0] for i in sim_scores]\n",
    "    similarity_score = [round(i[1], 3) for i in sim_scores]\n",
    "\n",
    "    # Return the top top_n most similar movies\n",
    "    rec_movies = metadata_all['original_title'].iloc[movie_indices].values\n",
    "    return dict(zip(rec_movies, similarity_score))\n",
    "#     return metadata_all['original_title'].iloc[movie_indices], sim_scores, movie_indices"
   ]
  },
  {
   "cell_type": "markdown",
   "metadata": {},
   "source": [
    "## Build Similarity Matrix"
   ]
  },
  {
   "cell_type": "code",
   "execution_count": 37,
   "metadata": {
    "ExecuteTime": {
     "end_time": "2021-02-10T21:51:09.759192Z",
     "start_time": "2021-02-10T21:50:27.115040Z"
    }
   },
   "outputs": [],
   "source": [
    "count = CountVectorizer(stop_words='english')\n",
    "count_matrix = count.fit_transform(metadata_all['bow'])\n",
    "\n",
    "cosine_sim = cosine_similarity(count_matrix, count_matrix)"
   ]
  },
  {
   "cell_type": "markdown",
   "metadata": {},
   "source": [
    "## Final Output"
   ]
  },
  {
   "cell_type": "code",
   "execution_count": 38,
   "metadata": {
    "ExecuteTime": {
     "end_time": "2021-02-10T21:51:10.745192Z",
     "start_time": "2021-02-10T21:51:10.614194Z"
    }
   },
   "outputs": [
    {
     "data": {
      "text/plain": [
       "{'Batman Begins': 0.331,\n",
       " 'Doodlebug': 0.348,\n",
       " 'Dunkirk': 0.384,\n",
       " 'Following': 0.34,\n",
       " 'Insomnia': 0.322,\n",
       " 'Interstellar': 0.401,\n",
       " 'Memento': 0.316,\n",
       " 'The Dark Knight': 0.366,\n",
       " 'The Dark Knight Rises': 0.309,\n",
       " 'The Prestige': 0.38}"
      ]
     },
     "execution_count": 38,
     "metadata": {},
     "output_type": "execute_result"
    }
   ],
   "source": [
    "indices = pd.Series(metadata_all.index, index=metadata_all['original_title'])\n",
    "\n",
    "get_recommendations('Inception', indices, cosine_sim, top_n=10)"
   ]
  }
 ],
 "metadata": {
  "kernelspec": {
   "display_name": "Python 3",
   "language": "python",
   "name": "python3"
  },
  "language_info": {
   "codemirror_mode": {
    "name": "ipython",
    "version": 3
   },
   "file_extension": ".py",
   "mimetype": "text/x-python",
   "name": "python",
   "nbconvert_exporter": "python",
   "pygments_lexer": "ipython3",
   "version": "3.6.4"
  },
  "toc": {
   "base_numbering": 1,
   "nav_menu": {},
   "number_sections": true,
   "sideBar": true,
   "skip_h1_title": false,
   "title_cell": "Table of Contents",
   "title_sidebar": "Contents",
   "toc_cell": false,
   "toc_position": {},
   "toc_section_display": true,
   "toc_window_display": false
  },
  "varInspector": {
   "cols": {
    "lenName": 16,
    "lenType": 16,
    "lenVar": 40
   },
   "kernels_config": {
    "python": {
     "delete_cmd_postfix": "",
     "delete_cmd_prefix": "del ",
     "library": "var_list.py",
     "varRefreshCmd": "print(var_dic_list())"
    },
    "r": {
     "delete_cmd_postfix": ") ",
     "delete_cmd_prefix": "rm(",
     "library": "var_list.r",
     "varRefreshCmd": "cat(var_dic_list()) "
    }
   },
   "types_to_exclude": [
    "module",
    "function",
    "builtin_function_or_method",
    "instance",
    "_Feature"
   ],
   "window_display": false
  }
 },
 "nbformat": 4,
 "nbformat_minor": 2
}
