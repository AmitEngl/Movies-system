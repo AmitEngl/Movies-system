{
  "nbformat": 4,
  "nbformat_minor": 0,
  "metadata": {
    "colab": {
      "name": "Collaborative_system.ipynb",
      "provenance": [],
      "collapsed_sections": [],
      "authorship_tag": "ABX9TyPeHvO+mKyqcTSEkJNZwSDj",
      "include_colab_link": true
    },
    "kernelspec": {
      "name": "python3",
      "display_name": "Python 3"
    }
  },
  "cells": [
    {
      "cell_type": "markdown",
      "metadata": {
        "id": "view-in-github",
        "colab_type": "text"
      },
      "source": [
        "<a href=\"https://colab.research.google.com/github/OhadHayoun/Movies-system/blob/loren/Collaborative_system.ipynb\" target=\"_parent\"><img src=\"https://colab.research.google.com/assets/colab-badge.svg\" alt=\"Open In Colab\"/></a>"
      ]
    },
    {
      "cell_type": "code",
      "metadata": {
        "colab": {
          "base_uri": "https://localhost:8080/"
        },
        "id": "leI_2RBidHXQ",
        "outputId": "d741f527-8db8-47a3-ef5e-9bee6fbb4f08"
      },
      "source": [
        "! pip install surprise"
      ],
      "execution_count": 1,
      "outputs": [
        {
          "output_type": "stream",
          "text": [
            "Collecting surprise\n",
            "  Downloading https://files.pythonhosted.org/packages/61/de/e5cba8682201fcf9c3719a6fdda95693468ed061945493dea2dd37c5618b/surprise-0.1-py2.py3-none-any.whl\n",
            "Collecting scikit-surprise\n",
            "\u001b[?25l  Downloading https://files.pythonhosted.org/packages/97/37/5d334adaf5ddd65da99fc65f6507e0e4599d092ba048f4302fe8775619e8/scikit-surprise-1.1.1.tar.gz (11.8MB)\n",
            "\u001b[K     |████████████████████████████████| 11.8MB 3.5MB/s \n",
            "\u001b[?25hRequirement already satisfied: joblib>=0.11 in /usr/local/lib/python3.6/dist-packages (from scikit-surprise->surprise) (1.0.0)\n",
            "Requirement already satisfied: numpy>=1.11.2 in /usr/local/lib/python3.6/dist-packages (from scikit-surprise->surprise) (1.19.5)\n",
            "Requirement already satisfied: scipy>=1.0.0 in /usr/local/lib/python3.6/dist-packages (from scikit-surprise->surprise) (1.4.1)\n",
            "Requirement already satisfied: six>=1.10.0 in /usr/local/lib/python3.6/dist-packages (from scikit-surprise->surprise) (1.15.0)\n",
            "Building wheels for collected packages: scikit-surprise\n",
            "  Building wheel for scikit-surprise (setup.py) ... \u001b[?25l\u001b[?25hdone\n",
            "  Created wheel for scikit-surprise: filename=scikit_surprise-1.1.1-cp36-cp36m-linux_x86_64.whl size=1618240 sha256=7d5f569f14e0fb74efe4e03e17419198cc915ef92e010c395412a9f51ff951c3\n",
            "  Stored in directory: /root/.cache/pip/wheels/78/9c/3d/41b419c9d2aff5b6e2b4c0fc8d25c538202834058f9ed110d0\n",
            "Successfully built scikit-surprise\n",
            "Installing collected packages: scikit-surprise, surprise\n",
            "Successfully installed scikit-surprise-1.1.1 surprise-0.1\n"
          ],
          "name": "stdout"
        }
      ]
    },
    {
      "cell_type": "code",
      "metadata": {
        "colab": {
          "base_uri": "https://localhost:8080/"
        },
        "id": "q8QScAKCM9-N",
        "outputId": "d2c041e6-2cb2-4731-9151-0289e22a0c5c"
      },
      "source": [
        "! pip install matrix_factorization"
      ],
      "execution_count": 2,
      "outputs": [
        {
          "output_type": "stream",
          "text": [
            "Collecting matrix_factorization\n",
            "  Downloading https://files.pythonhosted.org/packages/89/12/57f3ef3485604d12353d1bb921387d2d9063f78f9d96d9abe06312c58f98/matrix_factorization-1.3.tar.gz\n",
            "Requirement already satisfied: numba>=0.49.1 in /usr/local/lib/python3.6/dist-packages (from matrix_factorization) (0.51.2)\n",
            "Requirement already satisfied: numpy>=1.18.5 in /usr/local/lib/python3.6/dist-packages (from matrix_factorization) (1.19.5)\n",
            "Requirement already satisfied: pandas>=1.0.4 in /usr/local/lib/python3.6/dist-packages (from matrix_factorization) (1.1.5)\n",
            "Collecting scikit-learn>=0.23.1\n",
            "\u001b[?25l  Downloading https://files.pythonhosted.org/packages/e2/4c/6111b9a325f29527d7f262e2ee8c730d354b47a728d955e186dacad57a0d/scikit_learn-0.24.1-cp36-cp36m-manylinux2010_x86_64.whl (22.2MB)\n",
            "\u001b[K     |████████████████████████████████| 22.2MB 63.3MB/s \n",
            "\u001b[?25hRequirement already satisfied: scipy>=1.4.1 in /usr/local/lib/python3.6/dist-packages (from matrix_factorization) (1.4.1)\n",
            "Requirement already satisfied: setuptools in /usr/local/lib/python3.6/dist-packages (from numba>=0.49.1->matrix_factorization) (53.0.0)\n",
            "Requirement already satisfied: llvmlite<0.35,>=0.34.0.dev0 in /usr/local/lib/python3.6/dist-packages (from numba>=0.49.1->matrix_factorization) (0.34.0)\n",
            "Requirement already satisfied: python-dateutil>=2.7.3 in /usr/local/lib/python3.6/dist-packages (from pandas>=1.0.4->matrix_factorization) (2.8.1)\n",
            "Requirement already satisfied: pytz>=2017.2 in /usr/local/lib/python3.6/dist-packages (from pandas>=1.0.4->matrix_factorization) (2018.9)\n",
            "Requirement already satisfied: joblib>=0.11 in /usr/local/lib/python3.6/dist-packages (from scikit-learn>=0.23.1->matrix_factorization) (1.0.0)\n",
            "Collecting threadpoolctl>=2.0.0\n",
            "  Downloading https://files.pythonhosted.org/packages/f7/12/ec3f2e203afa394a149911729357aa48affc59c20e2c1c8297a60f33f133/threadpoolctl-2.1.0-py3-none-any.whl\n",
            "Requirement already satisfied: six>=1.5 in /usr/local/lib/python3.6/dist-packages (from python-dateutil>=2.7.3->pandas>=1.0.4->matrix_factorization) (1.15.0)\n",
            "Building wheels for collected packages: matrix-factorization\n",
            "  Building wheel for matrix-factorization (setup.py) ... \u001b[?25l\u001b[?25hdone\n",
            "  Created wheel for matrix-factorization: filename=matrix_factorization-1.3-cp36-none-any.whl size=16468 sha256=e2abba306261a5206be0340428512cce4d7402353b84809c7cc2f2803d5d1f2c\n",
            "  Stored in directory: /root/.cache/pip/wheels/db/ef/99/19df32b6eb88678b0e3a42d2e24955e7753b2de44615111bad\n",
            "Successfully built matrix-factorization\n",
            "Installing collected packages: threadpoolctl, scikit-learn, matrix-factorization\n",
            "  Found existing installation: scikit-learn 0.22.2.post1\n",
            "    Uninstalling scikit-learn-0.22.2.post1:\n",
            "      Successfully uninstalled scikit-learn-0.22.2.post1\n",
            "Successfully installed matrix-factorization-1.3 scikit-learn-0.24.1 threadpoolctl-2.1.0\n"
          ],
          "name": "stdout"
        }
      ]
    },
    {
      "cell_type": "code",
      "metadata": {
        "id": "mQMo8hx_dF0z"
      },
      "source": [
        "import pandas as pd\r\n",
        "import numpy as np\r\n",
        "from sklearn.model_selection import train_test_split\r\n",
        "from sklearn.metrics import mean_squared_error\r\n",
        "from sklearn.metrics import r2_score\r\n",
        "from surprise import Reader, SVD, Dataset\r\n",
        "from surprise.model_selection.validation import cross_validate\r\n",
        "from matrix_factorization import KernelMF\r\n",
        "from sklearn.model_selection import train_test_split\r\n",
        "import matplotlib.pyplot as plt"
      ],
      "execution_count": 3,
      "outputs": []
    },
    {
      "cell_type": "code",
      "metadata": {
        "colab": {
          "resources": {
            "http://localhost:8080/nbextensions/google.colab/files.js": {
              "data": "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",
              "ok": true,
              "headers": [
                [
                  "content-type",
                  "application/javascript"
                ]
              ],
              "status": 200,
              "status_text": ""
            }
          },
          "base_uri": "https://localhost:8080/",
          "height": 106
        },
        "id": "sdxXSeNhdqZ8",
        "outputId": "b6196c8d-c549-4add-b7eb-9200d6b98401"
      },
      "source": [
        "from google.colab import files\r\n",
        "\r\n",
        "uploaded = files.upload()"
      ],
      "execution_count": 4,
      "outputs": [
        {
          "output_type": "display_data",
          "data": {
            "text/html": [
              "\n",
              "     <input type=\"file\" id=\"files-a3dbae5e-e5c6-4edb-9204-474d865f9add\" name=\"files[]\" multiple disabled\n",
              "        style=\"border:none\" />\n",
              "     <output id=\"result-a3dbae5e-e5c6-4edb-9204-474d865f9add\">\n",
              "      Upload widget is only available when the cell has been executed in the\n",
              "      current browser session. Please rerun this cell to enable.\n",
              "      </output>\n",
              "      <script src=\"/nbextensions/google.colab/files.js\"></script> "
            ],
            "text/plain": [
              "<IPython.core.display.HTML object>"
            ]
          },
          "metadata": {
            "tags": []
          }
        },
        {
          "output_type": "stream",
          "text": [
            "Saving cleaned_movies.csv to cleaned_movies.csv\n",
            "Saving ratings.csv to ratings.csv\n"
          ],
          "name": "stdout"
        }
      ]
    },
    {
      "cell_type": "markdown",
      "metadata": {
        "id": "1oytuyov36Kq"
      },
      "source": [
        "# EDA and preprocessing\r\n",
        "\r\n",
        "Preprocessing of the movie dataframe has been done in an other notebook. We downloaded here the final dataframe. We will keep rating only for movies that are in the cleaned dataframe. \r\n",
        "\r\n",
        "The number of ratings per user can vary a lot. However it can be very challenging to predict mivie ratings for users with few ratings. That why we will run our model with different minimum of rating per user and see the impacts on the metrics.\r\n",
        "\r\n",
        "First let do a little EDA on the rating dataframe."
      ]
    },
    {
      "cell_type": "code",
      "metadata": {
        "id": "DyfMOtkshnou"
      },
      "source": [
        "movies_df = pd.read_csv('cleaned_movies.csv')\r\n",
        "ratings_df = pd.read_csv('ratings.csv')"
      ],
      "execution_count": 5,
      "outputs": []
    },
    {
      "cell_type": "code",
      "metadata": {
        "colab": {
          "base_uri": "https://localhost:8080/",
          "height": 331
        },
        "id": "_o4Jf7LViBql",
        "outputId": "ce673297-c528-4690-8477-74cb13907833"
      },
      "source": [
        "movies_df.head(10)"
      ],
      "execution_count": 6,
      "outputs": [
        {
          "output_type": "execute_result",
          "data": {
            "text/html": [
              "<div>\n",
              "<style scoped>\n",
              "    .dataframe tbody tr th:only-of-type {\n",
              "        vertical-align: middle;\n",
              "    }\n",
              "\n",
              "    .dataframe tbody tr th {\n",
              "        vertical-align: top;\n",
              "    }\n",
              "\n",
              "    .dataframe thead th {\n",
              "        text-align: right;\n",
              "    }\n",
              "</style>\n",
              "<table border=\"1\" class=\"dataframe\">\n",
              "  <thead>\n",
              "    <tr style=\"text-align: right;\">\n",
              "      <th></th>\n",
              "      <th>Unnamed: 0</th>\n",
              "      <th>budget</th>\n",
              "      <th>genres</th>\n",
              "      <th>id</th>\n",
              "      <th>imdb_id</th>\n",
              "      <th>original_title</th>\n",
              "      <th>production_companies</th>\n",
              "      <th>revenue</th>\n",
              "      <th>runtime</th>\n",
              "      <th>spoken_languages</th>\n",
              "      <th>title</th>\n",
              "      <th>vote_count</th>\n",
              "      <th>release_year</th>\n",
              "      <th>cast</th>\n",
              "      <th>keywords</th>\n",
              "      <th>director</th>\n",
              "    </tr>\n",
              "  </thead>\n",
              "  <tbody>\n",
              "    <tr>\n",
              "      <th>0</th>\n",
              "      <td>0</td>\n",
              "      <td>30000000</td>\n",
              "      <td>['Animation', 'Comedy', 'Family']</td>\n",
              "      <td>862</td>\n",
              "      <td>tt0114709</td>\n",
              "      <td>Toy Story</td>\n",
              "      <td>['Pixar Animation Studios']</td>\n",
              "      <td>373554033.0</td>\n",
              "      <td>81.0</td>\n",
              "      <td>['English']</td>\n",
              "      <td>Toy Story</td>\n",
              "      <td>5415.0</td>\n",
              "      <td>1995</td>\n",
              "      <td>['Tom Hanks', 'Tim Allen', 'Don Rickles']</td>\n",
              "      <td>['jealousy', 'toy', 'boy']</td>\n",
              "      <td>John Lasseter</td>\n",
              "    </tr>\n",
              "    <tr>\n",
              "      <th>1</th>\n",
              "      <td>1</td>\n",
              "      <td>65000000</td>\n",
              "      <td>['Adventure', 'Fantasy', 'Family']</td>\n",
              "      <td>8844</td>\n",
              "      <td>tt0113497</td>\n",
              "      <td>Jumanji</td>\n",
              "      <td>['TriStar Pictures', 'Teitler Film', 'Intersco...</td>\n",
              "      <td>262797249.0</td>\n",
              "      <td>104.0</td>\n",
              "      <td>['English', 'Français']</td>\n",
              "      <td>Jumanji</td>\n",
              "      <td>2413.0</td>\n",
              "      <td>1995</td>\n",
              "      <td>['Robin Williams', 'Jonathan Hyde', 'Kirsten D...</td>\n",
              "      <td>['board game', 'disappearance', \"based on chil...</td>\n",
              "      <td>Joe Johnston</td>\n",
              "    </tr>\n",
              "    <tr>\n",
              "      <th>2</th>\n",
              "      <td>2</td>\n",
              "      <td>0</td>\n",
              "      <td>['Romance', 'Comedy']</td>\n",
              "      <td>15602</td>\n",
              "      <td>tt0113228</td>\n",
              "      <td>Grumpier Old Men</td>\n",
              "      <td>['Warner Bros.', 'Lancaster Gate']</td>\n",
              "      <td>0.0</td>\n",
              "      <td>101.0</td>\n",
              "      <td>['English']</td>\n",
              "      <td>Grumpier Old Men</td>\n",
              "      <td>92.0</td>\n",
              "      <td>1995</td>\n",
              "      <td>['Walter Matthau', 'Jack Lemmon', 'Ann-Margret']</td>\n",
              "      <td>['fishing', 'best friend', 'duringcreditssting...</td>\n",
              "      <td>Howard Deutch</td>\n",
              "    </tr>\n",
              "    <tr>\n",
              "      <th>3</th>\n",
              "      <td>3</td>\n",
              "      <td>16000000</td>\n",
              "      <td>['Comedy', 'Drama', 'Romance']</td>\n",
              "      <td>31357</td>\n",
              "      <td>tt0114885</td>\n",
              "      <td>Waiting to Exhale</td>\n",
              "      <td>['Twentieth Century Fox Film Corporation']</td>\n",
              "      <td>81452156.0</td>\n",
              "      <td>127.0</td>\n",
              "      <td>['English']</td>\n",
              "      <td>Waiting to Exhale</td>\n",
              "      <td>34.0</td>\n",
              "      <td>1995</td>\n",
              "      <td>['Whitney Houston', 'Angela Bassett', 'Loretta...</td>\n",
              "      <td>['based on novel', 'interracial relationship',...</td>\n",
              "      <td>Forest Whitaker</td>\n",
              "    </tr>\n",
              "    <tr>\n",
              "      <th>4</th>\n",
              "      <td>4</td>\n",
              "      <td>0</td>\n",
              "      <td>['Comedy']</td>\n",
              "      <td>11862</td>\n",
              "      <td>tt0113041</td>\n",
              "      <td>Father of the Bride Part II</td>\n",
              "      <td>['Sandollar Productions', 'Touchstone Pictures']</td>\n",
              "      <td>76578911.0</td>\n",
              "      <td>106.0</td>\n",
              "      <td>['English']</td>\n",
              "      <td>Father of the Bride Part II</td>\n",
              "      <td>173.0</td>\n",
              "      <td>1995</td>\n",
              "      <td>['Steve Martin', 'Diane Keaton', 'Martin Short']</td>\n",
              "      <td>['baby', 'midlife crisis', 'confidence']</td>\n",
              "      <td>Charles Shyer</td>\n",
              "    </tr>\n",
              "    <tr>\n",
              "      <th>5</th>\n",
              "      <td>5</td>\n",
              "      <td>60000000</td>\n",
              "      <td>['Action', 'Crime', 'Drama']</td>\n",
              "      <td>949</td>\n",
              "      <td>tt0113277</td>\n",
              "      <td>Heat</td>\n",
              "      <td>['Regency Enterprises', 'Forward Pass', 'Warne...</td>\n",
              "      <td>187436818.0</td>\n",
              "      <td>170.0</td>\n",
              "      <td>['English', 'Español']</td>\n",
              "      <td>Heat</td>\n",
              "      <td>1886.0</td>\n",
              "      <td>1995</td>\n",
              "      <td>['Al Pacino', 'Robert De Niro', 'Val Kilmer']</td>\n",
              "      <td>['robbery', 'detective', 'bank']</td>\n",
              "      <td>Michael Mann</td>\n",
              "    </tr>\n",
              "    <tr>\n",
              "      <th>6</th>\n",
              "      <td>6</td>\n",
              "      <td>58000000</td>\n",
              "      <td>['Comedy', 'Romance']</td>\n",
              "      <td>11860</td>\n",
              "      <td>tt0114319</td>\n",
              "      <td>Sabrina</td>\n",
              "      <td>['Paramount Pictures', 'Scott Rudin Production...</td>\n",
              "      <td>0.0</td>\n",
              "      <td>127.0</td>\n",
              "      <td>['Français', 'English']</td>\n",
              "      <td>Sabrina</td>\n",
              "      <td>141.0</td>\n",
              "      <td>1995</td>\n",
              "      <td>['Harrison Ford', 'Julia Ormond', 'Greg Kinnear']</td>\n",
              "      <td>['paris', 'brother brother relationship', 'cha...</td>\n",
              "      <td>Sydney Pollack</td>\n",
              "    </tr>\n",
              "    <tr>\n",
              "      <th>7</th>\n",
              "      <td>7</td>\n",
              "      <td>0</td>\n",
              "      <td>['Action', 'Adventure', 'Drama']</td>\n",
              "      <td>45325</td>\n",
              "      <td>tt0112302</td>\n",
              "      <td>Tom and Huck</td>\n",
              "      <td>['Walt Disney Pictures']</td>\n",
              "      <td>0.0</td>\n",
              "      <td>97.0</td>\n",
              "      <td>['English', 'Deutsch']</td>\n",
              "      <td>Tom and Huck</td>\n",
              "      <td>45.0</td>\n",
              "      <td>1995</td>\n",
              "      <td>['Jonathan Taylor Thomas', 'Brad Renfro', 'Rac...</td>\n",
              "      <td>[]</td>\n",
              "      <td>Peter Hewitt</td>\n",
              "    </tr>\n",
              "    <tr>\n",
              "      <th>8</th>\n",
              "      <td>8</td>\n",
              "      <td>35000000</td>\n",
              "      <td>['Action', 'Adventure', 'Thriller']</td>\n",
              "      <td>9091</td>\n",
              "      <td>tt0114576</td>\n",
              "      <td>Sudden Death</td>\n",
              "      <td>['Universal Pictures', 'Imperial Entertainment...</td>\n",
              "      <td>64350171.0</td>\n",
              "      <td>106.0</td>\n",
              "      <td>['English']</td>\n",
              "      <td>Sudden Death</td>\n",
              "      <td>174.0</td>\n",
              "      <td>1995</td>\n",
              "      <td>['Jean-Claude Van Damme', 'Powers Boothe', 'Do...</td>\n",
              "      <td>['terrorist', 'hostage', 'explosive']</td>\n",
              "      <td>Peter Hyams</td>\n",
              "    </tr>\n",
              "    <tr>\n",
              "      <th>9</th>\n",
              "      <td>9</td>\n",
              "      <td>58000000</td>\n",
              "      <td>['Adventure', 'Action', 'Thriller']</td>\n",
              "      <td>710</td>\n",
              "      <td>tt0113189</td>\n",
              "      <td>GoldenEye</td>\n",
              "      <td>['United Artists', 'Eon Productions']</td>\n",
              "      <td>352194034.0</td>\n",
              "      <td>130.0</td>\n",
              "      <td>['English', 'Pусский', 'Español']</td>\n",
              "      <td>GoldenEye</td>\n",
              "      <td>1194.0</td>\n",
              "      <td>1995</td>\n",
              "      <td>['Pierce Brosnan', 'Sean Bean', 'Izabella Scor...</td>\n",
              "      <td>['cuba', 'falsely accused', 'secret identity']</td>\n",
              "      <td>Martin Campbell</td>\n",
              "    </tr>\n",
              "  </tbody>\n",
              "</table>\n",
              "</div>"
            ],
            "text/plain": [
              "   Unnamed: 0  ...         director\n",
              "0           0  ...    John Lasseter\n",
              "1           1  ...     Joe Johnston\n",
              "2           2  ...    Howard Deutch\n",
              "3           3  ...  Forest Whitaker\n",
              "4           4  ...    Charles Shyer\n",
              "5           5  ...     Michael Mann\n",
              "6           6  ...   Sydney Pollack\n",
              "7           7  ...     Peter Hewitt\n",
              "8           8  ...      Peter Hyams\n",
              "9           9  ...  Martin Campbell\n",
              "\n",
              "[10 rows x 16 columns]"
            ]
          },
          "metadata": {
            "tags": []
          },
          "execution_count": 6
        }
      ]
    },
    {
      "cell_type": "code",
      "metadata": {
        "colab": {
          "base_uri": "https://localhost:8080/"
        },
        "id": "UtMRHwdOrOld",
        "outputId": "e844fccd-0549-4efe-d12b-32312a54c013"
      },
      "source": [
        "movies_df.shape"
      ],
      "execution_count": 7,
      "outputs": [
        {
          "output_type": "execute_result",
          "data": {
            "text/plain": [
              "(29424, 16)"
            ]
          },
          "metadata": {
            "tags": []
          },
          "execution_count": 7
        }
      ]
    },
    {
      "cell_type": "code",
      "metadata": {
        "colab": {
          "base_uri": "https://localhost:8080/",
          "height": 331
        },
        "id": "lxtN-nZ7pnaI",
        "outputId": "bf491b1c-2a29-475c-d1bb-7d8bf6cf8a78"
      },
      "source": [
        "ratings_df.head(10)"
      ],
      "execution_count": 8,
      "outputs": [
        {
          "output_type": "execute_result",
          "data": {
            "text/html": [
              "<div>\n",
              "<style scoped>\n",
              "    .dataframe tbody tr th:only-of-type {\n",
              "        vertical-align: middle;\n",
              "    }\n",
              "\n",
              "    .dataframe tbody tr th {\n",
              "        vertical-align: top;\n",
              "    }\n",
              "\n",
              "    .dataframe thead th {\n",
              "        text-align: right;\n",
              "    }\n",
              "</style>\n",
              "<table border=\"1\" class=\"dataframe\">\n",
              "  <thead>\n",
              "    <tr style=\"text-align: right;\">\n",
              "      <th></th>\n",
              "      <th>userId</th>\n",
              "      <th>movieId</th>\n",
              "      <th>rating</th>\n",
              "      <th>timestamp</th>\n",
              "    </tr>\n",
              "  </thead>\n",
              "  <tbody>\n",
              "    <tr>\n",
              "      <th>0</th>\n",
              "      <td>1</td>\n",
              "      <td>1</td>\n",
              "      <td>4.0</td>\n",
              "      <td>964982703</td>\n",
              "    </tr>\n",
              "    <tr>\n",
              "      <th>1</th>\n",
              "      <td>1</td>\n",
              "      <td>3</td>\n",
              "      <td>4.0</td>\n",
              "      <td>964981247</td>\n",
              "    </tr>\n",
              "    <tr>\n",
              "      <th>2</th>\n",
              "      <td>1</td>\n",
              "      <td>6</td>\n",
              "      <td>4.0</td>\n",
              "      <td>964982224</td>\n",
              "    </tr>\n",
              "    <tr>\n",
              "      <th>3</th>\n",
              "      <td>1</td>\n",
              "      <td>47</td>\n",
              "      <td>5.0</td>\n",
              "      <td>964983815</td>\n",
              "    </tr>\n",
              "    <tr>\n",
              "      <th>4</th>\n",
              "      <td>1</td>\n",
              "      <td>50</td>\n",
              "      <td>5.0</td>\n",
              "      <td>964982931</td>\n",
              "    </tr>\n",
              "    <tr>\n",
              "      <th>5</th>\n",
              "      <td>1</td>\n",
              "      <td>70</td>\n",
              "      <td>3.0</td>\n",
              "      <td>964982400</td>\n",
              "    </tr>\n",
              "    <tr>\n",
              "      <th>6</th>\n",
              "      <td>1</td>\n",
              "      <td>101</td>\n",
              "      <td>5.0</td>\n",
              "      <td>964980868</td>\n",
              "    </tr>\n",
              "    <tr>\n",
              "      <th>7</th>\n",
              "      <td>1</td>\n",
              "      <td>110</td>\n",
              "      <td>4.0</td>\n",
              "      <td>964982176</td>\n",
              "    </tr>\n",
              "    <tr>\n",
              "      <th>8</th>\n",
              "      <td>1</td>\n",
              "      <td>151</td>\n",
              "      <td>5.0</td>\n",
              "      <td>964984041</td>\n",
              "    </tr>\n",
              "    <tr>\n",
              "      <th>9</th>\n",
              "      <td>1</td>\n",
              "      <td>157</td>\n",
              "      <td>5.0</td>\n",
              "      <td>964984100</td>\n",
              "    </tr>\n",
              "  </tbody>\n",
              "</table>\n",
              "</div>"
            ],
            "text/plain": [
              "   userId  movieId  rating  timestamp\n",
              "0       1        1     4.0  964982703\n",
              "1       1        3     4.0  964981247\n",
              "2       1        6     4.0  964982224\n",
              "3       1       47     5.0  964983815\n",
              "4       1       50     5.0  964982931\n",
              "5       1       70     3.0  964982400\n",
              "6       1      101     5.0  964980868\n",
              "7       1      110     4.0  964982176\n",
              "8       1      151     5.0  964984041\n",
              "9       1      157     5.0  964984100"
            ]
          },
          "metadata": {
            "tags": []
          },
          "execution_count": 8
        }
      ]
    },
    {
      "cell_type": "code",
      "metadata": {
        "colab": {
          "base_uri": "https://localhost:8080/"
        },
        "id": "ZOlUoijLrLPH",
        "outputId": "6f996b1f-4e64-4952-9979-b3855b0cdf48"
      },
      "source": [
        "ratings_df.shape"
      ],
      "execution_count": 9,
      "outputs": [
        {
          "output_type": "execute_result",
          "data": {
            "text/plain": [
              "(100836, 4)"
            ]
          },
          "metadata": {
            "tags": []
          },
          "execution_count": 9
        }
      ]
    },
    {
      "cell_type": "markdown",
      "metadata": {
        "id": "FrcM758A6TBi"
      },
      "source": [
        "### Merge ratings and movie table to get the movie title in the same table"
      ]
    },
    {
      "cell_type": "code",
      "metadata": {
        "colab": {
          "base_uri": "https://localhost:8080/",
          "height": 331
        },
        "id": "iddqC63qp3-l",
        "outputId": "ce55c0b8-e2e4-4227-ccd4-b6dfd0a2a6d3"
      },
      "source": [
        "df=ratings_df.merge(movies_df[['id','original_title']],how='inner', left_on='movieId', right_on='id')\r\n",
        "df.head(10)"
      ],
      "execution_count": 56,
      "outputs": [
        {
          "output_type": "execute_result",
          "data": {
            "text/html": [
              "<div>\n",
              "<style scoped>\n",
              "    .dataframe tbody tr th:only-of-type {\n",
              "        vertical-align: middle;\n",
              "    }\n",
              "\n",
              "    .dataframe tbody tr th {\n",
              "        vertical-align: top;\n",
              "    }\n",
              "\n",
              "    .dataframe thead th {\n",
              "        text-align: right;\n",
              "    }\n",
              "</style>\n",
              "<table border=\"1\" class=\"dataframe\">\n",
              "  <thead>\n",
              "    <tr style=\"text-align: right;\">\n",
              "      <th></th>\n",
              "      <th>userId</th>\n",
              "      <th>movieId</th>\n",
              "      <th>rating</th>\n",
              "      <th>timestamp</th>\n",
              "      <th>id</th>\n",
              "      <th>original_title</th>\n",
              "    </tr>\n",
              "  </thead>\n",
              "  <tbody>\n",
              "    <tr>\n",
              "      <th>0</th>\n",
              "      <td>1</td>\n",
              "      <td>6</td>\n",
              "      <td>4.0</td>\n",
              "      <td>964982224</td>\n",
              "      <td>6</td>\n",
              "      <td>Judgment Night</td>\n",
              "    </tr>\n",
              "    <tr>\n",
              "      <th>1</th>\n",
              "      <td>6</td>\n",
              "      <td>6</td>\n",
              "      <td>4.0</td>\n",
              "      <td>845553757</td>\n",
              "      <td>6</td>\n",
              "      <td>Judgment Night</td>\n",
              "    </tr>\n",
              "    <tr>\n",
              "      <th>2</th>\n",
              "      <td>11</td>\n",
              "      <td>6</td>\n",
              "      <td>5.0</td>\n",
              "      <td>902154266</td>\n",
              "      <td>6</td>\n",
              "      <td>Judgment Night</td>\n",
              "    </tr>\n",
              "    <tr>\n",
              "      <th>3</th>\n",
              "      <td>18</td>\n",
              "      <td>6</td>\n",
              "      <td>4.0</td>\n",
              "      <td>1460138360</td>\n",
              "      <td>6</td>\n",
              "      <td>Judgment Night</td>\n",
              "    </tr>\n",
              "    <tr>\n",
              "      <th>4</th>\n",
              "      <td>23</td>\n",
              "      <td>6</td>\n",
              "      <td>4.0</td>\n",
              "      <td>1107342267</td>\n",
              "      <td>6</td>\n",
              "      <td>Judgment Night</td>\n",
              "    </tr>\n",
              "    <tr>\n",
              "      <th>5</th>\n",
              "      <td>24</td>\n",
              "      <td>6</td>\n",
              "      <td>4.5</td>\n",
              "      <td>1458941767</td>\n",
              "      <td>6</td>\n",
              "      <td>Judgment Night</td>\n",
              "    </tr>\n",
              "    <tr>\n",
              "      <th>6</th>\n",
              "      <td>28</td>\n",
              "      <td>6</td>\n",
              "      <td>3.5</td>\n",
              "      <td>1234570483</td>\n",
              "      <td>6</td>\n",
              "      <td>Judgment Night</td>\n",
              "    </tr>\n",
              "    <tr>\n",
              "      <th>7</th>\n",
              "      <td>32</td>\n",
              "      <td>6</td>\n",
              "      <td>3.0</td>\n",
              "      <td>856736172</td>\n",
              "      <td>6</td>\n",
              "      <td>Judgment Night</td>\n",
              "    </tr>\n",
              "    <tr>\n",
              "      <th>8</th>\n",
              "      <td>44</td>\n",
              "      <td>6</td>\n",
              "      <td>3.0</td>\n",
              "      <td>869251910</td>\n",
              "      <td>6</td>\n",
              "      <td>Judgment Night</td>\n",
              "    </tr>\n",
              "    <tr>\n",
              "      <th>9</th>\n",
              "      <td>45</td>\n",
              "      <td>6</td>\n",
              "      <td>4.0</td>\n",
              "      <td>1121724608</td>\n",
              "      <td>6</td>\n",
              "      <td>Judgment Night</td>\n",
              "    </tr>\n",
              "  </tbody>\n",
              "</table>\n",
              "</div>"
            ],
            "text/plain": [
              "   userId  movieId  rating   timestamp  id  original_title\n",
              "0       1        6     4.0   964982224   6  Judgment Night\n",
              "1       6        6     4.0   845553757   6  Judgment Night\n",
              "2      11        6     5.0   902154266   6  Judgment Night\n",
              "3      18        6     4.0  1460138360   6  Judgment Night\n",
              "4      23        6     4.0  1107342267   6  Judgment Night\n",
              "5      24        6     4.5  1458941767   6  Judgment Night\n",
              "6      28        6     3.5  1234570483   6  Judgment Night\n",
              "7      32        6     3.0   856736172   6  Judgment Night\n",
              "8      44        6     3.0   869251910   6  Judgment Night\n",
              "9      45        6     4.0  1121724608   6  Judgment Night"
            ]
          },
          "metadata": {
            "tags": []
          },
          "execution_count": 56
        }
      ]
    },
    {
      "cell_type": "code",
      "metadata": {
        "colab": {
          "base_uri": "https://localhost:8080/"
        },
        "id": "DCJ4Gh95uIAu",
        "outputId": "407d9771-5efd-434f-8618-ef7e66c9ad0e"
      },
      "source": [
        "df.shape"
      ],
      "execution_count": 11,
      "outputs": [
        {
          "output_type": "execute_result",
          "data": {
            "text/plain": [
              "(28643, 6)"
            ]
          },
          "metadata": {
            "tags": []
          },
          "execution_count": 11
        }
      ]
    },
    {
      "cell_type": "markdown",
      "metadata": {
        "id": "RbeIWBkW6aN0"
      },
      "source": [
        "### Remove duplicate"
      ]
    },
    {
      "cell_type": "code",
      "metadata": {
        "id": "22bKnufWvW_c"
      },
      "source": [
        "df = df.drop_duplicates()"
      ],
      "execution_count": 12,
      "outputs": []
    },
    {
      "cell_type": "markdown",
      "metadata": {
        "id": "7AFpkK7t6gBI"
      },
      "source": [
        "### Number of ratings per user distribution\r\n"
      ]
    },
    {
      "cell_type": "code",
      "metadata": {
        "colab": {
          "base_uri": "https://localhost:8080/",
          "height": 283
        },
        "id": "bsyiU9xVrgeZ",
        "outputId": "5c7f7d9b-8e62-4eb7-b842-d9efc6b33705"
      },
      "source": [
        "df['userId'].value_counts().plot(kind='hist')"
      ],
      "execution_count": 13,
      "outputs": [
        {
          "output_type": "execute_result",
          "data": {
            "text/plain": [
              "<matplotlib.axes._subplots.AxesSubplot at 0x7f7ae0c1dcf8>"
            ]
          },
          "metadata": {
            "tags": []
          },
          "execution_count": 13
        },
        {
          "output_type": "display_data",
          "data": {
            "image/png": "[encoded data removed]",
            "text/plain": [
              "<Figure size 432x288 with 1 Axes>"
            ]
          },
          "metadata": {
            "tags": [],
            "needs_background": "light"
          }
        }
      ]
    },
    {
      "cell_type": "markdown",
      "metadata": {
        "id": "T-wbo0036lTf"
      },
      "source": [
        "Let's zoom on less that 100 ratings per user"
      ]
    },
    {
      "cell_type": "code",
      "metadata": {
        "colab": {
          "base_uri": "https://localhost:8080/",
          "height": 283
        },
        "id": "ZJZ8r6j65x1S",
        "outputId": "d31feeb6-ab9a-4b58-d697-a51bfc2780ef"
      },
      "source": [
        "df['userId'].value_counts()[-550:].plot(kind='hist')"
      ],
      "execution_count": 64,
      "outputs": [
        {
          "output_type": "execute_result",
          "data": {
            "text/plain": [
              "<matplotlib.axes._subplots.AxesSubplot at 0x7f7ad57f9630>"
            ]
          },
          "metadata": {
            "tags": []
          },
          "execution_count": 64
        },
        {
          "output_type": "display_data",
          "data": {
            "image/png": "[encoded data removed]",
            "text/plain": [
              "<Figure size 432x288 with 1 Axes>"
            ]
          },
          "metadata": {
            "tags": [],
            "needs_background": "light"
          }
        }
      ]
    },
    {
      "cell_type": "markdown",
      "metadata": {
        "id": "nP_aV64I6tJ8"
      },
      "source": [
        "# Modeling\r\n",
        "\r\n",
        "We will run two different matrix factorization models/packages with 4 different minimum of rating per user. Then we will chose our best option. Finally, we will hypertune the parameters of this best option."
      ]
    },
    {
      "cell_type": "code",
      "metadata": {
        "id": "BrLZkDA0sFsy"
      },
      "source": [
        "df['count']=df['userId'].map(df['userId'].value_counts())\r\n",
        "df = df.rename(columns={\"userId\":\"user_id\", \"movieId\":\"item_id\"})\r\n",
        "df_10 = df[df['count']>10]\r\n",
        "df_5 = df[df['count']>5]\r\n",
        "df_50 = df[df['count']>50]\r\n",
        "df_20 = df[df['count']>20]"
      ],
      "execution_count": 66,
      "outputs": []
    },
    {
      "cell_type": "markdown",
      "metadata": {
        "id": "iRrYhx_mxf4-"
      },
      "source": [
        "## Min 10 ratings\r\n",
        "\r\n",
        "### Matrix factorization"
      ]
    },
    {
      "cell_type": "code",
      "metadata": {
        "id": "BBTVVfYf17kB"
      },
      "source": [
        "X = df_10[['user_id','item_id']]\r\n",
        "y = df_10['rating']\r\n",
        "\r\n",
        "X_train, X_test, y_train, y_test = train_test_split(X, y, test_size=0.20, \\\r\n",
        "                                                    random_state=1000, \\\r\n",
        "                                    stratify = df_10['user_id'])"
      ],
      "execution_count": 15,
      "outputs": []
    },
    {
      "cell_type": "code",
      "metadata": {
        "id": "lhKatp-tOYMH",
        "colab": {
          "base_uri": "https://localhost:8080/"
        },
        "outputId": "1e983a5b-fa85-42c0-d67d-b2752ffa1618"
      },
      "source": [
        "matrix_fact = KernelMF(n_epochs=200, n_factors=100, lr=0.001, reg=0.005)\r\n",
        "matrix_fact.fit(X_train, y_train)"
      ],
      "execution_count": 16,
      "outputs": [
        {
          "output_type": "stream",
          "text": [
            "Epoch  1 / 200  -  train_rmse: 1.0097692769027926\n",
            "Epoch  2 / 200  -  train_rmse: 0.9859376040488397\n",
            "Epoch  3 / 200  -  train_rmse: 0.9671377243398298\n",
            "Epoch  4 / 200  -  train_rmse: 0.9516896757284785\n",
            "Epoch  5 / 200  -  train_rmse: 0.9386647880040009\n",
            "Epoch  6 / 200  -  train_rmse: 0.9274274858301409\n",
            "Epoch  7 / 200  -  train_rmse: 0.917557788863334\n",
            "Epoch  8 / 200  -  train_rmse: 0.90877414612245\n",
            "Epoch  9 / 200  -  train_rmse: 0.9008595021043035\n",
            "Epoch  10 / 200  -  train_rmse: 0.8936626037113307\n",
            "Epoch  11 / 200  -  train_rmse: 0.8870615903692008\n",
            "Epoch  12 / 200  -  train_rmse: 0.8809550069178345\n",
            "Epoch  13 / 200  -  train_rmse: 0.8752682949741389\n",
            "Epoch  14 / 200  -  train_rmse: 0.8699441299543921\n",
            "Epoch  15 / 200  -  train_rmse: 0.8649291753938464\n",
            "Epoch  16 / 200  -  train_rmse: 0.8601842987616585\n",
            "Epoch  17 / 200  -  train_rmse: 0.8556740454557074\n",
            "Epoch  18 / 200  -  train_rmse: 0.8513719896513736\n",
            "Epoch  19 / 200  -  train_rmse: 0.8472547576377235\n",
            "Epoch  20 / 200  -  train_rmse: 0.843301920144355\n",
            "Epoch  21 / 200  -  train_rmse: 0.8394951287281097\n",
            "Epoch  22 / 200  -  train_rmse: 0.8358203958696124\n",
            "Epoch  23 / 200  -  train_rmse: 0.8322633425239102\n",
            "Epoch  24 / 200  -  train_rmse: 0.8288119499365331\n",
            "Epoch  25 / 200  -  train_rmse: 0.825456937731552\n",
            "Epoch  26 / 200  -  train_rmse: 0.8221901625217424\n",
            "Epoch  27 / 200  -  train_rmse: 0.8190031219971481\n",
            "Epoch  28 / 200  -  train_rmse: 0.8158886567077538\n",
            "Epoch  29 / 200  -  train_rmse: 0.8128376675041257\n",
            "Epoch  30 / 200  -  train_rmse: 0.8098476500846906\n",
            "Epoch  31 / 200  -  train_rmse: 0.80691056852807\n",
            "Epoch  32 / 200  -  train_rmse: 0.8040239160404667\n",
            "Epoch  33 / 200  -  train_rmse: 0.8011826642084247\n",
            "Epoch  34 / 200  -  train_rmse: 0.7983815769889265\n",
            "Epoch  35 / 200  -  train_rmse: 0.7956174204923693\n",
            "Epoch  36 / 200  -  train_rmse: 0.7928872668414189\n",
            "Epoch  37 / 200  -  train_rmse: 0.7901871239884053\n",
            "Epoch  38 / 200  -  train_rmse: 0.7875140820217664\n",
            "Epoch  39 / 200  -  train_rmse: 0.7848656388503142\n",
            "Epoch  40 / 200  -  train_rmse: 0.7822401240632295\n",
            "Epoch  41 / 200  -  train_rmse: 0.7796333717838047\n",
            "Epoch  42 / 200  -  train_rmse: 0.777045122460875\n",
            "Epoch  43 / 200  -  train_rmse: 0.7744726602779136\n",
            "Epoch  44 / 200  -  train_rmse: 0.7719137978264345\n",
            "Epoch  45 / 200  -  train_rmse: 0.7693665286365464\n",
            "Epoch  46 / 200  -  train_rmse: 0.76682951626386\n",
            "Epoch  47 / 200  -  train_rmse: 0.7643003049562116\n",
            "Epoch  48 / 200  -  train_rmse: 0.7617784000414058\n",
            "Epoch  49 / 200  -  train_rmse: 0.7592624779045956\n",
            "Epoch  50 / 200  -  train_rmse: 0.7567507779769072\n",
            "Epoch  51 / 200  -  train_rmse: 0.7542426317547802\n",
            "Epoch  52 / 200  -  train_rmse: 0.7517357334000737\n",
            "Epoch  53 / 200  -  train_rmse: 0.7492286400495493\n",
            "Epoch  54 / 200  -  train_rmse: 0.7467221696513415\n",
            "Epoch  55 / 200  -  train_rmse: 0.7442142709012876\n",
            "Epoch  56 / 200  -  train_rmse: 0.7417049370082398\n",
            "Epoch  57 / 200  -  train_rmse: 0.7391916910584511\n",
            "Epoch  58 / 200  -  train_rmse: 0.7366748007322638\n",
            "Epoch  59 / 200  -  train_rmse: 0.7341534184458662\n",
            "Epoch  60 / 200  -  train_rmse: 0.7316268951502828\n",
            "Epoch  61 / 200  -  train_rmse: 0.7290944729167014\n",
            "Epoch  62 / 200  -  train_rmse: 0.7265549726312891\n",
            "Epoch  63 / 200  -  train_rmse: 0.7240088913107819\n",
            "Epoch  64 / 200  -  train_rmse: 0.7214548942360359\n",
            "Epoch  65 / 200  -  train_rmse: 0.7188926723431003\n",
            "Epoch  66 / 200  -  train_rmse: 0.7163212107214042\n",
            "Epoch  67 / 200  -  train_rmse: 0.7137407371525153\n",
            "Epoch  68 / 200  -  train_rmse: 0.7111513496847249\n",
            "Epoch  69 / 200  -  train_rmse: 0.7085519797127826\n",
            "Epoch  70 / 200  -  train_rmse: 0.7059429488601398\n",
            "Epoch  71 / 200  -  train_rmse: 0.7033229935077706\n",
            "Epoch  72 / 200  -  train_rmse: 0.7006932036211628\n",
            "Epoch  73 / 200  -  train_rmse: 0.6980516500835153\n",
            "Epoch  74 / 200  -  train_rmse: 0.6953994773529594\n",
            "Epoch  75 / 200  -  train_rmse: 0.69273602266104\n",
            "Epoch  76 / 200  -  train_rmse: 0.6900614848646373\n",
            "Epoch  77 / 200  -  train_rmse: 0.6873757225910226\n",
            "Epoch  78 / 200  -  train_rmse: 0.6846788078336767\n",
            "Epoch  79 / 200  -  train_rmse: 0.6819700271334281\n",
            "Epoch  80 / 200  -  train_rmse: 0.6792498576753329\n",
            "Epoch  81 / 200  -  train_rmse: 0.6765180328955572\n",
            "Epoch  82 / 200  -  train_rmse: 0.6737751306847257\n",
            "Epoch  83 / 200  -  train_rmse: 0.6710212923053225\n",
            "Epoch  84 / 200  -  train_rmse: 0.6682557028752634\n",
            "Epoch  85 / 200  -  train_rmse: 0.6654789688601511\n",
            "Epoch  86 / 200  -  train_rmse: 0.6626920623141195\n",
            "Epoch  87 / 200  -  train_rmse: 0.6598938501075374\n",
            "Epoch  88 / 200  -  train_rmse: 0.6570849968967293\n",
            "Epoch  89 / 200  -  train_rmse: 0.6542661058490369\n",
            "Epoch  90 / 200  -  train_rmse: 0.6514364738088405\n",
            "Epoch  91 / 200  -  train_rmse: 0.6485977564449151\n",
            "Epoch  92 / 200  -  train_rmse: 0.6457488933238704\n",
            "Epoch  93 / 200  -  train_rmse: 0.6428904849018459\n",
            "Epoch  94 / 200  -  train_rmse: 0.6400228852200575\n",
            "Epoch  95 / 200  -  train_rmse: 0.6371466268161294\n",
            "Epoch  96 / 200  -  train_rmse: 0.6342615890180773\n",
            "Epoch  97 / 200  -  train_rmse: 0.6313680883466688\n",
            "Epoch  98 / 200  -  train_rmse: 0.6284672460501379\n",
            "Epoch  99 / 200  -  train_rmse: 0.6255586134558564\n",
            "Epoch  100 / 200  -  train_rmse: 0.6226425800362405\n",
            "Epoch  101 / 200  -  train_rmse: 0.6197201364998436\n",
            "Epoch  102 / 200  -  train_rmse: 0.6167912392746254\n",
            "Epoch  103 / 200  -  train_rmse: 0.6138560521941627\n",
            "Epoch  104 / 200  -  train_rmse: 0.6109152522204587\n",
            "Epoch  105 / 200  -  train_rmse: 0.6079690213791036\n",
            "Epoch  106 / 200  -  train_rmse: 0.6050182532772362\n",
            "Epoch  107 / 200  -  train_rmse: 0.6020629084097133\n",
            "Epoch  108 / 200  -  train_rmse: 0.5991036120335341\n",
            "Epoch  109 / 200  -  train_rmse: 0.5961405936206435\n",
            "Epoch  110 / 200  -  train_rmse: 0.5931740238161038\n",
            "Epoch  111 / 200  -  train_rmse: 0.5902042525328293\n",
            "Epoch  112 / 200  -  train_rmse: 0.5872327860726755\n",
            "Epoch  113 / 200  -  train_rmse: 0.5842594456133453\n",
            "Epoch  114 / 200  -  train_rmse: 0.5812841069100537\n",
            "Epoch  115 / 200  -  train_rmse: 0.5783080373841916\n",
            "Epoch  116 / 200  -  train_rmse: 0.575331092860762\n",
            "Epoch  117 / 200  -  train_rmse: 0.5723536425662551\n",
            "Epoch  118 / 200  -  train_rmse: 0.5693767434556547\n",
            "Epoch  119 / 200  -  train_rmse: 0.5664006649858966\n",
            "Epoch  120 / 200  -  train_rmse: 0.5634253869877679\n",
            "Epoch  121 / 200  -  train_rmse: 0.5604516926436712\n",
            "Epoch  122 / 200  -  train_rmse: 0.5574790801097659\n",
            "Epoch  123 / 200  -  train_rmse: 0.5545090890367542\n",
            "Epoch  124 / 200  -  train_rmse: 0.5515417490947299\n",
            "Epoch  125 / 200  -  train_rmse: 0.5485771219001236\n",
            "Epoch  126 / 200  -  train_rmse: 0.5456159935887774\n",
            "Epoch  127 / 200  -  train_rmse: 0.5426586277098184\n",
            "Epoch  128 / 200  -  train_rmse: 0.5397055328310872\n",
            "Epoch  129 / 200  -  train_rmse: 0.5367565214758407\n",
            "Epoch  130 / 200  -  train_rmse: 0.5338126961908186\n",
            "Epoch  131 / 200  -  train_rmse: 0.5308742323327957\n",
            "Epoch  132 / 200  -  train_rmse: 0.5279414861548625\n",
            "Epoch  133 / 200  -  train_rmse: 0.5250144819622524\n",
            "Epoch  134 / 200  -  train_rmse: 0.5220938101685145\n",
            "Epoch  135 / 200  -  train_rmse: 0.5191799960222839\n",
            "Epoch  136 / 200  -  train_rmse: 0.5162733690869573\n",
            "Epoch  137 / 200  -  train_rmse: 0.5133734986981526\n",
            "Epoch  138 / 200  -  train_rmse: 0.5104811989830064\n",
            "Epoch  139 / 200  -  train_rmse: 0.5075977020819074\n",
            "Epoch  140 / 200  -  train_rmse: 0.5047219503744408\n",
            "Epoch  141 / 200  -  train_rmse: 0.5018544599159578\n",
            "Epoch  142 / 200  -  train_rmse: 0.49899630779166637\n",
            "Epoch  143 / 200  -  train_rmse: 0.49614649536507865\n",
            "Epoch  144 / 200  -  train_rmse: 0.49330651840745715\n",
            "Epoch  145 / 200  -  train_rmse: 0.4904758625292685\n",
            "Epoch  146 / 200  -  train_rmse: 0.4876553924256189\n",
            "Epoch  147 / 200  -  train_rmse: 0.4848451133300747\n",
            "Epoch  148 / 200  -  train_rmse: 0.4820450311718457\n",
            "Epoch  149 / 200  -  train_rmse: 0.47925560852048465\n",
            "Epoch  150 / 200  -  train_rmse: 0.47647696630821146\n",
            "Epoch  151 / 200  -  train_rmse: 0.47370906563735127\n",
            "Epoch  152 / 200  -  train_rmse: 0.47095280603736367\n",
            "Epoch  153 / 200  -  train_rmse: 0.46820771436661285\n",
            "Epoch  154 / 200  -  train_rmse: 0.4654742468183092\n",
            "Epoch  155 / 200  -  train_rmse: 0.46275256527381803\n",
            "Epoch  156 / 200  -  train_rmse: 0.4600427075426958\n",
            "Epoch  157 / 200  -  train_rmse: 0.4573455496762162\n",
            "Epoch  158 / 200  -  train_rmse: 0.4546604945034598\n",
            "Epoch  159 / 200  -  train_rmse: 0.45198818067028107\n",
            "Epoch  160 / 200  -  train_rmse: 0.44932811719283056\n",
            "Epoch  161 / 200  -  train_rmse: 0.4466806910532636\n",
            "Epoch  162 / 200  -  train_rmse: 0.4440465486228264\n",
            "Epoch  163 / 200  -  train_rmse: 0.4414256553033544\n",
            "Epoch  164 / 200  -  train_rmse: 0.438817833444748\n",
            "Epoch  165 / 200  -  train_rmse: 0.4362230091454314\n",
            "Epoch  166 / 200  -  train_rmse: 0.4336417790911692\n",
            "Epoch  167 / 200  -  train_rmse: 0.4310739119186308\n",
            "Epoch  168 / 200  -  train_rmse: 0.4285194145992767\n",
            "Epoch  169 / 200  -  train_rmse: 0.42597862289727334\n",
            "Epoch  170 / 200  -  train_rmse: 0.4234515818670697\n",
            "Epoch  171 / 200  -  train_rmse: 0.42093857834962983\n",
            "Epoch  172 / 200  -  train_rmse: 0.418439435419171\n",
            "Epoch  173 / 200  -  train_rmse: 0.4159540945766149\n",
            "Epoch  174 / 200  -  train_rmse: 0.41348330297952934\n",
            "Epoch  175 / 200  -  train_rmse: 0.41102634606439725\n",
            "Epoch  176 / 200  -  train_rmse: 0.40858316685377427\n",
            "Epoch  177 / 200  -  train_rmse: 0.4061545451783333\n",
            "Epoch  178 / 200  -  train_rmse: 0.40374024883052895\n",
            "Epoch  179 / 200  -  train_rmse: 0.4013399711638486\n",
            "Epoch  180 / 200  -  train_rmse: 0.39895385334983696\n",
            "Epoch  181 / 200  -  train_rmse: 0.39658226218376563\n",
            "Epoch  182 / 200  -  train_rmse: 0.3942251408363639\n",
            "Epoch  183 / 200  -  train_rmse: 0.39188214208851635\n",
            "Epoch  184 / 200  -  train_rmse: 0.38955379676699964\n",
            "Epoch  185 / 200  -  train_rmse: 0.3872395870375074\n",
            "Epoch  186 / 200  -  train_rmse: 0.3849398653855082\n",
            "Epoch  187 / 200  -  train_rmse: 0.38265436647507467\n",
            "Epoch  188 / 200  -  train_rmse: 0.38038351004865584\n",
            "Epoch  189 / 200  -  train_rmse: 0.37812734780933827\n",
            "Epoch  190 / 200  -  train_rmse: 0.3758853639134993\n",
            "Epoch  191 / 200  -  train_rmse: 0.37365746571351527\n",
            "Epoch  192 / 200  -  train_rmse: 0.37144342227366295\n",
            "Epoch  193 / 200  -  train_rmse: 0.3692441197759543\n",
            "Epoch  194 / 200  -  train_rmse: 0.3670596005601604\n",
            "Epoch  195 / 200  -  train_rmse: 0.3648891852318414\n",
            "Epoch  196 / 200  -  train_rmse: 0.3627331271366599\n",
            "Epoch  197 / 200  -  train_rmse: 0.3605905824122299\n",
            "Epoch  198 / 200  -  train_rmse: 0.35846277179183467\n",
            "Epoch  199 / 200  -  train_rmse: 0.35634890842181427\n",
            "Epoch  200 / 200  -  train_rmse: 0.35424901103463013\n"
          ],
          "name": "stdout"
        },
        {
          "output_type": "execute_result",
          "data": {
            "text/plain": [
              "KernelMF(gamma=0.01, lr=0.001, n_epochs=200, reg=0.005)"
            ]
          },
          "metadata": {
            "tags": []
          },
          "execution_count": 16
        }
      ]
    },
    {
      "cell_type": "code",
      "metadata": {
        "id": "BaiOzemOPitR"
      },
      "source": [
        "# matrix_fact.update_users(X_train_update, y_train_update, lr=0.001, n_epochs=200, verbose=1)"
      ],
      "execution_count": null,
      "outputs": []
    },
    {
      "cell_type": "code",
      "metadata": {
        "colab": {
          "base_uri": "https://localhost:8080/"
        },
        "id": "2JcRqTTWPoGI",
        "outputId": "67a4d85e-1f71-4c6d-f40f-544839f9ffa4"
      },
      "source": [
        "pred = matrix_fact.predict(X_test)\r\n",
        "# pred = [round(x) for x in pred]\r\n",
        "rmse = mean_squared_error(y_test, pred, squared=False)\r\n",
        "r2 = r2_score(y_test, pred)\r\n",
        "metrics_mf_10 = (rmse, r2)\r\n",
        "metrics_mf_10"
      ],
      "execution_count": 17,
      "outputs": [
        {
          "output_type": "execute_result",
          "data": {
            "text/plain": [
              "(0.8950978955531211, 0.26141001981150913)"
            ]
          },
          "metadata": {
            "tags": []
          },
          "execution_count": 17
        }
      ]
    },
    {
      "cell_type": "markdown",
      "metadata": {
        "id": "QM4hZDFO0p_H"
      },
      "source": [
        "### SVD"
      ]
    },
    {
      "cell_type": "code",
      "metadata": {
        "id": "Qg16QNAW2cNn"
      },
      "source": [
        "df_train =  pd.concat([X_train, y_train], axis=1)"
      ],
      "execution_count": 18,
      "outputs": []
    },
    {
      "cell_type": "code",
      "metadata": {
        "id": "VcSPSE6Q02on"
      },
      "source": [
        "reader = Reader()\r\n",
        "data = Dataset.load_from_df(df_train[['user_id', 'item_id', 'rating']], reader)"
      ],
      "execution_count": 19,
      "outputs": []
    },
    {
      "cell_type": "code",
      "metadata": {
        "colab": {
          "base_uri": "https://localhost:8080/"
        },
        "id": "MG2wbvDd02pC",
        "outputId": "0f5edd9d-73f1-4795-c5fc-fdb85fdb2db6"
      },
      "source": [
        "svd = SVD()\r\n",
        "cross_validate(svd, data, measures=['RMSE','MAE'])"
      ],
      "execution_count": 20,
      "outputs": [
        {
          "output_type": "execute_result",
          "data": {
            "text/plain": [
              "{'fit_time': (1.0462188720703125,\n",
              "  1.0407946109771729,\n",
              "  1.0379910469055176,\n",
              "  1.0403344631195068,\n",
              "  1.0419740676879883),\n",
              " 'test_mae': array([0.68969644, 0.6779366 , 0.66425585, 0.69665985, 0.67060875]),\n",
              " 'test_rmse': array([0.89060697, 0.87876678, 0.85958975, 0.90098413, 0.86908264]),\n",
              " 'test_time': (0.029440879821777344,\n",
              "  0.0298769474029541,\n",
              "  0.03436636924743652,\n",
              "  0.03490328788757324,\n",
              "  0.02949380874633789)}"
            ]
          },
          "metadata": {
            "tags": []
          },
          "execution_count": 20
        }
      ]
    },
    {
      "cell_type": "code",
      "metadata": {
        "colab": {
          "base_uri": "https://localhost:8080/"
        },
        "id": "ahLFtYhU02pF",
        "outputId": "4c6275d0-7314-4a82-bf83-2610e0c02076"
      },
      "source": [
        "trainset = data.build_full_trainset()\r\n",
        "svd.fit(trainset)"
      ],
      "execution_count": 21,
      "outputs": [
        {
          "output_type": "execute_result",
          "data": {
            "text/plain": [
              "<surprise.prediction_algorithms.matrix_factorization.SVD at 0x7f7adf144f98>"
            ]
          },
          "metadata": {
            "tags": []
          },
          "execution_count": 21
        }
      ]
    },
    {
      "cell_type": "code",
      "metadata": {
        "colab": {
          "base_uri": "https://localhost:8080/"
        },
        "id": "NPqJXW-902pH",
        "outputId": "fc4049be-c3cb-47dd-eb99-8e75107d5d67"
      },
      "source": [
        "y_pred = []\r\n",
        "for line in range(len(X_test)):\r\n",
        "  y_pred.append(svd.predict(X_test.iloc[line,0],X_test.iloc[line,1],3)[3])\r\n",
        "rmse = mean_squared_error(y_test, y_pred, squared=False)\r\n",
        "r2 = r2_score(y_test, y_pred)\r\n",
        "metrics_svd_10 = (rmse, r2)\r\n",
        "metrics_svd_10"
      ],
      "execution_count": 22,
      "outputs": [
        {
          "output_type": "execute_result",
          "data": {
            "text/plain": [
              "(0.8720290051297501, 0.298990020506852)"
            ]
          },
          "metadata": {
            "tags": []
          },
          "execution_count": 22
        }
      ]
    },
    {
      "cell_type": "markdown",
      "metadata": {
        "id": "vb6wZUYg31os"
      },
      "source": [
        "## Min 5 ratings\r\n",
        "### Matrix factorization"
      ]
    },
    {
      "cell_type": "code",
      "metadata": {
        "id": "36SIyuBN3k54"
      },
      "source": [
        "X = df_5[['user_id','item_id']]\r\n",
        "y = df_5['rating']\r\n",
        "\r\n",
        "X_train, X_test, y_train, y_test = train_test_split(X, y, test_size=0.20, \\\r\n",
        "                                                    random_state=1000, \\\r\n",
        "                                    stratify = df_5['user_id'])"
      ],
      "execution_count": 23,
      "outputs": []
    },
    {
      "cell_type": "code",
      "metadata": {
        "id": "N0AmJOw93k6C",
        "colab": {
          "base_uri": "https://localhost:8080/"
        },
        "outputId": "058a2a8f-c6b0-4c6e-b121-e408a2fbeadc"
      },
      "source": [
        "matrix_fact = KernelMF(n_epochs=200, n_factors=100, lr=0.001, reg=0.005)\r\n",
        "matrix_fact.fit(X_train, y_train)"
      ],
      "execution_count": 24,
      "outputs": [
        {
          "output_type": "stream",
          "text": [
            "Epoch  1 / 200  -  train_rmse: 1.018393496490056\n",
            "Epoch  2 / 200  -  train_rmse: 0.9941300128921118\n",
            "Epoch  3 / 200  -  train_rmse: 0.9749761055541682\n",
            "Epoch  4 / 200  -  train_rmse: 0.9592800451762725\n",
            "Epoch  5 / 200  -  train_rmse: 0.9460637548823242\n",
            "Epoch  6 / 200  -  train_rmse: 0.9346734033534353\n",
            "Epoch  7 / 200  -  train_rmse: 0.9247096916677188\n",
            "Epoch  8 / 200  -  train_rmse: 0.9158485983126458\n",
            "Epoch  9 / 200  -  train_rmse: 0.9078734706448968\n",
            "Epoch  10 / 200  -  train_rmse: 0.9006185306327217\n",
            "Epoch  11 / 200  -  train_rmse: 0.8939525287939899\n",
            "Epoch  12 / 200  -  train_rmse: 0.8877977711009599\n",
            "Epoch  13 / 200  -  train_rmse: 0.882059943709681\n",
            "Epoch  14 / 200  -  train_rmse: 0.876681271895596\n",
            "Epoch  15 / 200  -  train_rmse: 0.8716103686473956\n",
            "Epoch  16 / 200  -  train_rmse: 0.8668091354997001\n",
            "Epoch  17 / 200  -  train_rmse: 0.8622429899857682\n",
            "Epoch  18 / 200  -  train_rmse: 0.8578826594920963\n",
            "Epoch  19 / 200  -  train_rmse: 0.8537103722118088\n",
            "Epoch  20 / 200  -  train_rmse: 0.8496959026486511\n",
            "Epoch  21 / 200  -  train_rmse: 0.845825351992422\n",
            "Epoch  22 / 200  -  train_rmse: 0.8420862705540788\n",
            "Epoch  23 / 200  -  train_rmse: 0.838464683951073\n",
            "Epoch  24 / 200  -  train_rmse: 0.8349483614107621\n",
            "Epoch  25 / 200  -  train_rmse: 0.8315277225264779\n",
            "Epoch  26 / 200  -  train_rmse: 0.8281926469302613\n",
            "Epoch  27 / 200  -  train_rmse: 0.8249355834610904\n",
            "Epoch  28 / 200  -  train_rmse: 0.8217512339238934\n",
            "Epoch  29 / 200  -  train_rmse: 0.8186311318573114\n",
            "Epoch  30 / 200  -  train_rmse: 0.8155691135628587\n",
            "Epoch  31 / 200  -  train_rmse: 0.8125620487624962\n",
            "Epoch  32 / 200  -  train_rmse: 0.8096039386016118\n",
            "Epoch  33 / 200  -  train_rmse: 0.8066897617091362\n",
            "Epoch  34 / 200  -  train_rmse: 0.8038162916489724\n",
            "Epoch  35 / 200  -  train_rmse: 0.8009795813171663\n",
            "Epoch  36 / 200  -  train_rmse: 0.7981767523507753\n",
            "Epoch  37 / 200  -  train_rmse: 0.7954043131641324\n",
            "Epoch  38 / 200  -  train_rmse: 0.7926586614417074\n",
            "Epoch  39 / 200  -  train_rmse: 0.7899385203450304\n",
            "Epoch  40 / 200  -  train_rmse: 0.7872406073388749\n",
            "Epoch  41 / 200  -  train_rmse: 0.7845608795780089\n",
            "Epoch  42 / 200  -  train_rmse: 0.7818987672138136\n",
            "Epoch  43 / 200  -  train_rmse: 0.7792524680983508\n",
            "Epoch  44 / 200  -  train_rmse: 0.7766196157546464\n",
            "Epoch  45 / 200  -  train_rmse: 0.7739981951273536\n",
            "Epoch  46 / 200  -  train_rmse: 0.7713877210577075\n",
            "Epoch  47 / 200  -  train_rmse: 0.7687850624586012\n",
            "Epoch  48 / 200  -  train_rmse: 0.7661890904390368\n",
            "Epoch  49 / 200  -  train_rmse: 0.7635996841451109\n",
            "Epoch  50 / 200  -  train_rmse: 0.7610132279719599\n",
            "Epoch  51 / 200  -  train_rmse: 0.758429586152915\n",
            "Epoch  52 / 200  -  train_rmse: 0.7558482291756995\n",
            "Epoch  53 / 200  -  train_rmse: 0.7532668949160374\n",
            "Epoch  54 / 200  -  train_rmse: 0.750685736249579\n",
            "Epoch  55 / 200  -  train_rmse: 0.7481030412421834\n",
            "Epoch  56 / 200  -  train_rmse: 0.7455182042821489\n",
            "Epoch  57 / 200  -  train_rmse: 0.7429295399328717\n",
            "Epoch  58 / 200  -  train_rmse: 0.7403369674641703\n",
            "Epoch  59 / 200  -  train_rmse: 0.7377400349766158\n",
            "Epoch  60 / 200  -  train_rmse: 0.7351366018623827\n",
            "Epoch  61 / 200  -  train_rmse: 0.7325276255757193\n",
            "Epoch  62 / 200  -  train_rmse: 0.7299125233906971\n",
            "Epoch  63 / 200  -  train_rmse: 0.7272892308609673\n",
            "Epoch  64 / 200  -  train_rmse: 0.7246575914514969\n",
            "Epoch  65 / 200  -  train_rmse: 0.7220179132317289\n",
            "Epoch  66 / 200  -  train_rmse: 0.7193689701839372\n",
            "Epoch  67 / 200  -  train_rmse: 0.7167113915072968\n",
            "Epoch  68 / 200  -  train_rmse: 0.7140438156735172\n",
            "Epoch  69 / 200  -  train_rmse: 0.7113664106324147\n",
            "Epoch  70 / 200  -  train_rmse: 0.7086785121661624\n",
            "Epoch  71 / 200  -  train_rmse: 0.7059805294186919\n",
            "Epoch  72 / 200  -  train_rmse: 0.7032714904825511\n",
            "Epoch  73 / 200  -  train_rmse: 0.700551277497132\n",
            "Epoch  74 / 200  -  train_rmse: 0.697819937675095\n",
            "Epoch  75 / 200  -  train_rmse: 0.695076918250116\n",
            "Epoch  76 / 200  -  train_rmse: 0.6923230170523156\n",
            "Epoch  77 / 200  -  train_rmse: 0.6895569401094834\n",
            "Epoch  78 / 200  -  train_rmse: 0.6867792129682896\n",
            "Epoch  79 / 200  -  train_rmse: 0.6839903684000784\n",
            "Epoch  80 / 200  -  train_rmse: 0.681189876991176\n",
            "Epoch  81 / 200  -  train_rmse: 0.6783776731983947\n",
            "Epoch  82 / 200  -  train_rmse: 0.6755537072396115\n",
            "Epoch  83 / 200  -  train_rmse: 0.6727190319221453\n",
            "Epoch  84 / 200  -  train_rmse: 0.6698729860972634\n",
            "Epoch  85 / 200  -  train_rmse: 0.667015399009273\n",
            "Epoch  86 / 200  -  train_rmse: 0.6641472402809812\n",
            "Epoch  87 / 200  -  train_rmse: 0.6612680633094666\n",
            "Epoch  88 / 200  -  train_rmse: 0.658378579231212\n",
            "Epoch  89 / 200  -  train_rmse: 0.6554786639417914\n",
            "Epoch  90 / 200  -  train_rmse: 0.6525692037506698\n",
            "Epoch  91 / 200  -  train_rmse: 0.6496503410434098\n",
            "Epoch  92 / 200  -  train_rmse: 0.6467210808674715\n",
            "Epoch  93 / 200  -  train_rmse: 0.6437823123061046\n",
            "Epoch  94 / 200  -  train_rmse: 0.6408353035757864\n",
            "Epoch  95 / 200  -  train_rmse: 0.6378794522578637\n",
            "Epoch  96 / 200  -  train_rmse: 0.6349157132807784\n",
            "Epoch  97 / 200  -  train_rmse: 0.6319449229860788\n",
            "Epoch  98 / 200  -  train_rmse: 0.628966304533283\n",
            "Epoch  99 / 200  -  train_rmse: 0.6259800182362191\n",
            "Epoch  100 / 200  -  train_rmse: 0.6229871970264399\n",
            "Epoch  101 / 200  -  train_rmse: 0.6199893074185944\n",
            "Epoch  102 / 200  -  train_rmse: 0.6169847152079881\n",
            "Epoch  103 / 200  -  train_rmse: 0.6139749702787456\n",
            "Epoch  104 / 200  -  train_rmse: 0.6109605275336404\n",
            "Epoch  105 / 200  -  train_rmse: 0.6079417743406723\n",
            "Epoch  106 / 200  -  train_rmse: 0.6049190541191668\n",
            "Epoch  107 / 200  -  train_rmse: 0.6018932088570476\n",
            "Epoch  108 / 200  -  train_rmse: 0.5988644123619877\n",
            "Epoch  109 / 200  -  train_rmse: 0.5958325779036339\n",
            "Epoch  110 / 200  -  train_rmse: 0.5927985831674776\n",
            "Epoch  111 / 200  -  train_rmse: 0.5897633286143406\n",
            "Epoch  112 / 200  -  train_rmse: 0.5867273331117558\n",
            "Epoch  113 / 200  -  train_rmse: 0.5836903448702984\n",
            "Epoch  114 / 200  -  train_rmse: 0.5806539324173984\n",
            "Epoch  115 / 200  -  train_rmse: 0.5776172307140267\n",
            "Epoch  116 / 200  -  train_rmse: 0.5745816542542658\n",
            "Epoch  117 / 200  -  train_rmse: 0.5715467242796481\n",
            "Epoch  118 / 200  -  train_rmse: 0.5685142662968906\n",
            "Epoch  119 / 200  -  train_rmse: 0.565483590308761\n",
            "Epoch  120 / 200  -  train_rmse: 0.5624554654705326\n",
            "Epoch  121 / 200  -  train_rmse: 0.5594307153745522\n",
            "Epoch  122 / 200  -  train_rmse: 0.5564097275336232\n",
            "Epoch  123 / 200  -  train_rmse: 0.553392258132477\n",
            "Epoch  124 / 200  -  train_rmse: 0.5503796453359617\n",
            "Epoch  125 / 200  -  train_rmse: 0.5473719921027145\n",
            "Epoch  126 / 200  -  train_rmse: 0.5443691128950454\n",
            "Epoch  127 / 200  -  train_rmse: 0.5413722157644789\n",
            "Epoch  128 / 200  -  train_rmse: 0.5383814495364817\n",
            "Epoch  129 / 200  -  train_rmse: 0.5353966660516684\n",
            "Epoch  130 / 200  -  train_rmse: 0.5324195632000501\n",
            "Epoch  131 / 200  -  train_rmse: 0.5294490287823844\n",
            "Epoch  132 / 200  -  train_rmse: 0.5264858866619424\n",
            "Epoch  133 / 200  -  train_rmse: 0.5235313992406696\n",
            "Epoch  134 / 200  -  train_rmse: 0.5205849666094267\n",
            "Epoch  135 / 200  -  train_rmse: 0.517646583768075\n",
            "Epoch  136 / 200  -  train_rmse: 0.5147173259732898\n",
            "Epoch  137 / 200  -  train_rmse: 0.5117975930679505\n",
            "Epoch  138 / 200  -  train_rmse: 0.5088872526936695\n",
            "Epoch  139 / 200  -  train_rmse: 0.5059861710450932\n",
            "Epoch  140 / 200  -  train_rmse: 0.5030959578179224\n",
            "Epoch  141 / 200  -  train_rmse: 0.5002158125985322\n",
            "Epoch  142 / 200  -  train_rmse: 0.4973466926400245\n",
            "Epoch  143 / 200  -  train_rmse: 0.4944884050141451\n",
            "Epoch  144 / 200  -  train_rmse: 0.4916411071386237\n",
            "Epoch  145 / 200  -  train_rmse: 0.4888053817552283\n",
            "Epoch  146 / 200  -  train_rmse: 0.48598104577567885\n",
            "Epoch  147 / 200  -  train_rmse: 0.48316886149987404\n",
            "Epoch  148 / 200  -  train_rmse: 0.48036852766940136\n",
            "Epoch  149 / 200  -  train_rmse: 0.4775802776198396\n",
            "Epoch  150 / 200  -  train_rmse: 0.47480470024322735\n",
            "Epoch  151 / 200  -  train_rmse: 0.47204194541784955\n",
            "Epoch  152 / 200  -  train_rmse: 0.4692913617465112\n",
            "Epoch  153 / 200  -  train_rmse: 0.46655415716952947\n",
            "Epoch  154 / 200  -  train_rmse: 0.46383003940085216\n",
            "Epoch  155 / 200  -  train_rmse: 0.4611195175803985\n",
            "Epoch  156 / 200  -  train_rmse: 0.45842204767177197\n",
            "Epoch  157 / 200  -  train_rmse: 0.45573804637274196\n",
            "Epoch  158 / 200  -  train_rmse: 0.4530678142693899\n",
            "Epoch  159 / 200  -  train_rmse: 0.45041152309101923\n",
            "Epoch  160 / 200  -  train_rmse: 0.44776902703565286\n",
            "Epoch  161 / 200  -  train_rmse: 0.4451404727072647\n",
            "Epoch  162 / 200  -  train_rmse: 0.44252642203421416\n",
            "Epoch  163 / 200  -  train_rmse: 0.4399263094986707\n",
            "Epoch  164 / 200  -  train_rmse: 0.4373403037033838\n",
            "Epoch  165 / 200  -  train_rmse: 0.4347689686151811\n",
            "Epoch  166 / 200  -  train_rmse: 0.43221141559302273\n",
            "Epoch  167 / 200  -  train_rmse: 0.42966888884067955\n",
            "Epoch  168 / 200  -  train_rmse: 0.42714064148924746\n",
            "Epoch  169 / 200  -  train_rmse: 0.42462731640615275\n",
            "Epoch  170 / 200  -  train_rmse: 0.4221285502371108\n",
            "Epoch  171 / 200  -  train_rmse: 0.41964446279374185\n",
            "Epoch  172 / 200  -  train_rmse: 0.41717498127445996\n",
            "Epoch  173 / 200  -  train_rmse: 0.41472007645845166\n",
            "Epoch  174 / 200  -  train_rmse: 0.41228010726733383\n",
            "Epoch  175 / 200  -  train_rmse: 0.40985476726648784\n",
            "Epoch  176 / 200  -  train_rmse: 0.4074441822987381\n",
            "Epoch  177 / 200  -  train_rmse: 0.40504829819874194\n",
            "Epoch  178 / 200  -  train_rmse: 0.4026673473043569\n",
            "Epoch  179 / 200  -  train_rmse: 0.40030156312288856\n",
            "Epoch  180 / 200  -  train_rmse: 0.397950550947384\n",
            "Epoch  181 / 200  -  train_rmse: 0.39561492426928047\n",
            "Epoch  182 / 200  -  train_rmse: 0.3932931192174394\n",
            "Epoch  183 / 200  -  train_rmse: 0.39098595654755713\n",
            "Epoch  184 / 200  -  train_rmse: 0.38869416651839916\n",
            "Epoch  185 / 200  -  train_rmse: 0.38641716460015124\n",
            "Epoch  186 / 200  -  train_rmse: 0.384154632692663\n",
            "Epoch  187 / 200  -  train_rmse: 0.3819069037647396\n",
            "Epoch  188 / 200  -  train_rmse: 0.37967393770749674\n",
            "Epoch  189 / 200  -  train_rmse: 0.3774556730833427\n",
            "Epoch  190 / 200  -  train_rmse: 0.37525148664887614\n",
            "Epoch  191 / 200  -  train_rmse: 0.3730623093071817\n",
            "Epoch  192 / 200  -  train_rmse: 0.37088788908285486\n",
            "Epoch  193 / 200  -  train_rmse: 0.36872775139856223\n",
            "Epoch  194 / 200  -  train_rmse: 0.36658193148572504\n",
            "Epoch  195 / 200  -  train_rmse: 0.3644506328447934\n",
            "Epoch  196 / 200  -  train_rmse: 0.3623339521467393\n",
            "Epoch  197 / 200  -  train_rmse: 0.3602316274886335\n",
            "Epoch  198 / 200  -  train_rmse: 0.35814313392416774\n",
            "Epoch  199 / 200  -  train_rmse: 0.35606897382015607\n",
            "Epoch  200 / 200  -  train_rmse: 0.35400922842106397\n"
          ],
          "name": "stdout"
        },
        {
          "output_type": "execute_result",
          "data": {
            "text/plain": [
              "KernelMF(gamma=0.01, lr=0.001, n_epochs=200, reg=0.005)"
            ]
          },
          "metadata": {
            "tags": []
          },
          "execution_count": 24
        }
      ]
    },
    {
      "cell_type": "code",
      "metadata": {
        "colab": {
          "base_uri": "https://localhost:8080/"
        },
        "id": "clA1FT9x3k6E",
        "outputId": "7c31d047-5fb6-4d60-95aa-2a5e00c0b95b"
      },
      "source": [
        "pred = matrix_fact.predict(X_test)\r\n",
        "# pred = [round(x) for x in pred]\r\n",
        "rmse = mean_squared_error(y_test, pred, squared=False)\r\n",
        "r2 = r2_score(y_test, pred)\r\n",
        "metrics_mf_5 = (rmse, r2)\r\n",
        "metrics_mf_5"
      ],
      "execution_count": 26,
      "outputs": [
        {
          "output_type": "execute_result",
          "data": {
            "text/plain": [
              "(0.8874538602069754, 0.24574117875822954)"
            ]
          },
          "metadata": {
            "tags": []
          },
          "execution_count": 26
        }
      ]
    },
    {
      "cell_type": "markdown",
      "metadata": {
        "id": "0MzHmame38BO"
      },
      "source": [
        "### SVD"
      ]
    },
    {
      "cell_type": "code",
      "metadata": {
        "id": "x7cWy2mT3k6H"
      },
      "source": [
        "df_train =  pd.concat([X_train, y_train], axis=1)"
      ],
      "execution_count": 27,
      "outputs": []
    },
    {
      "cell_type": "code",
      "metadata": {
        "id": "OAprrMA03k6J"
      },
      "source": [
        "reader = Reader()\r\n",
        "data = Dataset.load_from_df(df_train[['user_id', 'item_id', 'rating']], reader)"
      ],
      "execution_count": 28,
      "outputs": []
    },
    {
      "cell_type": "code",
      "metadata": {
        "colab": {
          "base_uri": "https://localhost:8080/"
        },
        "id": "3oJhnN6m3k6K",
        "outputId": "f75ce0b7-34fb-4401-baf7-5cb003dd92d8"
      },
      "source": [
        "svd = SVD()\r\n",
        "cross_validate(svd, data, measures=['RMSE','MAE'])"
      ],
      "execution_count": 29,
      "outputs": [
        {
          "output_type": "execute_result",
          "data": {
            "text/plain": [
              "{'fit_time': (1.0789992809295654,\n",
              "  1.0861120223999023,\n",
              "  1.070850133895874,\n",
              "  1.0710537433624268,\n",
              "  1.092087745666504),\n",
              " 'test_mae': array([0.69306416, 0.67887076, 0.68543678, 0.67886064, 0.67377209]),\n",
              " 'test_rmse': array([0.88813678, 0.88565358, 0.88574782, 0.8786867 , 0.87339793]),\n",
              " 'test_time': (0.029689788818359375,\n",
              "  0.029695510864257812,\n",
              "  0.03066873550415039,\n",
              "  0.029462814331054688,\n",
              "  0.13886594772338867)}"
            ]
          },
          "metadata": {
            "tags": []
          },
          "execution_count": 29
        }
      ]
    },
    {
      "cell_type": "code",
      "metadata": {
        "colab": {
          "base_uri": "https://localhost:8080/"
        },
        "id": "H4r73f7p3k6L",
        "outputId": "d1344747-0f77-4276-bfb1-a4e64e6cbd10"
      },
      "source": [
        "trainset = data.build_full_trainset()\r\n",
        "svd.fit(trainset)"
      ],
      "execution_count": 30,
      "outputs": [
        {
          "output_type": "execute_result",
          "data": {
            "text/plain": [
              "<surprise.prediction_algorithms.matrix_factorization.SVD at 0x7f7ade509198>"
            ]
          },
          "metadata": {
            "tags": []
          },
          "execution_count": 30
        }
      ]
    },
    {
      "cell_type": "code",
      "metadata": {
        "colab": {
          "base_uri": "https://localhost:8080/"
        },
        "id": "--wVuO9u3k6M",
        "outputId": "a2ea28f5-e514-4310-fa23-3669851896c5"
      },
      "source": [
        "y_pred = []\r\n",
        "for line in range(len(X_test)):\r\n",
        "  y_pred.append(svd.predict(X_test.iloc[line,0],X_test.iloc[line,1],3)[3])\r\n",
        "rmse = mean_squared_error(y_test, y_pred, squared=False)\r\n",
        "r2 = r2_score(y_test, y_pred)\r\n",
        "metrics_svd_5 = (rmse, r2)\r\n",
        "metrics_svd_5"
      ],
      "execution_count": 31,
      "outputs": [
        {
          "output_type": "execute_result",
          "data": {
            "text/plain": [
              "(0.8681151628159886, 0.2782554451201248)"
            ]
          },
          "metadata": {
            "tags": []
          },
          "execution_count": 31
        }
      ]
    },
    {
      "cell_type": "markdown",
      "metadata": {
        "id": "NQet4AFA4VQw"
      },
      "source": [
        "## Min 50 ratings\r\n",
        "### Matrix factorization"
      ]
    },
    {
      "cell_type": "code",
      "metadata": {
        "id": "t2Q_IEWd4cOo"
      },
      "source": [
        "X = df_50[['user_id','item_id']]\r\n",
        "y = df_50['rating']\r\n",
        "\r\n",
        "X_train, X_test, y_train, y_test = train_test_split(X, y, test_size=0.20, \\\r\n",
        "                                                    random_state=1000, \\\r\n",
        "                                    stratify = df_50['user_id'])"
      ],
      "execution_count": 32,
      "outputs": []
    },
    {
      "cell_type": "code",
      "metadata": {
        "id": "7aGdr5z-4cOp",
        "colab": {
          "base_uri": "https://localhost:8080/"
        },
        "outputId": "63f8d214-18be-4673-cc9d-6085f0845105"
      },
      "source": [
        "matrix_fact = KernelMF(n_epochs=200, n_factors=100, lr=0.001, reg=0.005)\r\n",
        "matrix_fact.fit(X_train, y_train)"
      ],
      "execution_count": 33,
      "outputs": [
        {
          "output_type": "stream",
          "text": [
            "Epoch  1 / 200  -  train_rmse: 0.9934537456793572\n",
            "Epoch  2 / 200  -  train_rmse: 0.9706451544254855\n",
            "Epoch  3 / 200  -  train_rmse: 0.952496848968677\n",
            "Epoch  4 / 200  -  train_rmse: 0.9374270555747118\n",
            "Epoch  5 / 200  -  train_rmse: 0.9245544835394549\n",
            "Epoch  6 / 200  -  train_rmse: 0.913366775462427\n",
            "Epoch  7 / 200  -  train_rmse: 0.9034710219127691\n",
            "Epoch  8 / 200  -  train_rmse: 0.8946374820821914\n",
            "Epoch  9 / 200  -  train_rmse: 0.8866719575718014\n",
            "Epoch  10 / 200  -  train_rmse: 0.8794191050381548\n",
            "Epoch  11 / 200  -  train_rmse: 0.8727619540755759\n",
            "Epoch  12 / 200  -  train_rmse: 0.8666252259270801\n",
            "Epoch  13 / 200  -  train_rmse: 0.8609214261387912\n",
            "Epoch  14 / 200  -  train_rmse: 0.8555917396799846\n",
            "Epoch  15 / 200  -  train_rmse: 0.8505856845343692\n",
            "Epoch  16 / 200  -  train_rmse: 0.8458621998910129\n",
            "Epoch  17 / 200  -  train_rmse: 0.8413843659834136\n",
            "Epoch  18 / 200  -  train_rmse: 0.8371222937462954\n",
            "Epoch  19 / 200  -  train_rmse: 0.8330471861636128\n",
            "Epoch  20 / 200  -  train_rmse: 0.8291422890719672\n",
            "Epoch  21 / 200  -  train_rmse: 0.8253848650122751\n",
            "Epoch  22 / 200  -  train_rmse: 0.8217585239226183\n",
            "Epoch  23 / 200  -  train_rmse: 0.8182517039037209\n",
            "Epoch  24 / 200  -  train_rmse: 0.8148478713001599\n",
            "Epoch  25 / 200  -  train_rmse: 0.8115399166395253\n",
            "Epoch  26 / 200  -  train_rmse: 0.8083161889710186\n",
            "Epoch  27 / 200  -  train_rmse: 0.8051669447953691\n",
            "Epoch  28 / 200  -  train_rmse: 0.8020855224089711\n",
            "Epoch  29 / 200  -  train_rmse: 0.7990665790430943\n",
            "Epoch  30 / 200  -  train_rmse: 0.7961011020151509\n",
            "Epoch  31 / 200  -  train_rmse: 0.7931866227015724\n",
            "Epoch  32 / 200  -  train_rmse: 0.7903153609690026\n",
            "Epoch  33 / 200  -  train_rmse: 0.7874860579718576\n",
            "Epoch  34 / 200  -  train_rmse: 0.7846927749717837\n",
            "Epoch  35 / 200  -  train_rmse: 0.7819312614727697\n",
            "Epoch  36 / 200  -  train_rmse: 0.7791993961825894\n",
            "Epoch  37 / 200  -  train_rmse: 0.7764928955655998\n",
            "Epoch  38 / 200  -  train_rmse: 0.7738094465643249\n",
            "Epoch  39 / 200  -  train_rmse: 0.7711468128703366\n",
            "Epoch  40 / 200  -  train_rmse: 0.7685022332970395\n",
            "Epoch  41 / 200  -  train_rmse: 0.7658721127469347\n",
            "Epoch  42 / 200  -  train_rmse: 0.7632556021679344\n",
            "Epoch  43 / 200  -  train_rmse: 0.7606509279574067\n",
            "Epoch  44 / 200  -  train_rmse: 0.7580550149314899\n",
            "Epoch  45 / 200  -  train_rmse: 0.7554687905848579\n",
            "Epoch  46 / 200  -  train_rmse: 0.7528872311380528\n",
            "Epoch  47 / 200  -  train_rmse: 0.7503115463578287\n",
            "Epoch  48 / 200  -  train_rmse: 0.7477389377794029\n",
            "Epoch  49 / 200  -  train_rmse: 0.7451692623745343\n",
            "Epoch  50 / 200  -  train_rmse: 0.7425996479983951\n",
            "Epoch  51 / 200  -  train_rmse: 0.7400298930693434\n",
            "Epoch  52 / 200  -  train_rmse: 0.7374590313884725\n",
            "Epoch  53 / 200  -  train_rmse: 0.7348851761082644\n",
            "Epoch  54 / 200  -  train_rmse: 0.7323082450776676\n",
            "Epoch  55 / 200  -  train_rmse: 0.7297272819039583\n",
            "Epoch  56 / 200  -  train_rmse: 0.7271405398453761\n",
            "Epoch  57 / 200  -  train_rmse: 0.7245485501103215\n",
            "Epoch  58 / 200  -  train_rmse: 0.721949484730227\n",
            "Epoch  59 / 200  -  train_rmse: 0.7193427732445457\n",
            "Epoch  60 / 200  -  train_rmse: 0.7167280339496231\n",
            "Epoch  61 / 200  -  train_rmse: 0.7141048330216407\n",
            "Epoch  62 / 200  -  train_rmse: 0.7114724327045745\n",
            "Epoch  63 / 200  -  train_rmse: 0.708831045184764\n",
            "Epoch  64 / 200  -  train_rmse: 0.7061784053881937\n",
            "Epoch  65 / 200  -  train_rmse: 0.7035153994019226\n",
            "Epoch  66 / 200  -  train_rmse: 0.7008407108261996\n",
            "Epoch  67 / 200  -  train_rmse: 0.6981549645793615\n",
            "Epoch  68 / 200  -  train_rmse: 0.6954581113039683\n",
            "Epoch  69 / 200  -  train_rmse: 0.6927475330198932\n",
            "Epoch  70 / 200  -  train_rmse: 0.6900244196975226\n",
            "Epoch  71 / 200  -  train_rmse: 0.6872894927528687\n",
            "Epoch  72 / 200  -  train_rmse: 0.6845411137862596\n",
            "Epoch  73 / 200  -  train_rmse: 0.6817801259248049\n",
            "Epoch  74 / 200  -  train_rmse: 0.6790053894168595\n",
            "Epoch  75 / 200  -  train_rmse: 0.6762183429183979\n",
            "Epoch  76 / 200  -  train_rmse: 0.6734165469754791\n",
            "Epoch  77 / 200  -  train_rmse: 0.6706025143454951\n",
            "Epoch  78 / 200  -  train_rmse: 0.6677748372498052\n",
            "Epoch  79 / 200  -  train_rmse: 0.6649325805088638\n",
            "Epoch  80 / 200  -  train_rmse: 0.6620775411948169\n",
            "Epoch  81 / 200  -  train_rmse: 0.6592100450192827\n",
            "Epoch  82 / 200  -  train_rmse: 0.6563276811219085\n",
            "Epoch  83 / 200  -  train_rmse: 0.6534335559001465\n",
            "Epoch  84 / 200  -  train_rmse: 0.6505253223897939\n",
            "Epoch  85 / 200  -  train_rmse: 0.6476039964154116\n",
            "Epoch  86 / 200  -  train_rmse: 0.6446716992583166\n",
            "Epoch  87 / 200  -  train_rmse: 0.6417251300429776\n",
            "Epoch  88 / 200  -  train_rmse: 0.6387661179278731\n",
            "Epoch  89 / 200  -  train_rmse: 0.6357960033899307\n",
            "Epoch  90 / 200  -  train_rmse: 0.6328146448896543\n",
            "Epoch  91 / 200  -  train_rmse: 0.6298210596425375\n",
            "Epoch  92 / 200  -  train_rmse: 0.6268173612069553\n",
            "Epoch  93 / 200  -  train_rmse: 0.6238017019957652\n",
            "Epoch  94 / 200  -  train_rmse: 0.6207766929507972\n",
            "Epoch  95 / 200  -  train_rmse: 0.6177409500144305\n",
            "Epoch  96 / 200  -  train_rmse: 0.614696053199782\n",
            "Epoch  97 / 200  -  train_rmse: 0.6116423776784938\n",
            "Epoch  98 / 200  -  train_rmse: 0.6085794130756479\n",
            "Epoch  99 / 200  -  train_rmse: 0.6055092201316293\n",
            "Epoch  100 / 200  -  train_rmse: 0.6024307676224676\n",
            "Epoch  101 / 200  -  train_rmse: 0.5993440223223809\n",
            "Epoch  102 / 200  -  train_rmse: 0.5962506471560586\n",
            "Epoch  103 / 200  -  train_rmse: 0.5931507521691408\n",
            "Epoch  104 / 200  -  train_rmse: 0.5900453549412766\n",
            "Epoch  105 / 200  -  train_rmse: 0.5869348886685358\n",
            "Epoch  106 / 200  -  train_rmse: 0.583818759915962\n",
            "Epoch  107 / 200  -  train_rmse: 0.5806980814382403\n",
            "Epoch  108 / 200  -  train_rmse: 0.5775744211995274\n",
            "Epoch  109 / 200  -  train_rmse: 0.574447596908838\n",
            "Epoch  110 / 200  -  train_rmse: 0.5713170288189895\n",
            "Epoch  111 / 200  -  train_rmse: 0.5681845597099725\n",
            "Epoch  112 / 200  -  train_rmse: 0.565050683080484\n",
            "Epoch  113 / 200  -  train_rmse: 0.5619146707309921\n",
            "Epoch  114 / 200  -  train_rmse: 0.5587773554360141\n",
            "Epoch  115 / 200  -  train_rmse: 0.5556409951647594\n",
            "Epoch  116 / 200  -  train_rmse: 0.5525043722598477\n",
            "Epoch  117 / 200  -  train_rmse: 0.5493691622045332\n",
            "Epoch  118 / 200  -  train_rmse: 0.5462359092211072\n",
            "Epoch  119 / 200  -  train_rmse: 0.5431030522085863\n",
            "Epoch  120 / 200  -  train_rmse: 0.539973598834445\n",
            "Epoch  121 / 200  -  train_rmse: 0.5368463123504998\n",
            "Epoch  122 / 200  -  train_rmse: 0.5337228320806813\n",
            "Epoch  123 / 200  -  train_rmse: 0.530602467027204\n",
            "Epoch  124 / 200  -  train_rmse: 0.5274873036066345\n",
            "Epoch  125 / 200  -  train_rmse: 0.524376223972687\n",
            "Epoch  126 / 200  -  train_rmse: 0.5212708552081703\n",
            "Epoch  127 / 200  -  train_rmse: 0.5181712083592435\n",
            "Epoch  128 / 200  -  train_rmse: 0.5150779371026368\n",
            "Epoch  129 / 200  -  train_rmse: 0.5119907299109456\n",
            "Epoch  130 / 200  -  train_rmse: 0.5089106142332402\n",
            "Epoch  131 / 200  -  train_rmse: 0.5058381980437612\n",
            "Epoch  132 / 200  -  train_rmse: 0.5027736927665789\n",
            "Epoch  133 / 200  -  train_rmse: 0.4997166678777414\n",
            "Epoch  134 / 200  -  train_rmse: 0.49666882257534495\n",
            "Epoch  135 / 200  -  train_rmse: 0.4936302139464925\n",
            "Epoch  136 / 200  -  train_rmse: 0.49060093208299\n",
            "Epoch  137 / 200  -  train_rmse: 0.48758079113542774\n",
            "Epoch  138 / 200  -  train_rmse: 0.4845711137320266\n",
            "Epoch  139 / 200  -  train_rmse: 0.4815713270748444\n",
            "Epoch  140 / 200  -  train_rmse: 0.4785828849780076\n",
            "Epoch  141 / 200  -  train_rmse: 0.4756053536723617\n",
            "Epoch  142 / 200  -  train_rmse: 0.47263903988430606\n",
            "Epoch  143 / 200  -  train_rmse: 0.4696850546802119\n",
            "Epoch  144 / 200  -  train_rmse: 0.46674177379163156\n",
            "Epoch  145 / 200  -  train_rmse: 0.463810911754191\n",
            "Epoch  146 / 200  -  train_rmse: 0.4608930209358538\n",
            "Epoch  147 / 200  -  train_rmse: 0.45798744786326273\n",
            "Epoch  148 / 200  -  train_rmse: 0.45509518356336703\n",
            "Epoch  149 / 200  -  train_rmse: 0.4522158474009809\n",
            "Epoch  150 / 200  -  train_rmse: 0.44934964167948094\n",
            "Epoch  151 / 200  -  train_rmse: 0.44649699274484195\n",
            "Epoch  152 / 200  -  train_rmse: 0.4436584343807131\n",
            "Epoch  153 / 200  -  train_rmse: 0.44083477212709504\n",
            "Epoch  154 / 200  -  train_rmse: 0.4380242425837343\n",
            "Epoch  155 / 200  -  train_rmse: 0.43522789972090004\n",
            "Epoch  156 / 200  -  train_rmse: 0.4324469433657338\n",
            "Epoch  157 / 200  -  train_rmse: 0.4296799834120133\n",
            "Epoch  158 / 200  -  train_rmse: 0.42692839149541406\n",
            "Epoch  159 / 200  -  train_rmse: 0.42419107342780976\n",
            "Epoch  160 / 200  -  train_rmse: 0.4214690506028668\n",
            "Epoch  161 / 200  -  train_rmse: 0.41876255659806694\n",
            "Epoch  162 / 200  -  train_rmse: 0.4160711680787866\n",
            "Epoch  163 / 200  -  train_rmse: 0.41339527516460695\n",
            "Epoch  164 / 200  -  train_rmse: 0.4107349870696297\n",
            "Epoch  165 / 200  -  train_rmse: 0.40809005343513766\n",
            "Epoch  166 / 200  -  train_rmse: 0.40546053120923675\n",
            "Epoch  167 / 200  -  train_rmse: 0.4028472671702429\n",
            "Epoch  168 / 200  -  train_rmse: 0.4002492107020136\n",
            "Epoch  169 / 200  -  train_rmse: 0.39766740365404785\n",
            "Epoch  170 / 200  -  train_rmse: 0.39510155850224227\n",
            "Epoch  171 / 200  -  train_rmse: 0.39255250885134635\n",
            "Epoch  172 / 200  -  train_rmse: 0.39001947367680473\n",
            "Epoch  173 / 200  -  train_rmse: 0.3875022322673888\n",
            "Epoch  174 / 200  -  train_rmse: 0.38500090047010993\n",
            "Epoch  175 / 200  -  train_rmse: 0.3825158776862942\n",
            "Epoch  176 / 200  -  train_rmse: 0.38004787411477153\n",
            "Epoch  177 / 200  -  train_rmse: 0.3775949465714144\n",
            "Epoch  178 / 200  -  train_rmse: 0.3751589334953545\n",
            "Epoch  179 / 200  -  train_rmse: 0.3727392538745627\n",
            "Epoch  180 / 200  -  train_rmse: 0.37033534501438925\n",
            "Epoch  181 / 200  -  train_rmse: 0.36794811649859815\n",
            "Epoch  182 / 200  -  train_rmse: 0.3655766633869096\n",
            "Epoch  183 / 200  -  train_rmse: 0.3632216944864996\n",
            "Epoch  184 / 200  -  train_rmse: 0.3608835998392606\n",
            "Epoch  185 / 200  -  train_rmse: 0.35856111953458775\n",
            "Epoch  186 / 200  -  train_rmse: 0.3562546612280342\n",
            "Epoch  187 / 200  -  train_rmse: 0.3539648849039128\n",
            "Epoch  188 / 200  -  train_rmse: 0.3516911914376926\n",
            "Epoch  189 / 200  -  train_rmse: 0.3494336476675786\n",
            "Epoch  190 / 200  -  train_rmse: 0.34719198513071015\n",
            "Epoch  191 / 200  -  train_rmse: 0.34496653047291903\n",
            "Epoch  192 / 200  -  train_rmse: 0.3427572462289727\n",
            "Epoch  193 / 200  -  train_rmse: 0.34056395142853974\n",
            "Epoch  194 / 200  -  train_rmse: 0.33838659091902656\n",
            "Epoch  195 / 200  -  train_rmse: 0.3362250425588211\n",
            "Epoch  196 / 200  -  train_rmse: 0.3340788465703144\n",
            "Epoch  197 / 200  -  train_rmse: 0.3319486595814021\n",
            "Epoch  198 / 200  -  train_rmse: 0.32983457144430867\n",
            "Epoch  199 / 200  -  train_rmse: 0.32773599361057487\n",
            "Epoch  200 / 200  -  train_rmse: 0.32565296006408134\n"
          ],
          "name": "stdout"
        },
        {
          "output_type": "execute_result",
          "data": {
            "text/plain": [
              "KernelMF(gamma=0.01, lr=0.001, n_epochs=200, reg=0.005)"
            ]
          },
          "metadata": {
            "tags": []
          },
          "execution_count": 33
        }
      ]
    },
    {
      "cell_type": "code",
      "metadata": {
        "colab": {
          "base_uri": "https://localhost:8080/"
        },
        "id": "2TBK0KFF4cOq",
        "outputId": "2e899a76-6552-4ddb-c927-2a61f56d019e"
      },
      "source": [
        "pred = matrix_fact.predict(X_test)\r\n",
        "# pred = [round(x) for x in pred]\r\n",
        "rmse = mean_squared_error(y_test, pred, squared=False)\r\n",
        "r2 = r2_score(y_test, pred)\r\n",
        "metrics_mf_50 = (rmse, r2)\r\n",
        "metrics_mf_50"
      ],
      "execution_count": 34,
      "outputs": [
        {
          "output_type": "execute_result",
          "data": {
            "text/plain": [
              "(0.8759059646560083, 0.2607238338671506)"
            ]
          },
          "metadata": {
            "tags": []
          },
          "execution_count": 34
        }
      ]
    },
    {
      "cell_type": "markdown",
      "metadata": {
        "id": "YFivJLw64c7e"
      },
      "source": [
        "### SVD"
      ]
    },
    {
      "cell_type": "code",
      "metadata": {
        "id": "ojPHDAOe4gWf"
      },
      "source": [
        "df_train =  pd.concat([X_train, y_train], axis=1)"
      ],
      "execution_count": 35,
      "outputs": []
    },
    {
      "cell_type": "code",
      "metadata": {
        "id": "Oo5ZFsFS4gWh"
      },
      "source": [
        "reader = Reader()\r\n",
        "data = Dataset.load_from_df(df_train[['user_id', 'item_id', 'rating']], reader)"
      ],
      "execution_count": 36,
      "outputs": []
    },
    {
      "cell_type": "code",
      "metadata": {
        "colab": {
          "base_uri": "https://localhost:8080/"
        },
        "id": "tDlbxw5i4gWi",
        "outputId": "97a83d2c-af5b-4aa0-b050-9f72be11e34d"
      },
      "source": [
        "svd = SVD()\r\n",
        "cross_validate(svd, data, measures=['RMSE','MAE'])"
      ],
      "execution_count": 37,
      "outputs": [
        {
          "output_type": "execute_result",
          "data": {
            "text/plain": [
              "{'fit_time': (0.7501652240753174,\n",
              "  0.7396395206451416,\n",
              "  0.7526743412017822,\n",
              "  0.739271879196167,\n",
              "  0.7426507472991943),\n",
              " 'test_mae': array([0.66316547, 0.64735975, 0.66406549, 0.66815602, 0.67214552]),\n",
              " 'test_rmse': array([0.84915254, 0.8350642 , 0.86350757, 0.86175243, 0.87772264]),\n",
              " 'test_time': (0.020007848739624023,\n",
              "  0.019824981689453125,\n",
              "  0.02038264274597168,\n",
              "  0.020375728607177734,\n",
              "  0.020493268966674805)}"
            ]
          },
          "metadata": {
            "tags": []
          },
          "execution_count": 37
        }
      ]
    },
    {
      "cell_type": "code",
      "metadata": {
        "colab": {
          "base_uri": "https://localhost:8080/"
        },
        "id": "aHxFI7uN4gWj",
        "outputId": "199d6393-b4f1-4fe9-d2eb-1ef0d61d4645"
      },
      "source": [
        "trainset = data.build_full_trainset()\r\n",
        "svd.fit(trainset)"
      ],
      "execution_count": 38,
      "outputs": [
        {
          "output_type": "execute_result",
          "data": {
            "text/plain": [
              "<surprise.prediction_algorithms.matrix_factorization.SVD at 0x7f7adec227f0>"
            ]
          },
          "metadata": {
            "tags": []
          },
          "execution_count": 38
        }
      ]
    },
    {
      "cell_type": "code",
      "metadata": {
        "colab": {
          "base_uri": "https://localhost:8080/"
        },
        "id": "rGa9kk4c4gWl",
        "outputId": "0dbce5cb-7ea6-477f-a997-26cf738363e4"
      },
      "source": [
        "y_pred = []\r\n",
        "for line in range(len(X_test)):\r\n",
        "  y_pred.append(svd.predict(X_test.iloc[line,0],X_test.iloc[line,1],3)[3])\r\n",
        "rmse = mean_squared_error(y_test, y_pred, squared=False)\r\n",
        "r2 = r2_score(y_test, y_pred)\r\n",
        "metrics_svd_50 = (rmse, r2)\r\n",
        "metrics_svd_50"
      ],
      "execution_count": 39,
      "outputs": [
        {
          "output_type": "execute_result",
          "data": {
            "text/plain": [
              "(0.8509081934112404, 0.3023185943410709)"
            ]
          },
          "metadata": {
            "tags": []
          },
          "execution_count": 39
        }
      ]
    },
    {
      "cell_type": "markdown",
      "metadata": {
        "id": "34BCxZxAqR5W"
      },
      "source": [
        "## Min 20 ratings\r\n",
        "### Matrix factorization"
      ]
    },
    {
      "cell_type": "code",
      "metadata": {
        "id": "nrV1osQGqQ0x"
      },
      "source": [
        "df_20 = df[df['count']>20]\r\n",
        "X = df_20[['user_id','item_id']]\r\n",
        "y = df_20['rating']\r\n",
        "\r\n",
        "X_train, X_test, y_train, y_test = train_test_split(X, y, test_size=0.20, \\\r\n",
        "                                                    random_state=1000, \\\r\n",
        "                                    stratify = df_20['user_id'])"
      ],
      "execution_count": 40,
      "outputs": []
    },
    {
      "cell_type": "code",
      "metadata": {
        "id": "edLKGCjUqQ1Y",
        "colab": {
          "base_uri": "https://localhost:8080/"
        },
        "outputId": "54b64a0a-398f-4834-da0a-e6811e7be437"
      },
      "source": [
        "matrix_fact = KernelMF(n_epochs=200, n_factors=100, lr=0.001, reg=0.005)\r\n",
        "matrix_fact.fit(X_train, y_train)"
      ],
      "execution_count": 41,
      "outputs": [
        {
          "output_type": "stream",
          "text": [
            "Epoch  1 / 200  -  train_rmse: 1.0097755195477756\n",
            "Epoch  2 / 200  -  train_rmse: 0.9862413096100611\n",
            "Epoch  3 / 200  -  train_rmse: 0.9674694098785414\n",
            "Epoch  4 / 200  -  train_rmse: 0.9519156649258809\n",
            "Epoch  5 / 200  -  train_rmse: 0.9386754906740331\n",
            "Epoch  6 / 200  -  train_rmse: 0.927206072877405\n",
            "Epoch  7 / 200  -  train_rmse: 0.9171115732223618\n",
            "Epoch  8 / 200  -  train_rmse: 0.9081091443359877\n",
            "Epoch  9 / 200  -  train_rmse: 0.8999966448948569\n",
            "Epoch  10 / 200  -  train_rmse: 0.8926232546619011\n",
            "Epoch  11 / 200  -  train_rmse: 0.8858628738870152\n",
            "Epoch  12 / 200  -  train_rmse: 0.8796216498645244\n",
            "Epoch  13 / 200  -  train_rmse: 0.8738168405116647\n",
            "Epoch  14 / 200  -  train_rmse: 0.868382315918251\n",
            "Epoch  15 / 200  -  train_rmse: 0.8632722242112818\n",
            "Epoch  16 / 200  -  train_rmse: 0.8584417389624883\n",
            "Epoch  17 / 200  -  train_rmse: 0.8538610678909516\n",
            "Epoch  18 / 200  -  train_rmse: 0.8494952981515524\n",
            "Epoch  19 / 200  -  train_rmse: 0.8453208724087588\n",
            "Epoch  20 / 200  -  train_rmse: 0.8413157224959079\n",
            "Epoch  21 / 200  -  train_rmse: 0.8374610129776832\n",
            "Epoch  22 / 200  -  train_rmse: 0.8337443069300611\n",
            "Epoch  23 / 200  -  train_rmse: 0.8301467668195399\n",
            "Epoch  24 / 200  -  train_rmse: 0.8266608813438994\n",
            "Epoch  25 / 200  -  train_rmse: 0.8232753741233925\n",
            "Epoch  26 / 200  -  train_rmse: 0.8199783844043884\n",
            "Epoch  27 / 200  -  train_rmse: 0.816763202112961\n",
            "Epoch  28 / 200  -  train_rmse: 0.8136213434633432\n",
            "Epoch  29 / 200  -  train_rmse: 0.8105474386734843\n",
            "Epoch  30 / 200  -  train_rmse: 0.8075342374788979\n",
            "Epoch  31 / 200  -  train_rmse: 0.8045767066831162\n",
            "Epoch  32 / 200  -  train_rmse: 0.8016696977309096\n",
            "Epoch  33 / 200  -  train_rmse: 0.7988078844579046\n",
            "Epoch  34 / 200  -  train_rmse: 0.7959883154916785\n",
            "Epoch  35 / 200  -  train_rmse: 0.7932056353489868\n",
            "Epoch  36 / 200  -  train_rmse: 0.7904577844005573\n",
            "Epoch  37 / 200  -  train_rmse: 0.7877408527913833\n",
            "Epoch  38 / 200  -  train_rmse: 0.7850517051046177\n",
            "Epoch  39 / 200  -  train_rmse: 0.7823874972359045\n",
            "Epoch  40 / 200  -  train_rmse: 0.7797454473129006\n",
            "Epoch  41 / 200  -  train_rmse: 0.7771233262029978\n",
            "Epoch  42 / 200  -  train_rmse: 0.7745202289958354\n",
            "Epoch  43 / 200  -  train_rmse: 0.7719308093543735\n",
            "Epoch  44 / 200  -  train_rmse: 0.7693564656062228\n",
            "Epoch  45 / 200  -  train_rmse: 0.7667936142015317\n",
            "Epoch  46 / 200  -  train_rmse: 0.7642392410959497\n",
            "Epoch  47 / 200  -  train_rmse: 0.7616938081150173\n",
            "Epoch  48 / 200  -  train_rmse: 0.7591554332124325\n",
            "Epoch  49 / 200  -  train_rmse: 0.7566226694433139\n",
            "Epoch  50 / 200  -  train_rmse: 0.7540938319490026\n",
            "Epoch  51 / 200  -  train_rmse: 0.7515678877632705\n",
            "Epoch  52 / 200  -  train_rmse: 0.7490429831186647\n",
            "Epoch  53 / 200  -  train_rmse: 0.7465186437475749\n",
            "Epoch  54 / 200  -  train_rmse: 0.7439940138366449\n",
            "Epoch  55 / 200  -  train_rmse: 0.7414671082086278\n",
            "Epoch  56 / 200  -  train_rmse: 0.7389378597612222\n",
            "Epoch  57 / 200  -  train_rmse: 0.7364043622466354\n",
            "Epoch  58 / 200  -  train_rmse: 0.733866277868765\n",
            "Epoch  59 / 200  -  train_rmse: 0.7313233173505974\n",
            "Epoch  60 / 200  -  train_rmse: 0.7287746083031974\n",
            "Epoch  61 / 200  -  train_rmse: 0.7262197713925657\n",
            "Epoch  62 / 200  -  train_rmse: 0.7236574663268963\n",
            "Epoch  63 / 200  -  train_rmse: 0.7210870326669133\n",
            "Epoch  64 / 200  -  train_rmse: 0.718508428180282\n",
            "Epoch  65 / 200  -  train_rmse: 0.7159213055559096\n",
            "Epoch  66 / 200  -  train_rmse: 0.7133241104572998\n",
            "Epoch  67 / 200  -  train_rmse: 0.7107178904902499\n",
            "Epoch  68 / 200  -  train_rmse: 0.7081009991099338\n",
            "Epoch  69 / 200  -  train_rmse: 0.7054738683830939\n",
            "Epoch  70 / 200  -  train_rmse: 0.7028355593954405\n",
            "Epoch  71 / 200  -  train_rmse: 0.7001862644646225\n",
            "Epoch  72 / 200  -  train_rmse: 0.697525778726731\n",
            "Epoch  73 / 200  -  train_rmse: 0.6948531561847594\n",
            "Epoch  74 / 200  -  train_rmse: 0.6921693007252695\n",
            "Epoch  75 / 200  -  train_rmse: 0.689472900537153\n",
            "Epoch  76 / 200  -  train_rmse: 0.686764617797497\n",
            "Epoch  77 / 200  -  train_rmse: 0.6840447688234783\n",
            "Epoch  78 / 200  -  train_rmse: 0.6813118236241683\n",
            "Epoch  79 / 200  -  train_rmse: 0.6785672751160289\n",
            "Epoch  80 / 200  -  train_rmse: 0.6758083252104143\n",
            "Epoch  81 / 200  -  train_rmse: 0.6730385227246191\n",
            "Epoch  82 / 200  -  train_rmse: 0.6702557742242565\n",
            "Epoch  83 / 200  -  train_rmse: 0.667461148169187\n",
            "Epoch  84 / 200  -  train_rmse: 0.6646543114565405\n",
            "Epoch  85 / 200  -  train_rmse: 0.6618357168414746\n",
            "Epoch  86 / 200  -  train_rmse: 0.6590053857719401\n",
            "Epoch  87 / 200  -  train_rmse: 0.6561622976012406\n",
            "Epoch  88 / 200  -  train_rmse: 0.6533080277905893\n",
            "Epoch  89 / 200  -  train_rmse: 0.6504424752731313\n",
            "Epoch  90 / 200  -  train_rmse: 0.64756570203958\n",
            "Epoch  91 / 200  -  train_rmse: 0.6446782305726704\n",
            "Epoch  92 / 200  -  train_rmse: 0.6417798394817184\n",
            "Epoch  93 / 200  -  train_rmse: 0.6388709268393773\n",
            "Epoch  94 / 200  -  train_rmse: 0.6359516270551006\n",
            "Epoch  95 / 200  -  train_rmse: 0.6330226305356369\n",
            "Epoch  96 / 200  -  train_rmse: 0.6300843899199607\n",
            "Epoch  97 / 200  -  train_rmse: 0.6271369836636317\n",
            "Epoch  98 / 200  -  train_rmse: 0.6241814703114403\n",
            "Epoch  99 / 200  -  train_rmse: 0.6212171800050665\n",
            "Epoch  100 / 200  -  train_rmse: 0.6182438476596911\n",
            "Epoch  101 / 200  -  train_rmse: 0.6152627239599655\n",
            "Epoch  102 / 200  -  train_rmse: 0.6122747946894063\n",
            "Epoch  103 / 200  -  train_rmse: 0.6092801452477854\n",
            "Epoch  104 / 200  -  train_rmse: 0.606279183371297\n",
            "Epoch  105 / 200  -  train_rmse: 0.6032718521375682\n",
            "Epoch  106 / 200  -  train_rmse: 0.6002590090185994\n",
            "Epoch  107 / 200  -  train_rmse: 0.5972411625520241\n",
            "Epoch  108 / 200  -  train_rmse: 0.5942190078286409\n",
            "Epoch  109 / 200  -  train_rmse: 0.5911922096106869\n",
            "Epoch  110 / 200  -  train_rmse: 0.5881620507864718\n",
            "Epoch  111 / 200  -  train_rmse: 0.5851278317569731\n",
            "Epoch  112 / 200  -  train_rmse: 0.5820906125966834\n",
            "Epoch  113 / 200  -  train_rmse: 0.5790515971102306\n",
            "Epoch  114 / 200  -  train_rmse: 0.5760108222819805\n",
            "Epoch  115 / 200  -  train_rmse: 0.5729680966727478\n",
            "Epoch  116 / 200  -  train_rmse: 0.5699242809934444\n",
            "Epoch  117 / 200  -  train_rmse: 0.5668805571006503\n",
            "Epoch  118 / 200  -  train_rmse: 0.5638363410087586\n",
            "Epoch  119 / 200  -  train_rmse: 0.560792832002916\n",
            "Epoch  120 / 200  -  train_rmse: 0.5577495908059564\n",
            "Epoch  121 / 200  -  train_rmse: 0.5547074192269543\n",
            "Epoch  122 / 200  -  train_rmse: 0.5516673003422092\n",
            "Epoch  123 / 200  -  train_rmse: 0.5486297778956158\n",
            "Epoch  124 / 200  -  train_rmse: 0.5455946592754344\n",
            "Epoch  125 / 200  -  train_rmse: 0.5425624627094605\n",
            "Epoch  126 / 200  -  train_rmse: 0.5395345360651599\n",
            "Epoch  127 / 200  -  train_rmse: 0.5365102179193931\n",
            "Epoch  128 / 200  -  train_rmse: 0.5334899655121899\n",
            "Epoch  129 / 200  -  train_rmse: 0.5304753896183959\n",
            "Epoch  130 / 200  -  train_rmse: 0.5274657590808003\n",
            "Epoch  131 / 200  -  train_rmse: 0.5244616925681882\n",
            "Epoch  132 / 200  -  train_rmse: 0.5214635358760059\n",
            "Epoch  133 / 200  -  train_rmse: 0.5184718935463735\n",
            "Epoch  134 / 200  -  train_rmse: 0.5154872145408527\n",
            "Epoch  135 / 200  -  train_rmse: 0.5125096443675335\n",
            "Epoch  136 / 200  -  train_rmse: 0.509540147276482\n",
            "Epoch  137 / 200  -  train_rmse: 0.5065783134841297\n",
            "Epoch  138 / 200  -  train_rmse: 0.5036238708025372\n",
            "Epoch  139 / 200  -  train_rmse: 0.5006788430214965\n",
            "Epoch  140 / 200  -  train_rmse: 0.4977429923039815\n",
            "Epoch  141 / 200  -  train_rmse: 0.49481597465763383\n",
            "Epoch  142 / 200  -  train_rmse: 0.4918985781159118\n",
            "Epoch  143 / 200  -  train_rmse: 0.4889910884868106\n",
            "Epoch  144 / 200  -  train_rmse: 0.48609425503123144\n",
            "Epoch  145 / 200  -  train_rmse: 0.4832073396771616\n",
            "Epoch  146 / 200  -  train_rmse: 0.4803312337735119\n",
            "Epoch  147 / 200  -  train_rmse: 0.47746640851029676\n",
            "Epoch  148 / 200  -  train_rmse: 0.474613044272184\n",
            "Epoch  149 / 200  -  train_rmse: 0.47177082270174925\n",
            "Epoch  150 / 200  -  train_rmse: 0.46894066963341896\n",
            "Epoch  151 / 200  -  train_rmse: 0.46612233341416315\n",
            "Epoch  152 / 200  -  train_rmse: 0.4633164219209666\n",
            "Epoch  153 / 200  -  train_rmse: 0.46052280810791674\n",
            "Epoch  154 / 200  -  train_rmse: 0.4577415252277641\n",
            "Epoch  155 / 200  -  train_rmse: 0.45497375348234675\n",
            "Epoch  156 / 200  -  train_rmse: 0.45221911411382926\n",
            "Epoch  157 / 200  -  train_rmse: 0.44947713314823073\n",
            "Epoch  158 / 200  -  train_rmse: 0.4467489370941469\n",
            "Epoch  159 / 200  -  train_rmse: 0.4440341612443316\n",
            "Epoch  160 / 200  -  train_rmse: 0.4413333062628011\n",
            "Epoch  161 / 200  -  train_rmse: 0.43864610888182515\n",
            "Epoch  162 / 200  -  train_rmse: 0.4359733898689624\n",
            "Epoch  163 / 200  -  train_rmse: 0.43331514942612565\n",
            "Epoch  164 / 200  -  train_rmse: 0.43067005929012503\n",
            "Epoch  165 / 200  -  train_rmse: 0.42804011340250697\n",
            "Epoch  166 / 200  -  train_rmse: 0.4254242622127562\n",
            "Epoch  167 / 200  -  train_rmse: 0.4228230731749107\n",
            "Epoch  168 / 200  -  train_rmse: 0.42023658168425343\n",
            "Epoch  169 / 200  -  train_rmse: 0.41766492122068644\n",
            "Epoch  170 / 200  -  train_rmse: 0.4151081168904973\n",
            "Epoch  171 / 200  -  train_rmse: 0.4125659436455388\n",
            "Epoch  172 / 200  -  train_rmse: 0.410039098444589\n",
            "Epoch  173 / 200  -  train_rmse: 0.40752704658670935\n",
            "Epoch  174 / 200  -  train_rmse: 0.40502992228427587\n",
            "Epoch  175 / 200  -  train_rmse: 0.4025484011445479\n",
            "Epoch  176 / 200  -  train_rmse: 0.40008156207044876\n",
            "Epoch  177 / 200  -  train_rmse: 0.3976304249948908\n",
            "Epoch  178 / 200  -  train_rmse: 0.39519451274722744\n",
            "Epoch  179 / 200  -  train_rmse: 0.39277373311022784\n",
            "Epoch  180 / 200  -  train_rmse: 0.3903684953966657\n",
            "Epoch  181 / 200  -  train_rmse: 0.3879784624023371\n",
            "Epoch  182 / 200  -  train_rmse: 0.3856040544835558\n",
            "Epoch  183 / 200  -  train_rmse: 0.3832449983468396\n",
            "Epoch  184 / 200  -  train_rmse: 0.38090043212388147\n",
            "Epoch  185 / 200  -  train_rmse: 0.3785718128386348\n",
            "Epoch  186 / 200  -  train_rmse: 0.37625828972579395\n",
            "Epoch  187 / 200  -  train_rmse: 0.373960438913386\n",
            "Epoch  188 / 200  -  train_rmse: 0.3716775401021341\n",
            "Epoch  189 / 200  -  train_rmse: 0.3694100938892138\n",
            "Epoch  190 / 200  -  train_rmse: 0.3671578298326763\n",
            "Epoch  191 / 200  -  train_rmse: 0.36492110645566717\n",
            "Epoch  192 / 200  -  train_rmse: 0.3626996317389465\n",
            "Epoch  193 / 200  -  train_rmse: 0.36049346933736887\n",
            "Epoch  194 / 200  -  train_rmse: 0.3583022865171836\n",
            "Epoch  195 / 200  -  train_rmse: 0.3561261930816678\n",
            "Epoch  196 / 200  -  train_rmse: 0.35396521274987003\n",
            "Epoch  197 / 200  -  train_rmse: 0.35181888524870386\n",
            "Epoch  198 / 200  -  train_rmse: 0.34968794695179733\n",
            "Epoch  199 / 200  -  train_rmse: 0.347572579435677\n",
            "Epoch  200 / 200  -  train_rmse: 0.3454714339967409\n"
          ],
          "name": "stdout"
        },
        {
          "output_type": "execute_result",
          "data": {
            "text/plain": [
              "KernelMF(gamma=0.01, lr=0.001, n_epochs=200, reg=0.005)"
            ]
          },
          "metadata": {
            "tags": []
          },
          "execution_count": 41
        }
      ]
    },
    {
      "cell_type": "code",
      "metadata": {
        "colab": {
          "base_uri": "https://localhost:8080/"
        },
        "id": "T0HKu_ilqQ1a",
        "outputId": "488e159f-9f0a-4e42-f066-bb38dd29c0f4"
      },
      "source": [
        "pred = matrix_fact.predict(X_test)\r\n",
        "# pred = [round(x) for x in pred]\r\n",
        "rmse = mean_squared_error(y_test, pred, squared=False)\r\n",
        "r2 = r2_score(y_test, pred)\r\n",
        "metrics_mf_20 = (rmse, r2)\r\n",
        "metrics_mf_20"
      ],
      "execution_count": 42,
      "outputs": [
        {
          "output_type": "execute_result",
          "data": {
            "text/plain": [
              "(0.8969691818247627, 0.24809833036344675)"
            ]
          },
          "metadata": {
            "tags": []
          },
          "execution_count": 42
        }
      ]
    },
    {
      "cell_type": "markdown",
      "metadata": {
        "id": "gkBpiwAYqWFo"
      },
      "source": [
        "### SVD"
      ]
    },
    {
      "cell_type": "code",
      "metadata": {
        "id": "n0y7jQDsqaan"
      },
      "source": [
        "df_train =  pd.concat([X_train, y_train], axis=1)"
      ],
      "execution_count": 43,
      "outputs": []
    },
    {
      "cell_type": "code",
      "metadata": {
        "id": "CUsELeNRqaap"
      },
      "source": [
        "reader = Reader()\r\n",
        "data = Dataset.load_from_df(df_train[['user_id', 'item_id', 'rating']], reader)"
      ],
      "execution_count": 44,
      "outputs": []
    },
    {
      "cell_type": "code",
      "metadata": {
        "colab": {
          "base_uri": "https://localhost:8080/"
        },
        "id": "WH9GKUhCqaaq",
        "outputId": "5fdb8e84-f154-4327-9fed-9198fa1f3bf0"
      },
      "source": [
        "svd = SVD()\r\n",
        "cross_validate(svd, data, measures=['RMSE','MAE'])"
      ],
      "execution_count": 45,
      "outputs": [
        {
          "output_type": "execute_result",
          "data": {
            "text/plain": [
              "{'fit_time': (0.9738905429840088,\n",
              "  0.9584827423095703,\n",
              "  0.9611325263977051,\n",
              "  0.9558393955230713,\n",
              "  0.9605276584625244),\n",
              " 'test_mae': array([0.67609544, 0.68735323, 0.67061926, 0.67464102, 0.67682541]),\n",
              " 'test_rmse': array([0.87373538, 0.88660735, 0.86201826, 0.87315558, 0.88176517]),\n",
              " 'test_time': (0.026323795318603516,\n",
              "  0.026943683624267578,\n",
              "  0.025992870330810547,\n",
              "  0.02635788917541504,\n",
              "  0.02594137191772461)}"
            ]
          },
          "metadata": {
            "tags": []
          },
          "execution_count": 45
        }
      ]
    },
    {
      "cell_type": "code",
      "metadata": {
        "colab": {
          "base_uri": "https://localhost:8080/"
        },
        "id": "9q0mmbE3qaas",
        "outputId": "2cdf1d8c-b1f1-4cb3-ad92-953756f7032c"
      },
      "source": [
        "trainset = data.build_full_trainset()\r\n",
        "svd.fit(trainset)"
      ],
      "execution_count": 46,
      "outputs": [
        {
          "output_type": "execute_result",
          "data": {
            "text/plain": [
              "<surprise.prediction_algorithms.matrix_factorization.SVD at 0x7f7adec1a550>"
            ]
          },
          "metadata": {
            "tags": []
          },
          "execution_count": 46
        }
      ]
    },
    {
      "cell_type": "code",
      "metadata": {
        "colab": {
          "base_uri": "https://localhost:8080/"
        },
        "id": "8VQB0FSKqaat",
        "outputId": "6621ce8d-e61c-4a4e-e2d7-b1eee6d122d3"
      },
      "source": [
        "y_pred = []\r\n",
        "for line in range(len(X_test)):\r\n",
        "  y_pred.append(svd.predict(X_test.iloc[line,0],X_test.iloc[line,1],3)[3])\r\n",
        "rmse = mean_squared_error(y_test, y_pred, squared=False)\r\n",
        "r2 = r2_score(y_test, y_pred)\r\n",
        "metrics_svd_20 = (rmse, r2)\r\n",
        "metrics_svd_20"
      ],
      "execution_count": 47,
      "outputs": [
        {
          "output_type": "execute_result",
          "data": {
            "text/plain": [
              "(0.8721512945324089, 0.2891308534765916)"
            ]
          },
          "metadata": {
            "tags": []
          },
          "execution_count": 47
        }
      ]
    },
    {
      "cell_type": "markdown",
      "metadata": {
        "id": "fN593cdO4xtO"
      },
      "source": [
        "## Model Selection"
      ]
    },
    {
      "cell_type": "code",
      "metadata": {
        "id": "QPS8eMyT4yRb"
      },
      "source": [
        "mins = [5,5,10,10,50,50,20,20]\r\n",
        "methods = [0,1,0,1,0,1,0,1]\r\n",
        "metrics = [metrics_mf_5,metrics_svd_5,metrics_mf_10, metrics_svd_10, metrics_mf_50, metrics_svd_50,metrics_mf_20, metrics_svd_20 ]\r\n",
        "rmses = []\r\n",
        "r2s = []\r\n",
        "for met in metrics:\r\n",
        "  rmses.append(met[0])\r\n",
        "  r2s.append(met[1])"
      ],
      "execution_count": 48,
      "outputs": []
    },
    {
      "cell_type": "code",
      "metadata": {
        "colab": {
          "base_uri": "https://localhost:8080/"
        },
        "id": "BniBHJ8a6SME",
        "outputId": "b7bdd549-a87f-476c-83da-de90c3bc975b"
      },
      "source": [
        "rmses"
      ],
      "execution_count": 49,
      "outputs": [
        {
          "output_type": "execute_result",
          "data": {
            "text/plain": [
              "[0.8874538602069754,\n",
              " 0.8681151628159886,\n",
              " 0.8950978955531211,\n",
              " 0.8720290051297501,\n",
              " 0.8759059646560083,\n",
              " 0.8509081934112404,\n",
              " 0.8969691818247627,\n",
              " 0.8721512945324089]"
            ]
          },
          "metadata": {
            "tags": []
          },
          "execution_count": 49
        }
      ]
    },
    {
      "cell_type": "code",
      "metadata": {
        "colab": {
          "base_uri": "https://localhost:8080/",
          "height": 286
        },
        "id": "gn-ZtyVv5vQJ",
        "outputId": "a9b454b1-e985-4b4e-e48d-78ed0ccdef8c"
      },
      "source": [
        "plt.scatter(x=rmses, y=r2s, s=mins, c=methods)\r\n",
        "plt.colorbar()"
      ],
      "execution_count": null,
      "outputs": [
        {
          "output_type": "execute_result",
          "data": {
            "text/plain": [
              "<matplotlib.colorbar.Colorbar at 0x7f42ebb1ec18>"
            ]
          },
          "metadata": {
            "tags": []
          },
          "execution_count": 80
        },
        {
          "output_type": "display_data",
          "data": {
            "image/png": "[encoded data removed]",
            "text/plain": [
              "<Figure size 432x288 with 2 Axes>"
            ]
          },
          "metadata": {
            "tags": [],
            "needs_background": "light"
          }
        }
      ]
    },
    {
      "cell_type": "markdown",
      "metadata": {
        "id": "KtWlFUnAsgwC"
      },
      "source": [
        "We want to maximize R2 and minimize RMSE. So we want the most left upper corner point!\r\n",
        "\r\n",
        "First, the SVD matrix factorization - yellow points- returns better metrics, we will use this package.\r\n",
        "\r\n",
        "Concerning the minimum of rating per users, limited users with more than 50 ratings is too much, we will lose to many data. Let use the SVD model with minimum number of 20 and try to tune its hyperparameters. \r\n",
        "\r\n",
        "Let know hypertune the parameters of this model."
      ]
    },
    {
      "cell_type": "markdown",
      "metadata": {
        "id": "4nlMr4uYswp3"
      },
      "source": [
        "## Hyperparameters of SVD with 20 min user ratings\r\n",
        "\r\n",
        "We will hypertune the number of factors, epochs and learning rate."
      ]
    },
    {
      "cell_type": "code",
      "metadata": {
        "id": "30JPbgbbtKJ4"
      },
      "source": [
        "df_20 = df[df['count']>20]\r\n",
        "\r\n",
        "df_train, df_test = train_test_split(df_20, test_size=0.20, \\\r\n",
        "                                                    random_state=1000, \\\r\n",
        "                                    stratify = df_20['user_id'])"
      ],
      "execution_count": 50,
      "outputs": []
    },
    {
      "cell_type": "code",
      "metadata": {
        "id": "YbYFvoz9thSP"
      },
      "source": [
        "factors = [100,200,500]\r\n",
        "epochs = [20,50,100]\r\n",
        "lr_all = [0.001,0.005,0.01]"
      ],
      "execution_count": 51,
      "outputs": []
    },
    {
      "cell_type": "code",
      "metadata": {
        "id": "5JfaqF45tWmY"
      },
      "source": [
        "reader = Reader()\r\n",
        "data = Dataset.load_from_df(df_train[['user_id', 'item_id', 'rating']], reader)\r\n",
        "rmse_20 = []\r\n",
        "r2_20 = []\r\n",
        "params = []\r\n",
        "for fac in factors:\r\n",
        "  for epoch in epochs:\r\n",
        "    for lr in lr_all:\r\n",
        "      svd = SVD(n_factors=fac, n_epochs=epoch, lr_all=lr)\r\n",
        "      cross_validate(svd, data, measures=['RMSE','MAE'])\r\n",
        "      trainset = data.build_full_trainset()\r\n",
        "      svd.fit(trainset)\r\n",
        "      y_pred = []\r\n",
        "      for line in range(len(df_test)):\r\n",
        "        y_pred.append(svd.predict(df_test.iloc[line,0],df_test.iloc[line,1],3)[3])\r\n",
        "      rmse_20.append(mean_squared_error(df_test['rating'], y_pred, squared=False))\r\n",
        "      r2_20.append(r2_score(df_test['rating'], y_pred))\r\n",
        "      params.append((fac,epoch,lr))\r\n",
        "\r\n"
      ],
      "execution_count": 52,
      "outputs": []
    },
    {
      "cell_type": "code",
      "metadata": {
        "colab": {
          "base_uri": "https://localhost:8080/"
        },
        "id": "-bvPoVrPyZGh",
        "outputId": "6d21945b-d507-4c3f-d61a-a86bd80755ed"
      },
      "source": [
        "np.argmin(rmse_20), np.argmax(r2_20), params[np.argmin(rmse_20)]"
      ],
      "execution_count": 53,
      "outputs": [
        {
          "output_type": "execute_result",
          "data": {
            "text/plain": [
              "(26, 26, (500, 100, 0.01))"
            ]
          },
          "metadata": {
            "tags": []
          },
          "execution_count": 53
        }
      ]
    },
    {
      "cell_type": "code",
      "metadata": {
        "colab": {
          "base_uri": "https://localhost:8080/",
          "height": 286
        },
        "id": "IxVnXNfNxAEE",
        "outputId": "81b80d2c-d216-4c6a-9df7-2eda60bf8d9f"
      },
      "source": [
        "factors_plt = [100,100,100,100,100,100,100,100,100,200,200,200,200,200,200,200,200,200,500,500,500,500,500,500,500,500,500]\r\n",
        "epochs_plt = [20,20,20,50,50,50,100,100,100,20,20,20,50,50,50,100,100,100,20,20,20,50,50,50,100,100,100]\r\n",
        "marker_plt = ['o','o','o','o','o','o','o','o','o','+','+','+','+','+','+','+','+','+','s','s','s','s','s','s','s','s','s']\r\n",
        "for _m, c, _s, _x, _y in zip(marker_plt, epochs_plt, factors_plt, rmse_20, r2_20):\r\n",
        "    plt.scatter(_x, _y, marker=_m, c=c, s=_s)\r\n",
        "# plt.scatter(x=rmse_20, y=r2_20, s=factors_plt, c=epochs_plt, marker=marker_plt)\r\n",
        "plt.colorbar()"
      ],
      "execution_count": 54,
      "outputs": [
        {
          "output_type": "execute_result",
          "data": {
            "text/plain": [
              "<matplotlib.colorbar.Colorbar at 0x7f7adeb0c6a0>"
            ]
          },
          "metadata": {
            "tags": []
          },
          "execution_count": 54
        },
        {
          "output_type": "display_data",
          "data": {
            "image/png": "[encoded data removed]",
            "text/plain": [
              "<Figure size 432x288 with 2 Axes>"
            ]
          },
          "metadata": {
            "tags": [],
            "needs_background": "light"
          }
        }
      ]
    },
    {
      "cell_type": "markdown",
      "metadata": {
        "id": "iuUoeD5kzyz9"
      },
      "source": [
        "Again, we want to most left upper point. The best option is the default one: n_factors=500, epochs=100 and learning rate=0.01"
      ]
    },
    {
      "cell_type": "markdown",
      "metadata": {
        "id": "vRuqt6Qj3Yi0"
      },
      "source": [
        "## Get 10 best reco"
      ]
    },
    {
      "cell_type": "code",
      "metadata": {
        "colab": {
          "base_uri": "https://localhost:8080/"
        },
        "id": "_m9GFWBI_lE5",
        "outputId": "2377e0be-4028-46a3-aafb-44430d6a0e89"
      },
      "source": [
        "df_20 = df[df['count']>20]\r\n",
        "\r\n",
        "df_train, df_test = train_test_split(df_20, test_size=0.20, \\\r\n",
        "                                                    random_state=1000, \\\r\n",
        "                                    stratify = df_20['user_id'])\r\n",
        "\r\n",
        "reader = Reader()\r\n",
        "data = Dataset.load_from_df(df_train[['user_id', 'item_id', 'rating']], reader)\r\n",
        "svd = SVD(n_factors=500, n_epochs=100, lr_all=0.01)\r\n",
        "cross_validate(svd, data, measures=['RMSE','MAE'])\r\n",
        "trainset = data.build_full_trainset()\r\n",
        "svd.fit(trainset)"
      ],
      "execution_count": 67,
      "outputs": [
        {
          "output_type": "execute_result",
          "data": {
            "text/plain": [
              "<surprise.prediction_algorithms.matrix_factorization.SVD at 0x7f7adee3cf60>"
            ]
          },
          "metadata": {
            "tags": []
          },
          "execution_count": 67
        }
      ]
    },
    {
      "cell_type": "code",
      "metadata": {
        "id": "DBbDnM1K-hzN"
      },
      "source": [
        "def get_10(user_id, top_n=10):\r\n",
        "  movies_id = df_20['item_id'].unique().tolist()\r\n",
        "  movie_rates = [(id, svd.predict(user_id, id)[3]) for id in movies_id]#\r\n",
        "  movie_rates = sorted(movie_rates, key=lambda x:x[1], reverse=True)\r\n",
        "  return dict(movie_rates[:top_n])\r\n",
        "\r\n"
      ],
      "execution_count": 80,
      "outputs": []
    },
    {
      "cell_type": "code",
      "metadata": {
        "id": "Jhky0nckoH_G",
        "colab": {
          "base_uri": "https://localhost:8080/"
        },
        "outputId": "de3de7dd-76c6-4961-f383-a8f24c74a682"
      },
      "source": [
        "get_10(1)"
      ],
      "execution_count": 81,
      "outputs": [
        {
          "output_type": "execute_result",
          "data": {
            "text/plain": [
              "{475: 5,\n",
              " 745: 5,\n",
              " 750: 4.991575260118308,\n",
              " 923: 5,\n",
              " 924: 4.998327374974078,\n",
              " 1250: 4.983823533247983,\n",
              " 1278: 5,\n",
              " 2067: 5,\n",
              " 2502: 5,\n",
              " 8874: 5}"
            ]
          },
          "metadata": {
            "tags": []
          },
          "execution_count": 81
        }
      ]
    }
  ]
}