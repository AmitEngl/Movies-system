{
  "nbformat": 4,
  "nbformat_minor": 0,
  "metadata": {
    "colab": {
      "name": "Collaborative_system.ipynb",
      "provenance": [],
      "collapsed_sections": [],
      "authorship_tag": "ABX9TyMkjagAe6tn5B5LO1C8E0mx",
      "include_colab_link": true
    },
    "kernelspec": {
      "name": "python3",
      "display_name": "Python 3"
    }
  },
  "cells": [
    {
      "cell_type": "markdown",
      "metadata": {
        "id": "view-in-github",
        "colab_type": "text"
      },
      "source": [
        "<a href=\"https://colab.research.google.com/github/OhadHayoun/Movies-system/blob/master/Collaborative_system.ipynb\" target=\"_parent\"><img src=\"https://colab.research.google.com/assets/colab-badge.svg\" alt=\"Open In Colab\"/></a>"
      ]
    },
    {
      "cell_type": "code",
      "metadata": {
        "colab": {
          "base_uri": "https://localhost:8080/"
        },
        "id": "leI_2RBidHXQ",
        "outputId": "a9ad3d9a-aebd-410c-cdd0-d1909d5a4770"
      },
      "source": [
        "! pip install surprise"
      ],
      "execution_count": 1,
      "outputs": [
        {
          "output_type": "stream",
          "text": [
            "Collecting surprise\n",
            "  Downloading https://files.pythonhosted.org/packages/61/de/e5cba8682201fcf9c3719a6fdda95693468ed061945493dea2dd37c5618b/surprise-0.1-py2.py3-none-any.whl\n",
            "Collecting scikit-surprise\n",
            "\u001b[?25l  Downloading https://files.pythonhosted.org/packages/97/37/5d334adaf5ddd65da99fc65f6507e0e4599d092ba048f4302fe8775619e8/scikit-surprise-1.1.1.tar.gz (11.8MB)\n",
            "\u001b[K     |████████████████████████████████| 11.8MB 5.9MB/s \n",
            "\u001b[?25hRequirement already satisfied: joblib>=0.11 in /usr/local/lib/python3.6/dist-packages (from scikit-surprise->surprise) (1.0.0)\n",
            "Requirement already satisfied: numpy>=1.11.2 in /usr/local/lib/python3.6/dist-packages (from scikit-surprise->surprise) (1.19.5)\n",
            "Requirement already satisfied: scipy>=1.0.0 in /usr/local/lib/python3.6/dist-packages (from scikit-surprise->surprise) (1.4.1)\n",
            "Requirement already satisfied: six>=1.10.0 in /usr/local/lib/python3.6/dist-packages (from scikit-surprise->surprise) (1.15.0)\n",
            "Building wheels for collected packages: scikit-surprise\n",
            "  Building wheel for scikit-surprise (setup.py) ... \u001b[?25l\u001b[?25hdone\n",
            "  Created wheel for scikit-surprise: filename=scikit_surprise-1.1.1-cp36-cp36m-linux_x86_64.whl size=1618246 sha256=6aa6355d19aa42f5ef16dae823c103539cf6f838d95eb4d37973dd7bd496a585\n",
            "  Stored in directory: /root/.cache/pip/wheels/78/9c/3d/41b419c9d2aff5b6e2b4c0fc8d25c538202834058f9ed110d0\n",
            "Successfully built scikit-surprise\n",
            "Installing collected packages: scikit-surprise, surprise\n",
            "Successfully installed scikit-surprise-1.1.1 surprise-0.1\n"
          ],
          "name": "stdout"
        }
      ]
    },
    {
      "cell_type": "code",
      "metadata": {
        "colab": {
          "base_uri": "https://localhost:8080/"
        },
        "id": "q8QScAKCM9-N",
        "outputId": "d65c8f2e-37a6-4ebb-fc0e-6d4fbf89dd45"
      },
      "source": [
        "! pip install matrix_factorization"
      ],
      "execution_count": 2,
      "outputs": [
        {
          "output_type": "stream",
          "text": [
            "Collecting matrix_factorization\n",
            "  Downloading https://files.pythonhosted.org/packages/89/12/57f3ef3485604d12353d1bb921387d2d9063f78f9d96d9abe06312c58f98/matrix_factorization-1.3.tar.gz\n",
            "Requirement already satisfied: numba>=0.49.1 in /usr/local/lib/python3.6/dist-packages (from matrix_factorization) (0.51.2)\n",
            "Requirement already satisfied: numpy>=1.18.5 in /usr/local/lib/python3.6/dist-packages (from matrix_factorization) (1.19.5)\n",
            "Requirement already satisfied: pandas>=1.0.4 in /usr/local/lib/python3.6/dist-packages (from matrix_factorization) (1.1.5)\n",
            "Collecting scikit-learn>=0.23.1\n",
            "\u001b[?25l  Downloading https://files.pythonhosted.org/packages/e2/4c/6111b9a325f29527d7f262e2ee8c730d354b47a728d955e186dacad57a0d/scikit_learn-0.24.1-cp36-cp36m-manylinux2010_x86_64.whl (22.2MB)\n",
            "\u001b[K     |████████████████████████████████| 22.2MB 1.6MB/s \n",
            "\u001b[?25hRequirement already satisfied: scipy>=1.4.1 in /usr/local/lib/python3.6/dist-packages (from matrix_factorization) (1.4.1)\n",
            "Requirement already satisfied: setuptools in /usr/local/lib/python3.6/dist-packages (from numba>=0.49.1->matrix_factorization) (53.0.0)\n",
            "Requirement already satisfied: llvmlite<0.35,>=0.34.0.dev0 in /usr/local/lib/python3.6/dist-packages (from numba>=0.49.1->matrix_factorization) (0.34.0)\n",
            "Requirement already satisfied: python-dateutil>=2.7.3 in /usr/local/lib/python3.6/dist-packages (from pandas>=1.0.4->matrix_factorization) (2.8.1)\n",
            "Requirement already satisfied: pytz>=2017.2 in /usr/local/lib/python3.6/dist-packages (from pandas>=1.0.4->matrix_factorization) (2018.9)\n",
            "Requirement already satisfied: joblib>=0.11 in /usr/local/lib/python3.6/dist-packages (from scikit-learn>=0.23.1->matrix_factorization) (1.0.0)\n",
            "Collecting threadpoolctl>=2.0.0\n",
            "  Downloading https://files.pythonhosted.org/packages/f7/12/ec3f2e203afa394a149911729357aa48affc59c20e2c1c8297a60f33f133/threadpoolctl-2.1.0-py3-none-any.whl\n",
            "Requirement already satisfied: six>=1.5 in /usr/local/lib/python3.6/dist-packages (from python-dateutil>=2.7.3->pandas>=1.0.4->matrix_factorization) (1.15.0)\n",
            "Building wheels for collected packages: matrix-factorization\n",
            "  Building wheel for matrix-factorization (setup.py) ... \u001b[?25l\u001b[?25hdone\n",
            "  Created wheel for matrix-factorization: filename=matrix_factorization-1.3-cp36-none-any.whl size=16468 sha256=ad0432373ef2ef42fdfd970d884b58777a64aeff6a1837467b4324c205b732fe\n",
            "  Stored in directory: /root/.cache/pip/wheels/db/ef/99/19df32b6eb88678b0e3a42d2e24955e7753b2de44615111bad\n",
            "Successfully built matrix-factorization\n",
            "Installing collected packages: threadpoolctl, scikit-learn, matrix-factorization\n",
            "  Found existing installation: scikit-learn 0.22.2.post1\n",
            "    Uninstalling scikit-learn-0.22.2.post1:\n",
            "      Successfully uninstalled scikit-learn-0.22.2.post1\n",
            "Successfully installed matrix-factorization-1.3 scikit-learn-0.24.1 threadpoolctl-2.1.0\n"
          ],
          "name": "stdout"
        }
      ]
    },
    {
      "cell_type": "code",
      "metadata": {
        "id": "mQMo8hx_dF0z"
      },
      "source": [
        "import pandas as pd\r\n",
        "import numpy as np\r\n",
        "from sklearn.model_selection import train_test_split\r\n",
        "from sklearn.metrics import mean_squared_error\r\n",
        "from sklearn.metrics import r2_score\r\n",
        "from surprise import Reader, SVD, Dataset\r\n",
        "from surprise.model_selection.validation import cross_validate\r\n",
        "from matrix_factorization import KernelMF\r\n",
        "from sklearn.model_selection import train_test_split\r\n",
        "import matplotlib.pyplot as plt"
      ],
      "execution_count": 3,
      "outputs": []
    },
    {
      "cell_type": "code",
      "metadata": {
        "colab": {
          "resources": {
            "http://localhost:8080/nbextensions/google.colab/files.js": {
              "data": "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",
              "ok": true,
              "headers": [
                [
                  "content-type",
                  "application/javascript"
                ]
              ],
              "status": 200,
              "status_text": ""
            }
          },
          "base_uri": "https://localhost:8080/",
          "height": 106
        },
        "id": "sdxXSeNhdqZ8",
        "outputId": "ed880581-f31e-4570-a5bd-28271e2dedd4"
      },
      "source": [
        "from google.colab import files\r\n",
        "\r\n",
        "uploaded = files.upload()"
      ],
      "execution_count": 4,
      "outputs": [
        {
          "output_type": "display_data",
          "data": {
            "text/html": [
              "\n",
              "     <input type=\"file\" id=\"files-0545fb34-e96f-4455-822c-b154e859c4fc\" name=\"files[]\" multiple disabled\n",
              "        style=\"border:none\" />\n",
              "     <output id=\"result-0545fb34-e96f-4455-822c-b154e859c4fc\">\n",
              "      Upload widget is only available when the cell has been executed in the\n",
              "      current browser session. Please rerun this cell to enable.\n",
              "      </output>\n",
              "      <script src=\"/nbextensions/google.colab/files.js\"></script> "
            ],
            "text/plain": [
              "<IPython.core.display.HTML object>"
            ]
          },
          "metadata": {
            "tags": []
          }
        },
        {
          "output_type": "stream",
          "text": [
            "Saving cleaned_movies.csv to cleaned_movies.csv\n",
            "Saving ratings.csv to ratings.csv\n"
          ],
          "name": "stdout"
        }
      ]
    },
    {
      "cell_type": "markdown",
      "metadata": {
        "id": "1oytuyov36Kq"
      },
      "source": [
        "# EDA and preprocessing\r\n",
        "\r\n",
        "Preprocessing of the movie dataframe has been done in an other notebook. We downloaded here the final dataframe. We will keep rating only for movies that are in the cleaned dataframe. \r\n",
        "\r\n",
        "The number of ratings per user can vary a lot. However it can be very challenging to predict mivie ratings for users with few ratings. That why we will run our model with different minimum of rating per user and see the impacts on the metrics.\r\n",
        "\r\n",
        "First let do a little EDA on the rating dataframe."
      ]
    },
    {
      "cell_type": "code",
      "metadata": {
        "id": "DyfMOtkshnou"
      },
      "source": [
        "movies_df = pd.read_csv('cleaned_movies.csv')\r\n",
        "ratings_df = pd.read_csv('ratings.csv')"
      ],
      "execution_count": 5,
      "outputs": []
    },
    {
      "cell_type": "code",
      "metadata": {
        "colab": {
          "base_uri": "https://localhost:8080/",
          "height": 631
        },
        "id": "_o4Jf7LViBql",
        "outputId": "ce673297-c528-4690-8477-74cb13907833"
      },
      "source": [
        "movies_df.head(10)"
      ],
      "execution_count": 6,
      "outputs": [
        {
          "output_type": "execute_result",
          "data": {
            "text/html": [
              "<div>\n",
              "<style scoped>\n",
              "    .dataframe tbody tr th:only-of-type {\n",
              "        vertical-align: middle;\n",
              "    }\n",
              "\n",
              "    .dataframe tbody tr th {\n",
              "        vertical-align: top;\n",
              "    }\n",
              "\n",
              "    .dataframe thead th {\n",
              "        text-align: right;\n",
              "    }\n",
              "</style>\n",
              "<table border=\"1\" class=\"dataframe\">\n",
              "  <thead>\n",
              "    <tr style=\"text-align: right;\">\n",
              "      <th></th>\n",
              "      <th>Unnamed: 0</th>\n",
              "      <th>budget</th>\n",
              "      <th>genres</th>\n",
              "      <th>id</th>\n",
              "      <th>imdb_id</th>\n",
              "      <th>original_title</th>\n",
              "      <th>production_companies</th>\n",
              "      <th>revenue</th>\n",
              "      <th>runtime</th>\n",
              "      <th>spoken_languages</th>\n",
              "      <th>title</th>\n",
              "      <th>vote_count</th>\n",
              "      <th>release_year</th>\n",
              "      <th>cast</th>\n",
              "      <th>keywords</th>\n",
              "      <th>director</th>\n",
              "    </tr>\n",
              "  </thead>\n",
              "  <tbody>\n",
              "    <tr>\n",
              "      <th>0</th>\n",
              "      <td>0</td>\n",
              "      <td>30000000</td>\n",
              "      <td>['Animation', 'Comedy', 'Family']</td>\n",
              "      <td>862</td>\n",
              "      <td>tt0114709</td>\n",
              "      <td>Toy Story</td>\n",
              "      <td>['Pixar Animation Studios']</td>\n",
              "      <td>373554033.0</td>\n",
              "      <td>81.0</td>\n",
              "      <td>['English']</td>\n",
              "      <td>Toy Story</td>\n",
              "      <td>5415.0</td>\n",
              "      <td>1995</td>\n",
              "      <td>['Tom Hanks', 'Tim Allen', 'Don Rickles']</td>\n",
              "      <td>['jealousy', 'toy', 'boy']</td>\n",
              "      <td>John Lasseter</td>\n",
              "    </tr>\n",
              "    <tr>\n",
              "      <th>1</th>\n",
              "      <td>1</td>\n",
              "      <td>65000000</td>\n",
              "      <td>['Adventure', 'Fantasy', 'Family']</td>\n",
              "      <td>8844</td>\n",
              "      <td>tt0113497</td>\n",
              "      <td>Jumanji</td>\n",
              "      <td>['TriStar Pictures', 'Teitler Film', 'Intersco...</td>\n",
              "      <td>262797249.0</td>\n",
              "      <td>104.0</td>\n",
              "      <td>['English', 'Français']</td>\n",
              "      <td>Jumanji</td>\n",
              "      <td>2413.0</td>\n",
              "      <td>1995</td>\n",
              "      <td>['Robin Williams', 'Jonathan Hyde', 'Kirsten D...</td>\n",
              "      <td>['board game', 'disappearance', \"based on chil...</td>\n",
              "      <td>Joe Johnston</td>\n",
              "    </tr>\n",
              "    <tr>\n",
              "      <th>2</th>\n",
              "      <td>2</td>\n",
              "      <td>0</td>\n",
              "      <td>['Romance', 'Comedy']</td>\n",
              "      <td>15602</td>\n",
              "      <td>tt0113228</td>\n",
              "      <td>Grumpier Old Men</td>\n",
              "      <td>['Warner Bros.', 'Lancaster Gate']</td>\n",
              "      <td>0.0</td>\n",
              "      <td>101.0</td>\n",
              "      <td>['English']</td>\n",
              "      <td>Grumpier Old Men</td>\n",
              "      <td>92.0</td>\n",
              "      <td>1995</td>\n",
              "      <td>['Walter Matthau', 'Jack Lemmon', 'Ann-Margret']</td>\n",
              "      <td>['fishing', 'best friend', 'duringcreditssting...</td>\n",
              "      <td>Howard Deutch</td>\n",
              "    </tr>\n",
              "    <tr>\n",
              "      <th>3</th>\n",
              "      <td>3</td>\n",
              "      <td>16000000</td>\n",
              "      <td>['Comedy', 'Drama', 'Romance']</td>\n",
              "      <td>31357</td>\n",
              "      <td>tt0114885</td>\n",
              "      <td>Waiting to Exhale</td>\n",
              "      <td>['Twentieth Century Fox Film Corporation']</td>\n",
              "      <td>81452156.0</td>\n",
              "      <td>127.0</td>\n",
              "      <td>['English']</td>\n",
              "      <td>Waiting to Exhale</td>\n",
              "      <td>34.0</td>\n",
              "      <td>1995</td>\n",
              "      <td>['Whitney Houston', 'Angela Bassett', 'Loretta...</td>\n",
              "      <td>['based on novel', 'interracial relationship',...</td>\n",
              "      <td>Forest Whitaker</td>\n",
              "    </tr>\n",
              "    <tr>\n",
              "      <th>4</th>\n",
              "      <td>4</td>\n",
              "      <td>0</td>\n",
              "      <td>['Comedy']</td>\n",
              "      <td>11862</td>\n",
              "      <td>tt0113041</td>\n",
              "      <td>Father of the Bride Part II</td>\n",
              "      <td>['Sandollar Productions', 'Touchstone Pictures']</td>\n",
              "      <td>76578911.0</td>\n",
              "      <td>106.0</td>\n",
              "      <td>['English']</td>\n",
              "      <td>Father of the Bride Part II</td>\n",
              "      <td>173.0</td>\n",
              "      <td>1995</td>\n",
              "      <td>['Steve Martin', 'Diane Keaton', 'Martin Short']</td>\n",
              "      <td>['baby', 'midlife crisis', 'confidence']</td>\n",
              "      <td>Charles Shyer</td>\n",
              "    </tr>\n",
              "    <tr>\n",
              "      <th>5</th>\n",
              "      <td>5</td>\n",
              "      <td>60000000</td>\n",
              "      <td>['Action', 'Crime', 'Drama']</td>\n",
              "      <td>949</td>\n",
              "      <td>tt0113277</td>\n",
              "      <td>Heat</td>\n",
              "      <td>['Regency Enterprises', 'Forward Pass', 'Warne...</td>\n",
              "      <td>187436818.0</td>\n",
              "      <td>170.0</td>\n",
              "      <td>['English', 'Español']</td>\n",
              "      <td>Heat</td>\n",
              "      <td>1886.0</td>\n",
              "      <td>1995</td>\n",
              "      <td>['Al Pacino', 'Robert De Niro', 'Val Kilmer']</td>\n",
              "      <td>['robbery', 'detective', 'bank']</td>\n",
              "      <td>Michael Mann</td>\n",
              "    </tr>\n",
              "    <tr>\n",
              "      <th>6</th>\n",
              "      <td>6</td>\n",
              "      <td>58000000</td>\n",
              "      <td>['Comedy', 'Romance']</td>\n",
              "      <td>11860</td>\n",
              "      <td>tt0114319</td>\n",
              "      <td>Sabrina</td>\n",
              "      <td>['Paramount Pictures', 'Scott Rudin Production...</td>\n",
              "      <td>0.0</td>\n",
              "      <td>127.0</td>\n",
              "      <td>['Français', 'English']</td>\n",
              "      <td>Sabrina</td>\n",
              "      <td>141.0</td>\n",
              "      <td>1995</td>\n",
              "      <td>['Harrison Ford', 'Julia Ormond', 'Greg Kinnear']</td>\n",
              "      <td>['paris', 'brother brother relationship', 'cha...</td>\n",
              "      <td>Sydney Pollack</td>\n",
              "    </tr>\n",
              "    <tr>\n",
              "      <th>7</th>\n",
              "      <td>7</td>\n",
              "      <td>0</td>\n",
              "      <td>['Action', 'Adventure', 'Drama']</td>\n",
              "      <td>45325</td>\n",
              "      <td>tt0112302</td>\n",
              "      <td>Tom and Huck</td>\n",
              "      <td>['Walt Disney Pictures']</td>\n",
              "      <td>0.0</td>\n",
              "      <td>97.0</td>\n",
              "      <td>['English', 'Deutsch']</td>\n",
              "      <td>Tom and Huck</td>\n",
              "      <td>45.0</td>\n",
              "      <td>1995</td>\n",
              "      <td>['Jonathan Taylor Thomas', 'Brad Renfro', 'Rac...</td>\n",
              "      <td>[]</td>\n",
              "      <td>Peter Hewitt</td>\n",
              "    </tr>\n",
              "    <tr>\n",
              "      <th>8</th>\n",
              "      <td>8</td>\n",
              "      <td>35000000</td>\n",
              "      <td>['Action', 'Adventure', 'Thriller']</td>\n",
              "      <td>9091</td>\n",
              "      <td>tt0114576</td>\n",
              "      <td>Sudden Death</td>\n",
              "      <td>['Universal Pictures', 'Imperial Entertainment...</td>\n",
              "      <td>64350171.0</td>\n",
              "      <td>106.0</td>\n",
              "      <td>['English']</td>\n",
              "      <td>Sudden Death</td>\n",
              "      <td>174.0</td>\n",
              "      <td>1995</td>\n",
              "      <td>['Jean-Claude Van Damme', 'Powers Boothe', 'Do...</td>\n",
              "      <td>['terrorist', 'hostage', 'explosive']</td>\n",
              "      <td>Peter Hyams</td>\n",
              "    </tr>\n",
              "    <tr>\n",
              "      <th>9</th>\n",
              "      <td>9</td>\n",
              "      <td>58000000</td>\n",
              "      <td>['Adventure', 'Action', 'Thriller']</td>\n",
              "      <td>710</td>\n",
              "      <td>tt0113189</td>\n",
              "      <td>GoldenEye</td>\n",
              "      <td>['United Artists', 'Eon Productions']</td>\n",
              "      <td>352194034.0</td>\n",
              "      <td>130.0</td>\n",
              "      <td>['English', 'Pусский', 'Español']</td>\n",
              "      <td>GoldenEye</td>\n",
              "      <td>1194.0</td>\n",
              "      <td>1995</td>\n",
              "      <td>['Pierce Brosnan', 'Sean Bean', 'Izabella Scor...</td>\n",
              "      <td>['cuba', 'falsely accused', 'secret identity']</td>\n",
              "      <td>Martin Campbell</td>\n",
              "    </tr>\n",
              "  </tbody>\n",
              "</table>\n",
              "</div>"
            ],
            "text/plain": [
              "   Unnamed: 0  ...         director\n",
              "0           0  ...    John Lasseter\n",
              "1           1  ...     Joe Johnston\n",
              "2           2  ...    Howard Deutch\n",
              "3           3  ...  Forest Whitaker\n",
              "4           4  ...    Charles Shyer\n",
              "5           5  ...     Michael Mann\n",
              "6           6  ...   Sydney Pollack\n",
              "7           7  ...     Peter Hewitt\n",
              "8           8  ...      Peter Hyams\n",
              "9           9  ...  Martin Campbell\n",
              "\n",
              "[10 rows x 16 columns]"
            ]
          },
          "metadata": {
            "tags": []
          },
          "execution_count": 6
        }
      ]
    },
    {
      "cell_type": "code",
      "metadata": {
        "colab": {
          "base_uri": "https://localhost:8080/"
        },
        "id": "UtMRHwdOrOld",
        "outputId": "e844fccd-0549-4efe-d12b-32312a54c013"
      },
      "source": [
        "movies_df.shape"
      ],
      "execution_count": 7,
      "outputs": [
        {
          "output_type": "execute_result",
          "data": {
            "text/plain": [
              "(29424, 16)"
            ]
          },
          "metadata": {
            "tags": []
          },
          "execution_count": 7
        }
      ]
    },
    {
      "cell_type": "code",
      "metadata": {
        "colab": {
          "base_uri": "https://localhost:8080/",
          "height": 355
        },
        "id": "lxtN-nZ7pnaI",
        "outputId": "bf491b1c-2a29-475c-d1bb-7d8bf6cf8a78"
      },
      "source": [
        "ratings_df.head(10)"
      ],
      "execution_count": 8,
      "outputs": [
        {
          "output_type": "execute_result",
          "data": {
            "text/html": [
              "<div>\n",
              "<style scoped>\n",
              "    .dataframe tbody tr th:only-of-type {\n",
              "        vertical-align: middle;\n",
              "    }\n",
              "\n",
              "    .dataframe tbody tr th {\n",
              "        vertical-align: top;\n",
              "    }\n",
              "\n",
              "    .dataframe thead th {\n",
              "        text-align: right;\n",
              "    }\n",
              "</style>\n",
              "<table border=\"1\" class=\"dataframe\">\n",
              "  <thead>\n",
              "    <tr style=\"text-align: right;\">\n",
              "      <th></th>\n",
              "      <th>userId</th>\n",
              "      <th>movieId</th>\n",
              "      <th>rating</th>\n",
              "      <th>timestamp</th>\n",
              "    </tr>\n",
              "  </thead>\n",
              "  <tbody>\n",
              "    <tr>\n",
              "      <th>0</th>\n",
              "      <td>1</td>\n",
              "      <td>1</td>\n",
              "      <td>4.0</td>\n",
              "      <td>964982703</td>\n",
              "    </tr>\n",
              "    <tr>\n",
              "      <th>1</th>\n",
              "      <td>1</td>\n",
              "      <td>3</td>\n",
              "      <td>4.0</td>\n",
              "      <td>964981247</td>\n",
              "    </tr>\n",
              "    <tr>\n",
              "      <th>2</th>\n",
              "      <td>1</td>\n",
              "      <td>6</td>\n",
              "      <td>4.0</td>\n",
              "      <td>964982224</td>\n",
              "    </tr>\n",
              "    <tr>\n",
              "      <th>3</th>\n",
              "      <td>1</td>\n",
              "      <td>47</td>\n",
              "      <td>5.0</td>\n",
              "      <td>964983815</td>\n",
              "    </tr>\n",
              "    <tr>\n",
              "      <th>4</th>\n",
              "      <td>1</td>\n",
              "      <td>50</td>\n",
              "      <td>5.0</td>\n",
              "      <td>964982931</td>\n",
              "    </tr>\n",
              "    <tr>\n",
              "      <th>5</th>\n",
              "      <td>1</td>\n",
              "      <td>70</td>\n",
              "      <td>3.0</td>\n",
              "      <td>964982400</td>\n",
              "    </tr>\n",
              "    <tr>\n",
              "      <th>6</th>\n",
              "      <td>1</td>\n",
              "      <td>101</td>\n",
              "      <td>5.0</td>\n",
              "      <td>964980868</td>\n",
              "    </tr>\n",
              "    <tr>\n",
              "      <th>7</th>\n",
              "      <td>1</td>\n",
              "      <td>110</td>\n",
              "      <td>4.0</td>\n",
              "      <td>964982176</td>\n",
              "    </tr>\n",
              "    <tr>\n",
              "      <th>8</th>\n",
              "      <td>1</td>\n",
              "      <td>151</td>\n",
              "      <td>5.0</td>\n",
              "      <td>964984041</td>\n",
              "    </tr>\n",
              "    <tr>\n",
              "      <th>9</th>\n",
              "      <td>1</td>\n",
              "      <td>157</td>\n",
              "      <td>5.0</td>\n",
              "      <td>964984100</td>\n",
              "    </tr>\n",
              "  </tbody>\n",
              "</table>\n",
              "</div>"
            ],
            "text/plain": [
              "   userId  movieId  rating  timestamp\n",
              "0       1        1     4.0  964982703\n",
              "1       1        3     4.0  964981247\n",
              "2       1        6     4.0  964982224\n",
              "3       1       47     5.0  964983815\n",
              "4       1       50     5.0  964982931\n",
              "5       1       70     3.0  964982400\n",
              "6       1      101     5.0  964980868\n",
              "7       1      110     4.0  964982176\n",
              "8       1      151     5.0  964984041\n",
              "9       1      157     5.0  964984100"
            ]
          },
          "metadata": {
            "tags": []
          },
          "execution_count": 8
        }
      ]
    },
    {
      "cell_type": "code",
      "metadata": {
        "colab": {
          "base_uri": "https://localhost:8080/"
        },
        "id": "ZOlUoijLrLPH",
        "outputId": "6f996b1f-4e64-4952-9979-b3855b0cdf48"
      },
      "source": [
        "ratings_df.shape"
      ],
      "execution_count": 9,
      "outputs": [
        {
          "output_type": "execute_result",
          "data": {
            "text/plain": [
              "(100836, 4)"
            ]
          },
          "metadata": {
            "tags": []
          },
          "execution_count": 9
        }
      ]
    },
    {
      "cell_type": "markdown",
      "metadata": {
        "id": "FrcM758A6TBi"
      },
      "source": [
        "### Merge ratings and movie table to get the movie title in the same table"
      ]
    },
    {
      "cell_type": "code",
      "metadata": {
        "colab": {
          "base_uri": "https://localhost:8080/",
          "height": 355
        },
        "id": "iddqC63qp3-l",
        "outputId": "d7b044d7-1997-4ebb-cbfe-bab7730c45cc"
      },
      "source": [
        "df=ratings_df.merge(movies_df[['id','original_title']],how='inner', left_on='movieId', right_on='id')\r\n",
        "df.head(10)"
      ],
      "execution_count": 6,
      "outputs": [
        {
          "output_type": "execute_result",
          "data": {
            "text/html": [
              "<div>\n",
              "<style scoped>\n",
              "    .dataframe tbody tr th:only-of-type {\n",
              "        vertical-align: middle;\n",
              "    }\n",
              "\n",
              "    .dataframe tbody tr th {\n",
              "        vertical-align: top;\n",
              "    }\n",
              "\n",
              "    .dataframe thead th {\n",
              "        text-align: right;\n",
              "    }\n",
              "</style>\n",
              "<table border=\"1\" class=\"dataframe\">\n",
              "  <thead>\n",
              "    <tr style=\"text-align: right;\">\n",
              "      <th></th>\n",
              "      <th>userId</th>\n",
              "      <th>movieId</th>\n",
              "      <th>rating</th>\n",
              "      <th>timestamp</th>\n",
              "      <th>id</th>\n",
              "      <th>original_title</th>\n",
              "    </tr>\n",
              "  </thead>\n",
              "  <tbody>\n",
              "    <tr>\n",
              "      <th>0</th>\n",
              "      <td>1</td>\n",
              "      <td>6</td>\n",
              "      <td>4.0</td>\n",
              "      <td>964982224</td>\n",
              "      <td>6</td>\n",
              "      <td>Judgment Night</td>\n",
              "    </tr>\n",
              "    <tr>\n",
              "      <th>1</th>\n",
              "      <td>6</td>\n",
              "      <td>6</td>\n",
              "      <td>4.0</td>\n",
              "      <td>845553757</td>\n",
              "      <td>6</td>\n",
              "      <td>Judgment Night</td>\n",
              "    </tr>\n",
              "    <tr>\n",
              "      <th>2</th>\n",
              "      <td>11</td>\n",
              "      <td>6</td>\n",
              "      <td>5.0</td>\n",
              "      <td>902154266</td>\n",
              "      <td>6</td>\n",
              "      <td>Judgment Night</td>\n",
              "    </tr>\n",
              "    <tr>\n",
              "      <th>3</th>\n",
              "      <td>18</td>\n",
              "      <td>6</td>\n",
              "      <td>4.0</td>\n",
              "      <td>1460138360</td>\n",
              "      <td>6</td>\n",
              "      <td>Judgment Night</td>\n",
              "    </tr>\n",
              "    <tr>\n",
              "      <th>4</th>\n",
              "      <td>23</td>\n",
              "      <td>6</td>\n",
              "      <td>4.0</td>\n",
              "      <td>1107342267</td>\n",
              "      <td>6</td>\n",
              "      <td>Judgment Night</td>\n",
              "    </tr>\n",
              "    <tr>\n",
              "      <th>5</th>\n",
              "      <td>24</td>\n",
              "      <td>6</td>\n",
              "      <td>4.5</td>\n",
              "      <td>1458941767</td>\n",
              "      <td>6</td>\n",
              "      <td>Judgment Night</td>\n",
              "    </tr>\n",
              "    <tr>\n",
              "      <th>6</th>\n",
              "      <td>28</td>\n",
              "      <td>6</td>\n",
              "      <td>3.5</td>\n",
              "      <td>1234570483</td>\n",
              "      <td>6</td>\n",
              "      <td>Judgment Night</td>\n",
              "    </tr>\n",
              "    <tr>\n",
              "      <th>7</th>\n",
              "      <td>32</td>\n",
              "      <td>6</td>\n",
              "      <td>3.0</td>\n",
              "      <td>856736172</td>\n",
              "      <td>6</td>\n",
              "      <td>Judgment Night</td>\n",
              "    </tr>\n",
              "    <tr>\n",
              "      <th>8</th>\n",
              "      <td>44</td>\n",
              "      <td>6</td>\n",
              "      <td>3.0</td>\n",
              "      <td>869251910</td>\n",
              "      <td>6</td>\n",
              "      <td>Judgment Night</td>\n",
              "    </tr>\n",
              "    <tr>\n",
              "      <th>9</th>\n",
              "      <td>45</td>\n",
              "      <td>6</td>\n",
              "      <td>4.0</td>\n",
              "      <td>1121724608</td>\n",
              "      <td>6</td>\n",
              "      <td>Judgment Night</td>\n",
              "    </tr>\n",
              "  </tbody>\n",
              "</table>\n",
              "</div>"
            ],
            "text/plain": [
              "   userId  movieId  rating   timestamp  id  original_title\n",
              "0       1        6     4.0   964982224   6  Judgment Night\n",
              "1       6        6     4.0   845553757   6  Judgment Night\n",
              "2      11        6     5.0   902154266   6  Judgment Night\n",
              "3      18        6     4.0  1460138360   6  Judgment Night\n",
              "4      23        6     4.0  1107342267   6  Judgment Night\n",
              "5      24        6     4.5  1458941767   6  Judgment Night\n",
              "6      28        6     3.5  1234570483   6  Judgment Night\n",
              "7      32        6     3.0   856736172   6  Judgment Night\n",
              "8      44        6     3.0   869251910   6  Judgment Night\n",
              "9      45        6     4.0  1121724608   6  Judgment Night"
            ]
          },
          "metadata": {
            "tags": []
          },
          "execution_count": 6
        }
      ]
    },
    {
      "cell_type": "code",
      "metadata": {
        "colab": {
          "base_uri": "https://localhost:8080/"
        },
        "id": "DCJ4Gh95uIAu",
        "outputId": "407d9771-5efd-434f-8618-ef7e66c9ad0e"
      },
      "source": [
        "df.shape"
      ],
      "execution_count": 11,
      "outputs": [
        {
          "output_type": "execute_result",
          "data": {
            "text/plain": [
              "(28643, 6)"
            ]
          },
          "metadata": {
            "tags": []
          },
          "execution_count": 11
        }
      ]
    },
    {
      "cell_type": "markdown",
      "metadata": {
        "id": "RbeIWBkW6aN0"
      },
      "source": [
        "### Remove duplicate"
      ]
    },
    {
      "cell_type": "code",
      "metadata": {
        "id": "22bKnufWvW_c"
      },
      "source": [
        "df = df.drop_duplicates()"
      ],
      "execution_count": 7,
      "outputs": []
    },
    {
      "cell_type": "markdown",
      "metadata": {
        "id": "7AFpkK7t6gBI"
      },
      "source": [
        "### Number of ratings per user distribution\r\n"
      ]
    },
    {
      "cell_type": "code",
      "metadata": {
        "colab": {
          "base_uri": "https://localhost:8080/",
          "height": 283
        },
        "id": "bsyiU9xVrgeZ",
        "outputId": "5c7f7d9b-8e62-4eb7-b842-d9efc6b33705"
      },
      "source": [
        "df['userId'].value_counts().plot(kind='hist')"
      ],
      "execution_count": 13,
      "outputs": [
        {
          "output_type": "execute_result",
          "data": {
            "text/plain": [
              "<matplotlib.axes._subplots.AxesSubplot at 0x7f7ae0c1dcf8>"
            ]
          },
          "metadata": {
            "tags": []
          },
          "execution_count": 13
        },
        {
          "output_type": "display_data",
          "data": {
            "image/png": "[encoded data removed]",
            "text/plain": [
              "<Figure size 432x288 with 1 Axes>"
            ]
          },
          "metadata": {
            "tags": [],
            "needs_background": "light"
          }
        }
      ]
    },
    {
      "cell_type": "markdown",
      "metadata": {
        "id": "T-wbo0036lTf"
      },
      "source": [
        "Let's zoom on less that 100 ratings per user"
      ]
    },
    {
      "cell_type": "code",
      "metadata": {
        "colab": {
          "base_uri": "https://localhost:8080/",
          "height": 282
        },
        "id": "ZJZ8r6j65x1S",
        "outputId": "d31feeb6-ab9a-4b58-d697-a51bfc2780ef"
      },
      "source": [
        "df['userId'].value_counts()[-550:].plot(kind='hist')"
      ],
      "execution_count": 64,
      "outputs": [
        {
          "output_type": "execute_result",
          "data": {
            "text/plain": [
              "<matplotlib.axes._subplots.AxesSubplot at 0x7f7ad57f9630>"
            ]
          },
          "metadata": {
            "tags": []
          },
          "execution_count": 64
        },
        {
          "output_type": "display_data",
          "data": {
            "image/png": "[encoded data removed]",
            "text/plain": [
              "<Figure size 432x288 with 1 Axes>"
            ]
          },
          "metadata": {
            "tags": [],
            "needs_background": "light"
          }
        }
      ]
    },
    {
      "cell_type": "markdown",
      "metadata": {
        "id": "nP_aV64I6tJ8"
      },
      "source": [
        "# Modeling\r\n",
        "\r\n",
        "We will run two different matrix factorization models/packages with 4 different minimum of rating per user. Then we will chose our best option. Finally, we will hypertune the parameters of this best option."
      ]
    },
    {
      "cell_type": "code",
      "metadata": {
        "id": "BrLZkDA0sFsy"
      },
      "source": [
        "df['count']=df['userId'].map(df['userId'].value_counts())\r\n",
        "df = df.rename(columns={\"userId\":\"user_id\", \"movieId\":\"item_id\"})\r\n",
        "df_10 = df[df['count']>10]\r\n",
        "df_5 = df[df['count']>5]\r\n",
        "df_50 = df[df['count']>50]\r\n",
        "df_20 = df[df['count']>20]"
      ],
      "execution_count": 8,
      "outputs": []
    },
    {
      "cell_type": "markdown",
      "metadata": {
        "id": "iRrYhx_mxf4-"
      },
      "source": [
        "## Min 10 ratings\r\n",
        "\r\n",
        "### Matrix factorization"
      ]
    },
    {
      "cell_type": "code",
      "metadata": {
        "id": "BBTVVfYf17kB"
      },
      "source": [
        "X = df_10[['user_id','item_id']]\r\n",
        "y = df_10['rating']\r\n",
        "\r\n",
        "X_train, X_test, y_train, y_test = train_test_split(X, y, test_size=0.20, \\\r\n",
        "                                                    random_state=1000, \\\r\n",
        "                                    stratify = df_10['user_id'])"
      ],
      "execution_count": 9,
      "outputs": []
    },
    {
      "cell_type": "code",
      "metadata": {
        "id": "lhKatp-tOYMH",
        "colab": {
          "base_uri": "https://localhost:8080/"
        },
        "outputId": "edabbe25-5549-4dc1-f901-96b82c551231"
      },
      "source": [
        "matrix_fact = KernelMF(n_epochs=200, n_factors=100, lr=0.001, reg=0.005)\r\n",
        "matrix_fact.fit(X_train, y_train)"
      ],
      "execution_count": 10,
      "outputs": [
        {
          "output_type": "stream",
          "text": [
            "Epoch  1 / 200  -  train_rmse: 1.0083996455713902\n",
            "Epoch  2 / 200  -  train_rmse: 0.9846074455618368\n",
            "Epoch  3 / 200  -  train_rmse: 0.9658749999956936\n",
            "Epoch  4 / 200  -  train_rmse: 0.950431725724864\n",
            "Epoch  5 / 200  -  train_rmse: 0.937403796769232\n",
            "Epoch  6 / 200  -  train_rmse: 0.9261483028274611\n",
            "Epoch  7 / 200  -  train_rmse: 0.9162938427004327\n",
            "Epoch  8 / 200  -  train_rmse: 0.9075056730160458\n",
            "Epoch  9 / 200  -  train_rmse: 0.899600592816097\n",
            "Epoch  10 / 200  -  train_rmse: 0.892406563444301\n",
            "Epoch  11 / 200  -  train_rmse: 0.8858089666492973\n",
            "Epoch  12 / 200  -  train_rmse: 0.8796989756120966\n",
            "Epoch  13 / 200  -  train_rmse: 0.8740107591133637\n",
            "Epoch  14 / 200  -  train_rmse: 0.8686824121113746\n",
            "Epoch  15 / 200  -  train_rmse: 0.863658972356959\n",
            "Epoch  16 / 200  -  train_rmse: 0.8589072165525463\n",
            "Epoch  17 / 200  -  train_rmse: 0.8543910297842382\n",
            "Epoch  18 / 200  -  train_rmse: 0.8500803157548745\n",
            "Epoch  19 / 200  -  train_rmse: 0.845955463519669\n",
            "Epoch  20 / 200  -  train_rmse: 0.8419948587368283\n",
            "Epoch  21 / 200  -  train_rmse: 0.8381772732168151\n",
            "Epoch  22 / 200  -  train_rmse: 0.8344908857586419\n",
            "Epoch  23 / 200  -  train_rmse: 0.830922946621483\n",
            "Epoch  24 / 200  -  train_rmse: 0.8274582607829137\n",
            "Epoch  25 / 200  -  train_rmse: 0.8240904138428604\n",
            "Epoch  26 / 200  -  train_rmse: 0.820808800462816\n",
            "Epoch  27 / 200  -  train_rmse: 0.8176058265915869\n",
            "Epoch  28 / 200  -  train_rmse: 0.8144736637992491\n",
            "Epoch  29 / 200  -  train_rmse: 0.8114062142609612\n",
            "Epoch  30 / 200  -  train_rmse: 0.8083968330629298\n",
            "Epoch  31 / 200  -  train_rmse: 0.8054412215945481\n",
            "Epoch  32 / 200  -  train_rmse: 0.8025340687136882\n",
            "Epoch  33 / 200  -  train_rmse: 0.7996714784939671\n",
            "Epoch  34 / 200  -  train_rmse: 0.7968495125646893\n",
            "Epoch  35 / 200  -  train_rmse: 0.7940626776550654\n",
            "Epoch  36 / 200  -  train_rmse: 0.7913099356412253\n",
            "Epoch  37 / 200  -  train_rmse: 0.788586261914751\n",
            "Epoch  38 / 200  -  train_rmse: 0.7858891982952091\n",
            "Epoch  39 / 200  -  train_rmse: 0.783217180488266\n",
            "Epoch  40 / 200  -  train_rmse: 0.7805669962136172\n",
            "Epoch  41 / 200  -  train_rmse: 0.7779348938882689\n",
            "Epoch  42 / 200  -  train_rmse: 0.7753209650510074\n",
            "Epoch  43 / 200  -  train_rmse: 0.7727205000241901\n",
            "Epoch  44 / 200  -  train_rmse: 0.7701335036643576\n",
            "Epoch  45 / 200  -  train_rmse: 0.7675584851042898\n",
            "Epoch  46 / 200  -  train_rmse: 0.7649927753512424\n",
            "Epoch  47 / 200  -  train_rmse: 0.7624347848610686\n",
            "Epoch  48 / 200  -  train_rmse: 0.7598832483030629\n",
            "Epoch  49 / 200  -  train_rmse: 0.7573363825298052\n",
            "Epoch  50 / 200  -  train_rmse: 0.7547932611751931\n",
            "Epoch  51 / 200  -  train_rmse: 0.7522532108990507\n",
            "Epoch  52 / 200  -  train_rmse: 0.7497149478462779\n",
            "Epoch  53 / 200  -  train_rmse: 0.7471755586074402\n",
            "Epoch  54 / 200  -  train_rmse: 0.7446359891138361\n",
            "Epoch  55 / 200  -  train_rmse: 0.7420940711279829\n",
            "Epoch  56 / 200  -  train_rmse: 0.7395494072993987\n",
            "Epoch  57 / 200  -  train_rmse: 0.7370014527353462\n",
            "Epoch  58 / 200  -  train_rmse: 0.7344490380710846\n",
            "Epoch  59 / 200  -  train_rmse: 0.7318912147597084\n",
            "Epoch  60 / 200  -  train_rmse: 0.7293278868380778\n",
            "Epoch  61 / 200  -  train_rmse: 0.7267588780793325\n",
            "Epoch  62 / 200  -  train_rmse: 0.724181411078801\n",
            "Epoch  63 / 200  -  train_rmse: 0.7215967220865379\n",
            "Epoch  64 / 200  -  train_rmse: 0.7190036505565479\n",
            "Epoch  65 / 200  -  train_rmse: 0.7164018076521571\n",
            "Epoch  66 / 200  -  train_rmse: 0.7137908786304751\n",
            "Epoch  67 / 200  -  train_rmse: 0.7111705199578623\n",
            "Epoch  68 / 200  -  train_rmse: 0.7085392735199323\n",
            "Epoch  69 / 200  -  train_rmse: 0.7058981298261923\n",
            "Epoch  70 / 200  -  train_rmse: 0.7032463554741741\n",
            "Epoch  71 / 200  -  train_rmse: 0.7005835545412394\n",
            "Epoch  72 / 200  -  train_rmse: 0.6979099280069864\n",
            "Epoch  73 / 200  -  train_rmse: 0.6952247918491301\n",
            "Epoch  74 / 200  -  train_rmse: 0.6925284187126844\n",
            "Epoch  75 / 200  -  train_rmse: 0.6898198507947247\n",
            "Epoch  76 / 200  -  train_rmse: 0.6870998548902092\n",
            "Epoch  77 / 200  -  train_rmse: 0.684368248746746\n",
            "Epoch  78 / 200  -  train_rmse: 0.6816242869139202\n",
            "Epoch  79 / 200  -  train_rmse: 0.6788687565336267\n",
            "Epoch  80 / 200  -  train_rmse: 0.6761011426952349\n",
            "Epoch  81 / 200  -  train_rmse: 0.6733219365270954\n",
            "Epoch  82 / 200  -  train_rmse: 0.6705304286365149\n",
            "Epoch  83 / 200  -  train_rmse: 0.6677272677634621\n",
            "Epoch  84 / 200  -  train_rmse: 0.6649128158243425\n",
            "Epoch  85 / 200  -  train_rmse: 0.6620870332940164\n",
            "Epoch  86 / 200  -  train_rmse: 0.6592492437195762\n",
            "Epoch  87 / 200  -  train_rmse: 0.6564003539826682\n",
            "Epoch  88 / 200  -  train_rmse: 0.6535400540984799\n",
            "Epoch  89 / 200  -  train_rmse: 0.6506694141511299\n",
            "Epoch  90 / 200  -  train_rmse: 0.6477882195785034\n",
            "Epoch  91 / 200  -  train_rmse: 0.6448965291242893\n",
            "Epoch  92 / 200  -  train_rmse: 0.6419948770224132\n",
            "Epoch  93 / 200  -  train_rmse: 0.6390836490256186\n",
            "Epoch  94 / 200  -  train_rmse: 0.6361631950007025\n",
            "Epoch  95 / 200  -  train_rmse: 0.6332329859006403\n",
            "Epoch  96 / 200  -  train_rmse: 0.6302942224559324\n",
            "Epoch  97 / 200  -  train_rmse: 0.6273471870856507\n",
            "Epoch  98 / 200  -  train_rmse: 0.6243922004227284\n",
            "Epoch  99 / 200  -  train_rmse: 0.6214295747121625\n",
            "Epoch  100 / 200  -  train_rmse: 0.6184597788928871\n",
            "Epoch  101 / 200  -  train_rmse: 0.6154831550458801\n",
            "Epoch  102 / 200  -  train_rmse: 0.6124993612243624\n",
            "Epoch  103 / 200  -  train_rmse: 0.609510637042198\n",
            "Epoch  104 / 200  -  train_rmse: 0.6065153229076293\n",
            "Epoch  105 / 200  -  train_rmse: 0.6035151979474469\n",
            "Epoch  106 / 200  -  train_rmse: 0.6005102410722044\n",
            "Epoch  107 / 200  -  train_rmse: 0.5975012558472642\n",
            "Epoch  108 / 200  -  train_rmse: 0.5944876681909979\n",
            "Epoch  109 / 200  -  train_rmse: 0.59147078468821\n",
            "Epoch  110 / 200  -  train_rmse: 0.588451237883983\n",
            "Epoch  111 / 200  -  train_rmse: 0.5854289799077852\n",
            "Epoch  112 / 200  -  train_rmse: 0.5824047944052297\n",
            "Epoch  113 / 200  -  train_rmse: 0.5793793810099708\n",
            "Epoch  114 / 200  -  train_rmse: 0.5763526203139412\n",
            "Epoch  115 / 200  -  train_rmse: 0.5733254014302607\n",
            "Epoch  116 / 200  -  train_rmse: 0.5702981069620425\n",
            "Epoch  117 / 200  -  train_rmse: 0.5672704767516248\n",
            "Epoch  118 / 200  -  train_rmse: 0.5642439535480243\n",
            "Epoch  119 / 200  -  train_rmse: 0.5612182634926006\n",
            "Epoch  120 / 200  -  train_rmse: 0.558194269302644\n",
            "Epoch  121 / 200  -  train_rmse: 0.5551724731937346\n",
            "Epoch  122 / 200  -  train_rmse: 0.5521530144392034\n",
            "Epoch  123 / 200  -  train_rmse: 0.5491367000776234\n",
            "Epoch  124 / 200  -  train_rmse: 0.5461235661507435\n",
            "Epoch  125 / 200  -  train_rmse: 0.5431143175989885\n",
            "Epoch  126 / 200  -  train_rmse: 0.5401095831538248\n",
            "Epoch  127 / 200  -  train_rmse: 0.5371095175349199\n",
            "Epoch  128 / 200  -  train_rmse: 0.5341141438250597\n",
            "Epoch  129 / 200  -  train_rmse: 0.5311245359169513\n",
            "Epoch  130 / 200  -  train_rmse: 0.5281411358993834\n",
            "Epoch  131 / 200  -  train_rmse: 0.5251634308151503\n",
            "Epoch  132 / 200  -  train_rmse: 0.522192459922377\n",
            "Epoch  133 / 200  -  train_rmse: 0.5192285097566328\n",
            "Epoch  134 / 200  -  train_rmse: 0.5162717466773412\n",
            "Epoch  135 / 200  -  train_rmse: 0.5133228369896329\n",
            "Epoch  136 / 200  -  train_rmse: 0.5103821971834483\n",
            "Epoch  137 / 200  -  train_rmse: 0.507449299510211\n",
            "Epoch  138 / 200  -  train_rmse: 0.504525354693483\n",
            "Epoch  139 / 200  -  train_rmse: 0.5016104923991795\n",
            "Epoch  140 / 200  -  train_rmse: 0.49870503666620314\n",
            "Epoch  141 / 200  -  train_rmse: 0.49580913157887374\n",
            "Epoch  142 / 200  -  train_rmse: 0.49292335602949\n",
            "Epoch  143 / 200  -  train_rmse: 0.49004760898028277\n",
            "Epoch  144 / 200  -  train_rmse: 0.4871824370520539\n",
            "Epoch  145 / 200  -  train_rmse: 0.48432797229853536\n",
            "Epoch  146 / 200  -  train_rmse: 0.48148456208218304\n",
            "Epoch  147 / 200  -  train_rmse: 0.4786521964095789\n",
            "Epoch  148 / 200  -  train_rmse: 0.47583157149703337\n",
            "Epoch  149 / 200  -  train_rmse: 0.4730224324837354\n",
            "Epoch  150 / 200  -  train_rmse: 0.4702254661299099\n",
            "Epoch  151 / 200  -  train_rmse: 0.4674407737677225\n",
            "Epoch  152 / 200  -  train_rmse: 0.46466859643371045\n",
            "Epoch  153 / 200  -  train_rmse: 0.4619086359004314\n",
            "Epoch  154 / 200  -  train_rmse: 0.459161818122672\n",
            "Epoch  155 / 200  -  train_rmse: 0.45642756355265895\n",
            "Epoch  156 / 200  -  train_rmse: 0.4537062516739639\n",
            "Epoch  157 / 200  -  train_rmse: 0.45099848242378143\n",
            "Epoch  158 / 200  -  train_rmse: 0.44830428706405984\n",
            "Epoch  159 / 200  -  train_rmse: 0.44562357754206294\n",
            "Epoch  160 / 200  -  train_rmse: 0.44295659760452705\n",
            "Epoch  161 / 200  -  train_rmse: 0.44030374105442827\n",
            "Epoch  162 / 200  -  train_rmse: 0.4376648252754444\n",
            "Epoch  163 / 200  -  train_rmse: 0.4350393974694725\n",
            "Epoch  164 / 200  -  train_rmse: 0.4324281060194216\n",
            "Epoch  165 / 200  -  train_rmse: 0.4298311992432316\n",
            "Epoch  166 / 200  -  train_rmse: 0.42724928157826597\n",
            "Epoch  167 / 200  -  train_rmse: 0.42468184739574705\n",
            "Epoch  168 / 200  -  train_rmse: 0.4221291705609787\n",
            "Epoch  169 / 200  -  train_rmse: 0.41958990425649595\n",
            "Epoch  170 / 200  -  train_rmse: 0.4170656691257918\n",
            "Epoch  171 / 200  -  train_rmse: 0.4145565363588272\n",
            "Epoch  172 / 200  -  train_rmse: 0.4120621955629727\n",
            "Epoch  173 / 200  -  train_rmse: 0.40958288864756953\n",
            "Epoch  174 / 200  -  train_rmse: 0.4071181957504994\n",
            "Epoch  175 / 200  -  train_rmse: 0.40466832166273975\n",
            "Epoch  176 / 200  -  train_rmse: 0.40223363506591553\n",
            "Epoch  177 / 200  -  train_rmse: 0.3998139551123427\n",
            "Epoch  178 / 200  -  train_rmse: 0.39740925705917346\n",
            "Epoch  179 / 200  -  train_rmse: 0.39501976013348955\n",
            "Epoch  180 / 200  -  train_rmse: 0.39264529262400155\n",
            "Epoch  181 / 200  -  train_rmse: 0.3902858556997952\n",
            "Epoch  182 / 200  -  train_rmse: 0.387941568112108\n",
            "Epoch  183 / 200  -  train_rmse: 0.385612646414513\n",
            "Epoch  184 / 200  -  train_rmse: 0.3832983668364022\n",
            "Epoch  185 / 200  -  train_rmse: 0.38099946893845965\n",
            "Epoch  186 / 200  -  train_rmse: 0.37871560045951486\n",
            "Epoch  187 / 200  -  train_rmse: 0.3764464735589347\n",
            "Epoch  188 / 200  -  train_rmse: 0.37419255632965726\n",
            "Epoch  189 / 200  -  train_rmse: 0.37195381632600993\n",
            "Epoch  190 / 200  -  train_rmse: 0.36973035124426457\n",
            "Epoch  191 / 200  -  train_rmse: 0.36752117546590163\n",
            "Epoch  192 / 200  -  train_rmse: 0.3653271464287199\n",
            "Epoch  193 / 200  -  train_rmse: 0.3631477334198652\n",
            "Epoch  194 / 200  -  train_rmse: 0.36098361839297\n",
            "Epoch  195 / 200  -  train_rmse: 0.3588338647024683\n",
            "Epoch  196 / 200  -  train_rmse: 0.3566990835145932\n",
            "Epoch  197 / 200  -  train_rmse: 0.35457875544840856\n",
            "Epoch  198 / 200  -  train_rmse: 0.35247326721541333\n",
            "Epoch  199 / 200  -  train_rmse: 0.35038256618223107\n",
            "Epoch  200 / 200  -  train_rmse: 0.34830616847846124\n"
          ],
          "name": "stdout"
        },
        {
          "output_type": "execute_result",
          "data": {
            "text/plain": [
              "KernelMF(gamma=0.01, lr=0.001, n_epochs=200, reg=0.005)"
            ]
          },
          "metadata": {
            "tags": []
          },
          "execution_count": 10
        }
      ]
    },
    {
      "cell_type": "code",
      "metadata": {
        "id": "BaiOzemOPitR"
      },
      "source": [
        "# matrix_fact.update_users(X_train_update, y_train_update, lr=0.001, n_epochs=200, verbose=1)"
      ],
      "execution_count": 11,
      "outputs": []
    },
    {
      "cell_type": "code",
      "metadata": {
        "colab": {
          "base_uri": "https://localhost:8080/"
        },
        "id": "2JcRqTTWPoGI",
        "outputId": "b3020ee5-af7e-4398-90af-1b01d0c34b7c"
      },
      "source": [
        "pred = matrix_fact.predict(X_test)\r\n",
        "# pred = [round(x) for x in pred]\r\n",
        "rmse = mean_squared_error(y_test, pred, squared=False)\r\n",
        "r2 = r2_score(y_test, pred)\r\n",
        "metrics_mf_10 = (rmse, r2)\r\n",
        "metrics_mf_10"
      ],
      "execution_count": 12,
      "outputs": [
        {
          "output_type": "execute_result",
          "data": {
            "text/plain": [
              "(0.893606057972719, 0.2638699475491928)"
            ]
          },
          "metadata": {
            "tags": []
          },
          "execution_count": 12
        }
      ]
    },
    {
      "cell_type": "markdown",
      "metadata": {
        "id": "QM4hZDFO0p_H"
      },
      "source": [
        "### SVD"
      ]
    },
    {
      "cell_type": "code",
      "metadata": {
        "id": "Qg16QNAW2cNn"
      },
      "source": [
        "df_train =  pd.concat([X_train, y_train], axis=1)"
      ],
      "execution_count": 13,
      "outputs": []
    },
    {
      "cell_type": "code",
      "metadata": {
        "id": "VcSPSE6Q02on"
      },
      "source": [
        "reader = Reader()\r\n",
        "data = Dataset.load_from_df(df_train[['user_id', 'item_id', 'rating']], reader)"
      ],
      "execution_count": 14,
      "outputs": []
    },
    {
      "cell_type": "code",
      "metadata": {
        "colab": {
          "base_uri": "https://localhost:8080/"
        },
        "id": "MG2wbvDd02pC",
        "outputId": "88565c98-9361-4f25-a68a-8ab38a4fc4ef"
      },
      "source": [
        "svd = SVD()\r\n",
        "cross_validate(svd, data, measures=['RMSE','MAE'])"
      ],
      "execution_count": 15,
      "outputs": [
        {
          "output_type": "execute_result",
          "data": {
            "text/plain": [
              "{'fit_time': (1.0109925270080566,\n",
              "  0.9993000030517578,\n",
              "  0.9973728656768799,\n",
              "  0.9891788959503174,\n",
              "  0.9889564514160156),\n",
              " 'test_mae': array([0.66185961, 0.68497406, 0.68172975, 0.66989094, 0.68566594]),\n",
              " 'test_rmse': array([0.85550194, 0.88168471, 0.88475818, 0.86288724, 0.89023243]),\n",
              " 'test_time': (0.028723478317260742,\n",
              "  0.02799201011657715,\n",
              "  0.032796382904052734,\n",
              "  0.028343677520751953,\n",
              "  0.03338980674743652)}"
            ]
          },
          "metadata": {
            "tags": []
          },
          "execution_count": 15
        }
      ]
    },
    {
      "cell_type": "code",
      "metadata": {
        "colab": {
          "base_uri": "https://localhost:8080/"
        },
        "id": "ahLFtYhU02pF",
        "outputId": "36814671-3168-46bf-d644-ca46a20776a2"
      },
      "source": [
        "trainset = data.build_full_trainset()\r\n",
        "svd.fit(trainset)"
      ],
      "execution_count": 16,
      "outputs": [
        {
          "output_type": "execute_result",
          "data": {
            "text/plain": [
              "<surprise.prediction_algorithms.matrix_factorization.SVD at 0x7f6ca11ee748>"
            ]
          },
          "metadata": {
            "tags": []
          },
          "execution_count": 16
        }
      ]
    },
    {
      "cell_type": "code",
      "metadata": {
        "colab": {
          "base_uri": "https://localhost:8080/"
        },
        "id": "NPqJXW-902pH",
        "outputId": "4e9bb2f8-e509-425a-b0fb-58a4a3b64586"
      },
      "source": [
        "y_pred = []\r\n",
        "for line in range(len(X_test)):\r\n",
        "  y_pred.append(svd.predict(X_test.iloc[line,0],X_test.iloc[line,1],3)[3])\r\n",
        "rmse = mean_squared_error(y_test, y_pred, squared=False)\r\n",
        "r2 = r2_score(y_test, y_pred)\r\n",
        "metrics_svd_10 = (rmse, r2)\r\n",
        "metrics_svd_10"
      ],
      "execution_count": 17,
      "outputs": [
        {
          "output_type": "execute_result",
          "data": {
            "text/plain": [
              "(0.8745701400322375, 0.2948985134548048)"
            ]
          },
          "metadata": {
            "tags": []
          },
          "execution_count": 17
        }
      ]
    },
    {
      "cell_type": "markdown",
      "metadata": {
        "id": "vb6wZUYg31os"
      },
      "source": [
        "## Min 5 ratings\r\n",
        "### Matrix factorization"
      ]
    },
    {
      "cell_type": "code",
      "metadata": {
        "id": "36SIyuBN3k54"
      },
      "source": [
        "X = df_5[['user_id','item_id']]\r\n",
        "y = df_5['rating']\r\n",
        "\r\n",
        "X_train, X_test, y_train, y_test = train_test_split(X, y, test_size=0.20, \\\r\n",
        "                                                    random_state=1000, \\\r\n",
        "                                    stratify = df_5['user_id'])"
      ],
      "execution_count": 18,
      "outputs": []
    },
    {
      "cell_type": "code",
      "metadata": {
        "id": "N0AmJOw93k6C",
        "colab": {
          "base_uri": "https://localhost:8080/"
        },
        "outputId": "d716a310-bcd8-4ed3-8ac5-3cbe17d2fa75"
      },
      "source": [
        "matrix_fact = KernelMF(n_epochs=200, n_factors=100, lr=0.001, reg=0.005)\r\n",
        "matrix_fact.fit(X_train, y_train)"
      ],
      "execution_count": 19,
      "outputs": [
        {
          "output_type": "stream",
          "text": [
            "Epoch  1 / 200  -  train_rmse: 1.0177491832759407\n",
            "Epoch  2 / 200  -  train_rmse: 0.9936167953730801\n",
            "Epoch  3 / 200  -  train_rmse: 0.9745322141972046\n",
            "Epoch  4 / 200  -  train_rmse: 0.958900188911406\n",
            "Epoch  5 / 200  -  train_rmse: 0.9457165245736395\n",
            "Epoch  6 / 200  -  train_rmse: 0.9343441781182534\n",
            "Epoch  7 / 200  -  train_rmse: 0.9243823902054759\n",
            "Epoch  8 / 200  -  train_rmse: 0.9155244249401804\n",
            "Epoch  9 / 200  -  train_rmse: 0.9075574041716852\n",
            "Epoch  10 / 200  -  train_rmse: 0.9003013193620195\n",
            "Epoch  11 / 200  -  train_rmse: 0.8936373424902603\n",
            "Epoch  12 / 200  -  train_rmse: 0.8874773116178144\n",
            "Epoch  13 / 200  -  train_rmse: 0.8817388451719443\n",
            "Epoch  14 / 200  -  train_rmse: 0.876362682031444\n",
            "Epoch  15 / 200  -  train_rmse: 0.8712931185426828\n",
            "Epoch  16 / 200  -  train_rmse: 0.8664942646658477\n",
            "Epoch  17 / 200  -  train_rmse: 0.8619293002574633\n",
            "Epoch  18 / 200  -  train_rmse: 0.8575731066627162\n",
            "Epoch  19 / 200  -  train_rmse: 0.8534003391926251\n",
            "Epoch  20 / 200  -  train_rmse: 0.8493917875357283\n",
            "Epoch  21 / 200  -  train_rmse: 0.8455288305339215\n",
            "Epoch  22 / 200  -  train_rmse: 0.8417953249754415\n",
            "Epoch  23 / 200  -  train_rmse: 0.8381799204905934\n",
            "Epoch  24 / 200  -  train_rmse: 0.8346704767707092\n",
            "Epoch  25 / 200  -  train_rmse: 0.8312568793642264\n",
            "Epoch  26 / 200  -  train_rmse: 0.8279306398505352\n",
            "Epoch  27 / 200  -  train_rmse: 0.824683885708528\n",
            "Epoch  28 / 200  -  train_rmse: 0.821508365161569\n",
            "Epoch  29 / 200  -  train_rmse: 0.8183972982435676\n",
            "Epoch  30 / 200  -  train_rmse: 0.8153457909766514\n",
            "Epoch  31 / 200  -  train_rmse: 0.8123488062274038\n",
            "Epoch  32 / 200  -  train_rmse: 0.8094007588215812\n",
            "Epoch  33 / 200  -  train_rmse: 0.8064981192630798\n",
            "Epoch  34 / 200  -  train_rmse: 0.8036353548250086\n",
            "Epoch  35 / 200  -  train_rmse: 0.8008098359855615\n",
            "Epoch  36 / 200  -  train_rmse: 0.7980188055009778\n",
            "Epoch  37 / 200  -  train_rmse: 0.7952576446403191\n",
            "Epoch  38 / 200  -  train_rmse: 0.7925246489752844\n",
            "Epoch  39 / 200  -  train_rmse: 0.7898166421097375\n",
            "Epoch  40 / 200  -  train_rmse: 0.7871307469825294\n",
            "Epoch  41 / 200  -  train_rmse: 0.7844652269128435\n",
            "Epoch  42 / 200  -  train_rmse: 0.781817244667925\n",
            "Epoch  43 / 200  -  train_rmse: 0.7791851337268794\n",
            "Epoch  44 / 200  -  train_rmse: 0.7765673748186106\n",
            "Epoch  45 / 200  -  train_rmse: 0.77396162177258\n",
            "Epoch  46 / 200  -  train_rmse: 0.7713653640856358\n",
            "Epoch  47 / 200  -  train_rmse: 0.7687793943236936\n",
            "Epoch  48 / 200  -  train_rmse: 0.7661999228333478\n",
            "Epoch  49 / 200  -  train_rmse: 0.7636268583328618\n",
            "Epoch  50 / 200  -  train_rmse: 0.7610571128804556\n",
            "Epoch  51 / 200  -  train_rmse: 0.7584910170299958\n",
            "Epoch  52 / 200  -  train_rmse: 0.7559278039492339\n",
            "Epoch  53 / 200  -  train_rmse: 0.7533659612366115\n",
            "Epoch  54 / 200  -  train_rmse: 0.750803837672234\n",
            "Epoch  55 / 200  -  train_rmse: 0.7482408694747702\n",
            "Epoch  56 / 200  -  train_rmse: 0.7456762848122828\n",
            "Epoch  57 / 200  -  train_rmse: 0.7431092347857008\n",
            "Epoch  58 / 200  -  train_rmse: 0.7405387723339686\n",
            "Epoch  59 / 200  -  train_rmse: 0.737963986502201\n",
            "Epoch  60 / 200  -  train_rmse: 0.7353831766153004\n",
            "Epoch  61 / 200  -  train_rmse: 0.7327996305218618\n",
            "Epoch  62 / 200  -  train_rmse: 0.730207001897656\n",
            "Epoch  63 / 200  -  train_rmse: 0.7276087530577042\n",
            "Epoch  64 / 200  -  train_rmse: 0.7250039111128044\n",
            "Epoch  65 / 200  -  train_rmse: 0.7223907139453097\n",
            "Epoch  66 / 200  -  train_rmse: 0.7197697375727266\n",
            "Epoch  67 / 200  -  train_rmse: 0.7171402842507743\n",
            "Epoch  68 / 200  -  train_rmse: 0.7145019671097036\n",
            "Epoch  69 / 200  -  train_rmse: 0.71185477903466\n",
            "Epoch  70 / 200  -  train_rmse: 0.7091978182111969\n",
            "Epoch  71 / 200  -  train_rmse: 0.7065317159977129\n",
            "Epoch  72 / 200  -  train_rmse: 0.7038549754878233\n",
            "Epoch  73 / 200  -  train_rmse: 0.7011685486080963\n",
            "Epoch  74 / 200  -  train_rmse: 0.6984718957781506\n",
            "Epoch  75 / 200  -  train_rmse: 0.6957652334220997\n",
            "Epoch  76 / 200  -  train_rmse: 0.6930479047127696\n",
            "Epoch  77 / 200  -  train_rmse: 0.6903190485607538\n",
            "Epoch  78 / 200  -  train_rmse: 0.6875804697361855\n",
            "Epoch  79 / 200  -  train_rmse: 0.6848313898787154\n",
            "Epoch  80 / 200  -  train_rmse: 0.68207125013959\n",
            "Epoch  81 / 200  -  train_rmse: 0.6793012621482277\n",
            "Epoch  82 / 200  -  train_rmse: 0.676520644669712\n",
            "Epoch  83 / 200  -  train_rmse: 0.673729476157682\n",
            "Epoch  84 / 200  -  train_rmse: 0.6709288001258126\n",
            "Epoch  85 / 200  -  train_rmse: 0.6681180119127074\n",
            "Epoch  86 / 200  -  train_rmse: 0.6652963622320016\n",
            "Epoch  87 / 200  -  train_rmse: 0.6624653001253649\n",
            "Epoch  88 / 200  -  train_rmse: 0.6596246383752651\n",
            "Epoch  89 / 200  -  train_rmse: 0.6567752831354109\n",
            "Epoch  90 / 200  -  train_rmse: 0.6539164723200388\n",
            "Epoch  91 / 200  -  train_rmse: 0.6510486517833497\n",
            "Epoch  92 / 200  -  train_rmse: 0.6481722843174863\n",
            "Epoch  93 / 200  -  train_rmse: 0.6452879382205233\n",
            "Epoch  94 / 200  -  train_rmse: 0.6423959406592473\n",
            "Epoch  95 / 200  -  train_rmse: 0.639495945362003\n",
            "Epoch  96 / 200  -  train_rmse: 0.6365887813680529\n",
            "Epoch  97 / 200  -  train_rmse: 0.6336749469720162\n",
            "Epoch  98 / 200  -  train_rmse: 0.6307535782162811\n",
            "Epoch  99 / 200  -  train_rmse: 0.6278265705591125\n",
            "Epoch  100 / 200  -  train_rmse: 0.6248933704228973\n",
            "Epoch  101 / 200  -  train_rmse: 0.621954649127229\n",
            "Epoch  102 / 200  -  train_rmse: 0.6190112969159289\n",
            "Epoch  103 / 200  -  train_rmse: 0.6160629147632846\n",
            "Epoch  104 / 200  -  train_rmse: 0.6131107263765074\n",
            "Epoch  105 / 200  -  train_rmse: 0.6101536188263365\n",
            "Epoch  106 / 200  -  train_rmse: 0.607193481477639\n",
            "Epoch  107 / 200  -  train_rmse: 0.6042300150625486\n",
            "Epoch  108 / 200  -  train_rmse: 0.601264489963021\n",
            "Epoch  109 / 200  -  train_rmse: 0.5982961906880323\n",
            "Epoch  110 / 200  -  train_rmse: 0.5953259708215508\n",
            "Epoch  111 / 200  -  train_rmse: 0.5923544512400872\n",
            "Epoch  112 / 200  -  train_rmse: 0.589381839906154\n",
            "Epoch  113 / 200  -  train_rmse: 0.586408720004611\n",
            "Epoch  114 / 200  -  train_rmse: 0.5834350528839141\n",
            "Epoch  115 / 200  -  train_rmse: 0.5804618711563723\n",
            "Epoch  116 / 200  -  train_rmse: 0.5774899126118914\n",
            "Epoch  117 / 200  -  train_rmse: 0.574518432945357\n",
            "Epoch  118 / 200  -  train_rmse: 0.5715482732486219\n",
            "Epoch  119 / 200  -  train_rmse: 0.5685800518385068\n",
            "Epoch  120 / 200  -  train_rmse: 0.5656144764882806\n",
            "Epoch  121 / 200  -  train_rmse: 0.5626512453915057\n",
            "Epoch  122 / 200  -  train_rmse: 0.5596911956853396\n",
            "Epoch  123 / 200  -  train_rmse: 0.5567345874107966\n",
            "Epoch  124 / 200  -  train_rmse: 0.5537815543582203\n",
            "Epoch  125 / 200  -  train_rmse: 0.5508327408441406\n",
            "Epoch  126 / 200  -  train_rmse: 0.5478886624747528\n",
            "Epoch  127 / 200  -  train_rmse: 0.5449489697798817\n",
            "Epoch  128 / 200  -  train_rmse: 0.542014776795648\n",
            "Epoch  129 / 200  -  train_rmse: 0.5390860324043889\n",
            "Epoch  130 / 200  -  train_rmse: 0.5361633887436763\n",
            "Epoch  131 / 200  -  train_rmse: 0.5332476075911093\n",
            "Epoch  132 / 200  -  train_rmse: 0.5303374598367734\n",
            "Epoch  133 / 200  -  train_rmse: 0.527434723536332\n",
            "Epoch  134 / 200  -  train_rmse: 0.5245390969936805\n",
            "Epoch  135 / 200  -  train_rmse: 0.5216508242220517\n",
            "Epoch  136 / 200  -  train_rmse: 0.5187703204723627\n",
            "Epoch  137 / 200  -  train_rmse: 0.5158978810988234\n",
            "Epoch  138 / 200  -  train_rmse: 0.5130343433725161\n",
            "Epoch  139 / 200  -  train_rmse: 0.5101789311833417\n",
            "Epoch  140 / 200  -  train_rmse: 0.5073329434969677\n",
            "Epoch  141 / 200  -  train_rmse: 0.5044960582682761\n",
            "Epoch  142 / 200  -  train_rmse: 0.5016685734876796\n",
            "Epoch  143 / 200  -  train_rmse: 0.4988503098488553\n",
            "Epoch  144 / 200  -  train_rmse: 0.49604202691270904\n",
            "Epoch  145 / 200  -  train_rmse: 0.4932441996348534\n",
            "Epoch  146 / 200  -  train_rmse: 0.4904569390726402\n",
            "Epoch  147 / 200  -  train_rmse: 0.48767994854686403\n",
            "Epoch  148 / 200  -  train_rmse: 0.48491350624740864\n",
            "Epoch  149 / 200  -  train_rmse: 0.4821582706126732\n",
            "Epoch  150 / 200  -  train_rmse: 0.4794139123522635\n",
            "Epoch  151 / 200  -  train_rmse: 0.47668110647894896\n",
            "Epoch  152 / 200  -  train_rmse: 0.47396051381295623\n",
            "Epoch  153 / 200  -  train_rmse: 0.4712505888295982\n",
            "Epoch  154 / 200  -  train_rmse: 0.4685528244929137\n",
            "Epoch  155 / 200  -  train_rmse: 0.4658661976842577\n",
            "Epoch  156 / 200  -  train_rmse: 0.46319274643547353\n",
            "Epoch  157 / 200  -  train_rmse: 0.46053109342278564\n",
            "Epoch  158 / 200  -  train_rmse: 0.45788139046452436\n",
            "Epoch  159 / 200  -  train_rmse: 0.45524444916520107\n",
            "Epoch  160 / 200  -  train_rmse: 0.45261990922943274\n",
            "Epoch  161 / 200  -  train_rmse: 0.4500081463353728\n",
            "Epoch  162 / 200  -  train_rmse: 0.4474095075715394\n",
            "Epoch  163 / 200  -  train_rmse: 0.44482405374413575\n",
            "Epoch  164 / 200  -  train_rmse: 0.4422508729487146\n",
            "Epoch  165 / 200  -  train_rmse: 0.43969109681169527\n",
            "Epoch  166 / 200  -  train_rmse: 0.43714448025670755\n",
            "Epoch  167 / 200  -  train_rmse: 0.43461148315017795\n",
            "Epoch  168 / 200  -  train_rmse: 0.43209149149175263\n",
            "Epoch  169 / 200  -  train_rmse: 0.42958449987239694\n",
            "Epoch  170 / 200  -  train_rmse: 0.42709177021344924\n",
            "Epoch  171 / 200  -  train_rmse: 0.4246121545641261\n",
            "Epoch  172 / 200  -  train_rmse: 0.42214620817600434\n",
            "Epoch  173 / 200  -  train_rmse: 0.4196935262934381\n",
            "Epoch  174 / 200  -  train_rmse: 0.4172547930843885\n",
            "Epoch  175 / 200  -  train_rmse: 0.41482945207796484\n",
            "Epoch  176 / 200  -  train_rmse: 0.4124185661105136\n",
            "Epoch  177 / 200  -  train_rmse: 0.4100207026174206\n",
            "Epoch  178 / 200  -  train_rmse: 0.40763679607805736\n",
            "Epoch  179 / 200  -  train_rmse: 0.40526673207777\n",
            "Epoch  180 / 200  -  train_rmse: 0.40291045949579235\n",
            "Epoch  181 / 200  -  train_rmse: 0.4005682322342544\n",
            "Epoch  182 / 200  -  train_rmse: 0.3982397473023199\n",
            "Epoch  183 / 200  -  train_rmse: 0.3959250494993786\n",
            "Epoch  184 / 200  -  train_rmse: 0.3936244171242606\n",
            "Epoch  185 / 200  -  train_rmse: 0.39133721435251245\n",
            "Epoch  186 / 200  -  train_rmse: 0.389064175866624\n",
            "Epoch  187 / 200  -  train_rmse: 0.38680494950040156\n",
            "Epoch  188 / 200  -  train_rmse: 0.384559410386971\n",
            "Epoch  189 / 200  -  train_rmse: 0.3823279881581882\n",
            "Epoch  190 / 200  -  train_rmse: 0.38011047939237863\n",
            "Epoch  191 / 200  -  train_rmse: 0.3779065399310388\n",
            "Epoch  192 / 200  -  train_rmse: 0.3757164829867217\n",
            "Epoch  193 / 200  -  train_rmse: 0.3735400012619984\n",
            "Epoch  194 / 200  -  train_rmse: 0.371377467167699\n",
            "Epoch  195 / 200  -  train_rmse: 0.3692284287245191\n",
            "Epoch  196 / 200  -  train_rmse: 0.3670929724632276\n",
            "Epoch  197 / 200  -  train_rmse: 0.3649711841507485\n",
            "Epoch  198 / 200  -  train_rmse: 0.3628631512494287\n",
            "Epoch  199 / 200  -  train_rmse: 0.36076837685914964\n",
            "Epoch  200 / 200  -  train_rmse: 0.3586868628986577\n"
          ],
          "name": "stdout"
        },
        {
          "output_type": "execute_result",
          "data": {
            "text/plain": [
              "KernelMF(gamma=0.01, lr=0.001, n_epochs=200, reg=0.005)"
            ]
          },
          "metadata": {
            "tags": []
          },
          "execution_count": 19
        }
      ]
    },
    {
      "cell_type": "code",
      "metadata": {
        "colab": {
          "base_uri": "https://localhost:8080/"
        },
        "id": "clA1FT9x3k6E",
        "outputId": "a90b671a-0fa1-4185-91fe-ce9fc313bced"
      },
      "source": [
        "pred = matrix_fact.predict(X_test)\r\n",
        "# pred = [round(x) for x in pred]\r\n",
        "rmse = mean_squared_error(y_test, pred, squared=False)\r\n",
        "r2 = r2_score(y_test, pred)\r\n",
        "metrics_mf_5 = (rmse, r2)\r\n",
        "metrics_mf_5"
      ],
      "execution_count": 20,
      "outputs": [
        {
          "output_type": "execute_result",
          "data": {
            "text/plain": [
              "(0.8899864162010342, 0.24143013028929972)"
            ]
          },
          "metadata": {
            "tags": []
          },
          "execution_count": 20
        }
      ]
    },
    {
      "cell_type": "markdown",
      "metadata": {
        "id": "0MzHmame38BO"
      },
      "source": [
        "### SVD"
      ]
    },
    {
      "cell_type": "code",
      "metadata": {
        "id": "x7cWy2mT3k6H"
      },
      "source": [
        "df_train =  pd.concat([X_train, y_train], axis=1)"
      ],
      "execution_count": 21,
      "outputs": []
    },
    {
      "cell_type": "code",
      "metadata": {
        "id": "OAprrMA03k6J"
      },
      "source": [
        "reader = Reader()\r\n",
        "data = Dataset.load_from_df(df_train[['user_id', 'item_id', 'rating']], reader)"
      ],
      "execution_count": 22,
      "outputs": []
    },
    {
      "cell_type": "code",
      "metadata": {
        "colab": {
          "base_uri": "https://localhost:8080/"
        },
        "id": "3oJhnN6m3k6K",
        "outputId": "94753b48-0a09-43fd-abb8-e1cc46e6ed35"
      },
      "source": [
        "svd = SVD()\r\n",
        "cross_validate(svd, data, measures=['RMSE','MAE'])"
      ],
      "execution_count": 23,
      "outputs": [
        {
          "output_type": "execute_result",
          "data": {
            "text/plain": [
              "{'fit_time': (1.0458879470825195,\n",
              "  1.034822940826416,\n",
              "  1.0393955707550049,\n",
              "  1.0471115112304688,\n",
              "  1.0533277988433838),\n",
              " 'test_mae': array([0.6945897 , 0.68101093, 0.68496597, 0.67515288, 0.66589902]),\n",
              " 'test_rmse': array([0.89265219, 0.88394651, 0.88469139, 0.87536258, 0.86968621]),\n",
              " 'test_time': (0.028812646865844727,\n",
              "  0.028341293334960938,\n",
              "  0.033648014068603516,\n",
              "  0.028737783432006836,\n",
              "  0.04900693893432617)}"
            ]
          },
          "metadata": {
            "tags": []
          },
          "execution_count": 23
        }
      ]
    },
    {
      "cell_type": "code",
      "metadata": {
        "colab": {
          "base_uri": "https://localhost:8080/"
        },
        "id": "H4r73f7p3k6L",
        "outputId": "c7bcb921-acff-42cb-b35f-b43dad17378f"
      },
      "source": [
        "trainset = data.build_full_trainset()\r\n",
        "svd.fit(trainset)"
      ],
      "execution_count": 24,
      "outputs": [
        {
          "output_type": "execute_result",
          "data": {
            "text/plain": [
              "<surprise.prediction_algorithms.matrix_factorization.SVD at 0x7f6ca0fc05c0>"
            ]
          },
          "metadata": {
            "tags": []
          },
          "execution_count": 24
        }
      ]
    },
    {
      "cell_type": "code",
      "metadata": {
        "colab": {
          "base_uri": "https://localhost:8080/"
        },
        "id": "--wVuO9u3k6M",
        "outputId": "18c4812e-a24f-445d-a2aa-55b639d0ad38"
      },
      "source": [
        "y_pred = []\r\n",
        "for line in range(len(X_test)):\r\n",
        "  y_pred.append(svd.predict(X_test.iloc[line,0],X_test.iloc[line,1],3)[3])\r\n",
        "rmse = mean_squared_error(y_test, y_pred, squared=False)\r\n",
        "r2 = r2_score(y_test, y_pred)\r\n",
        "metrics_svd_5 = (rmse, r2)\r\n",
        "metrics_svd_5"
      ],
      "execution_count": 25,
      "outputs": [
        {
          "output_type": "execute_result",
          "data": {
            "text/plain": [
              "(0.870252525644967, 0.27469709460737113)"
            ]
          },
          "metadata": {
            "tags": []
          },
          "execution_count": 25
        }
      ]
    },
    {
      "cell_type": "markdown",
      "metadata": {
        "id": "NQet4AFA4VQw"
      },
      "source": [
        "## Min 50 ratings\r\n",
        "### Matrix factorization"
      ]
    },
    {
      "cell_type": "code",
      "metadata": {
        "id": "t2Q_IEWd4cOo"
      },
      "source": [
        "X = df_50[['user_id','item_id']]\r\n",
        "y = df_50['rating']\r\n",
        "\r\n",
        "X_train, X_test, y_train, y_test = train_test_split(X, y, test_size=0.20, \\\r\n",
        "                                                    random_state=1000, \\\r\n",
        "                                    stratify = df_50['user_id'])"
      ],
      "execution_count": 26,
      "outputs": []
    },
    {
      "cell_type": "code",
      "metadata": {
        "id": "7aGdr5z-4cOp",
        "colab": {
          "base_uri": "https://localhost:8080/"
        },
        "outputId": "75256c61-54ab-49f5-e048-c4a4a829187a"
      },
      "source": [
        "matrix_fact = KernelMF(n_epochs=200, n_factors=100, lr=0.001, reg=0.005)\r\n",
        "matrix_fact.fit(X_train, y_train)"
      ],
      "execution_count": 27,
      "outputs": [
        {
          "output_type": "stream",
          "text": [
            "Epoch  1 / 200  -  train_rmse: 0.993404890509784\n",
            "Epoch  2 / 200  -  train_rmse: 0.9705016837482731\n",
            "Epoch  3 / 200  -  train_rmse: 0.9523138218797927\n",
            "Epoch  4 / 200  -  train_rmse: 0.9372336532505214\n",
            "Epoch  5 / 200  -  train_rmse: 0.9243685959105227\n",
            "Epoch  6 / 200  -  train_rmse: 0.9131575292477048\n",
            "Epoch  7 / 200  -  train_rmse: 0.90326976392414\n",
            "Epoch  8 / 200  -  train_rmse: 0.8944343876030495\n",
            "Epoch  9 / 200  -  train_rmse: 0.8864743946506423\n",
            "Epoch  10 / 200  -  train_rmse: 0.8792220654277223\n",
            "Epoch  11 / 200  -  train_rmse: 0.8725708196056685\n",
            "Epoch  12 / 200  -  train_rmse: 0.8664402662225955\n",
            "Epoch  13 / 200  -  train_rmse: 0.8607412607476901\n",
            "Epoch  14 / 200  -  train_rmse: 0.855419770482439\n",
            "Epoch  15 / 200  -  train_rmse: 0.8504238312702774\n",
            "Epoch  16 / 200  -  train_rmse: 0.845707085733956\n",
            "Epoch  17 / 200  -  train_rmse: 0.8412372752933527\n",
            "Epoch  18 / 200  -  train_rmse: 0.8369834485805208\n",
            "Epoch  19 / 200  -  train_rmse: 0.8329199195583666\n",
            "Epoch  20 / 200  -  train_rmse: 0.8290257207400777\n",
            "Epoch  21 / 200  -  train_rmse: 0.8252792337751218\n",
            "Epoch  22 / 200  -  train_rmse: 0.8216626018355284\n",
            "Epoch  23 / 200  -  train_rmse: 0.8181650549736852\n",
            "Epoch  24 / 200  -  train_rmse: 0.8147722035740239\n",
            "Epoch  25 / 200  -  train_rmse: 0.8114727921536428\n",
            "Epoch  26 / 200  -  train_rmse: 0.808259286399254\n",
            "Epoch  27 / 200  -  train_rmse: 0.8051233599381556\n",
            "Epoch  28 / 200  -  train_rmse: 0.8020525475998032\n",
            "Epoch  29 / 200  -  train_rmse: 0.7990463776999561\n",
            "Epoch  30 / 200  -  train_rmse: 0.7960929511075624\n",
            "Epoch  31 / 200  -  train_rmse: 0.7931895954192489\n",
            "Epoch  32 / 200  -  train_rmse: 0.7903321159595648\n",
            "Epoch  33 / 200  -  train_rmse: 0.7875147839681655\n",
            "Epoch  34 / 200  -  train_rmse: 0.7847326692875378\n",
            "Epoch  35 / 200  -  train_rmse: 0.7819833661695013\n",
            "Epoch  36 / 200  -  train_rmse: 0.7792637350896576\n",
            "Epoch  37 / 200  -  train_rmse: 0.776569749803584\n",
            "Epoch  38 / 200  -  train_rmse: 0.7738981230563065\n",
            "Epoch  39 / 200  -  train_rmse: 0.7712478397324439\n",
            "Epoch  40 / 200  -  train_rmse: 0.7686149549905467\n",
            "Epoch  41 / 200  -  train_rmse: 0.7659976791065226\n",
            "Epoch  42 / 200  -  train_rmse: 0.7633927903622879\n",
            "Epoch  43 / 200  -  train_rmse: 0.7608006170608713\n",
            "Epoch  44 / 200  -  train_rmse: 0.7582189815787799\n",
            "Epoch  45 / 200  -  train_rmse: 0.7556443910309026\n",
            "Epoch  46 / 200  -  train_rmse: 0.7530769246099747\n",
            "Epoch  47 / 200  -  train_rmse: 0.7505123626650391\n",
            "Epoch  48 / 200  -  train_rmse: 0.7479529968762538\n",
            "Epoch  49 / 200  -  train_rmse: 0.7453950009002885\n",
            "Epoch  50 / 200  -  train_rmse: 0.7428380245628222\n",
            "Epoch  51 / 200  -  train_rmse: 0.7402807450521113\n",
            "Epoch  52 / 200  -  train_rmse: 0.7377218952781069\n",
            "Epoch  53 / 200  -  train_rmse: 0.7351613488195559\n",
            "Epoch  54 / 200  -  train_rmse: 0.7325968714295445\n",
            "Epoch  55 / 200  -  train_rmse: 0.7300284759819278\n",
            "Epoch  56 / 200  -  train_rmse: 0.7274547497083292\n",
            "Epoch  57 / 200  -  train_rmse: 0.724875000657707\n",
            "Epoch  58 / 200  -  train_rmse: 0.7222890198537769\n",
            "Epoch  59 / 200  -  train_rmse: 0.7196953095846966\n",
            "Epoch  60 / 200  -  train_rmse: 0.7170933512975077\n",
            "Epoch  61 / 200  -  train_rmse: 0.7144824004339375\n",
            "Epoch  62 / 200  -  train_rmse: 0.7118627138163086\n",
            "Epoch  63 / 200  -  train_rmse: 0.7092329260229305\n",
            "Epoch  64 / 200  -  train_rmse: 0.7065921172203444\n",
            "Epoch  65 / 200  -  train_rmse: 0.7039402327098679\n",
            "Epoch  66 / 200  -  train_rmse: 0.7012777386479887\n",
            "Epoch  67 / 200  -  train_rmse: 0.6986035700736525\n",
            "Epoch  68 / 200  -  train_rmse: 0.6959176820883869\n",
            "Epoch  69 / 200  -  train_rmse: 0.69321936805654\n",
            "Epoch  70 / 200  -  train_rmse: 0.6905078856893223\n",
            "Epoch  71 / 200  -  train_rmse: 0.6877836227064882\n",
            "Epoch  72 / 200  -  train_rmse: 0.6850468734512475\n",
            "Epoch  73 / 200  -  train_rmse: 0.6822963102328824\n",
            "Epoch  74 / 200  -  train_rmse: 0.6795326541789054\n",
            "Epoch  75 / 200  -  train_rmse: 0.6767558823801486\n",
            "Epoch  76 / 200  -  train_rmse: 0.6739644941492272\n",
            "Epoch  77 / 200  -  train_rmse: 0.671159770526889\n",
            "Epoch  78 / 200  -  train_rmse: 0.66834117357796\n",
            "Epoch  79 / 200  -  train_rmse: 0.6655088558144399\n",
            "Epoch  80 / 200  -  train_rmse: 0.6626630583714304\n",
            "Epoch  81 / 200  -  train_rmse: 0.6598033973714569\n",
            "Epoch  82 / 200  -  train_rmse: 0.656929522155123\n",
            "Epoch  83 / 200  -  train_rmse: 0.6540424654485859\n",
            "Epoch  84 / 200  -  train_rmse: 0.6511421778122105\n",
            "Epoch  85 / 200  -  train_rmse: 0.6482285009477506\n",
            "Epoch  86 / 200  -  train_rmse: 0.6453022306503511\n",
            "Epoch  87 / 200  -  train_rmse: 0.6423631625490617\n",
            "Epoch  88 / 200  -  train_rmse: 0.6394116455878378\n",
            "Epoch  89 / 200  -  train_rmse: 0.6364473545884098\n",
            "Epoch  90 / 200  -  train_rmse: 0.633470291527355\n",
            "Epoch  91 / 200  -  train_rmse: 0.630481759107527\n",
            "Epoch  92 / 200  -  train_rmse: 0.627481920591606\n",
            "Epoch  93 / 200  -  train_rmse: 0.6244713547028354\n",
            "Epoch  94 / 200  -  train_rmse: 0.6214484767239262\n",
            "Epoch  95 / 200  -  train_rmse: 0.6184156054160734\n",
            "Epoch  96 / 200  -  train_rmse: 0.6153726185751529\n",
            "Epoch  97 / 200  -  train_rmse: 0.6123204673459691\n",
            "Epoch  98 / 200  -  train_rmse: 0.6092583895479515\n",
            "Epoch  99 / 200  -  train_rmse: 0.606187901142734\n",
            "Epoch  100 / 200  -  train_rmse: 0.603109299983897\n",
            "Epoch  101 / 200  -  train_rmse: 0.6000231110979094\n",
            "Epoch  102 / 200  -  train_rmse: 0.5969288016623778\n",
            "Epoch  103 / 200  -  train_rmse: 0.5938272878262969\n",
            "Epoch  104 / 200  -  train_rmse: 0.5907199672961333\n",
            "Epoch  105 / 200  -  train_rmse: 0.5876063769010657\n",
            "Epoch  106 / 200  -  train_rmse: 0.5844874297070956\n",
            "Epoch  107 / 200  -  train_rmse: 0.5813633085536846\n",
            "Epoch  108 / 200  -  train_rmse: 0.578235063220662\n",
            "Epoch  109 / 200  -  train_rmse: 0.5751028940776579\n",
            "Epoch  110 / 200  -  train_rmse: 0.5719676875439627\n",
            "Epoch  111 / 200  -  train_rmse: 0.5688289680698866\n",
            "Epoch  112 / 200  -  train_rmse: 0.5656884983590921\n",
            "Epoch  113 / 200  -  train_rmse: 0.5625460729810893\n",
            "Epoch  114 / 200  -  train_rmse: 0.5594032503888301\n",
            "Epoch  115 / 200  -  train_rmse: 0.556259124651866\n",
            "Epoch  116 / 200  -  train_rmse: 0.5531141308548815\n",
            "Epoch  117 / 200  -  train_rmse: 0.5499697129079406\n",
            "Epoch  118 / 200  -  train_rmse: 0.5468263681974784\n",
            "Epoch  119 / 200  -  train_rmse: 0.5436846995202742\n",
            "Epoch  120 / 200  -  train_rmse: 0.5405449173345791\n",
            "Epoch  121 / 200  -  train_rmse: 0.5374076605337325\n",
            "Epoch  122 / 200  -  train_rmse: 0.5342729367841562\n",
            "Epoch  123 / 200  -  train_rmse: 0.5311424340948304\n",
            "Epoch  124 / 200  -  train_rmse: 0.5280153144675939\n",
            "Epoch  125 / 200  -  train_rmse: 0.5248928055342851\n",
            "Epoch  126 / 200  -  train_rmse: 0.5217750878418317\n",
            "Epoch  127 / 200  -  train_rmse: 0.5186632377066532\n",
            "Epoch  128 / 200  -  train_rmse: 0.5155570717369905\n",
            "Epoch  129 / 200  -  train_rmse: 0.5124574462165886\n",
            "Epoch  130 / 200  -  train_rmse: 0.5093639645894182\n",
            "Epoch  131 / 200  -  train_rmse: 0.5062785829820531\n",
            "Epoch  132 / 200  -  train_rmse: 0.5032006216705753\n",
            "Epoch  133 / 200  -  train_rmse: 0.5001301132370366\n",
            "Epoch  134 / 200  -  train_rmse: 0.49706844844686865\n",
            "Epoch  135 / 200  -  train_rmse: 0.4940158331111796\n",
            "Epoch  136 / 200  -  train_rmse: 0.4909726037162058\n",
            "Epoch  137 / 200  -  train_rmse: 0.48793888383027484\n",
            "Epoch  138 / 200  -  train_rmse: 0.4849152804693407\n",
            "Epoch  139 / 200  -  train_rmse: 0.4819016455120772\n",
            "Epoch  140 / 200  -  train_rmse: 0.4788994433177874\n",
            "Epoch  141 / 200  -  train_rmse: 0.4759078977248663\n",
            "Epoch  142 / 200  -  train_rmse: 0.4729282909773632\n",
            "Epoch  143 / 200  -  train_rmse: 0.46995934702957415\n",
            "Epoch  144 / 200  -  train_rmse: 0.4670027801748109\n",
            "Epoch  145 / 200  -  train_rmse: 0.4640583914915436\n",
            "Epoch  146 / 200  -  train_rmse: 0.4611269204979592\n",
            "Epoch  147 / 200  -  train_rmse: 0.45820819914933913\n",
            "Epoch  148 / 200  -  train_rmse: 0.4553021909154903\n",
            "Epoch  149 / 200  -  train_rmse: 0.4524099881895389\n",
            "Epoch  150 / 200  -  train_rmse: 0.449531083190921\n",
            "Epoch  151 / 200  -  train_rmse: 0.4466660216621039\n",
            "Epoch  152 / 200  -  train_rmse: 0.4438151974453535\n",
            "Epoch  153 / 200  -  train_rmse: 0.44097878886393016\n",
            "Epoch  154 / 200  -  train_rmse: 0.43815652201546523\n",
            "Epoch  155 / 200  -  train_rmse: 0.43534818611717774\n",
            "Epoch  156 / 200  -  train_rmse: 0.4325553373988845\n",
            "Epoch  157 / 200  -  train_rmse: 0.42977685704713114\n",
            "Epoch  158 / 200  -  train_rmse: 0.427013995576872\n",
            "Epoch  159 / 200  -  train_rmse: 0.4242663472300592\n",
            "Epoch  160 / 200  -  train_rmse: 0.42153394257725385\n",
            "Epoch  161 / 200  -  train_rmse: 0.41881739359541426\n",
            "Epoch  162 / 200  -  train_rmse: 0.41611615198216234\n",
            "Epoch  163 / 200  -  train_rmse: 0.4134303566357306\n",
            "Epoch  164 / 200  -  train_rmse: 0.4107605404627861\n",
            "Epoch  165 / 200  -  train_rmse: 0.40810713500612045\n",
            "Epoch  166 / 200  -  train_rmse: 0.40546929031355955\n",
            "Epoch  167 / 200  -  train_rmse: 0.4028475161409226\n",
            "Epoch  168 / 200  -  train_rmse: 0.4002418250074304\n",
            "Epoch  169 / 200  -  train_rmse: 0.39765272121828654\n",
            "Epoch  170 / 200  -  train_rmse: 0.3950799102988915\n",
            "Epoch  171 / 200  -  train_rmse: 0.3925230766840727\n",
            "Epoch  172 / 200  -  train_rmse: 0.38998339497036033\n",
            "Epoch  173 / 200  -  train_rmse: 0.3874593428222661\n",
            "Epoch  174 / 200  -  train_rmse: 0.3849521060856996\n",
            "Epoch  175 / 200  -  train_rmse: 0.3824615060980908\n",
            "Epoch  176 / 200  -  train_rmse: 0.3799873307538971\n",
            "Epoch  177 / 200  -  train_rmse: 0.3775291941827812\n",
            "Epoch  178 / 200  -  train_rmse: 0.3750878358299824\n",
            "Epoch  179 / 200  -  train_rmse: 0.37266314532435507\n",
            "Epoch  180 / 200  -  train_rmse: 0.37025537908516093\n",
            "Epoch  181 / 200  -  train_rmse: 0.36786330049587745\n",
            "Epoch  182 / 200  -  train_rmse: 0.36548823740722014\n",
            "Epoch  183 / 200  -  train_rmse: 0.3631300633741215\n",
            "Epoch  184 / 200  -  train_rmse: 0.36078731824407867\n",
            "Epoch  185 / 200  -  train_rmse: 0.3584614429146531\n",
            "Epoch  186 / 200  -  train_rmse: 0.35615225836680164\n",
            "Epoch  187 / 200  -  train_rmse: 0.35385970551898277\n",
            "Epoch  188 / 200  -  train_rmse: 0.35158264683462687\n",
            "Epoch  189 / 200  -  train_rmse: 0.34932182021218705\n",
            "Epoch  190 / 200  -  train_rmse: 0.34707831666091876\n",
            "Epoch  191 / 200  -  train_rmse: 0.3448508675849762\n",
            "Epoch  192 / 200  -  train_rmse: 0.3426398122409394\n",
            "Epoch  193 / 200  -  train_rmse: 0.3404446953796225\n",
            "Epoch  194 / 200  -  train_rmse: 0.3382649284199261\n",
            "Epoch  195 / 200  -  train_rmse: 0.3361017352769502\n",
            "Epoch  196 / 200  -  train_rmse: 0.3339547633908515\n",
            "Epoch  197 / 200  -  train_rmse: 0.33182374462924985\n",
            "Epoch  198 / 200  -  train_rmse: 0.3297081009056797\n",
            "Epoch  199 / 200  -  train_rmse: 0.3276082150104816\n",
            "Epoch  200 / 200  -  train_rmse: 0.32552455327514324\n"
          ],
          "name": "stdout"
        },
        {
          "output_type": "execute_result",
          "data": {
            "text/plain": [
              "KernelMF(gamma=0.01, lr=0.001, n_epochs=200, reg=0.005)"
            ]
          },
          "metadata": {
            "tags": []
          },
          "execution_count": 27
        }
      ]
    },
    {
      "cell_type": "code",
      "metadata": {
        "colab": {
          "base_uri": "https://localhost:8080/"
        },
        "id": "2TBK0KFF4cOq",
        "outputId": "87191f83-4fa3-47c2-817a-15fad9cd5077"
      },
      "source": [
        "pred = matrix_fact.predict(X_test)\r\n",
        "# pred = [round(x) for x in pred]\r\n",
        "rmse = mean_squared_error(y_test, pred, squared=False)\r\n",
        "r2 = r2_score(y_test, pred)\r\n",
        "metrics_mf_50 = (rmse, r2)\r\n",
        "metrics_mf_50"
      ],
      "execution_count": 28,
      "outputs": [
        {
          "output_type": "execute_result",
          "data": {
            "text/plain": [
              "(0.8673843160992969, 0.2750386266521049)"
            ]
          },
          "metadata": {
            "tags": []
          },
          "execution_count": 28
        }
      ]
    },
    {
      "cell_type": "markdown",
      "metadata": {
        "id": "YFivJLw64c7e"
      },
      "source": [
        "### SVD"
      ]
    },
    {
      "cell_type": "code",
      "metadata": {
        "id": "ojPHDAOe4gWf"
      },
      "source": [
        "df_train =  pd.concat([X_train, y_train], axis=1)"
      ],
      "execution_count": 29,
      "outputs": []
    },
    {
      "cell_type": "code",
      "metadata": {
        "id": "Oo5ZFsFS4gWh"
      },
      "source": [
        "reader = Reader()\r\n",
        "data = Dataset.load_from_df(df_train[['user_id', 'item_id', 'rating']], reader)"
      ],
      "execution_count": 30,
      "outputs": []
    },
    {
      "cell_type": "code",
      "metadata": {
        "colab": {
          "base_uri": "https://localhost:8080/"
        },
        "id": "tDlbxw5i4gWi",
        "outputId": "24a5d787-e0ee-44fe-bb7f-1fd618f3fd49"
      },
      "source": [
        "svd = SVD()\r\n",
        "cross_validate(svd, data, measures=['RMSE','MAE'])"
      ],
      "execution_count": 31,
      "outputs": [
        {
          "output_type": "execute_result",
          "data": {
            "text/plain": [
              "{'fit_time': (0.7181310653686523,\n",
              "  0.7184791564941406,\n",
              "  0.7080061435699463,\n",
              "  0.7114322185516357,\n",
              "  0.6997618675231934),\n",
              " 'test_mae': array([0.66251144, 0.6718517 , 0.66843103, 0.65861801, 0.65997596]),\n",
              " 'test_rmse': array([0.85431528, 0.86766754, 0.86396858, 0.85216745, 0.85081055]),\n",
              " 'test_time': (0.019499778747558594,\n",
              "  0.019063472747802734,\n",
              "  0.019317626953125,\n",
              "  0.02272963523864746,\n",
              "  0.020193099975585938)}"
            ]
          },
          "metadata": {
            "tags": []
          },
          "execution_count": 31
        }
      ]
    },
    {
      "cell_type": "code",
      "metadata": {
        "colab": {
          "base_uri": "https://localhost:8080/"
        },
        "id": "aHxFI7uN4gWj",
        "outputId": "7047acbf-5e5a-4159-e905-9bc74cda6d79"
      },
      "source": [
        "trainset = data.build_full_trainset()\r\n",
        "svd.fit(trainset)"
      ],
      "execution_count": 32,
      "outputs": [
        {
          "output_type": "execute_result",
          "data": {
            "text/plain": [
              "<surprise.prediction_algorithms.matrix_factorization.SVD at 0x7f6ca0ee7198>"
            ]
          },
          "metadata": {
            "tags": []
          },
          "execution_count": 32
        }
      ]
    },
    {
      "cell_type": "code",
      "metadata": {
        "colab": {
          "base_uri": "https://localhost:8080/"
        },
        "id": "rGa9kk4c4gWl",
        "outputId": "59bf5a00-4fd0-4943-bb82-18eac146cf4d"
      },
      "source": [
        "y_pred = []\r\n",
        "for line in range(len(X_test)):\r\n",
        "  y_pred.append(svd.predict(X_test.iloc[line,0],X_test.iloc[line,1],3)[3])\r\n",
        "rmse = mean_squared_error(y_test, y_pred, squared=False)\r\n",
        "r2 = r2_score(y_test, y_pred)\r\n",
        "metrics_svd_50 = (rmse, r2)\r\n",
        "metrics_svd_50"
      ],
      "execution_count": 33,
      "outputs": [
        {
          "output_type": "execute_result",
          "data": {
            "text/plain": [
              "(0.8492274942526018, 0.3050719689548955)"
            ]
          },
          "metadata": {
            "tags": []
          },
          "execution_count": 33
        }
      ]
    },
    {
      "cell_type": "markdown",
      "metadata": {
        "id": "34BCxZxAqR5W"
      },
      "source": [
        "## Min 20 ratings\r\n",
        "### Matrix factorization"
      ]
    },
    {
      "cell_type": "code",
      "metadata": {
        "id": "nrV1osQGqQ0x"
      },
      "source": [
        "df_20 = df[df['count']>20]\r\n",
        "X = df_20[['user_id','item_id']]\r\n",
        "y = df_20['rating']\r\n",
        "\r\n",
        "X_train, X_test, y_train, y_test = train_test_split(X, y, test_size=0.20, \\\r\n",
        "                                                    random_state=1000, \\\r\n",
        "                                    stratify = df_20['user_id'])"
      ],
      "execution_count": 34,
      "outputs": []
    },
    {
      "cell_type": "code",
      "metadata": {
        "id": "edLKGCjUqQ1Y",
        "colab": {
          "base_uri": "https://localhost:8080/"
        },
        "outputId": "a6badf9d-c323-4cc1-d853-0b38a0c61b8a"
      },
      "source": [
        "matrix_fact = KernelMF(n_epochs=200, n_factors=100, lr=0.001, reg=0.005)\r\n",
        "matrix_fact.fit(X_train, y_train)"
      ],
      "execution_count": 35,
      "outputs": [
        {
          "output_type": "stream",
          "text": [
            "Epoch  1 / 200  -  train_rmse: 1.0094679225241074\n",
            "Epoch  2 / 200  -  train_rmse: 0.9859429630335019\n",
            "Epoch  3 / 200  -  train_rmse: 0.9671953428567706\n",
            "Epoch  4 / 200  -  train_rmse: 0.9516409565592682\n",
            "Epoch  5 / 200  -  train_rmse: 0.9383903221129478\n",
            "Epoch  6 / 200  -  train_rmse: 0.9268924941830223\n",
            "Epoch  7 / 200  -  train_rmse: 0.9167809193556972\n",
            "Epoch  8 / 200  -  train_rmse: 0.9077546926211938\n",
            "Epoch  9 / 200  -  train_rmse: 0.8996252830209455\n",
            "Epoch  10 / 200  -  train_rmse: 0.8922304794449697\n",
            "Epoch  11 / 200  -  train_rmse: 0.8854475995734343\n",
            "Epoch  12 / 200  -  train_rmse: 0.8791781859101948\n",
            "Epoch  13 / 200  -  train_rmse: 0.8733442264012543\n",
            "Epoch  14 / 200  -  train_rmse: 0.867889783556425\n",
            "Epoch  15 / 200  -  train_rmse: 0.8627598362631125\n",
            "Epoch  16 / 200  -  train_rmse: 0.8579110635044497\n",
            "Epoch  17 / 200  -  train_rmse: 0.8533070854379163\n",
            "Epoch  18 / 200  -  train_rmse: 0.8489220827290358\n",
            "Epoch  19 / 200  -  train_rmse: 0.8447297579004713\n",
            "Epoch  20 / 200  -  train_rmse: 0.8407068906713113\n",
            "Epoch  21 / 200  -  train_rmse: 0.8368357773708008\n",
            "Epoch  22 / 200  -  train_rmse: 0.833103860855109\n",
            "Epoch  23 / 200  -  train_rmse: 0.8294962105403818\n",
            "Epoch  24 / 200  -  train_rmse: 0.8259968195166246\n",
            "Epoch  25 / 200  -  train_rmse: 0.8225986378401287\n",
            "Epoch  26 / 200  -  train_rmse: 0.8192917078658137\n",
            "Epoch  27 / 200  -  train_rmse: 0.8160659687069183\n",
            "Epoch  28 / 200  -  train_rmse: 0.8129143586085751\n",
            "Epoch  29 / 200  -  train_rmse: 0.8098310530347048\n",
            "Epoch  30 / 200  -  train_rmse: 0.806808591869152\n",
            "Epoch  31 / 200  -  train_rmse: 0.8038427166535502\n",
            "Epoch  32 / 200  -  train_rmse: 0.8009267512124834\n",
            "Epoch  33 / 200  -  train_rmse: 0.7980582234046792\n",
            "Epoch  34 / 200  -  train_rmse: 0.7952313334813264\n",
            "Epoch  35 / 200  -  train_rmse: 0.7924424306599773\n",
            "Epoch  36 / 200  -  train_rmse: 0.7896879260830981\n",
            "Epoch  37 / 200  -  train_rmse: 0.7869648515697236\n",
            "Epoch  38 / 200  -  train_rmse: 0.7842698751142939\n",
            "Epoch  39 / 200  -  train_rmse: 0.7816005623157197\n",
            "Epoch  40 / 200  -  train_rmse: 0.7789536461651387\n",
            "Epoch  41 / 200  -  train_rmse: 0.7763273877954943\n",
            "Epoch  42 / 200  -  train_rmse: 0.7737195454635654\n",
            "Epoch  43 / 200  -  train_rmse: 0.7711263393081981\n",
            "Epoch  44 / 200  -  train_rmse: 0.7685471094839107\n",
            "Epoch  45 / 200  -  train_rmse: 0.7659800723770226\n",
            "Epoch  46 / 200  -  train_rmse: 0.7634234254711325\n",
            "Epoch  47 / 200  -  train_rmse: 0.7608748598979498\n",
            "Epoch  48 / 200  -  train_rmse: 0.7583335927593664\n",
            "Epoch  49 / 200  -  train_rmse: 0.7557974846153058\n",
            "Epoch  50 / 200  -  train_rmse: 0.7532656857605824\n",
            "Epoch  51 / 200  -  train_rmse: 0.7507362931634167\n",
            "Epoch  52 / 200  -  train_rmse: 0.7482092913201206\n",
            "Epoch  53 / 200  -  train_rmse: 0.7456823022373428\n",
            "Epoch  54 / 200  -  train_rmse: 0.7431545935115829\n",
            "Epoch  55 / 200  -  train_rmse: 0.740624956067368\n",
            "Epoch  56 / 200  -  train_rmse: 0.7380927446115457\n",
            "Epoch  57 / 200  -  train_rmse: 0.7355578928442799\n",
            "Epoch  58 / 200  -  train_rmse: 0.7330179158232337\n",
            "Epoch  59 / 200  -  train_rmse: 0.7304736994651906\n",
            "Epoch  60 / 200  -  train_rmse: 0.7279225844408947\n",
            "Epoch  61 / 200  -  train_rmse: 0.7253660953567654\n",
            "Epoch  62 / 200  -  train_rmse: 0.7228019513424602\n",
            "Epoch  63 / 200  -  train_rmse: 0.7202301966299874\n",
            "Epoch  64 / 200  -  train_rmse: 0.7176493719421616\n",
            "Epoch  65 / 200  -  train_rmse: 0.7150593709641104\n",
            "Epoch  66 / 200  -  train_rmse: 0.7124605909909352\n",
            "Epoch  67 / 200  -  train_rmse: 0.7098523479958011\n",
            "Epoch  68 / 200  -  train_rmse: 0.7072338131734902\n",
            "Epoch  69 / 200  -  train_rmse: 0.7046042216848024\n",
            "Epoch  70 / 200  -  train_rmse: 0.7019644148270555\n",
            "Epoch  71 / 200  -  train_rmse: 0.6993128792165455\n",
            "Epoch  72 / 200  -  train_rmse: 0.6966499122084014\n",
            "Epoch  73 / 200  -  train_rmse: 0.6939754701810813\n",
            "Epoch  74 / 200  -  train_rmse: 0.6912896061067797\n",
            "Epoch  75 / 200  -  train_rmse: 0.688590869422526\n",
            "Epoch  76 / 200  -  train_rmse: 0.6858800826745972\n",
            "Epoch  77 / 200  -  train_rmse: 0.6831571683626741\n",
            "Epoch  78 / 200  -  train_rmse: 0.6804219681781454\n",
            "Epoch  79 / 200  -  train_rmse: 0.6776744444736048\n",
            "Epoch  80 / 200  -  train_rmse: 0.6749137933367723\n",
            "Epoch  81 / 200  -  train_rmse: 0.6721416868121373\n",
            "Epoch  82 / 200  -  train_rmse: 0.6693564981840189\n",
            "Epoch  83 / 200  -  train_rmse: 0.6665593581766389\n",
            "Epoch  84 / 200  -  train_rmse: 0.6637498671235881\n",
            "Epoch  85 / 200  -  train_rmse: 0.6609282773549\n",
            "Epoch  86 / 200  -  train_rmse: 0.6580948119347358\n",
            "Epoch  87 / 200  -  train_rmse: 0.6552494231422551\n",
            "Epoch  88 / 200  -  train_rmse: 0.6523927499611737\n",
            "Epoch  89 / 200  -  train_rmse: 0.6495238267167099\n",
            "Epoch  90 / 200  -  train_rmse: 0.6466439308507351\n",
            "Epoch  91 / 200  -  train_rmse: 0.6437535858872535\n",
            "Epoch  92 / 200  -  train_rmse: 0.6408521672023066\n",
            "Epoch  93 / 200  -  train_rmse: 0.6379400876665382\n",
            "Epoch  94 / 200  -  train_rmse: 0.6350181938770368\n",
            "Epoch  95 / 200  -  train_rmse: 0.6320864208782027\n",
            "Epoch  96 / 200  -  train_rmse: 0.6291457671697716\n",
            "Epoch  97 / 200  -  train_rmse: 0.6261953443328406\n",
            "Epoch  98 / 200  -  train_rmse: 0.6232364205965755\n",
            "Epoch  99 / 200  -  train_rmse: 0.6202688361955747\n",
            "Epoch  100 / 200  -  train_rmse: 0.6172933130613121\n",
            "Epoch  101 / 200  -  train_rmse: 0.6143107187988661\n",
            "Epoch  102 / 200  -  train_rmse: 0.6113203461088753\n",
            "Epoch  103 / 200  -  train_rmse: 0.6083231047530371\n",
            "Epoch  104 / 200  -  train_rmse: 0.6053200895162392\n",
            "Epoch  105 / 200  -  train_rmse: 0.6023104728740682\n",
            "Epoch  106 / 200  -  train_rmse: 0.5992962049779734\n",
            "Epoch  107 / 200  -  train_rmse: 0.5962770470672887\n",
            "Epoch  108 / 200  -  train_rmse: 0.5932526252551056\n",
            "Epoch  109 / 200  -  train_rmse: 0.590224393449695\n",
            "Epoch  110 / 200  -  train_rmse: 0.5871924474795807\n",
            "Epoch  111 / 200  -  train_rmse: 0.5841578667157458\n",
            "Epoch  112 / 200  -  train_rmse: 0.5811204190007263\n",
            "Epoch  113 / 200  -  train_rmse: 0.5780808984115291\n",
            "Epoch  114 / 200  -  train_rmse: 0.5750398302882824\n",
            "Epoch  115 / 200  -  train_rmse: 0.5719978188035948\n",
            "Epoch  116 / 200  -  train_rmse: 0.5689544661401573\n",
            "Epoch  117 / 200  -  train_rmse: 0.5659115543819433\n",
            "Epoch  118 / 200  -  train_rmse: 0.5628688515477153\n",
            "Epoch  119 / 200  -  train_rmse: 0.5598269054831134\n",
            "Epoch  120 / 200  -  train_rmse: 0.5567865422086552\n",
            "Epoch  121 / 200  -  train_rmse: 0.5537472238344232\n",
            "Epoch  122 / 200  -  train_rmse: 0.5507099389689827\n",
            "Epoch  123 / 200  -  train_rmse: 0.5476752857769265\n",
            "Epoch  124 / 200  -  train_rmse: 0.5446438105530172\n",
            "Epoch  125 / 200  -  train_rmse: 0.5416158508875518\n",
            "Epoch  126 / 200  -  train_rmse: 0.5385922795770213\n",
            "Epoch  127 / 200  -  train_rmse: 0.5355727224244661\n",
            "Epoch  128 / 200  -  train_rmse: 0.5325579671128179\n",
            "Epoch  129 / 200  -  train_rmse: 0.5295486518632438\n",
            "Epoch  130 / 200  -  train_rmse: 0.5265453768059204\n",
            "Epoch  131 / 200  -  train_rmse: 0.5235478005021456\n",
            "Epoch  132 / 200  -  train_rmse: 0.520556924954011\n",
            "Epoch  133 / 200  -  train_rmse: 0.5175728296672152\n",
            "Epoch  134 / 200  -  train_rmse: 0.5145964960218189\n",
            "Epoch  135 / 200  -  train_rmse: 0.5116272697274797\n",
            "Epoch  136 / 200  -  train_rmse: 0.5086660669887894\n",
            "Epoch  137 / 200  -  train_rmse: 0.5057132488220328\n",
            "Epoch  138 / 200  -  train_rmse: 0.5027690556498259\n",
            "Epoch  139 / 200  -  train_rmse: 0.49983428161372695\n",
            "Epoch  140 / 200  -  train_rmse: 0.4969090264416155\n",
            "Epoch  141 / 200  -  train_rmse: 0.493993239920852\n",
            "Epoch  142 / 200  -  train_rmse: 0.4910871428798618\n",
            "Epoch  143 / 200  -  train_rmse: 0.48819180969229375\n",
            "Epoch  144 / 200  -  train_rmse: 0.4853070714928054\n",
            "Epoch  145 / 200  -  train_rmse: 0.48243282851832625\n",
            "Epoch  146 / 200  -  train_rmse: 0.47957033318220843\n",
            "Epoch  147 / 200  -  train_rmse: 0.4767187011637589\n",
            "Epoch  148 / 200  -  train_rmse: 0.47387896963341347\n",
            "Epoch  149 / 200  -  train_rmse: 0.4710515677269052\n",
            "Epoch  150 / 200  -  train_rmse: 0.46823629388455457\n",
            "Epoch  151 / 200  -  train_rmse: 0.4654325749494773\n",
            "Epoch  152 / 200  -  train_rmse: 0.4626418448974186\n",
            "Epoch  153 / 200  -  train_rmse: 0.4598636850123182\n",
            "Epoch  154 / 200  -  train_rmse: 0.4570987329478936\n",
            "Epoch  155 / 200  -  train_rmse: 0.4543468652920865\n",
            "Epoch  156 / 200  -  train_rmse: 0.4516087125689129\n",
            "Epoch  157 / 200  -  train_rmse: 0.44888440813342284\n",
            "Epoch  158 / 200  -  train_rmse: 0.44617342288693046\n",
            "Epoch  159 / 200  -  train_rmse: 0.44347556023660395\n",
            "Epoch  160 / 200  -  train_rmse: 0.4407924918169798\n",
            "Epoch  161 / 200  -  train_rmse: 0.4381232981938914\n",
            "Epoch  162 / 200  -  train_rmse: 0.43546742482096384\n",
            "Epoch  163 / 200  -  train_rmse: 0.4328266288823404\n",
            "Epoch  164 / 200  -  train_rmse: 0.43019976146671335\n",
            "Epoch  165 / 200  -  train_rmse: 0.4275877012668989\n",
            "Epoch  166 / 200  -  train_rmse: 0.42499048864778166\n",
            "Epoch  167 / 200  -  train_rmse: 0.4224084078116927\n",
            "Epoch  168 / 200  -  train_rmse: 0.4198408909504042\n",
            "Epoch  169 / 200  -  train_rmse: 0.41728794802674485\n",
            "Epoch  170 / 200  -  train_rmse: 0.41474956791148754\n",
            "Epoch  171 / 200  -  train_rmse: 0.41222655560375665\n",
            "Epoch  172 / 200  -  train_rmse: 0.40971916665160085\n",
            "Epoch  173 / 200  -  train_rmse: 0.4072264166652995\n",
            "Epoch  174 / 200  -  train_rmse: 0.4047489207065851\n",
            "Epoch  175 / 200  -  train_rmse: 0.4022866725094343\n",
            "Epoch  176 / 200  -  train_rmse: 0.39983935912157986\n",
            "Epoch  177 / 200  -  train_rmse: 0.39740743373369525\n",
            "Epoch  178 / 200  -  train_rmse: 0.3949909249352193\n",
            "Epoch  179 / 200  -  train_rmse: 0.3925897790640888\n",
            "Epoch  180 / 200  -  train_rmse: 0.39020366858914923\n",
            "Epoch  181 / 200  -  train_rmse: 0.387832633828116\n",
            "Epoch  182 / 200  -  train_rmse: 0.38547724324927957\n",
            "Epoch  183 / 200  -  train_rmse: 0.38313728707914213\n",
            "Epoch  184 / 200  -  train_rmse: 0.38081231208525773\n",
            "Epoch  185 / 200  -  train_rmse: 0.37850269802772163\n",
            "Epoch  186 / 200  -  train_rmse: 0.37620804889762627\n",
            "Epoch  187 / 200  -  train_rmse: 0.3739287289551475\n",
            "Epoch  188 / 200  -  train_rmse: 0.37166501327174783\n",
            "Epoch  189 / 200  -  train_rmse: 0.3694160463241819\n",
            "Epoch  190 / 200  -  train_rmse: 0.36718260880311304\n",
            "Epoch  191 / 200  -  train_rmse: 0.3649643574309066\n",
            "Epoch  192 / 200  -  train_rmse: 0.3627609849076539\n",
            "Epoch  193 / 200  -  train_rmse: 0.36057268210862214\n",
            "Epoch  194 / 200  -  train_rmse: 0.35839946961772096\n",
            "Epoch  195 / 200  -  train_rmse: 0.35624139257882886\n",
            "Epoch  196 / 200  -  train_rmse: 0.3540979763537276\n",
            "Epoch  197 / 200  -  train_rmse: 0.35196936863953504\n",
            "Epoch  198 / 200  -  train_rmse: 0.34985554471888225\n",
            "Epoch  199 / 200  -  train_rmse: 0.3477568604301562\n",
            "Epoch  200 / 200  -  train_rmse: 0.3456728400478567\n"
          ],
          "name": "stdout"
        },
        {
          "output_type": "execute_result",
          "data": {
            "text/plain": [
              "KernelMF(gamma=0.01, lr=0.001, n_epochs=200, reg=0.005)"
            ]
          },
          "metadata": {
            "tags": []
          },
          "execution_count": 35
        }
      ]
    },
    {
      "cell_type": "code",
      "metadata": {
        "colab": {
          "base_uri": "https://localhost:8080/"
        },
        "id": "T0HKu_ilqQ1a",
        "outputId": "894b5275-8662-47af-e188-3134f21b446f"
      },
      "source": [
        "pred = matrix_fact.predict(X_test)\r\n",
        "# pred = [round(x) for x in pred]\r\n",
        "rmse = mean_squared_error(y_test, pred, squared=False)\r\n",
        "r2 = r2_score(y_test, pred)\r\n",
        "metrics_mf_20 = (rmse, r2)\r\n",
        "metrics_mf_20"
      ],
      "execution_count": 36,
      "outputs": [
        {
          "output_type": "execute_result",
          "data": {
            "text/plain": [
              "(0.8866999837639745, 0.26521648087153316)"
            ]
          },
          "metadata": {
            "tags": []
          },
          "execution_count": 36
        }
      ]
    },
    {
      "cell_type": "markdown",
      "metadata": {
        "id": "gkBpiwAYqWFo"
      },
      "source": [
        "### SVD"
      ]
    },
    {
      "cell_type": "code",
      "metadata": {
        "id": "n0y7jQDsqaan"
      },
      "source": [
        "df_train =  pd.concat([X_train, y_train], axis=1)"
      ],
      "execution_count": 37,
      "outputs": []
    },
    {
      "cell_type": "code",
      "metadata": {
        "id": "CUsELeNRqaap"
      },
      "source": [
        "reader = Reader()\r\n",
        "data = Dataset.load_from_df(df_train[['user_id', 'item_id', 'rating']], reader)"
      ],
      "execution_count": 38,
      "outputs": []
    },
    {
      "cell_type": "code",
      "metadata": {
        "colab": {
          "base_uri": "https://localhost:8080/"
        },
        "id": "WH9GKUhCqaaq",
        "outputId": "27d211e6-6130-4582-a364-ccdd3ef1a80c"
      },
      "source": [
        "svd = SVD()\r\n",
        "cross_validate(svd, data, measures=['RMSE','MAE'])"
      ],
      "execution_count": 39,
      "outputs": [
        {
          "output_type": "execute_result",
          "data": {
            "text/plain": [
              "{'fit_time': (0.9646100997924805,\n",
              "  0.9506909847259521,\n",
              "  0.9288296699523926,\n",
              "  0.9290697574615479,\n",
              "  0.9350330829620361),\n",
              " 'test_mae': array([0.674097  , 0.66459188, 0.68550958, 0.67665807, 0.67482603]),\n",
              " 'test_rmse': array([0.87214823, 0.86047951, 0.88846063, 0.87810712, 0.86965017]),\n",
              " 'test_time': (0.02562713623046875,\n",
              "  0.03073406219482422,\n",
              "  0.02535843849182129,\n",
              "  0.026038408279418945,\n",
              "  0.025626659393310547)}"
            ]
          },
          "metadata": {
            "tags": []
          },
          "execution_count": 39
        }
      ]
    },
    {
      "cell_type": "code",
      "metadata": {
        "colab": {
          "base_uri": "https://localhost:8080/"
        },
        "id": "9q0mmbE3qaas",
        "outputId": "e5336229-4533-472a-d080-ef44819a0d2b"
      },
      "source": [
        "trainset = data.build_full_trainset()\r\n",
        "svd.fit(trainset)"
      ],
      "execution_count": 40,
      "outputs": [
        {
          "output_type": "execute_result",
          "data": {
            "text/plain": [
              "<surprise.prediction_algorithms.matrix_factorization.SVD at 0x7f6ca130a7b8>"
            ]
          },
          "metadata": {
            "tags": []
          },
          "execution_count": 40
        }
      ]
    },
    {
      "cell_type": "code",
      "metadata": {
        "colab": {
          "base_uri": "https://localhost:8080/"
        },
        "id": "8VQB0FSKqaat",
        "outputId": "748eecc6-ba14-4dd2-ccc9-5a3174689480"
      },
      "source": [
        "y_pred = []\r\n",
        "for line in range(len(X_test)):\r\n",
        "  y_pred.append(svd.predict(X_test.iloc[line,0],X_test.iloc[line,1],3)[3])\r\n",
        "rmse = mean_squared_error(y_test, y_pred, squared=False)\r\n",
        "r2 = r2_score(y_test, y_pred)\r\n",
        "metrics_svd_20 = (rmse, r2)\r\n",
        "metrics_svd_20"
      ],
      "execution_count": 41,
      "outputs": [
        {
          "output_type": "execute_result",
          "data": {
            "text/plain": [
              "(0.8710343443958191, 0.29095048491052844)"
            ]
          },
          "metadata": {
            "tags": []
          },
          "execution_count": 41
        }
      ]
    },
    {
      "cell_type": "markdown",
      "metadata": {
        "id": "fN593cdO4xtO"
      },
      "source": [
        "## Model Selection"
      ]
    },
    {
      "cell_type": "code",
      "metadata": {
        "id": "QPS8eMyT4yRb"
      },
      "source": [
        "mins = [5,5,10,10,50,50,20,20]\r\n",
        "methods = [0,1,0,1,0,1,0,1]\r\n",
        "metrics = [metrics_mf_5,metrics_svd_5,metrics_mf_10, metrics_svd_10, metrics_mf_50, metrics_svd_50,metrics_mf_20, metrics_svd_20 ]\r\n",
        "rmses = []\r\n",
        "r2s = []\r\n",
        "for met in metrics:\r\n",
        "  rmses.append(met[0])\r\n",
        "  r2s.append(met[1])"
      ],
      "execution_count": 42,
      "outputs": []
    },
    {
      "cell_type": "code",
      "metadata": {
        "colab": {
          "base_uri": "https://localhost:8080/"
        },
        "id": "BniBHJ8a6SME",
        "outputId": "b7bdd549-a87f-476c-83da-de90c3bc975b"
      },
      "source": [
        "rmses"
      ],
      "execution_count": 49,
      "outputs": [
        {
          "output_type": "execute_result",
          "data": {
            "text/plain": [
              "[0.8874538602069754,\n",
              " 0.8681151628159886,\n",
              " 0.8950978955531211,\n",
              " 0.8720290051297501,\n",
              " 0.8759059646560083,\n",
              " 0.8509081934112404,\n",
              " 0.8969691818247627,\n",
              " 0.8721512945324089]"
            ]
          },
          "metadata": {
            "tags": []
          },
          "execution_count": 49
        }
      ]
    },
    {
      "cell_type": "code",
      "metadata": {
        "colab": {
          "base_uri": "https://localhost:8080/",
          "height": 295
        },
        "id": "gn-ZtyVv5vQJ",
        "outputId": "2cbc2fc0-9336-4589-a056-c6bf99f90f08"
      },
      "source": [
        "plt.scatter(x=rmses, y=r2s, s=mins, c=methods)\r\n",
        "plt.xlabel('RMSE')\r\n",
        "plt.ylabel('R2')\r\n",
        "plt.title('R2 in function of RMSE for different packages and min rating')\r\n",
        "plt.colorbar()\r\n",
        "plt.show()"
      ],
      "execution_count": 44,
      "outputs": [
        {
          "output_type": "display_data",
          "data": {
            "image/png": "[encoded data removed]",
            "text/plain": [
              "<Figure size 432x288 with 2 Axes>"
            ]
          },
          "metadata": {
            "tags": [],
            "needs_background": "light"
          }
        }
      ]
    },
    {
      "cell_type": "markdown",
      "metadata": {
        "id": "KtWlFUnAsgwC"
      },
      "source": [
        "We want to maximize R2 and minimize RMSE. So we want the most left upper corner point!\r\n",
        "\r\n",
        "First, the SVD matrix factorization - yellow points- returns better metrics, we will use this package.\r\n",
        "\r\n",
        "Concerning the minimum of rating per users, limited users with more than 50 ratings is too much, we will lose to many data. Let use the SVD model with minimum number of 20 and try to tune its hyperparameters. \r\n",
        "\r\n",
        "Let know hypertune the parameters of this model."
      ]
    },
    {
      "cell_type": "markdown",
      "metadata": {
        "id": "4nlMr4uYswp3"
      },
      "source": [
        "## Hyperparameters of SVD with 20 min user ratings\r\n",
        "\r\n",
        "We will hypertune the number of factors, epochs and learning rate."
      ]
    },
    {
      "cell_type": "code",
      "metadata": {
        "id": "30JPbgbbtKJ4"
      },
      "source": [
        "df_20 = df[df['count']>20]\r\n",
        "\r\n",
        "df_train, df_test = train_test_split(df_20, test_size=0.20, \\\r\n",
        "                                                    random_state=1000, \\\r\n",
        "                                    stratify = df_20['user_id'])"
      ],
      "execution_count": 45,
      "outputs": []
    },
    {
      "cell_type": "code",
      "metadata": {
        "id": "YbYFvoz9thSP"
      },
      "source": [
        "factors = [100,200,500]\r\n",
        "epochs = [20,50,100]\r\n",
        "lr_all = [0.001,0.005,0.01]"
      ],
      "execution_count": 46,
      "outputs": []
    },
    {
      "cell_type": "code",
      "metadata": {
        "id": "5JfaqF45tWmY"
      },
      "source": [
        "reader = Reader()\r\n",
        "data = Dataset.load_from_df(df_train[['user_id', 'item_id', 'rating']], reader)\r\n",
        "rmse_20 = []\r\n",
        "r2_20 = []\r\n",
        "params = []\r\n",
        "for fac in factors:\r\n",
        "  for epoch in epochs:\r\n",
        "    for lr in lr_all:\r\n",
        "      svd = SVD(n_factors=fac, n_epochs=epoch, lr_all=lr)\r\n",
        "      cross_validate(svd, data, measures=['RMSE','MAE'])\r\n",
        "      trainset = data.build_full_trainset()\r\n",
        "      svd.fit(trainset)\r\n",
        "      y_pred = []\r\n",
        "      for line in range(len(df_test)):\r\n",
        "        y_pred.append(svd.predict(df_test.iloc[line,0],df_test.iloc[line,1],3)[3])\r\n",
        "      rmse_20.append(mean_squared_error(df_test['rating'], y_pred, squared=False))\r\n",
        "      r2_20.append(r2_score(df_test['rating'], y_pred))\r\n",
        "      params.append((fac,epoch,lr))\r\n",
        "\r\n"
      ],
      "execution_count": 47,
      "outputs": []
    },
    {
      "cell_type": "code",
      "metadata": {
        "colab": {
          "base_uri": "https://localhost:8080/"
        },
        "id": "-bvPoVrPyZGh",
        "outputId": "6d21945b-d507-4c3f-d61a-a86bd80755ed"
      },
      "source": [
        "np.argmin(rmse_20), np.argmax(r2_20), params[np.argmin(rmse_20)]"
      ],
      "execution_count": 53,
      "outputs": [
        {
          "output_type": "execute_result",
          "data": {
            "text/plain": [
              "(26, 26, (500, 100, 0.01))"
            ]
          },
          "metadata": {
            "tags": []
          },
          "execution_count": 53
        }
      ]
    },
    {
      "cell_type": "code",
      "metadata": {
        "colab": {
          "base_uri": "https://localhost:8080/",
          "height": 295
        },
        "id": "IxVnXNfNxAEE",
        "outputId": "8f73ddc5-63a9-4e3a-daa1-9d55276a60d5"
      },
      "source": [
        "factors_plt = [100,100,100,100,100,100,100,100,100,200,200,200,200,200,200,200,200,200,500,500,500,500,500,500,500,500,500]\r\n",
        "epochs_plt = [20,20,20,50,50,50,100,100,100,20,20,20,50,50,50,100,100,100,20,20,20,50,50,50,100,100,100]\r\n",
        "marker_plt = ['o','o','o','o','o','o','o','o','o','+','+','+','+','+','+','+','+','+','s','s','s','s','s','s','s','s','s']\r\n",
        "for _m, c, _s, _x, _y in zip(marker_plt, epochs_plt, factors_plt, rmse_20, r2_20):\r\n",
        "    plt.scatter(_x, _y, marker=_m, c=c, s=_s)\r\n",
        "# plt.scatter(x=rmse_20, y=r2_20, s=factors_plt, c=epochs_plt, marker=marker_plt)\r\n",
        "plt.xlabel('RMSE')\r\n",
        "plt.ylabel('R2')\r\n",
        "plt.title('R2 in function of RMSE for different hyperparameters')\r\n",
        "plt.colorbar()\r\n",
        "plt.show()"
      ],
      "execution_count": 49,
      "outputs": [
        {
          "output_type": "display_data",
          "data": {
            "image/png": "[encoded data removed]",
            "text/plain": [
              "<Figure size 432x288 with 2 Axes>"
            ]
          },
          "metadata": {
            "tags": [],
            "needs_background": "light"
          }
        }
      ]
    },
    {
      "cell_type": "markdown",
      "metadata": {
        "id": "iuUoeD5kzyz9"
      },
      "source": [
        "Again, we want to most left upper point. The best option is the default one: n_factors=500, epochs=100 and learning rate=0.01"
      ]
    },
    {
      "cell_type": "markdown",
      "metadata": {
        "id": "vRuqt6Qj3Yi0"
      },
      "source": [
        "## Get 10 best reco"
      ]
    },
    {
      "cell_type": "code",
      "metadata": {
        "colab": {
          "base_uri": "https://localhost:8080/"
        },
        "id": "_m9GFWBI_lE5",
        "outputId": "2377e0be-4028-46a3-aafb-44430d6a0e89"
      },
      "source": [
        "df_20 = df[df['count']>20]\r\n",
        "\r\n",
        "df_train, df_test = train_test_split(df_20, test_size=0.20, \\\r\n",
        "                                                    random_state=1000, \\\r\n",
        "                                    stratify = df_20['user_id'])\r\n",
        "\r\n",
        "reader = Reader()\r\n",
        "data = Dataset.load_from_df(df_train[['user_id', 'item_id', 'rating']], reader)\r\n",
        "svd = SVD(n_factors=500, n_epochs=100, lr_all=0.01)\r\n",
        "cross_validate(svd, data, measures=['RMSE','MAE'])\r\n",
        "trainset = data.build_full_trainset()\r\n",
        "svd.fit(trainset)"
      ],
      "execution_count": 67,
      "outputs": [
        {
          "output_type": "execute_result",
          "data": {
            "text/plain": [
              "<surprise.prediction_algorithms.matrix_factorization.SVD at 0x7f7adee3cf60>"
            ]
          },
          "metadata": {
            "tags": []
          },
          "execution_count": 67
        }
      ]
    },
    {
      "cell_type": "code",
      "metadata": {
        "id": "DBbDnM1K-hzN"
      },
      "source": [
        "def get_10(user_id, top_n=10):\r\n",
        "  movies_id = df_20['item_id'].unique().tolist()\r\n",
        "  movie_rates = [(id, svd.predict(user_id, id)[3]) for id in movies_id]#\r\n",
        "  movie_rates = sorted(movie_rates, key=lambda x:x[1], reverse=True)\r\n",
        "  return dict(movie_rates[:top_n])\r\n",
        "\r\n"
      ],
      "execution_count": 80,
      "outputs": []
    },
    {
      "cell_type": "code",
      "metadata": {
        "id": "Jhky0nckoH_G",
        "colab": {
          "base_uri": "https://localhost:8080/"
        },
        "outputId": "de3de7dd-76c6-4961-f383-a8f24c74a682"
      },
      "source": [
        "get_10(1)"
      ],
      "execution_count": 81,
      "outputs": [
        {
          "output_type": "execute_result",
          "data": {
            "text/plain": [
              "{475: 5,\n",
              " 745: 5,\n",
              " 750: 4.991575260118308,\n",
              " 923: 5,\n",
              " 924: 4.998327374974078,\n",
              " 1250: 4.983823533247983,\n",
              " 1278: 5,\n",
              " 2067: 5,\n",
              " 2502: 5,\n",
              " 8874: 5}"
            ]
          },
          "metadata": {
            "tags": []
          },
          "execution_count": 81
        }
      ]
    },
    {
      "cell_type": "code",
      "metadata": {
        "id": "fvzjH_9xiet8"
      },
      "source": [
        ""
      ],
      "execution_count": null,
      "outputs": []
    }
  ]
}