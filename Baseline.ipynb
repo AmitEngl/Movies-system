{
  "nbformat": 4,
  "nbformat_minor": 0,
  "metadata": {
    "kernelspec": {
      "display_name": "Python 3",
      "language": "python",
      "name": "python3"
    },
    "language_info": {
      "codemirror_mode": {
        "name": "ipython",
        "version": 3
      },
      "file_extension": ".py",
      "mimetype": "text/x-python",
      "name": "python",
      "nbconvert_exporter": "python",
      "pygments_lexer": "ipython3",
      "version": "3.8.3"
    },
    "nbTranslate": {
      "displayLangs": [
        "*"
      ],
      "hotkey": "alt-t",
      "langInMainMenu": true,
      "sourceLang": "en",
      "targetLang": "fr",
      "useGoogleTranslate": true
    },
    "colab": {
      "name": "Baseline.ipynb",
      "provenance": [],
      "include_colab_link": true
    }
  },
  "cells": [
    {
      "cell_type": "markdown",
      "metadata": {
        "id": "view-in-github",
        "colab_type": "text"
      },
      "source": [
        "<a href=\"https://colab.research.google.com/github/OhadHayoun/Movies-system/blob/master/Baseline.ipynb\" target=\"_parent\"><img src=\"https://colab.research.google.com/assets/colab-badge.svg\" alt=\"Open In Colab\"/></a>"
      ]
    },
    {
      "cell_type": "code",
      "metadata": {
        "id": "3nyxI-JdJ2j2"
      },
      "source": [
        "import pandas as pd\n",
        "import numpy as np\n",
        "from sklearn.model_selection import train_test_split\n",
        "from sklearn.metrics import mean_squared_error\n",
        "from sklearn.metrics import r2_score"
      ],
      "execution_count": null,
      "outputs": []
    },
    {
      "cell_type": "code",
      "metadata": {
        "id": "q4hL4lrmJ2j8"
      },
      "source": [
        "df = pd.read_csv('ratings_small.csv')\n"
      ],
      "execution_count": null,
      "outputs": []
    },
    {
      "cell_type": "markdown",
      "metadata": {
        "id": "8zQBRv4zJ2j9"
      },
      "source": [
        "## Quick EDA"
      ]
    },
    {
      "cell_type": "code",
      "metadata": {
        "id": "G05NSXCJJ2j9",
        "outputId": "5c9b5fee-5c83-4c19-fbee-3da96e6bdd2e"
      },
      "source": [
        "df.sample(10)"
      ],
      "execution_count": null,
      "outputs": [
        {
          "output_type": "execute_result",
          "data": {
            "text/html": [
              "<div>\n",
              "<style scoped>\n",
              "    .dataframe tbody tr th:only-of-type {\n",
              "        vertical-align: middle;\n",
              "    }\n",
              "\n",
              "    .dataframe tbody tr th {\n",
              "        vertical-align: top;\n",
              "    }\n",
              "\n",
              "    .dataframe thead th {\n",
              "        text-align: right;\n",
              "    }\n",
              "</style>\n",
              "<table border=\"1\" class=\"dataframe\">\n",
              "  <thead>\n",
              "    <tr style=\"text-align: right;\">\n",
              "      <th></th>\n",
              "      <th>userId</th>\n",
              "      <th>movieId</th>\n",
              "      <th>rating</th>\n",
              "      <th>timestamp</th>\n",
              "    </tr>\n",
              "  </thead>\n",
              "  <tbody>\n",
              "    <tr>\n",
              "      <th>83145</th>\n",
              "      <td>564</td>\n",
              "      <td>544</td>\n",
              "      <td>1.0</td>\n",
              "      <td>974839453</td>\n",
              "    </tr>\n",
              "    <tr>\n",
              "      <th>72621</th>\n",
              "      <td>509</td>\n",
              "      <td>1500</td>\n",
              "      <td>4.0</td>\n",
              "      <td>939329795</td>\n",
              "    </tr>\n",
              "    <tr>\n",
              "      <th>94889</th>\n",
              "      <td>624</td>\n",
              "      <td>92439</td>\n",
              "      <td>2.0</td>\n",
              "      <td>1351539673</td>\n",
              "    </tr>\n",
              "    <tr>\n",
              "      <th>65012</th>\n",
              "      <td>463</td>\n",
              "      <td>1962</td>\n",
              "      <td>4.0</td>\n",
              "      <td>1051711354</td>\n",
              "    </tr>\n",
              "    <tr>\n",
              "      <th>67764</th>\n",
              "      <td>472</td>\n",
              "      <td>2947</td>\n",
              "      <td>4.0</td>\n",
              "      <td>1162244221</td>\n",
              "    </tr>\n",
              "    <tr>\n",
              "      <th>44191</th>\n",
              "      <td>311</td>\n",
              "      <td>6470</td>\n",
              "      <td>3.0</td>\n",
              "      <td>1065211205</td>\n",
              "    </tr>\n",
              "    <tr>\n",
              "      <th>42514</th>\n",
              "      <td>306</td>\n",
              "      <td>457</td>\n",
              "      <td>4.0</td>\n",
              "      <td>939715834</td>\n",
              "    </tr>\n",
              "    <tr>\n",
              "      <th>89756</th>\n",
              "      <td>596</td>\n",
              "      <td>8376</td>\n",
              "      <td>4.5</td>\n",
              "      <td>1138659864</td>\n",
              "    </tr>\n",
              "    <tr>\n",
              "      <th>75521</th>\n",
              "      <td>524</td>\n",
              "      <td>2997</td>\n",
              "      <td>3.5</td>\n",
              "      <td>1256288096</td>\n",
              "    </tr>\n",
              "    <tr>\n",
              "      <th>11790</th>\n",
              "      <td>73</td>\n",
              "      <td>121231</td>\n",
              "      <td>3.5</td>\n",
              "      <td>1431233272</td>\n",
              "    </tr>\n",
              "  </tbody>\n",
              "</table>\n",
              "</div>"
            ],
            "text/plain": [
              "       userId  movieId  rating   timestamp\n",
              "83145     564      544     1.0   974839453\n",
              "72621     509     1500     4.0   939329795\n",
              "94889     624    92439     2.0  1351539673\n",
              "65012     463     1962     4.0  1051711354\n",
              "67764     472     2947     4.0  1162244221\n",
              "44191     311     6470     3.0  1065211205\n",
              "42514     306      457     4.0   939715834\n",
              "89756     596     8376     4.5  1138659864\n",
              "75521     524     2997     3.5  1256288096\n",
              "11790      73   121231     3.5  1431233272"
            ]
          },
          "metadata": {
            "tags": []
          },
          "execution_count": 3
        }
      ]
    },
    {
      "cell_type": "code",
      "metadata": {
        "id": "HQgW2957J2j-",
        "outputId": "2971d992-5af2-4744-fb04-e9f2b1876d47"
      },
      "source": [
        "df.info()"
      ],
      "execution_count": null,
      "outputs": [
        {
          "output_type": "stream",
          "text": [
            "<class 'pandas.core.frame.DataFrame'>\n",
            "RangeIndex: 100004 entries, 0 to 100003\n",
            "Data columns (total 4 columns):\n",
            " #   Column     Non-Null Count   Dtype  \n",
            "---  ------     --------------   -----  \n",
            " 0   userId     100004 non-null  int64  \n",
            " 1   movieId    100004 non-null  int64  \n",
            " 2   rating     100004 non-null  float64\n",
            " 3   timestamp  100004 non-null  int64  \n",
            "dtypes: float64(1), int64(3)\n",
            "memory usage: 3.1 MB\n"
          ],
          "name": "stdout"
        }
      ]
    },
    {
      "cell_type": "code",
      "metadata": {
        "id": "WBO2f8EOJ2j-",
        "outputId": "cf00e738-2bbf-430d-d890-4a2de5758f70"
      },
      "source": [
        "df.describe()"
      ],
      "execution_count": null,
      "outputs": [
        {
          "output_type": "execute_result",
          "data": {
            "text/html": [
              "<div>\n",
              "<style scoped>\n",
              "    .dataframe tbody tr th:only-of-type {\n",
              "        vertical-align: middle;\n",
              "    }\n",
              "\n",
              "    .dataframe tbody tr th {\n",
              "        vertical-align: top;\n",
              "    }\n",
              "\n",
              "    .dataframe thead th {\n",
              "        text-align: right;\n",
              "    }\n",
              "</style>\n",
              "<table border=\"1\" class=\"dataframe\">\n",
              "  <thead>\n",
              "    <tr style=\"text-align: right;\">\n",
              "      <th></th>\n",
              "      <th>userId</th>\n",
              "      <th>movieId</th>\n",
              "      <th>rating</th>\n",
              "      <th>timestamp</th>\n",
              "    </tr>\n",
              "  </thead>\n",
              "  <tbody>\n",
              "    <tr>\n",
              "      <th>count</th>\n",
              "      <td>100004.000000</td>\n",
              "      <td>100004.000000</td>\n",
              "      <td>100004.000000</td>\n",
              "      <td>1.000040e+05</td>\n",
              "    </tr>\n",
              "    <tr>\n",
              "      <th>mean</th>\n",
              "      <td>347.011310</td>\n",
              "      <td>12548.664363</td>\n",
              "      <td>3.543608</td>\n",
              "      <td>1.129639e+09</td>\n",
              "    </tr>\n",
              "    <tr>\n",
              "      <th>std</th>\n",
              "      <td>195.163838</td>\n",
              "      <td>26369.198969</td>\n",
              "      <td>1.058064</td>\n",
              "      <td>1.916858e+08</td>\n",
              "    </tr>\n",
              "    <tr>\n",
              "      <th>min</th>\n",
              "      <td>1.000000</td>\n",
              "      <td>1.000000</td>\n",
              "      <td>0.500000</td>\n",
              "      <td>7.896520e+08</td>\n",
              "    </tr>\n",
              "    <tr>\n",
              "      <th>25%</th>\n",
              "      <td>182.000000</td>\n",
              "      <td>1028.000000</td>\n",
              "      <td>3.000000</td>\n",
              "      <td>9.658478e+08</td>\n",
              "    </tr>\n",
              "    <tr>\n",
              "      <th>50%</th>\n",
              "      <td>367.000000</td>\n",
              "      <td>2406.500000</td>\n",
              "      <td>4.000000</td>\n",
              "      <td>1.110422e+09</td>\n",
              "    </tr>\n",
              "    <tr>\n",
              "      <th>75%</th>\n",
              "      <td>520.000000</td>\n",
              "      <td>5418.000000</td>\n",
              "      <td>4.000000</td>\n",
              "      <td>1.296192e+09</td>\n",
              "    </tr>\n",
              "    <tr>\n",
              "      <th>max</th>\n",
              "      <td>671.000000</td>\n",
              "      <td>163949.000000</td>\n",
              "      <td>5.000000</td>\n",
              "      <td>1.476641e+09</td>\n",
              "    </tr>\n",
              "  </tbody>\n",
              "</table>\n",
              "</div>"
            ],
            "text/plain": [
              "              userId        movieId         rating     timestamp\n",
              "count  100004.000000  100004.000000  100004.000000  1.000040e+05\n",
              "mean      347.011310   12548.664363       3.543608  1.129639e+09\n",
              "std       195.163838   26369.198969       1.058064  1.916858e+08\n",
              "min         1.000000       1.000000       0.500000  7.896520e+08\n",
              "25%       182.000000    1028.000000       3.000000  9.658478e+08\n",
              "50%       367.000000    2406.500000       4.000000  1.110422e+09\n",
              "75%       520.000000    5418.000000       4.000000  1.296192e+09\n",
              "max       671.000000  163949.000000       5.000000  1.476641e+09"
            ]
          },
          "metadata": {
            "tags": []
          },
          "execution_count": 5
        }
      ]
    },
    {
      "cell_type": "markdown",
      "metadata": {
        "id": "UKqvGtHLJ2j_"
      },
      "source": [
        "## Convert timestamp to datetime"
      ]
    },
    {
      "cell_type": "code",
      "metadata": {
        "id": "mK8--AxLJ2j_"
      },
      "source": [
        "df['date']=pd.to_datetime(df['timestamp'], unit='s')"
      ],
      "execution_count": null,
      "outputs": []
    },
    {
      "cell_type": "code",
      "metadata": {
        "id": "P0qLK6L_J2j_"
      },
      "source": [
        "df.drop('timestamp', axis=1, inplace=True)"
      ],
      "execution_count": null,
      "outputs": []
    },
    {
      "cell_type": "markdown",
      "metadata": {
        "id": "YJkMpLJ8J2kA"
      },
      "source": [
        "## Split train test"
      ]
    },
    {
      "cell_type": "markdown",
      "metadata": {
        "id": "NTgqh_kyJ2kA"
      },
      "source": [
        "Our business problem is to predict a rate for each user, rates for unseen movies, and recommend the best fit for a specific user. So our target column is rating."
      ]
    },
    {
      "cell_type": "code",
      "metadata": {
        "id": "pn5qk1yTJ2kA"
      },
      "source": [
        "target = 'rating'\n",
        "features = ['userId', 'movieId','date']"
      ],
      "execution_count": null,
      "outputs": []
    },
    {
      "cell_type": "code",
      "metadata": {
        "id": "6PxXVeeUJ2kB"
      },
      "source": [
        "y= df[target]\n",
        "X= df[features]\n",
        "\n",
        "X_train, X_test, y_train, y_test = train_test_split(X, y, test_size=0.20, random_state=444)"
      ],
      "execution_count": null,
      "outputs": []
    },
    {
      "cell_type": "markdown",
      "metadata": {
        "id": "DjQh-xpkJ2kB"
      },
      "source": [
        "## Baseline model\n",
        "\n",
        "There is 3 kind of recommendation system : \n",
        "- Demographic Filtering: this approach is based on movies popularity, thus it will offer to every users the same recommention.\n",
        "- Content based Filtering: this approach is based on metadata of the movie; actors, cast, directors genre etc.. It will offer to users similar movies they liked\n",
        "- Collaborative Filtering: finally this approach is based on other users rating, and will match users will similar ratings/tastes together and offer recommendations based on these similarities.\n",
        "\n",
        "As baseline, we will build a demographic filtering, a simple and basic model, then later we will try to build a model based on both other kind of filtering: content and collaborative.\n",
        "\n",
        "So, to build our demographic filtering model, we will group by moveId our dataframe, and add a mean rating per movie.\n",
        "To build our model, we need to add to our X_train the rating column."
      ]
    },
    {
      "cell_type": "code",
      "metadata": {
        "id": "RnO3A0PLJ2kC"
      },
      "source": [
        "df_train = pd.concat([X_train, y_train], axis=1)"
      ],
      "execution_count": null,
      "outputs": []
    },
    {
      "cell_type": "code",
      "metadata": {
        "id": "eHdDo_HJJ2kC"
      },
      "source": [
        "# count number of user that vote per movie\n",
        "user_count = df_train.groupby('movieId')['userId'].count()"
      ],
      "execution_count": null,
      "outputs": []
    },
    {
      "cell_type": "code",
      "metadata": {
        "id": "vuHqLxvnJ2kD"
      },
      "source": [
        "# mean of movie rating\n",
        "rating_mean = df_train.groupby('movieId')['rating'].mean()"
      ],
      "execution_count": null,
      "outputs": []
    },
    {
      "cell_type": "code",
      "metadata": {
        "id": "z5Me3sJqJ2kD"
      },
      "source": [
        "# create one df with the user count and the rating average per movie\n",
        "df_demo = pd.concat([user_count, rating_mean], axis=1)\n",
        "df_demo.rename(columns = {'userId':'user_count', 'rating':'rating_mean'}, inplace=True)"
      ],
      "execution_count": null,
      "outputs": []
    },
    {
      "cell_type": "code",
      "metadata": {
        "id": "jr_RXwzZJ2kE",
        "outputId": "dae8e794-6347-47a0-bf52-700dde9375f5"
      },
      "source": [
        "df_demo.head()"
      ],
      "execution_count": null,
      "outputs": [
        {
          "output_type": "execute_result",
          "data": {
            "text/html": [
              "<div>\n",
              "<style scoped>\n",
              "    .dataframe tbody tr th:only-of-type {\n",
              "        vertical-align: middle;\n",
              "    }\n",
              "\n",
              "    .dataframe tbody tr th {\n",
              "        vertical-align: top;\n",
              "    }\n",
              "\n",
              "    .dataframe thead th {\n",
              "        text-align: right;\n",
              "    }\n",
              "</style>\n",
              "<table border=\"1\" class=\"dataframe\">\n",
              "  <thead>\n",
              "    <tr style=\"text-align: right;\">\n",
              "      <th></th>\n",
              "      <th>user_count</th>\n",
              "      <th>rating_mean</th>\n",
              "    </tr>\n",
              "    <tr>\n",
              "      <th>movieId</th>\n",
              "      <th></th>\n",
              "      <th></th>\n",
              "    </tr>\n",
              "  </thead>\n",
              "  <tbody>\n",
              "    <tr>\n",
              "      <th>1</th>\n",
              "      <td>187</td>\n",
              "      <td>3.885027</td>\n",
              "    </tr>\n",
              "    <tr>\n",
              "      <th>2</th>\n",
              "      <td>88</td>\n",
              "      <td>3.454545</td>\n",
              "    </tr>\n",
              "    <tr>\n",
              "      <th>3</th>\n",
              "      <td>49</td>\n",
              "      <td>3.142857</td>\n",
              "    </tr>\n",
              "    <tr>\n",
              "      <th>4</th>\n",
              "      <td>10</td>\n",
              "      <td>2.350000</td>\n",
              "    </tr>\n",
              "    <tr>\n",
              "      <th>5</th>\n",
              "      <td>46</td>\n",
              "      <td>3.315217</td>\n",
              "    </tr>\n",
              "  </tbody>\n",
              "</table>\n",
              "</div>"
            ],
            "text/plain": [
              "         user_count  rating_mean\n",
              "movieId                         \n",
              "1               187     3.885027\n",
              "2                88     3.454545\n",
              "3                49     3.142857\n",
              "4                10     2.350000\n",
              "5                46     3.315217"
            ]
          },
          "metadata": {
            "tags": []
          },
          "execution_count": 14
        }
      ]
    },
    {
      "cell_type": "markdown",
      "metadata": {
        "id": "j5c6sCHjJ2kE"
      },
      "source": [
        "The issue with this rating is that we do not take into account the number of vote per movie, which can have a impact on the rating. So to get a fair rating, we can use IMDB's weighted rating (wr):\n",
        "$$WR = (\\frac{v}{v+m})R+ (\\frac{m}{m+v})C$$\n",
        "\n",
        "with:\n",
        "\n",
        "v: number of vote of this movie\n",
        "\n",
        "m: minimum number of vote to be in the list (here 1)\n",
        "\n",
        "R: rating mean for this movie\n",
        "\n",
        "C: rating mean of the database"
      ]
    },
    {
      "cell_type": "code",
      "metadata": {
        "id": "UzXysKdlJ2kE"
      },
      "source": [
        "C = df_train['rating'].mean()\n",
        "def weighted_rating(x):\n",
        "    v = x['user_count']\n",
        "    R = x['rating_mean']\n",
        "    # Calculation based on the IMDB formula\n",
        "    return (v/(v+1) * R) + (1/(1+v) * C)"
      ],
      "execution_count": null,
      "outputs": []
    },
    {
      "cell_type": "code",
      "metadata": {
        "id": "y_1Kk8rUJ2kE"
      },
      "source": [
        "# add weighted rating to the demo df\n",
        "df_demo['weighted_rating']=df_demo.apply(weighted_rating, axis=1)"
      ],
      "execution_count": null,
      "outputs": []
    },
    {
      "cell_type": "code",
      "metadata": {
        "id": "picITwH-J2kF",
        "outputId": "d61dc948-89c3-4517-faca-6c351e4a3109"
      },
      "source": [
        "df_demo"
      ],
      "execution_count": null,
      "outputs": [
        {
          "output_type": "execute_result",
          "data": {
            "text/html": [
              "<div>\n",
              "<style scoped>\n",
              "    .dataframe tbody tr th:only-of-type {\n",
              "        vertical-align: middle;\n",
              "    }\n",
              "\n",
              "    .dataframe tbody tr th {\n",
              "        vertical-align: top;\n",
              "    }\n",
              "\n",
              "    .dataframe thead th {\n",
              "        text-align: right;\n",
              "    }\n",
              "</style>\n",
              "<table border=\"1\" class=\"dataframe\">\n",
              "  <thead>\n",
              "    <tr style=\"text-align: right;\">\n",
              "      <th></th>\n",
              "      <th>user_count</th>\n",
              "      <th>rating_mean</th>\n",
              "      <th>weighted_rating</th>\n",
              "    </tr>\n",
              "    <tr>\n",
              "      <th>movieId</th>\n",
              "      <th></th>\n",
              "      <th></th>\n",
              "      <th></th>\n",
              "    </tr>\n",
              "  </thead>\n",
              "  <tbody>\n",
              "    <tr>\n",
              "      <th>1</th>\n",
              "      <td>187</td>\n",
              "      <td>3.885027</td>\n",
              "      <td>3.883217</td>\n",
              "    </tr>\n",
              "    <tr>\n",
              "      <th>2</th>\n",
              "      <td>88</td>\n",
              "      <td>3.454545</td>\n",
              "      <td>3.455560</td>\n",
              "    </tr>\n",
              "    <tr>\n",
              "      <th>3</th>\n",
              "      <td>49</td>\n",
              "      <td>3.142857</td>\n",
              "      <td>3.150897</td>\n",
              "    </tr>\n",
              "    <tr>\n",
              "      <th>4</th>\n",
              "      <td>10</td>\n",
              "      <td>2.350000</td>\n",
              "      <td>2.458624</td>\n",
              "    </tr>\n",
              "    <tr>\n",
              "      <th>5</th>\n",
              "      <td>46</td>\n",
              "      <td>3.315217</td>\n",
              "      <td>3.320103</td>\n",
              "    </tr>\n",
              "    <tr>\n",
              "      <th>...</th>\n",
              "      <td>...</td>\n",
              "      <td>...</td>\n",
              "      <td>...</td>\n",
              "    </tr>\n",
              "    <tr>\n",
              "      <th>161944</th>\n",
              "      <td>1</td>\n",
              "      <td>5.000000</td>\n",
              "      <td>4.272430</td>\n",
              "    </tr>\n",
              "    <tr>\n",
              "      <th>162376</th>\n",
              "      <td>1</td>\n",
              "      <td>4.500000</td>\n",
              "      <td>4.022430</td>\n",
              "    </tr>\n",
              "    <tr>\n",
              "      <th>162542</th>\n",
              "      <td>1</td>\n",
              "      <td>5.000000</td>\n",
              "      <td>4.272430</td>\n",
              "    </tr>\n",
              "    <tr>\n",
              "      <th>162672</th>\n",
              "      <td>1</td>\n",
              "      <td>3.000000</td>\n",
              "      <td>3.272430</td>\n",
              "    </tr>\n",
              "    <tr>\n",
              "      <th>163949</th>\n",
              "      <td>1</td>\n",
              "      <td>5.000000</td>\n",
              "      <td>4.272430</td>\n",
              "    </tr>\n",
              "  </tbody>\n",
              "</table>\n",
              "<p>8380 rows × 3 columns</p>\n",
              "</div>"
            ],
            "text/plain": [
              "         user_count  rating_mean  weighted_rating\n",
              "movieId                                          \n",
              "1               187     3.885027         3.883217\n",
              "2                88     3.454545         3.455560\n",
              "3                49     3.142857         3.150897\n",
              "4                10     2.350000         2.458624\n",
              "5                46     3.315217         3.320103\n",
              "...             ...          ...              ...\n",
              "161944            1     5.000000         4.272430\n",
              "162376            1     4.500000         4.022430\n",
              "162542            1     5.000000         4.272430\n",
              "162672            1     3.000000         3.272430\n",
              "163949            1     5.000000         4.272430\n",
              "\n",
              "[8380 rows x 3 columns]"
            ]
          },
          "metadata": {
            "tags": []
          },
          "execution_count": 32
        }
      ]
    },
    {
      "cell_type": "markdown",
      "metadata": {
        "id": "5b2_hpIDJ2kF"
      },
      "source": [
        "Weighted rating is our prediction. Now we can compute some metrics to check our model, and use these metrics from now on as baseline.\n",
        "\n",
        "## Metrics\n",
        "\n",
        "This a regression problem, we will calculate RMSE and R2. The true label are the rating per movie, per user. Our prediction is the weighted rating."
      ]
    },
    {
      "cell_type": "code",
      "metadata": {
        "id": "vsh5p0-jJ2kF"
      },
      "source": [
        "# add the prediction to the df train, to have the weighted rating per user and per movie\n",
        "df_train = pd.merge(df_train, df_demo['weighted_rating'], on=\"movieId\")"
      ],
      "execution_count": null,
      "outputs": []
    },
    {
      "cell_type": "code",
      "metadata": {
        "id": "EKhtIpO6J2kF"
      },
      "source": [
        "y_true = df_train['rating']\n",
        "y_pred = df_train['weighted_rating']"
      ],
      "execution_count": null,
      "outputs": []
    },
    {
      "cell_type": "code",
      "metadata": {
        "id": "9m0aY-oYJ2kF",
        "outputId": "06ff9312-975d-4d71-cb74-16c047038d94"
      },
      "source": [
        "# compute rmse and r2\n",
        "rmse = mean_squared_error(y_true, y_pred, squared=False)\n",
        "R2 = r2_score(y_true, y_pred)\n",
        "print('For the train set, we have rmse={} and R2={}'.format(rmse, R2))"
      ],
      "execution_count": null,
      "outputs": [
        {
          "output_type": "stream",
          "text": [
            "For the train set, we have rmse=0.8983812277918807 and R2=0.27566346580221734\n"
          ],
          "name": "stdout"
        }
      ]
    },
    {
      "cell_type": "markdown",
      "metadata": {
        "id": "6MVJC5q8J2kG"
      },
      "source": [
        "Let check for the test set"
      ]
    },
    {
      "cell_type": "code",
      "metadata": {
        "id": "NDRNlRaYJ2kG"
      },
      "source": [
        "# add the prediction to the df test, to have the weighted rating per user and per movie\n",
        "df_test = pd.merge(X_test, df_demo['weighted_rating'], on=\"movieId\", how='left')"
      ],
      "execution_count": null,
      "outputs": []
    },
    {
      "cell_type": "markdown",
      "metadata": {
        "id": "nGRgH0k-J2kG"
      },
      "source": [
        "Some movies from the test set are not in the train set, so we will use the X_train global average rating as prediction."
      ]
    },
    {
      "cell_type": "code",
      "metadata": {
        "id": "pWk-sRLiJ2kG"
      },
      "source": [
        "# fill na with df_train mean\n",
        "df_test['weighted_rating']=df_test['weighted_rating'].fillna(C)"
      ],
      "execution_count": null,
      "outputs": []
    },
    {
      "cell_type": "code",
      "metadata": {
        "id": "oZOIJfYBJ2kH"
      },
      "source": [
        "y_test_true = y_test\n",
        "y_test_pred = df_test['weighted_rating']"
      ],
      "execution_count": null,
      "outputs": []
    },
    {
      "cell_type": "code",
      "metadata": {
        "id": "1vytbIDuJ2kH",
        "outputId": "3ed9b142-da6f-469e-aeb3-c22ad18ae80d"
      },
      "source": [
        "y_test_true.shape, y_test_pred.shape"
      ],
      "execution_count": null,
      "outputs": [
        {
          "output_type": "execute_result",
          "data": {
            "text/plain": [
              "((20001,), (20001,))"
            ]
          },
          "metadata": {
            "tags": []
          },
          "execution_count": 26
        }
      ]
    },
    {
      "cell_type": "code",
      "metadata": {
        "id": "oaNhNmkuJ2kH",
        "outputId": "8344789d-16af-4df9-ed6e-10dc8973480c"
      },
      "source": [
        "rmse = mean_squared_error(y_test_true, y_test_pred, squared=False)\n",
        "R2 = r2_score(y_test_true, y_test_pred)\n",
        "print('For the train set, we have rmse={} and R2={}'.format(rmse, R2))"
      ],
      "execution_count": null,
      "outputs": [
        {
          "output_type": "stream",
          "text": [
            "For the train set, we have rmse=0.9913519353869503 and R2=0.13823706575577988\n"
          ],
          "name": "stdout"
        }
      ]
    },
    {
      "cell_type": "code",
      "metadata": {
        "id": "ScXVf7MiJ2kI"
      },
      "source": [
        ""
      ],
      "execution_count": null,
      "outputs": []
    }
  ]
}