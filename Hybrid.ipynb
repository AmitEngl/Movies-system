{
 "cells": [
  {
   "cell_type": "code",
   "execution_count": 1,
   "metadata": {
    "ExecuteTime": {
     "end_time": "2021-02-10T21:41:08.512004Z",
     "start_time": "2021-02-10T21:41:06.851676Z"
    }
   },
   "outputs": [],
   "source": [
    "import pandas as pd\n",
    "import numpy as np\n",
    "from ast import literal_eval\n",
    "import seaborn as sns\n",
    "import matplotlib.pyplot as plt\n",
    "from sklearn.feature_extraction.text import CountVectorizer\n",
    "from sklearn.metrics.pairwise import cosine_similarity\n",
    "\n",
    "pd.options.display.max_columns = 100\n",
    "pd.options.display.max_rows = 100\n",
    "pd.options.display.precision = 3\n",
    "sns.set_style('darkgrid')\n",
    "plt.rcParams['figure.figsize'] = [7, 5]\n",
    "plt.rcParams['figure.titlesize'] = 15\n",
    "\n",
    "%matplotlib inline"
   ]
  },
  {
   "cell_type": "markdown",
   "metadata": {},
   "source": [
    "# Loading The Files"
   ]
  },
  {
   "cell_type": "code",
   "execution_count": 12,
   "metadata": {
    "ExecuteTime": {
     "end_time": "2021-02-10T21:41:12.245156Z",
     "start_time": "2021-02-10T21:41:08.513002Z"
    }
   },
   "outputs": [],
   "source": [
    "# Load 'Movies' file\n",
    "movies = pd.read_csv('/Users/orgranot/Downloads/movies_metadata.csv', \n",
    "                     usecols=['budget', 'genres', 'id', 'original_language', 'original_title', \n",
    "                              'popularity', 'production_companies', 'production_countries', \n",
    "                              'release_date', 'runtime'], low_memory=False)\n",
    "\n",
    "movies.id = movies.id.str.replace('-', '0').astype('int')\n",
    "movies.release_date = pd.to_datetime(movies.release_date, errors='coerce')\n",
    "movies['year'] = movies.release_date.dt.year\n",
    "movies['month'] = movies.release_date.dt.month\n",
    "movies = movies.drop(['release_date'], axis=1)\n",
    "movies = movies[~movies.id.duplicated()]\n",
    "\n",
    "# Load 'Credits' file\n",
    "credits = pd.read_csv('/Users/orgranot/Downloads/credits.csv', usecols=['id', 'crew', 'cast'])\n",
    "credits = credits[~credits.id.duplicated()]\n",
    "\n",
    "# Load 'keywords' file\n",
    "keywords = pd.read_csv('/Users/orgranot/Downloads/keywords.csv')\n",
    "keywords = keywords[~keywords.id.duplicated()]\n",
    "\n",
    "# Load 'tags' file\n",
    "tags = pd.read_csv('/Users/orgranot/Downloads/ml-latest/tags.csv', usecols=['movieId', 'tag'])\n",
    "\n",
    "# Load 'links' file\n",
    "links = pd.read_csv('/Users/orgranot/Downloads/ml-latest/links.csv')\n",
    "links = links.loc[links.tmdbId.notnull()]\n",
    "links.tmdbId = links.tmdbId.astype('int')"
   ]
  },
  {
   "cell_type": "code",
   "execution_count": 13,
   "metadata": {
    "ExecuteTime": {
     "end_time": "2021-02-10T21:41:12.279069Z",
     "start_time": "2021-02-10T21:41:12.246058Z"
    }
   },
   "outputs": [
    {
     "name": "stdout",
     "output_type": "stream",
     "text": [
      "Number of unique movies: 45436\n"
     ]
    },
    {
     "data": {
      "text/html": [
       "<div>\n",
       "<style scoped>\n",
       "    .dataframe tbody tr th:only-of-type {\n",
       "        vertical-align: middle;\n",
       "    }\n",
       "\n",
       "    .dataframe tbody tr th {\n",
       "        vertical-align: top;\n",
       "    }\n",
       "\n",
       "    .dataframe thead th {\n",
       "        text-align: right;\n",
       "    }\n",
       "</style>\n",
       "<table border=\"1\" class=\"dataframe\">\n",
       "  <thead>\n",
       "    <tr style=\"text-align: right;\">\n",
       "      <th></th>\n",
       "      <th>genres</th>\n",
       "      <th>id</th>\n",
       "      <th>original_language</th>\n",
       "      <th>original_title</th>\n",
       "      <th>production_companies</th>\n",
       "      <th>production_countries</th>\n",
       "    </tr>\n",
       "  </thead>\n",
       "  <tbody>\n",
       "    <tr>\n",
       "      <th>0</th>\n",
       "      <td>[{'id': 16, 'name': 'Animation'}, {'id': 35, '...</td>\n",
       "      <td>862</td>\n",
       "      <td>en</td>\n",
       "      <td>Toy Story</td>\n",
       "      <td>[{'name': 'Pixar Animation Studios', 'id': 3}]</td>\n",
       "      <td>[{'iso_3166_1': 'US', 'name': 'United States o...</td>\n",
       "    </tr>\n",
       "    <tr>\n",
       "      <th>1</th>\n",
       "      <td>[{'id': 12, 'name': 'Adventure'}, {'id': 14, '...</td>\n",
       "      <td>8844</td>\n",
       "      <td>en</td>\n",
       "      <td>Jumanji</td>\n",
       "      <td>[{'name': 'TriStar Pictures', 'id': 559}, {'na...</td>\n",
       "      <td>[{'iso_3166_1': 'US', 'name': 'United States o...</td>\n",
       "    </tr>\n",
       "    <tr>\n",
       "      <th>2</th>\n",
       "      <td>[{'id': 10749, 'name': 'Romance'}, {'id': 35, ...</td>\n",
       "      <td>15602</td>\n",
       "      <td>en</td>\n",
       "      <td>Grumpier Old Men</td>\n",
       "      <td>[{'name': 'Warner Bros.', 'id': 6194}, {'name'...</td>\n",
       "      <td>[{'iso_3166_1': 'US', 'name': 'United States o...</td>\n",
       "    </tr>\n",
       "    <tr>\n",
       "      <th>3</th>\n",
       "      <td>[{'id': 35, 'name': 'Comedy'}, {'id': 18, 'nam...</td>\n",
       "      <td>31357</td>\n",
       "      <td>en</td>\n",
       "      <td>Waiting to Exhale</td>\n",
       "      <td>[{'name': 'Twentieth Century Fox Film Corporat...</td>\n",
       "      <td>[{'iso_3166_1': 'US', 'name': 'United States o...</td>\n",
       "    </tr>\n",
       "    <tr>\n",
       "      <th>4</th>\n",
       "      <td>[{'id': 35, 'name': 'Comedy'}]</td>\n",
       "      <td>11862</td>\n",
       "      <td>en</td>\n",
       "      <td>Father of the Bride Part II</td>\n",
       "      <td>[{'name': 'Sandollar Productions', 'id': 5842}...</td>\n",
       "      <td>[{'iso_3166_1': 'US', 'name': 'United States o...</td>\n",
       "    </tr>\n",
       "  </tbody>\n",
       "</table>\n",
       "</div>"
      ],
      "text/plain": [
       "                                              genres     id original_language  \\\n",
       "0  [{'id': 16, 'name': 'Animation'}, {'id': 35, '...    862                en   \n",
       "1  [{'id': 12, 'name': 'Adventure'}, {'id': 14, '...   8844                en   \n",
       "2  [{'id': 10749, 'name': 'Romance'}, {'id': 35, ...  15602                en   \n",
       "3  [{'id': 35, 'name': 'Comedy'}, {'id': 18, 'nam...  31357                en   \n",
       "4                     [{'id': 35, 'name': 'Comedy'}]  11862                en   \n",
       "\n",
       "                original_title  \\\n",
       "0                    Toy Story   \n",
       "1                      Jumanji   \n",
       "2             Grumpier Old Men   \n",
       "3            Waiting to Exhale   \n",
       "4  Father of the Bride Part II   \n",
       "\n",
       "                                production_companies  \\\n",
       "0     [{'name': 'Pixar Animation Studios', 'id': 3}]   \n",
       "1  [{'name': 'TriStar Pictures', 'id': 559}, {'na...   \n",
       "2  [{'name': 'Warner Bros.', 'id': 6194}, {'name'...   \n",
       "3  [{'name': 'Twentieth Century Fox Film Corporat...   \n",
       "4  [{'name': 'Sandollar Productions', 'id': 5842}...   \n",
       "\n",
       "                                production_countries  \n",
       "0  [{'iso_3166_1': 'US', 'name': 'United States o...  \n",
       "1  [{'iso_3166_1': 'US', 'name': 'United States o...  \n",
       "2  [{'iso_3166_1': 'US', 'name': 'United States o...  \n",
       "3  [{'iso_3166_1': 'US', 'name': 'United States o...  \n",
       "4  [{'iso_3166_1': 'US', 'name': 'United States o...  "
      ]
     },
     "execution_count": 13,
     "metadata": {},
     "output_type": "execute_result"
    }
   ],
   "source": [
    "clean_movies = movies.drop(['budget', 'popularity', 'runtime', 'year', 'month'], axis=1)\n",
    "print(f\"Number of unique movies: {len(clean_movies.id.unique())}\")\n",
    "clean_movies.head()"
   ]
  },
  {
   "cell_type": "code",
   "execution_count": 14,
   "metadata": {
    "ExecuteTime": {
     "end_time": "2021-02-10T21:41:12.291057Z",
     "start_time": "2021-02-10T21:41:12.280056Z"
    }
   },
   "outputs": [
    {
     "name": "stdout",
     "output_type": "stream",
     "text": [
      "Number of unique movies: 45432\n"
     ]
    },
    {
     "data": {
      "text/html": [
       "<div>\n",
       "<style scoped>\n",
       "    .dataframe tbody tr th:only-of-type {\n",
       "        vertical-align: middle;\n",
       "    }\n",
       "\n",
       "    .dataframe tbody tr th {\n",
       "        vertical-align: top;\n",
       "    }\n",
       "\n",
       "    .dataframe thead th {\n",
       "        text-align: right;\n",
       "    }\n",
       "</style>\n",
       "<table border=\"1\" class=\"dataframe\">\n",
       "  <thead>\n",
       "    <tr style=\"text-align: right;\">\n",
       "      <th></th>\n",
       "      <th>cast</th>\n",
       "      <th>crew</th>\n",
       "      <th>id</th>\n",
       "    </tr>\n",
       "  </thead>\n",
       "  <tbody>\n",
       "    <tr>\n",
       "      <th>0</th>\n",
       "      <td>[{'cast_id': 14, 'character': 'Woody (voice)',...</td>\n",
       "      <td>[{'credit_id': '52fe4284c3a36847f8024f49', 'de...</td>\n",
       "      <td>862</td>\n",
       "    </tr>\n",
       "    <tr>\n",
       "      <th>1</th>\n",
       "      <td>[{'cast_id': 1, 'character': 'Alan Parrish', '...</td>\n",
       "      <td>[{'credit_id': '52fe44bfc3a36847f80a7cd1', 'de...</td>\n",
       "      <td>8844</td>\n",
       "    </tr>\n",
       "    <tr>\n",
       "      <th>2</th>\n",
       "      <td>[{'cast_id': 2, 'character': 'Max Goldman', 'c...</td>\n",
       "      <td>[{'credit_id': '52fe466a9251416c75077a89', 'de...</td>\n",
       "      <td>15602</td>\n",
       "    </tr>\n",
       "    <tr>\n",
       "      <th>3</th>\n",
       "      <td>[{'cast_id': 1, 'character': \"Savannah 'Vannah...</td>\n",
       "      <td>[{'credit_id': '52fe44779251416c91011acb', 'de...</td>\n",
       "      <td>31357</td>\n",
       "    </tr>\n",
       "    <tr>\n",
       "      <th>4</th>\n",
       "      <td>[{'cast_id': 1, 'character': 'George Banks', '...</td>\n",
       "      <td>[{'credit_id': '52fe44959251416c75039ed7', 'de...</td>\n",
       "      <td>11862</td>\n",
       "    </tr>\n",
       "  </tbody>\n",
       "</table>\n",
       "</div>"
      ],
      "text/plain": [
       "                                                cast  \\\n",
       "0  [{'cast_id': 14, 'character': 'Woody (voice)',...   \n",
       "1  [{'cast_id': 1, 'character': 'Alan Parrish', '...   \n",
       "2  [{'cast_id': 2, 'character': 'Max Goldman', 'c...   \n",
       "3  [{'cast_id': 1, 'character': \"Savannah 'Vannah...   \n",
       "4  [{'cast_id': 1, 'character': 'George Banks', '...   \n",
       "\n",
       "                                                crew     id  \n",
       "0  [{'credit_id': '52fe4284c3a36847f8024f49', 'de...    862  \n",
       "1  [{'credit_id': '52fe44bfc3a36847f80a7cd1', 'de...   8844  \n",
       "2  [{'credit_id': '52fe466a9251416c75077a89', 'de...  15602  \n",
       "3  [{'credit_id': '52fe44779251416c91011acb', 'de...  31357  \n",
       "4  [{'credit_id': '52fe44959251416c75039ed7', 'de...  11862  "
      ]
     },
     "execution_count": 14,
     "metadata": {},
     "output_type": "execute_result"
    }
   ],
   "source": [
    "print(f\"Number of unique movies: {len(credits.id.unique())}\")\n",
    "credits.head()"
   ]
  },
  {
   "cell_type": "code",
   "execution_count": 15,
   "metadata": {
    "ExecuteTime": {
     "end_time": "2021-02-10T21:41:12.325058Z",
     "start_time": "2021-02-10T21:41:12.292074Z"
    }
   },
   "outputs": [
    {
     "name": "stdout",
     "output_type": "stream",
     "text": [
      "Movies appears in 'celan_movies', but not in 'credits': \n",
      "{401840, 2012009029, 2014001001, 1997008020}\n"
     ]
    }
   ],
   "source": [
    "print(\"Movies appears in 'celan_movies', but not in 'credits': \")\n",
    "print(set(clean_movies.id.unique())^set(credits.id.unique()))"
   ]
  },
  {
   "cell_type": "markdown",
   "metadata": {},
   "source": [
    "# Merging"
   ]
  },
  {
   "cell_type": "code",
   "execution_count": 16,
   "metadata": {
    "ExecuteTime": {
     "end_time": "2021-02-10T21:41:17.319076Z",
     "start_time": "2021-02-10T21:41:12.326060Z"
    }
   },
   "outputs": [],
   "source": [
    "metadata = pd.merge(left=clean_movies, right=credits, on='id')\n",
    "\n",
    "metadata = metadata.merge(keywords, on='id')\n",
    "\n",
    "metadata_links = pd.merge(left=metadata, right=links, left_on='id', right_on='tmdbId')\n",
    "\n",
    "tags_per_movie = tags.groupby('movieId')['tag'].apply(list).reset_index(drop=False)\n",
    "\n",
    "metadata_all = pd.merge(left=metadata_links, right=tags_per_movie, on='movieId')\n",
    "metadata_all = metadata_all.drop(['tmdbId', 'movieId', 'imdbId'], axis=1)"
   ]
  },
  {
   "cell_type": "markdown",
   "metadata": {},
   "source": [
    "# Data Cleaning"
   ]
  },
  {
   "cell_type": "code",
   "execution_count": 17,
   "metadata": {
    "ExecuteTime": {
     "end_time": "2021-02-10T21:41:17.326057Z",
     "start_time": "2021-02-10T21:41:17.321061Z"
    }
   },
   "outputs": [],
   "source": [
    "def get_director(x):\n",
    "    for i in x:\n",
    "        if i['job'] == 'Director':\n",
    "            return i['name']\n",
    "    return np.nan"
   ]
  },
  {
   "cell_type": "code",
   "execution_count": 18,
   "metadata": {
    "ExecuteTime": {
     "end_time": "2021-02-10T21:41:17.346061Z",
     "start_time": "2021-02-10T21:41:17.328056Z"
    }
   },
   "outputs": [],
   "source": [
    "def get_list(x):\n",
    "    if isinstance(x, list):\n",
    "        names = [i['name'] for i in x]\n",
    "        #Check if more than 3 elements exist. If yes, return only first three. If no, return entire list.\n",
    "        if len(names) > 3:\n",
    "            names = names[:3]\n",
    "        return names\n",
    "\n",
    "    #Return empty list in case of missing/malformed data\n",
    "    return []"
   ]
  },
  {
   "cell_type": "code",
   "execution_count": 19,
   "metadata": {
    "ExecuteTime": {
     "end_time": "2021-02-10T21:50:17.808260Z",
     "start_time": "2021-02-10T21:50:17.785258Z"
    }
   },
   "outputs": [],
   "source": [
    "def create_soup(x, dir_weight=0):\n",
    "    \n",
    "    return ' '.join(x['keywords']) + ' ' + \\\n",
    "           ' '.join(x['cast']) + ' ' + \\\n",
    "           ' '.join(x['tag']) + ' ' + \\\n",
    "           ' '.join(x['genres']) + ' ' + \\\n",
    "            ' '.join(x['production_companies']) + ' ' + \\\n",
    "            ' '.join(x['production_countries']) + ' ' + \\\n",
    "            x['director'] + (' ' + x['director'])*4"
   ]
  },
  {
   "cell_type": "markdown",
   "metadata": {},
   "source": [
    "## Extracting Lists"
   ]
  },
  {
   "cell_type": "code",
   "execution_count": 20,
   "metadata": {
    "ExecuteTime": {
     "end_time": "2021-02-10T21:41:47.419851Z",
     "start_time": "2021-02-10T21:41:17.359056Z"
    }
   },
   "outputs": [],
   "source": [
    "features_to_clean = ['genres', 'production_companies', 'production_countries', 'crew', 'cast', 'keywords']\n",
    "\n",
    "for feature in features_to_clean:\n",
    "    metadata_all[feature] = metadata_all[feature].fillna('[]')\n",
    "    metadata_all[feature] = metadata_all[feature].apply(literal_eval)\n",
    "    if feature == 'crew':\n",
    "        metadata_all['director'] = metadata_all[feature].apply(get_director)\n",
    "        metadata_all = metadata_all.drop([feature], axis=1)\n",
    "    else:\n",
    "        metadata_all[feature] = metadata_all[feature].apply(get_list)"
   ]
  },
  {
   "cell_type": "markdown",
   "metadata": {},
   "source": [
    "## Remove Spaces & Make Strings Lower"
   ]
  },
  {
   "cell_type": "code",
   "execution_count": 21,
   "metadata": {
    "ExecuteTime": {
     "end_time": "2021-02-10T21:41:47.427798Z",
     "start_time": "2021-02-10T21:41:47.420798Z"
    }
   },
   "outputs": [],
   "source": [
    "def clean_data(x):\n",
    "    if isinstance(x, list):\n",
    "        return [str.lower(i.replace(\" \", \"\")) for i in x]\n",
    "    else:\n",
    "        #Check if director exists. If not, return empty string\n",
    "        if isinstance(x, str):\n",
    "            return str.lower(x.replace(\" \", \"\"))\n",
    "        else:\n",
    "            return ''"
   ]
  },
  {
   "cell_type": "code",
   "execution_count": 22,
   "metadata": {
    "ExecuteTime": {
     "end_time": "2021-02-10T21:41:47.446801Z",
     "start_time": "2021-02-10T21:41:47.428797Z"
    }
   },
   "outputs": [],
   "source": [
    "def clean_tags(tags_list):\n",
    "    \n",
    "    tags_list = list(set(tags_list))\n",
    "    res = []\n",
    "    for tag in tags_list:\n",
    "        try:\n",
    "            temp = tag.replace(' ', '').lower()\n",
    "        except AttributeError:\n",
    "            temp = ''\n",
    "        \n",
    "        res.append(temp)\n",
    "    \n",
    "    return res"
   ]
  },
  {
   "cell_type": "code",
   "execution_count": 23,
   "metadata": {
    "ExecuteTime": {
     "end_time": "2021-02-10T21:41:48.341836Z",
     "start_time": "2021-02-10T21:41:47.447797Z"
    }
   },
   "outputs": [],
   "source": [
    "features_to_clean = ['genres', 'production_companies', 'production_countries', \n",
    "                     'cast', 'keywords', 'director', 'tag']\n",
    "\n",
    "for feature in features_to_clean:\n",
    "    \n",
    "    if feature == 'tag':\n",
    "        metadata_all[feature] = metadata_all[feature].apply(clean_tags)\n",
    "    else:\n",
    "        metadata_all[feature] = metadata_all[feature].apply(clean_data)"
   ]
  },
  {
   "cell_type": "markdown",
   "metadata": {},
   "source": [
    "## Create Bag-of-Words"
   ]
  },
  {
   "cell_type": "code",
   "execution_count": 24,
   "metadata": {
    "ExecuteTime": {
     "end_time": "2021-02-10T21:50:26.192081Z",
     "start_time": "2021-02-10T21:50:21.553958Z"
    }
   },
   "outputs": [],
   "source": [
    "metadata_all['bow'] = metadata_all.apply(create_soup, axis=1)"
   ]
  },
  {
   "cell_type": "markdown",
   "metadata": {},
   "source": [
    "# Recommend"
   ]
  },
  {
   "cell_type": "code",
   "execution_count": 25,
   "metadata": {
    "ExecuteTime": {
     "end_time": "2021-02-10T21:42:43.940561Z",
     "start_time": "2021-02-10T21:42:43.914561Z"
    }
   },
   "outputs": [],
   "source": [
    "def get_recommendations(title, ind_movies, cosine_sim, top_n=10):\n",
    "    # Get the index of the movie that matches the title\n",
    "    idx = ind_movies[title]\n",
    "    if not isinstance(idx, np.int64):\n",
    "        print(\"There is more then one movie with this title\")\n",
    "        print(\"Choosing only the first one...\")\n",
    "        idx = idx[0]\n",
    "\n",
    "    # Get the pairwsie similarity scores of all movies with that movie\n",
    "    sim_scores = list(enumerate(cosine_sim[idx]))\n",
    "\n",
    "    # Sort the movies based on the similarity scores\n",
    "    sim_scores = sorted(sim_scores, key=lambda x: x[1], reverse=True)\n",
    "\n",
    "    # Get the scores of the top_n most similar movies\n",
    "    sim_scores = sim_scores[1:top_n+1]\n",
    "\n",
    "    # Get the movie indices\n",
    "    movie_indices = [i[0] for i in sim_scores]\n",
    "    similarity_score = [round(i[1], 3) for i in sim_scores]\n",
    "\n",
    "    # Return the top top_n most similar movies\n",
    "    rec_movies = metadata_all['original_title'].iloc[movie_indices].values\n",
    "    return dict(zip(rec_movies, similarity_score))\n",
    "#     return metadata_all['original_title'].iloc[movie_indices], sim_scores, movie_indices"
   ]
  },
  {
   "cell_type": "markdown",
   "metadata": {},
   "source": [
    "## Build Similarity Matrix"
   ]
  },
  {
   "cell_type": "code",
   "execution_count": 26,
   "metadata": {
    "ExecuteTime": {
     "end_time": "2021-02-10T21:51:09.759192Z",
     "start_time": "2021-02-10T21:50:27.115040Z"
    }
   },
   "outputs": [],
   "source": [
    "count = CountVectorizer(stop_words='english')\n",
    "count_matrix = count.fit_transform(metadata_all['bow'])\n",
    "\n",
    "cosine_sim = cosine_similarity(count_matrix, count_matrix)"
   ]
  },
  {
   "cell_type": "markdown",
   "metadata": {},
   "source": [
    "## Final Output"
   ]
  },
  {
   "cell_type": "code",
   "execution_count": 27,
   "metadata": {
    "ExecuteTime": {
     "end_time": "2021-02-10T21:51:10.745192Z",
     "start_time": "2021-02-10T21:51:10.614194Z"
    }
   },
   "outputs": [
    {
     "data": {
      "text/plain": [
       "{'Interstellar': 0.401,\n",
       " 'Dunkirk': 0.384,\n",
       " 'The Prestige': 0.38,\n",
       " 'The Dark Knight': 0.366,\n",
       " 'Doodlebug': 0.348,\n",
       " 'Following': 0.34,\n",
       " 'Batman Begins': 0.331,\n",
       " 'Insomnia': 0.322,\n",
       " 'Memento': 0.316,\n",
       " 'The Dark Knight Rises': 0.309}"
      ]
     },
     "execution_count": 27,
     "metadata": {},
     "output_type": "execute_result"
    }
   ],
   "source": [
    "indices = pd.Series(metadata_all.index, index=metadata_all['original_title'])\n",
    "\n",
    "get_recommendations('Inception', indices, cosine_sim, top_n=10)"
   ]
  },
  {
   "cell_type": "code",
   "execution_count": 35,
   "metadata": {},
   "outputs": [
    {
     "name": "stdout",
     "output_type": "stream",
     "text": [
      "Collecting matrix_factorization\n",
      "  Downloading matrix_factorization-1.3.tar.gz (12 kB)\n",
      "Requirement already satisfied: numba>=0.49.1 in ./opt/anaconda3/lib/python3.8/site-packages (from matrix_factorization) (0.50.1)\n",
      "Requirement already satisfied: numpy>=1.18.5 in ./opt/anaconda3/lib/python3.8/site-packages (from matrix_factorization) (1.19.5)\n",
      "Requirement already satisfied: pandas>=1.0.4 in ./opt/anaconda3/lib/python3.8/site-packages (from matrix_factorization) (1.0.5)\n",
      "Requirement already satisfied: scikit-learn>=0.23.1 in ./opt/anaconda3/lib/python3.8/site-packages (from matrix_factorization) (0.23.1)\n",
      "Requirement already satisfied: scipy>=1.4.1 in ./opt/anaconda3/lib/python3.8/site-packages (from matrix_factorization) (1.5.0)\n",
      "Requirement already satisfied: llvmlite<0.34,>=0.33.0.dev0 in ./opt/anaconda3/lib/python3.8/site-packages (from numba>=0.49.1->matrix_factorization) (0.33.0+1.g022ab0f)\n",
      "Requirement already satisfied: setuptools in ./opt/anaconda3/lib/python3.8/site-packages (from numba>=0.49.1->matrix_factorization) (49.2.0.post20200714)\n",
      "Requirement already satisfied: python-dateutil>=2.6.1 in ./opt/anaconda3/lib/python3.8/site-packages (from pandas>=1.0.4->matrix_factorization) (2.8.1)\n",
      "Requirement already satisfied: pytz>=2017.2 in ./opt/anaconda3/lib/python3.8/site-packages (from pandas>=1.0.4->matrix_factorization) (2020.1)\n",
      "Requirement already satisfied: six>=1.5 in ./opt/anaconda3/lib/python3.8/site-packages (from python-dateutil>=2.6.1->pandas>=1.0.4->matrix_factorization) (1.15.0)\n",
      "Requirement already satisfied: joblib>=0.11 in ./opt/anaconda3/lib/python3.8/site-packages (from scikit-learn>=0.23.1->matrix_factorization) (0.16.0)\n",
      "Requirement already satisfied: threadpoolctl>=2.0.0 in ./opt/anaconda3/lib/python3.8/site-packages (from scikit-learn>=0.23.1->matrix_factorization) (2.1.0)\n",
      "Building wheels for collected packages: matrix-factorization\n",
      "  Building wheel for matrix-factorization (setup.py) ... \u001b[?25ldone\n",
      "\u001b[?25h  Created wheel for matrix-factorization: filename=matrix_factorization-1.3-py3-none-any.whl size=16467 sha256=6d6dfa5a37eef8b43e2af0f441fd96de0d02d2eee2d23d9264fa2983fe94a9cb\n",
      "  Stored in directory: /Users/orgranot/Library/Caches/pip/wheels/f8/eb/f9/65e67559744aed25dda41e09ced4f5ca64a5ef56e67d7dba16\n",
      "Successfully built matrix-factorization\n",
      "Installing collected packages: matrix-factorization\n",
      "Successfully installed matrix-factorization-1.3\n"
     ]
    }
   ],
   "source": [
    "! pip3 install matrix_factorization"
   ]
  },
  {
   "cell_type": "code",
   "execution_count": 36,
   "metadata": {},
   "outputs": [],
   "source": [
    "import pandas as pd\n",
    "import numpy as np\n",
    "from sklearn.model_selection import train_test_split\n",
    "from sklearn.metrics import mean_squared_error\n",
    "from sklearn.metrics import r2_score\n",
    "from surprise import Reader, SVD, Dataset\n",
    "from surprise.model_selection.validation import cross_validate\n",
    "from matrix_factorization import KernelMF\n",
    "from sklearn.model_selection import train_test_split\n",
    "import matplotlib.pyplot as plt"
   ]
  },
  {
   "cell_type": "code",
   "execution_count": 43,
   "metadata": {},
   "outputs": [],
   "source": [
    "movies_df = pd.read_csv('/Users/orgranot/Downloads/cleaned_movies.csv')\n",
    "ratings_df = pd.read_csv('/Users/orgranot/Downloads/ratings.csv')\n"
   ]
  },
  {
   "cell_type": "code",
   "execution_count": 44,
   "metadata": {},
   "outputs": [
    {
     "data": {
      "text/html": [
       "<div>\n",
       "<style scoped>\n",
       "    .dataframe tbody tr th:only-of-type {\n",
       "        vertical-align: middle;\n",
       "    }\n",
       "\n",
       "    .dataframe tbody tr th {\n",
       "        vertical-align: top;\n",
       "    }\n",
       "\n",
       "    .dataframe thead th {\n",
       "        text-align: right;\n",
       "    }\n",
       "</style>\n",
       "<table border=\"1\" class=\"dataframe\">\n",
       "  <thead>\n",
       "    <tr style=\"text-align: right;\">\n",
       "      <th></th>\n",
       "      <th>Unnamed: 0</th>\n",
       "      <th>budget</th>\n",
       "      <th>genres</th>\n",
       "      <th>id</th>\n",
       "      <th>imdb_id</th>\n",
       "      <th>original_title</th>\n",
       "      <th>production_companies</th>\n",
       "      <th>revenue</th>\n",
       "      <th>runtime</th>\n",
       "      <th>spoken_languages</th>\n",
       "      <th>title</th>\n",
       "      <th>vote_count</th>\n",
       "      <th>release_year</th>\n",
       "      <th>cast</th>\n",
       "      <th>keywords</th>\n",
       "      <th>director</th>\n",
       "    </tr>\n",
       "  </thead>\n",
       "  <tbody>\n",
       "    <tr>\n",
       "      <th>0</th>\n",
       "      <td>0</td>\n",
       "      <td>30000000</td>\n",
       "      <td>['Animation', 'Comedy', 'Family']</td>\n",
       "      <td>862</td>\n",
       "      <td>tt0114709</td>\n",
       "      <td>Toy Story</td>\n",
       "      <td>['Pixar Animation Studios']</td>\n",
       "      <td>3.736e+08</td>\n",
       "      <td>81.0</td>\n",
       "      <td>['English']</td>\n",
       "      <td>Toy Story</td>\n",
       "      <td>5415.0</td>\n",
       "      <td>1995</td>\n",
       "      <td>['Tom Hanks', 'Tim Allen', 'Don Rickles']</td>\n",
       "      <td>['jealousy', 'toy', 'boy']</td>\n",
       "      <td>John Lasseter</td>\n",
       "    </tr>\n",
       "    <tr>\n",
       "      <th>1</th>\n",
       "      <td>1</td>\n",
       "      <td>65000000</td>\n",
       "      <td>['Adventure', 'Fantasy', 'Family']</td>\n",
       "      <td>8844</td>\n",
       "      <td>tt0113497</td>\n",
       "      <td>Jumanji</td>\n",
       "      <td>['TriStar Pictures', 'Teitler Film', 'Intersco...</td>\n",
       "      <td>2.628e+08</td>\n",
       "      <td>104.0</td>\n",
       "      <td>['English', 'Français']</td>\n",
       "      <td>Jumanji</td>\n",
       "      <td>2413.0</td>\n",
       "      <td>1995</td>\n",
       "      <td>['Robin Williams', 'Jonathan Hyde', 'Kirsten D...</td>\n",
       "      <td>['board game', 'disappearance', \"based on chil...</td>\n",
       "      <td>Joe Johnston</td>\n",
       "    </tr>\n",
       "    <tr>\n",
       "      <th>2</th>\n",
       "      <td>2</td>\n",
       "      <td>0</td>\n",
       "      <td>['Romance', 'Comedy']</td>\n",
       "      <td>15602</td>\n",
       "      <td>tt0113228</td>\n",
       "      <td>Grumpier Old Men</td>\n",
       "      <td>['Warner Bros.', 'Lancaster Gate']</td>\n",
       "      <td>0.000e+00</td>\n",
       "      <td>101.0</td>\n",
       "      <td>['English']</td>\n",
       "      <td>Grumpier Old Men</td>\n",
       "      <td>92.0</td>\n",
       "      <td>1995</td>\n",
       "      <td>['Walter Matthau', 'Jack Lemmon', 'Ann-Margret']</td>\n",
       "      <td>['fishing', 'best friend', 'duringcreditssting...</td>\n",
       "      <td>Howard Deutch</td>\n",
       "    </tr>\n",
       "    <tr>\n",
       "      <th>3</th>\n",
       "      <td>3</td>\n",
       "      <td>16000000</td>\n",
       "      <td>['Comedy', 'Drama', 'Romance']</td>\n",
       "      <td>31357</td>\n",
       "      <td>tt0114885</td>\n",
       "      <td>Waiting to Exhale</td>\n",
       "      <td>['Twentieth Century Fox Film Corporation']</td>\n",
       "      <td>8.145e+07</td>\n",
       "      <td>127.0</td>\n",
       "      <td>['English']</td>\n",
       "      <td>Waiting to Exhale</td>\n",
       "      <td>34.0</td>\n",
       "      <td>1995</td>\n",
       "      <td>['Whitney Houston', 'Angela Bassett', 'Loretta...</td>\n",
       "      <td>['based on novel', 'interracial relationship',...</td>\n",
       "      <td>Forest Whitaker</td>\n",
       "    </tr>\n",
       "    <tr>\n",
       "      <th>4</th>\n",
       "      <td>4</td>\n",
       "      <td>0</td>\n",
       "      <td>['Comedy']</td>\n",
       "      <td>11862</td>\n",
       "      <td>tt0113041</td>\n",
       "      <td>Father of the Bride Part II</td>\n",
       "      <td>['Sandollar Productions', 'Touchstone Pictures']</td>\n",
       "      <td>7.658e+07</td>\n",
       "      <td>106.0</td>\n",
       "      <td>['English']</td>\n",
       "      <td>Father of the Bride Part II</td>\n",
       "      <td>173.0</td>\n",
       "      <td>1995</td>\n",
       "      <td>['Steve Martin', 'Diane Keaton', 'Martin Short']</td>\n",
       "      <td>['baby', 'midlife crisis', 'confidence']</td>\n",
       "      <td>Charles Shyer</td>\n",
       "    </tr>\n",
       "    <tr>\n",
       "      <th>5</th>\n",
       "      <td>5</td>\n",
       "      <td>60000000</td>\n",
       "      <td>['Action', 'Crime', 'Drama']</td>\n",
       "      <td>949</td>\n",
       "      <td>tt0113277</td>\n",
       "      <td>Heat</td>\n",
       "      <td>['Regency Enterprises', 'Forward Pass', 'Warne...</td>\n",
       "      <td>1.874e+08</td>\n",
       "      <td>170.0</td>\n",
       "      <td>['English', 'Español']</td>\n",
       "      <td>Heat</td>\n",
       "      <td>1886.0</td>\n",
       "      <td>1995</td>\n",
       "      <td>['Al Pacino', 'Robert De Niro', 'Val Kilmer']</td>\n",
       "      <td>['robbery', 'detective', 'bank']</td>\n",
       "      <td>Michael Mann</td>\n",
       "    </tr>\n",
       "    <tr>\n",
       "      <th>6</th>\n",
       "      <td>6</td>\n",
       "      <td>58000000</td>\n",
       "      <td>['Comedy', 'Romance']</td>\n",
       "      <td>11860</td>\n",
       "      <td>tt0114319</td>\n",
       "      <td>Sabrina</td>\n",
       "      <td>['Paramount Pictures', 'Scott Rudin Production...</td>\n",
       "      <td>0.000e+00</td>\n",
       "      <td>127.0</td>\n",
       "      <td>['Français', 'English']</td>\n",
       "      <td>Sabrina</td>\n",
       "      <td>141.0</td>\n",
       "      <td>1995</td>\n",
       "      <td>['Harrison Ford', 'Julia Ormond', 'Greg Kinnear']</td>\n",
       "      <td>['paris', 'brother brother relationship', 'cha...</td>\n",
       "      <td>Sydney Pollack</td>\n",
       "    </tr>\n",
       "    <tr>\n",
       "      <th>7</th>\n",
       "      <td>7</td>\n",
       "      <td>0</td>\n",
       "      <td>['Action', 'Adventure', 'Drama']</td>\n",
       "      <td>45325</td>\n",
       "      <td>tt0112302</td>\n",
       "      <td>Tom and Huck</td>\n",
       "      <td>['Walt Disney Pictures']</td>\n",
       "      <td>0.000e+00</td>\n",
       "      <td>97.0</td>\n",
       "      <td>['English', 'Deutsch']</td>\n",
       "      <td>Tom and Huck</td>\n",
       "      <td>45.0</td>\n",
       "      <td>1995</td>\n",
       "      <td>['Jonathan Taylor Thomas', 'Brad Renfro', 'Rac...</td>\n",
       "      <td>[]</td>\n",
       "      <td>Peter Hewitt</td>\n",
       "    </tr>\n",
       "    <tr>\n",
       "      <th>8</th>\n",
       "      <td>8</td>\n",
       "      <td>35000000</td>\n",
       "      <td>['Action', 'Adventure', 'Thriller']</td>\n",
       "      <td>9091</td>\n",
       "      <td>tt0114576</td>\n",
       "      <td>Sudden Death</td>\n",
       "      <td>['Universal Pictures', 'Imperial Entertainment...</td>\n",
       "      <td>6.435e+07</td>\n",
       "      <td>106.0</td>\n",
       "      <td>['English']</td>\n",
       "      <td>Sudden Death</td>\n",
       "      <td>174.0</td>\n",
       "      <td>1995</td>\n",
       "      <td>['Jean-Claude Van Damme', 'Powers Boothe', 'Do...</td>\n",
       "      <td>['terrorist', 'hostage', 'explosive']</td>\n",
       "      <td>Peter Hyams</td>\n",
       "    </tr>\n",
       "    <tr>\n",
       "      <th>9</th>\n",
       "      <td>9</td>\n",
       "      <td>58000000</td>\n",
       "      <td>['Adventure', 'Action', 'Thriller']</td>\n",
       "      <td>710</td>\n",
       "      <td>tt0113189</td>\n",
       "      <td>GoldenEye</td>\n",
       "      <td>['United Artists', 'Eon Productions']</td>\n",
       "      <td>3.522e+08</td>\n",
       "      <td>130.0</td>\n",
       "      <td>['English', 'Pусский', 'Español']</td>\n",
       "      <td>GoldenEye</td>\n",
       "      <td>1194.0</td>\n",
       "      <td>1995</td>\n",
       "      <td>['Pierce Brosnan', 'Sean Bean', 'Izabella Scor...</td>\n",
       "      <td>['cuba', 'falsely accused', 'secret identity']</td>\n",
       "      <td>Martin Campbell</td>\n",
       "    </tr>\n",
       "  </tbody>\n",
       "</table>\n",
       "</div>"
      ],
      "text/plain": [
       "   Unnamed: 0    budget                               genres     id  \\\n",
       "0           0  30000000    ['Animation', 'Comedy', 'Family']    862   \n",
       "1           1  65000000   ['Adventure', 'Fantasy', 'Family']   8844   \n",
       "2           2         0                ['Romance', 'Comedy']  15602   \n",
       "3           3  16000000       ['Comedy', 'Drama', 'Romance']  31357   \n",
       "4           4         0                           ['Comedy']  11862   \n",
       "5           5  60000000         ['Action', 'Crime', 'Drama']    949   \n",
       "6           6  58000000                ['Comedy', 'Romance']  11860   \n",
       "7           7         0     ['Action', 'Adventure', 'Drama']  45325   \n",
       "8           8  35000000  ['Action', 'Adventure', 'Thriller']   9091   \n",
       "9           9  58000000  ['Adventure', 'Action', 'Thriller']    710   \n",
       "\n",
       "     imdb_id               original_title  \\\n",
       "0  tt0114709                    Toy Story   \n",
       "1  tt0113497                      Jumanji   \n",
       "2  tt0113228             Grumpier Old Men   \n",
       "3  tt0114885            Waiting to Exhale   \n",
       "4  tt0113041  Father of the Bride Part II   \n",
       "5  tt0113277                         Heat   \n",
       "6  tt0114319                      Sabrina   \n",
       "7  tt0112302                 Tom and Huck   \n",
       "8  tt0114576                 Sudden Death   \n",
       "9  tt0113189                    GoldenEye   \n",
       "\n",
       "                                production_companies    revenue  runtime  \\\n",
       "0                        ['Pixar Animation Studios']  3.736e+08     81.0   \n",
       "1  ['TriStar Pictures', 'Teitler Film', 'Intersco...  2.628e+08    104.0   \n",
       "2                 ['Warner Bros.', 'Lancaster Gate']  0.000e+00    101.0   \n",
       "3         ['Twentieth Century Fox Film Corporation']  8.145e+07    127.0   \n",
       "4   ['Sandollar Productions', 'Touchstone Pictures']  7.658e+07    106.0   \n",
       "5  ['Regency Enterprises', 'Forward Pass', 'Warne...  1.874e+08    170.0   \n",
       "6  ['Paramount Pictures', 'Scott Rudin Production...  0.000e+00    127.0   \n",
       "7                           ['Walt Disney Pictures']  0.000e+00     97.0   \n",
       "8  ['Universal Pictures', 'Imperial Entertainment...  6.435e+07    106.0   \n",
       "9              ['United Artists', 'Eon Productions']  3.522e+08    130.0   \n",
       "\n",
       "                    spoken_languages                        title  vote_count  \\\n",
       "0                        ['English']                    Toy Story      5415.0   \n",
       "1            ['English', 'Français']                      Jumanji      2413.0   \n",
       "2                        ['English']             Grumpier Old Men        92.0   \n",
       "3                        ['English']            Waiting to Exhale        34.0   \n",
       "4                        ['English']  Father of the Bride Part II       173.0   \n",
       "5             ['English', 'Español']                         Heat      1886.0   \n",
       "6            ['Français', 'English']                      Sabrina       141.0   \n",
       "7             ['English', 'Deutsch']                 Tom and Huck        45.0   \n",
       "8                        ['English']                 Sudden Death       174.0   \n",
       "9  ['English', 'Pусский', 'Español']                    GoldenEye      1194.0   \n",
       "\n",
       "   release_year                                               cast  \\\n",
       "0          1995          ['Tom Hanks', 'Tim Allen', 'Don Rickles']   \n",
       "1          1995  ['Robin Williams', 'Jonathan Hyde', 'Kirsten D...   \n",
       "2          1995   ['Walter Matthau', 'Jack Lemmon', 'Ann-Margret']   \n",
       "3          1995  ['Whitney Houston', 'Angela Bassett', 'Loretta...   \n",
       "4          1995   ['Steve Martin', 'Diane Keaton', 'Martin Short']   \n",
       "5          1995      ['Al Pacino', 'Robert De Niro', 'Val Kilmer']   \n",
       "6          1995  ['Harrison Ford', 'Julia Ormond', 'Greg Kinnear']   \n",
       "7          1995  ['Jonathan Taylor Thomas', 'Brad Renfro', 'Rac...   \n",
       "8          1995  ['Jean-Claude Van Damme', 'Powers Boothe', 'Do...   \n",
       "9          1995  ['Pierce Brosnan', 'Sean Bean', 'Izabella Scor...   \n",
       "\n",
       "                                            keywords         director  \n",
       "0                         ['jealousy', 'toy', 'boy']    John Lasseter  \n",
       "1  ['board game', 'disappearance', \"based on chil...     Joe Johnston  \n",
       "2  ['fishing', 'best friend', 'duringcreditssting...    Howard Deutch  \n",
       "3  ['based on novel', 'interracial relationship',...  Forest Whitaker  \n",
       "4           ['baby', 'midlife crisis', 'confidence']    Charles Shyer  \n",
       "5                   ['robbery', 'detective', 'bank']     Michael Mann  \n",
       "6  ['paris', 'brother brother relationship', 'cha...   Sydney Pollack  \n",
       "7                                                 []     Peter Hewitt  \n",
       "8              ['terrorist', 'hostage', 'explosive']      Peter Hyams  \n",
       "9     ['cuba', 'falsely accused', 'secret identity']  Martin Campbell  "
      ]
     },
     "execution_count": 44,
     "metadata": {},
     "output_type": "execute_result"
    }
   ],
   "source": [
    "movies_df.head(10)"
   ]
  },
  {
   "cell_type": "code",
   "execution_count": 45,
   "metadata": {},
   "outputs": [
    {
     "data": {
      "text/plain": [
       "(29424, 16)"
      ]
     },
     "execution_count": 45,
     "metadata": {},
     "output_type": "execute_result"
    }
   ],
   "source": [
    "movies_df.shape"
   ]
  },
  {
   "cell_type": "code",
   "execution_count": 46,
   "metadata": {},
   "outputs": [
    {
     "data": {
      "text/plain": [
       "(100836, 4)"
      ]
     },
     "execution_count": 46,
     "metadata": {},
     "output_type": "execute_result"
    }
   ],
   "source": [
    "ratings_df.shape"
   ]
  },
  {
   "cell_type": "code",
   "execution_count": 55,
   "metadata": {},
   "outputs": [
    {
     "data": {
      "text/html": [
       "<div>\n",
       "<style scoped>\n",
       "    .dataframe tbody tr th:only-of-type {\n",
       "        vertical-align: middle;\n",
       "    }\n",
       "\n",
       "    .dataframe tbody tr th {\n",
       "        vertical-align: top;\n",
       "    }\n",
       "\n",
       "    .dataframe thead th {\n",
       "        text-align: right;\n",
       "    }\n",
       "</style>\n",
       "<table border=\"1\" class=\"dataframe\">\n",
       "  <thead>\n",
       "    <tr style=\"text-align: right;\">\n",
       "      <th></th>\n",
       "      <th>userId</th>\n",
       "      <th>movieId</th>\n",
       "      <th>rating</th>\n",
       "      <th>timestamp</th>\n",
       "      <th>id</th>\n",
       "      <th>original_title</th>\n",
       "    </tr>\n",
       "  </thead>\n",
       "  <tbody>\n",
       "    <tr>\n",
       "      <th>0</th>\n",
       "      <td>1</td>\n",
       "      <td>6</td>\n",
       "      <td>4.0</td>\n",
       "      <td>964982224</td>\n",
       "      <td>6</td>\n",
       "      <td>Judgment Night</td>\n",
       "    </tr>\n",
       "    <tr>\n",
       "      <th>1</th>\n",
       "      <td>6</td>\n",
       "      <td>6</td>\n",
       "      <td>4.0</td>\n",
       "      <td>845553757</td>\n",
       "      <td>6</td>\n",
       "      <td>Judgment Night</td>\n",
       "    </tr>\n",
       "    <tr>\n",
       "      <th>2</th>\n",
       "      <td>11</td>\n",
       "      <td>6</td>\n",
       "      <td>5.0</td>\n",
       "      <td>902154266</td>\n",
       "      <td>6</td>\n",
       "      <td>Judgment Night</td>\n",
       "    </tr>\n",
       "    <tr>\n",
       "      <th>3</th>\n",
       "      <td>18</td>\n",
       "      <td>6</td>\n",
       "      <td>4.0</td>\n",
       "      <td>1460138360</td>\n",
       "      <td>6</td>\n",
       "      <td>Judgment Night</td>\n",
       "    </tr>\n",
       "    <tr>\n",
       "      <th>4</th>\n",
       "      <td>23</td>\n",
       "      <td>6</td>\n",
       "      <td>4.0</td>\n",
       "      <td>1107342267</td>\n",
       "      <td>6</td>\n",
       "      <td>Judgment Night</td>\n",
       "    </tr>\n",
       "    <tr>\n",
       "      <th>5</th>\n",
       "      <td>24</td>\n",
       "      <td>6</td>\n",
       "      <td>4.5</td>\n",
       "      <td>1458941767</td>\n",
       "      <td>6</td>\n",
       "      <td>Judgment Night</td>\n",
       "    </tr>\n",
       "    <tr>\n",
       "      <th>6</th>\n",
       "      <td>28</td>\n",
       "      <td>6</td>\n",
       "      <td>3.5</td>\n",
       "      <td>1234570483</td>\n",
       "      <td>6</td>\n",
       "      <td>Judgment Night</td>\n",
       "    </tr>\n",
       "    <tr>\n",
       "      <th>7</th>\n",
       "      <td>32</td>\n",
       "      <td>6</td>\n",
       "      <td>3.0</td>\n",
       "      <td>856736172</td>\n",
       "      <td>6</td>\n",
       "      <td>Judgment Night</td>\n",
       "    </tr>\n",
       "    <tr>\n",
       "      <th>8</th>\n",
       "      <td>44</td>\n",
       "      <td>6</td>\n",
       "      <td>3.0</td>\n",
       "      <td>869251910</td>\n",
       "      <td>6</td>\n",
       "      <td>Judgment Night</td>\n",
       "    </tr>\n",
       "    <tr>\n",
       "      <th>9</th>\n",
       "      <td>45</td>\n",
       "      <td>6</td>\n",
       "      <td>4.0</td>\n",
       "      <td>1121724608</td>\n",
       "      <td>6</td>\n",
       "      <td>Judgment Night</td>\n",
       "    </tr>\n",
       "  </tbody>\n",
       "</table>\n",
       "</div>"
      ],
      "text/plain": [
       "   userId  movieId  rating   timestamp  id  original_title\n",
       "0       1        6     4.0   964982224   6  Judgment Night\n",
       "1       6        6     4.0   845553757   6  Judgment Night\n",
       "2      11        6     5.0   902154266   6  Judgment Night\n",
       "3      18        6     4.0  1460138360   6  Judgment Night\n",
       "4      23        6     4.0  1107342267   6  Judgment Night\n",
       "5      24        6     4.5  1458941767   6  Judgment Night\n",
       "6      28        6     3.5  1234570483   6  Judgment Night\n",
       "7      32        6     3.0   856736172   6  Judgment Night\n",
       "8      44        6     3.0   869251910   6  Judgment Night\n",
       "9      45        6     4.0  1121724608   6  Judgment Night"
      ]
     },
     "execution_count": 55,
     "metadata": {},
     "output_type": "execute_result"
    }
   ],
   "source": [
    "df=ratings_df.merge(movies_df[['id','original_title']],how='inner', left_on='movieId', right_on='id')\n",
    "df.head(10)"
   ]
  },
  {
   "cell_type": "code",
   "execution_count": 56,
   "metadata": {},
   "outputs": [],
   "source": [
    "df = df.drop_duplicates()"
   ]
  },
  {
   "cell_type": "code",
   "execution_count": 57,
   "metadata": {},
   "outputs": [
    {
     "data": {
      "text/plain": [
       "<matplotlib.axes._subplots.AxesSubplot at 0x7fc641d03cd0>"
      ]
     },
     "execution_count": 57,
     "metadata": {},
     "output_type": "execute_result"
    },
    {
     "data": {
      "image/png": "[encoded data removed]",
      "text/plain": [
       "<Figure size 432x288 with 1 Axes>"
      ]
     },
     "metadata": {
      "needs_background": "light"
     },
     "output_type": "display_data"
    }
   ],
   "source": [
    "df['userId'].value_counts().plot(kind='hist')"
   ]
  },
  {
   "cell_type": "code",
   "execution_count": 58,
   "metadata": {},
   "outputs": [
    {
     "data": {
      "text/plain": [
       "<matplotlib.axes._subplots.AxesSubplot at 0x7fc66ff86580>"
      ]
     },
     "execution_count": 58,
     "metadata": {},
     "output_type": "execute_result"
    },
    {
     "data": {
      "image/png": "[encoded data removed]",
      "text/plain": [
       "<Figure size 432x288 with 1 Axes>"
      ]
     },
     "metadata": {
      "needs_background": "light"
     },
     "output_type": "display_data"
    }
   ],
   "source": [
    "df['userId'].value_counts()[-550:].plot(kind='hist')"
   ]
  },
  {
   "cell_type": "code",
   "execution_count": 59,
   "metadata": {},
   "outputs": [
    {
     "data": {
      "text/html": [
       "<div>\n",
       "<style scoped>\n",
       "    .dataframe tbody tr th:only-of-type {\n",
       "        vertical-align: middle;\n",
       "    }\n",
       "\n",
       "    .dataframe tbody tr th {\n",
       "        vertical-align: top;\n",
       "    }\n",
       "\n",
       "    .dataframe thead th {\n",
       "        text-align: right;\n",
       "    }\n",
       "</style>\n",
       "<table border=\"1\" class=\"dataframe\">\n",
       "  <thead>\n",
       "    <tr style=\"text-align: right;\">\n",
       "      <th></th>\n",
       "      <th>userId</th>\n",
       "      <th>movieId</th>\n",
       "      <th>rating</th>\n",
       "      <th>timestamp</th>\n",
       "      <th>id</th>\n",
       "      <th>original_title</th>\n",
       "    </tr>\n",
       "  </thead>\n",
       "  <tbody>\n",
       "    <tr>\n",
       "      <th>0</th>\n",
       "      <td>1</td>\n",
       "      <td>6</td>\n",
       "      <td>4.0</td>\n",
       "      <td>964982224</td>\n",
       "      <td>6</td>\n",
       "      <td>Judgment Night</td>\n",
       "    </tr>\n",
       "    <tr>\n",
       "      <th>1</th>\n",
       "      <td>6</td>\n",
       "      <td>6</td>\n",
       "      <td>4.0</td>\n",
       "      <td>845553757</td>\n",
       "      <td>6</td>\n",
       "      <td>Judgment Night</td>\n",
       "    </tr>\n",
       "    <tr>\n",
       "      <th>2</th>\n",
       "      <td>11</td>\n",
       "      <td>6</td>\n",
       "      <td>5.0</td>\n",
       "      <td>902154266</td>\n",
       "      <td>6</td>\n",
       "      <td>Judgment Night</td>\n",
       "    </tr>\n",
       "    <tr>\n",
       "      <th>3</th>\n",
       "      <td>18</td>\n",
       "      <td>6</td>\n",
       "      <td>4.0</td>\n",
       "      <td>1460138360</td>\n",
       "      <td>6</td>\n",
       "      <td>Judgment Night</td>\n",
       "    </tr>\n",
       "    <tr>\n",
       "      <th>4</th>\n",
       "      <td>23</td>\n",
       "      <td>6</td>\n",
       "      <td>4.0</td>\n",
       "      <td>1107342267</td>\n",
       "      <td>6</td>\n",
       "      <td>Judgment Night</td>\n",
       "    </tr>\n",
       "    <tr>\n",
       "      <th>...</th>\n",
       "      <td>...</td>\n",
       "      <td>...</td>\n",
       "      <td>...</td>\n",
       "      <td>...</td>\n",
       "      <td>...</td>\n",
       "      <td>...</td>\n",
       "    </tr>\n",
       "    <tr>\n",
       "      <th>28638</th>\n",
       "      <td>610</td>\n",
       "      <td>80094</td>\n",
       "      <td>4.0</td>\n",
       "      <td>1493848484</td>\n",
       "      <td>80094</td>\n",
       "      <td>Hra o jablko</td>\n",
       "    </tr>\n",
       "    <tr>\n",
       "      <th>28639</th>\n",
       "      <td>610</td>\n",
       "      <td>89072</td>\n",
       "      <td>4.0</td>\n",
       "      <td>1493848545</td>\n",
       "      <td>89072</td>\n",
       "      <td>Ginger</td>\n",
       "    </tr>\n",
       "    <tr>\n",
       "      <th>28640</th>\n",
       "      <td>610</td>\n",
       "      <td>93193</td>\n",
       "      <td>3.0</td>\n",
       "      <td>1493850013</td>\n",
       "      <td>93193</td>\n",
       "      <td>Jigsaw</td>\n",
       "    </tr>\n",
       "    <tr>\n",
       "      <th>28641</th>\n",
       "      <td>610</td>\n",
       "      <td>114044</td>\n",
       "      <td>3.5</td>\n",
       "      <td>1493848721</td>\n",
       "      <td>114044</td>\n",
       "      <td>Interkosmos</td>\n",
       "    </tr>\n",
       "    <tr>\n",
       "      <th>28642</th>\n",
       "      <td>610</td>\n",
       "      <td>163937</td>\n",
       "      <td>3.5</td>\n",
       "      <td>1493848789</td>\n",
       "      <td>163937</td>\n",
       "      <td>Film About a Woman Who…</td>\n",
       "    </tr>\n",
       "  </tbody>\n",
       "</table>\n",
       "<p>28606 rows × 6 columns</p>\n",
       "</div>"
      ],
      "text/plain": [
       "       userId  movieId  rating   timestamp      id           original_title\n",
       "0           1        6     4.0   964982224       6           Judgment Night\n",
       "1           6        6     4.0   845553757       6           Judgment Night\n",
       "2          11        6     5.0   902154266       6           Judgment Night\n",
       "3          18        6     4.0  1460138360       6           Judgment Night\n",
       "4          23        6     4.0  1107342267       6           Judgment Night\n",
       "...       ...      ...     ...         ...     ...                      ...\n",
       "28638     610    80094     4.0  1493848484   80094             Hra o jablko\n",
       "28639     610    89072     4.0  1493848545   89072                   Ginger\n",
       "28640     610    93193     3.0  1493850013   93193                   Jigsaw\n",
       "28641     610   114044     3.5  1493848721  114044              Interkosmos\n",
       "28642     610   163937     3.5  1493848789  163937  Film About a Woman Who…\n",
       "\n",
       "[28606 rows x 6 columns]"
      ]
     },
     "execution_count": 59,
     "metadata": {},
     "output_type": "execute_result"
    }
   ],
   "source": [
    "df"
   ]
  },
  {
   "cell_type": "code",
   "execution_count": 60,
   "metadata": {},
   "outputs": [],
   "source": [
    "df['count']=df['userId'].map(df['userId'].value_counts())\n",
    "df = df.rename(columns={\"userId\":\"user_id\", \"movieId\":\"item_id\"})\n",
    "df_10 = df[df['count']>10]\n",
    "df_5 = df[df['count']>5]\n",
    "df_50 = df[df['count']>50]\n",
    "df_20 = df[df['count']>20]"
   ]
  },
  {
   "cell_type": "code",
   "execution_count": 61,
   "metadata": {},
   "outputs": [],
   "source": [
    "X = df_10[['user_id','item_id']]\n",
    "y = df_10['rating']\n",
    "\n",
    "X_train, X_test, y_train, y_test = train_test_split(X, y, test_size=0.20, \\\n",
    "                                                    random_state=1000, \\\n",
    "                                    stratify = df_10['user_id'])"
   ]
  },
  {
   "cell_type": "code",
   "execution_count": 62,
   "metadata": {},
   "outputs": [
    {
     "name": "stdout",
     "output_type": "stream",
     "text": [
      "Epoch  1 / 200  -  train_rmse: 1.0086364733138267\n",
      "Epoch  2 / 200  -  train_rmse: 0.9848412720637713\n",
      "Epoch  3 / 200  -  train_rmse: 0.966044288661804\n",
      "Epoch  4 / 200  -  train_rmse: 0.9506413213858357\n",
      "Epoch  5 / 200  -  train_rmse: 0.9375970905222999\n",
      "Epoch  6 / 200  -  train_rmse: 0.9263391443566951\n",
      "Epoch  7 / 200  -  train_rmse: 0.9164535907007556\n",
      "Epoch  8 / 200  -  train_rmse: 0.9076564630228536\n",
      "Epoch  9 / 200  -  train_rmse: 0.8997314928242323\n",
      "Epoch  10 / 200  -  train_rmse: 0.8925192266066362\n",
      "Epoch  11 / 200  -  train_rmse: 0.8858988115931976\n",
      "Epoch  12 / 200  -  train_rmse: 0.879771374564335\n",
      "Epoch  13 / 200  -  train_rmse: 0.8740646029122914\n",
      "Epoch  14 / 200  -  train_rmse: 0.8687163694288931\n",
      "Epoch  15 / 200  -  train_rmse: 0.8636753914830422\n",
      "Epoch  16 / 200  -  train_rmse: 0.858907701084045\n",
      "Epoch  17 / 200  -  train_rmse: 0.8543743306386997\n",
      "Epoch  18 / 200  -  train_rmse: 0.8500492785364494\n",
      "Epoch  19 / 200  -  train_rmse: 0.8459092590381924\n",
      "Epoch  20 / 200  -  train_rmse: 0.8419310212378011\n",
      "Epoch  21 / 200  -  train_rmse: 0.8380973425740657\n",
      "Epoch  22 / 200  -  train_rmse: 0.8343943945347322\n",
      "Epoch  23 / 200  -  train_rmse: 0.8308094826231056\n",
      "Epoch  24 / 200  -  train_rmse: 0.8273307028577387\n",
      "Epoch  25 / 200  -  train_rmse: 0.8239479999711146\n",
      "Epoch  26 / 200  -  train_rmse: 0.8206513912012872\n",
      "Epoch  27 / 200  -  train_rmse: 0.8174337923884358\n",
      "Epoch  28 / 200  -  train_rmse: 0.8142856112725368\n",
      "Epoch  29 / 200  -  train_rmse: 0.8112038632161345\n",
      "Epoch  30 / 200  -  train_rmse: 0.8081805332805823\n",
      "Epoch  31 / 200  -  train_rmse: 0.8052121590130641\n",
      "Epoch  32 / 200  -  train_rmse: 0.8022917751284546\n",
      "Epoch  33 / 200  -  train_rmse: 0.7994156637391062\n",
      "Epoch  34 / 200  -  train_rmse: 0.7965783587685584\n",
      "Epoch  35 / 200  -  train_rmse: 0.793778793552143\n",
      "Epoch  36 / 200  -  train_rmse: 0.7910128735852283\n",
      "Epoch  37 / 200  -  train_rmse: 0.7882771043238319\n",
      "Epoch  38 / 200  -  train_rmse: 0.7855681718629826\n",
      "Epoch  39 / 200  -  train_rmse: 0.7828838268062714\n",
      "Epoch  40 / 200  -  train_rmse: 0.7802219677706755\n",
      "Epoch  41 / 200  -  train_rmse: 0.7775782020188611\n",
      "Epoch  42 / 200  -  train_rmse: 0.7749523777382639\n",
      "Epoch  43 / 200  -  train_rmse: 0.772341954902601\n",
      "Epoch  44 / 200  -  train_rmse: 0.7697444116067167\n",
      "Epoch  45 / 200  -  train_rmse: 0.7671588026502714\n",
      "Epoch  46 / 200  -  train_rmse: 0.7645828307495175\n",
      "Epoch  47 / 200  -  train_rmse: 0.7620148688185117\n",
      "Epoch  48 / 200  -  train_rmse: 0.7594539698954325\n",
      "Epoch  49 / 200  -  train_rmse: 0.7568987804926216\n",
      "Epoch  50 / 200  -  train_rmse: 0.7543477148222139\n",
      "Epoch  51 / 200  -  train_rmse: 0.7517988921626638\n",
      "Epoch  52 / 200  -  train_rmse: 0.7492519042160567\n",
      "Epoch  53 / 200  -  train_rmse: 0.7467056830033725\n",
      "Epoch  54 / 200  -  train_rmse: 0.7441587215484854\n",
      "Epoch  55 / 200  -  train_rmse: 0.7416104626769019\n",
      "Epoch  56 / 200  -  train_rmse: 0.7390593808113294\n",
      "Epoch  57 / 200  -  train_rmse: 0.7365052699561837\n",
      "Epoch  58 / 200  -  train_rmse: 0.7339473600110316\n",
      "Epoch  59 / 200  -  train_rmse: 0.7313849414361344\n",
      "Epoch  60 / 200  -  train_rmse: 0.7288173040496879\n",
      "Epoch  61 / 200  -  train_rmse: 0.7262436304250047\n",
      "Epoch  62 / 200  -  train_rmse: 0.7236639362428255\n",
      "Epoch  63 / 200  -  train_rmse: 0.7210755236562352\n",
      "Epoch  64 / 200  -  train_rmse: 0.7184801436641197\n",
      "Epoch  65 / 200  -  train_rmse: 0.7158760955114475\n",
      "Epoch  66 / 200  -  train_rmse: 0.7132641256566588\n",
      "Epoch  67 / 200  -  train_rmse: 0.7106427811158798\n",
      "Epoch  68 / 200  -  train_rmse: 0.7080116124675828\n",
      "Epoch  69 / 200  -  train_rmse: 0.7053713556809725\n",
      "Epoch  70 / 200  -  train_rmse: 0.7027209247105148\n",
      "Epoch  71 / 200  -  train_rmse: 0.7000602023238445\n",
      "Epoch  72 / 200  -  train_rmse: 0.6973896240841013\n",
      "Epoch  73 / 200  -  train_rmse: 0.6947066026262817\n",
      "Epoch  74 / 200  -  train_rmse: 0.6920140081358476\n",
      "Epoch  75 / 200  -  train_rmse: 0.6893101789538352\n",
      "Epoch  76 / 200  -  train_rmse: 0.6865953177600436\n",
      "Epoch  77 / 200  -  train_rmse: 0.6838694004014227\n",
      "Epoch  78 / 200  -  train_rmse: 0.6811318491279422\n",
      "Epoch  79 / 200  -  train_rmse: 0.6783834244820942\n",
      "Epoch  80 / 200  -  train_rmse: 0.6756236641556598\n",
      "Epoch  81 / 200  -  train_rmse: 0.6728523091011159\n",
      "Epoch  82 / 200  -  train_rmse: 0.6700701484615165\n",
      "Epoch  83 / 200  -  train_rmse: 0.6672763674646935\n",
      "Epoch  84 / 200  -  train_rmse: 0.6644721366332311\n",
      "Epoch  85 / 200  -  train_rmse: 0.6616562819212788\n",
      "Epoch  86 / 200  -  train_rmse: 0.6588307352425982\n",
      "Epoch  87 / 200  -  train_rmse: 0.6559936108791257\n",
      "Epoch  88 / 200  -  train_rmse: 0.6531466905251595\n",
      "Epoch  89 / 200  -  train_rmse: 0.6502890998450037\n",
      "Epoch  90 / 200  -  train_rmse: 0.6474219496723939\n",
      "Epoch  91 / 200  -  train_rmse: 0.6445448658121373\n",
      "Epoch  92 / 200  -  train_rmse: 0.6416586752376429\n",
      "Epoch  93 / 200  -  train_rmse: 0.638762569495133\n",
      "Epoch  94 / 200  -  train_rmse: 0.6358576207486555\n",
      "Epoch  95 / 200  -  train_rmse: 0.632944333518918\n",
      "Epoch  96 / 200  -  train_rmse: 0.6300229993650549\n",
      "Epoch  97 / 200  -  train_rmse: 0.6270935826847437\n",
      "Epoch  98 / 200  -  train_rmse: 0.6241564313327695\n",
      "Epoch  99 / 200  -  train_rmse: 0.6212118809374447\n",
      "Epoch  100 / 200  -  train_rmse: 0.6182604630726168\n",
      "Epoch  101 / 200  -  train_rmse: 0.6153021902566168\n",
      "Epoch  102 / 200  -  train_rmse: 0.612338131804174\n",
      "Epoch  103 / 200  -  train_rmse: 0.6093678997098235\n",
      "Epoch  104 / 200  -  train_rmse: 0.6063923566675335\n",
      "Epoch  105 / 200  -  train_rmse: 0.6034122509853539\n",
      "Epoch  106 / 200  -  train_rmse: 0.6004278975454989\n",
      "Epoch  107 / 200  -  train_rmse: 0.5974387526948576\n",
      "Epoch  108 / 200  -  train_rmse: 0.5944467471602317\n",
      "Epoch  109 / 200  -  train_rmse: 0.5914506376149311\n",
      "Epoch  110 / 200  -  train_rmse: 0.5884518528059743\n",
      "Epoch  111 / 200  -  train_rmse: 0.5854505292173385\n",
      "Epoch  112 / 200  -  train_rmse: 0.5824472711146294\n",
      "Epoch  113 / 200  -  train_rmse: 0.5794431203272196\n",
      "Epoch  114 / 200  -  train_rmse: 0.5764372880892036\n",
      "Epoch  115 / 200  -  train_rmse: 0.5734306988212722\n",
      "Epoch  116 / 200  -  train_rmse: 0.5704241063639298\n",
      "Epoch  117 / 200  -  train_rmse: 0.567417763503961\n",
      "Epoch  118 / 200  -  train_rmse: 0.5644124342781274\n",
      "Epoch  119 / 200  -  train_rmse: 0.5614078365755014\n",
      "Epoch  120 / 200  -  train_rmse: 0.5584044538606561\n",
      "Epoch  121 / 200  -  train_rmse: 0.5554030958285365\n",
      "Epoch  122 / 200  -  train_rmse: 0.5524042571404535\n",
      "Epoch  123 / 200  -  train_rmse: 0.5494079295640458\n",
      "Epoch  124 / 200  -  train_rmse: 0.5464155629430625\n",
      "Epoch  125 / 200  -  train_rmse: 0.5434261122552486\n",
      "Epoch  126 / 200  -  train_rmse: 0.5404412784705376\n",
      "Epoch  127 / 200  -  train_rmse: 0.537460654038455\n",
      "Epoch  128 / 200  -  train_rmse: 0.5344845667015741\n",
      "Epoch  129 / 200  -  train_rmse: 0.5315142099828514\n",
      "Epoch  130 / 200  -  train_rmse: 0.5285486619110874\n",
      "Epoch  131 / 200  -  train_rmse: 0.5255893576495501\n",
      "Epoch  132 / 200  -  train_rmse: 0.5226365181903939\n",
      "Epoch  133 / 200  -  train_rmse: 0.5196900405882934\n",
      "Epoch  134 / 200  -  train_rmse: 0.5167505064046553\n",
      "Epoch  135 / 200  -  train_rmse: 0.5138184945898637\n",
      "Epoch  136 / 200  -  train_rmse: 0.5108944277854988\n",
      "Epoch  137 / 200  -  train_rmse: 0.5079783990227918\n",
      "Epoch  138 / 200  -  train_rmse: 0.505070599272848\n",
      "Epoch  139 / 200  -  train_rmse: 0.502171229113607\n",
      "Epoch  140 / 200  -  train_rmse: 0.49928109960734374\n",
      "Epoch  141 / 200  -  train_rmse: 0.49640002320003157\n",
      "Epoch  142 / 200  -  train_rmse: 0.4935292067756579\n",
      "Epoch  143 / 200  -  train_rmse: 0.49066851487884494\n",
      "Epoch  144 / 200  -  train_rmse: 0.48781693483156857\n",
      "Epoch  145 / 200  -  train_rmse: 0.48497618034848966\n",
      "Epoch  146 / 200  -  train_rmse: 0.4821459496237263\n",
      "Epoch  147 / 200  -  train_rmse: 0.4793261047569202\n",
      "Epoch  148 / 200  -  train_rmse: 0.47651763293655053\n",
      "Epoch  149 / 200  -  train_rmse: 0.47372040530499004\n",
      "Epoch  150 / 200  -  train_rmse: 0.47093462245461987\n",
      "Epoch  151 / 200  -  train_rmse: 0.4681609918360667\n",
      "Epoch  152 / 200  -  train_rmse: 0.4653990073303207\n",
      "Epoch  153 / 200  -  train_rmse: 0.4626494378252263\n",
      "Epoch  154 / 200  -  train_rmse: 0.45991267654714485\n",
      "Epoch  155 / 200  -  train_rmse: 0.45718792631053096\n",
      "Epoch  156 / 200  -  train_rmse: 0.45447537768295276\n",
      "Epoch  157 / 200  -  train_rmse: 0.45177661909106753\n",
      "Epoch  158 / 200  -  train_rmse: 0.44909029190961913\n",
      "Epoch  159 / 200  -  train_rmse: 0.4464172907279022\n",
      "Epoch  160 / 200  -  train_rmse: 0.44375746812975103\n",
      "Epoch  161 / 200  -  train_rmse: 0.44111142170128226\n",
      "Epoch  162 / 200  -  train_rmse: 0.4384783374456307\n",
      "Epoch  163 / 200  -  train_rmse: 0.43585979264730235\n",
      "Epoch  164 / 200  -  train_rmse: 0.4332542093299634\n",
      "Epoch  165 / 200  -  train_rmse: 0.43066273603342625\n",
      "Epoch  166 / 200  -  train_rmse: 0.4280857241456521\n",
      "Epoch  167 / 200  -  train_rmse: 0.4255221999389065\n",
      "Epoch  168 / 200  -  train_rmse: 0.4229732020781152\n",
      "Epoch  169 / 200  -  train_rmse: 0.4204385350699127\n",
      "Epoch  170 / 200  -  train_rmse: 0.4179180043953072\n",
      "Epoch  171 / 200  -  train_rmse: 0.41541167988438105\n",
      "Epoch  172 / 200  -  train_rmse: 0.41291972758919343\n",
      "Epoch  173 / 200  -  train_rmse: 0.4104423890202648\n",
      "Epoch  174 / 200  -  train_rmse: 0.4079799185918934\n",
      "Epoch  175 / 200  -  train_rmse: 0.40553189899287306\n",
      "Epoch  176 / 200  -  train_rmse: 0.4030987932202326\n",
      "Epoch  177 / 200  -  train_rmse: 0.4006797279333115\n",
      "Epoch  178 / 200  -  train_rmse: 0.39827581081320895\n",
      "Epoch  179 / 200  -  train_rmse: 0.39588617216369215\n",
      "Epoch  180 / 200  -  train_rmse: 0.3935114342899178\n",
      "Epoch  181 / 200  -  train_rmse: 0.3911519980704712\n",
      "Epoch  182 / 200  -  train_rmse: 0.3888068240209427\n",
      "Epoch  183 / 200  -  train_rmse: 0.3864764552489917\n",
      "Epoch  184 / 200  -  train_rmse: 0.3841608532811489\n",
      "Epoch  185 / 200  -  train_rmse: 0.3818599317383792\n",
      "Epoch  186 / 200  -  train_rmse: 0.37957377783646723\n",
      "Epoch  187 / 200  -  train_rmse: 0.37730266738394974\n",
      "Epoch  188 / 200  -  train_rmse: 0.3750460524705973\n",
      "Epoch  189 / 200  -  train_rmse: 0.37280414784709837\n",
      "Epoch  190 / 200  -  train_rmse: 0.37057681591875125\n",
      "Epoch  191 / 200  -  train_rmse: 0.3683645840252429\n",
      "Epoch  192 / 200  -  train_rmse: 0.3661671635357124\n",
      "Epoch  193 / 200  -  train_rmse: 0.3639836753477301\n",
      "Epoch  194 / 200  -  train_rmse: 0.36181511640625774\n",
      "Epoch  195 / 200  -  train_rmse: 0.3596607306824002\n",
      "Epoch  196 / 200  -  train_rmse: 0.35752103951112024\n",
      "Epoch  197 / 200  -  train_rmse: 0.3553958665529217\n",
      "Epoch  198 / 200  -  train_rmse: 0.3532851413335557\n",
      "Epoch  199 / 200  -  train_rmse: 0.3511887835025089\n",
      "Epoch  200 / 200  -  train_rmse: 0.3491066777033632\n"
     ]
    },
    {
     "data": {
      "text/plain": [
       "KernelMF(gamma=0.01, lr=0.001, n_epochs=200, reg=0.005)"
      ]
     },
     "execution_count": 62,
     "metadata": {},
     "output_type": "execute_result"
    }
   ],
   "source": [
    "matrix_fact = KernelMF(n_epochs=200, n_factors=100, lr=0.001, reg=0.005)\n",
    "matrix_fact.fit(X_train, y_train)"
   ]
  },
  {
   "cell_type": "code",
   "execution_count": 63,
   "metadata": {},
   "outputs": [
    {
     "data": {
      "text/plain": [
       "(0.8908413562858296, 0.26841788382977194)"
      ]
     },
     "execution_count": 63,
     "metadata": {},
     "output_type": "execute_result"
    }
   ],
   "source": [
    "pred = matrix_fact.predict(X_test)\n",
    "# pred = [round(x) for x in pred]\n",
    "rmse = mean_squared_error(y_test, pred, squared=False)\n",
    "r2 = r2_score(y_test, pred)\n",
    "metrics_mf_10 = (rmse, r2)\n",
    "metrics_mf_10"
   ]
  },
  {
   "cell_type": "code",
   "execution_count": 64,
   "metadata": {},
   "outputs": [],
   "source": [
    "df_train =  pd.concat([X_train, y_train], axis=1)"
   ]
  },
  {
   "cell_type": "code",
   "execution_count": 65,
   "metadata": {},
   "outputs": [],
   "source": [
    "reader = Reader()\n",
    "data = Dataset.load_from_df(df_train[['user_id', 'item_id', 'rating']], reader)"
   ]
  },
  {
   "cell_type": "code",
   "execution_count": 66,
   "metadata": {},
   "outputs": [
    {
     "data": {
      "text/plain": [
       "{'test_rmse': array([0.86902072, 0.88681259, 0.86640779, 0.88976231, 0.87924807]),\n",
       " 'test_mae': array([0.67542446, 0.68739895, 0.67389796, 0.68178108, 0.67898049]),\n",
       " 'fit_time': (2.045725107192993,\n",
       "  2.2056987285614014,\n",
       "  1.6036181449890137,\n",
       "  2.030172109603882,\n",
       "  1.9789910316467285),\n",
       " 'test_time': (0.4513061046600342,\n",
       "  0.05280709266662598,\n",
       "  0.03628420829772949,\n",
       "  0.0863332748413086,\n",
       "  0.03939104080200195)}"
      ]
     },
     "execution_count": 66,
     "metadata": {},
     "output_type": "execute_result"
    }
   ],
   "source": [
    "svd = SVD()\n",
    "cross_validate(svd, data, measures=['RMSE','MAE'])"
   ]
  },
  {
   "cell_type": "code",
   "execution_count": 67,
   "metadata": {},
   "outputs": [
    {
     "data": {
      "text/plain": [
       "<surprise.prediction_algorithms.matrix_factorization.SVD at 0x7fc641fa5ee0>"
      ]
     },
     "execution_count": 67,
     "metadata": {},
     "output_type": "execute_result"
    }
   ],
   "source": [
    "trainset = data.build_full_trainset()\n",
    "svd.fit(trainset)"
   ]
  },
  {
   "cell_type": "code",
   "execution_count": 68,
   "metadata": {},
   "outputs": [
    {
     "data": {
      "text/plain": [
       "(0.87377114924666, 0.29618625979544577)"
      ]
     },
     "execution_count": 68,
     "metadata": {},
     "output_type": "execute_result"
    }
   ],
   "source": [
    "y_pred = []\n",
    "for line in range(len(X_test)):\n",
    "    y_pred.append(svd.predict(X_test.iloc[line,0],X_test.iloc[line,1],3)[3])\n",
    "rmse = mean_squared_error(y_test, y_pred, squared=False)\n",
    "r2 = r2_score(y_test, y_pred)\n",
    "metrics_svd_10 = (rmse, r2)\n",
    "metrics_svd_10"
   ]
  },
  {
   "cell_type": "code",
   "execution_count": 69,
   "metadata": {},
   "outputs": [],
   "source": [
    "X = df_5[['user_id','item_id']]\n",
    "y = df_5['rating']\n",
    "\n",
    "X_train, X_test, y_train, y_test = train_test_split(X, y, test_size=0.20, \\\n",
    "                                                    random_state=1000, \\\n",
    "                                    stratify = df_5['user_id'])"
   ]
  },
  {
   "cell_type": "code",
   "execution_count": 70,
   "metadata": {},
   "outputs": [
    {
     "name": "stdout",
     "output_type": "stream",
     "text": [
      "Epoch  1 / 200  -  train_rmse: 1.0177974707447068\n",
      "Epoch  2 / 200  -  train_rmse: 0.9935666407242241\n",
      "Epoch  3 / 200  -  train_rmse: 0.9744850017022648\n",
      "Epoch  4 / 200  -  train_rmse: 0.9588066993964024\n",
      "Epoch  5 / 200  -  train_rmse: 0.9455936578142929\n",
      "Epoch  6 / 200  -  train_rmse: 0.9342032961732138\n",
      "Epoch  7 / 200  -  train_rmse: 0.9242321917242028\n",
      "Epoch  8 / 200  -  train_rmse: 0.9153623547690641\n",
      "Epoch  9 / 200  -  train_rmse: 0.9073702326503702\n",
      "Epoch  10 / 200  -  train_rmse: 0.9001021041579248\n",
      "Epoch  11 / 200  -  train_rmse: 0.8934350023761498\n",
      "Epoch  12 / 200  -  train_rmse: 0.8872590721611504\n",
      "Epoch  13 / 200  -  train_rmse: 0.8815049315691957\n",
      "Epoch  14 / 200  -  train_rmse: 0.8761141615087362\n",
      "Epoch  15 / 200  -  train_rmse: 0.8710293720751642\n",
      "Epoch  16 / 200  -  train_rmse: 0.8662155525157185\n",
      "Epoch  17 / 200  -  train_rmse: 0.8616423600867132\n",
      "Epoch  18 / 200  -  train_rmse: 0.8572724194052977\n",
      "Epoch  19 / 200  -  train_rmse: 0.8530863538113925\n",
      "Epoch  20 / 200  -  train_rmse: 0.8490649925032038\n",
      "Epoch  21 / 200  -  train_rmse: 0.8451876203172342\n",
      "Epoch  22 / 200  -  train_rmse: 0.8414443295451806\n",
      "Epoch  23 / 200  -  train_rmse: 0.8378160735292258\n",
      "Epoch  24 / 200  -  train_rmse: 0.8342943029056911\n",
      "Epoch  25 / 200  -  train_rmse: 0.830869533871493\n",
      "Epoch  26 / 200  -  train_rmse: 0.8275302566731633\n",
      "Epoch  27 / 200  -  train_rmse: 0.8242713927401845\n",
      "Epoch  28 / 200  -  train_rmse: 0.8210819990590688\n",
      "Epoch  29 / 200  -  train_rmse: 0.817958555424188\n",
      "Epoch  30 / 200  -  train_rmse: 0.8148942172363774\n",
      "Epoch  31 / 200  -  train_rmse: 0.8118842860087323\n",
      "Epoch  32 / 200  -  train_rmse: 0.8089233414280717\n",
      "Epoch  33 / 200  -  train_rmse: 0.8060080142261791\n",
      "Epoch  34 / 200  -  train_rmse: 0.8031340473413939\n",
      "Epoch  35 / 200  -  train_rmse: 0.8002971446739096\n",
      "Epoch  36 / 200  -  train_rmse: 0.797493715147008\n",
      "Epoch  37 / 200  -  train_rmse: 0.7947212290824328\n",
      "Epoch  38 / 200  -  train_rmse: 0.7919752916228109\n",
      "Epoch  39 / 200  -  train_rmse: 0.7892549214617965\n",
      "Epoch  40 / 200  -  train_rmse: 0.7865571299628624\n",
      "Epoch  41 / 200  -  train_rmse: 0.7838788678685209\n",
      "Epoch  42 / 200  -  train_rmse: 0.7812185467997418\n",
      "Epoch  43 / 200  -  train_rmse: 0.7785740071432654\n",
      "Epoch  44 / 200  -  train_rmse: 0.7759438290296404\n",
      "Epoch  45 / 200  -  train_rmse: 0.7733251660391616\n",
      "Epoch  46 / 200  -  train_rmse: 0.7707168919393197\n",
      "Epoch  47 / 200  -  train_rmse: 0.7681170855322361\n",
      "Epoch  48 / 200  -  train_rmse: 0.7655250719323857\n",
      "Epoch  49 / 200  -  train_rmse: 0.762938671232589\n",
      "Epoch  50 / 200  -  train_rmse: 0.7603562396040291\n",
      "Epoch  51 / 200  -  train_rmse: 0.7577773197383421\n",
      "Epoch  52 / 200  -  train_rmse: 0.7552003562232188\n",
      "Epoch  53 / 200  -  train_rmse: 0.7526240257978734\n",
      "Epoch  54 / 200  -  train_rmse: 0.7500477163265123\n",
      "Epoch  55 / 200  -  train_rmse: 0.7474702584769991\n",
      "Epoch  56 / 200  -  train_rmse: 0.7448907025417721\n",
      "Epoch  57 / 200  -  train_rmse: 0.7423085193196582\n",
      "Epoch  58 / 200  -  train_rmse: 0.7397225899959108\n",
      "Epoch  59 / 200  -  train_rmse: 0.7371321850317054\n",
      "Epoch  60 / 200  -  train_rmse: 0.7345364344943494\n",
      "Epoch  61 / 200  -  train_rmse: 0.7319351409319285\n",
      "Epoch  62 / 200  -  train_rmse: 0.7293270658051201\n",
      "Epoch  63 / 200  -  train_rmse: 0.7267118659856991\n",
      "Epoch  64 / 200  -  train_rmse: 0.7240888831096342\n",
      "Epoch  65 / 200  -  train_rmse: 0.721458326161877\n",
      "Epoch  66 / 200  -  train_rmse: 0.7188188654562154\n",
      "Epoch  67 / 200  -  train_rmse: 0.7161707190482788\n",
      "Epoch  68 / 200  -  train_rmse: 0.7135131078301247\n",
      "Epoch  69 / 200  -  train_rmse: 0.7108453428691562\n",
      "Epoch  70 / 200  -  train_rmse: 0.7081678352356208\n",
      "Epoch  71 / 200  -  train_rmse: 0.7054794139256967\n",
      "Epoch  72 / 200  -  train_rmse: 0.7027811950866737\n",
      "Epoch  73 / 200  -  train_rmse: 0.7000721159880579\n",
      "Epoch  74 / 200  -  train_rmse: 0.6973520110953058\n",
      "Epoch  75 / 200  -  train_rmse: 0.6946205963821779\n",
      "Epoch  76 / 200  -  train_rmse: 0.6918776053279182\n",
      "Epoch  77 / 200  -  train_rmse: 0.6891236935208885\n",
      "Epoch  78 / 200  -  train_rmse: 0.686358983971586\n",
      "Epoch  79 / 200  -  train_rmse: 0.6835822366985829\n",
      "Epoch  80 / 200  -  train_rmse: 0.6807942647739105\n",
      "Epoch  81 / 200  -  train_rmse: 0.6779953201569431\n",
      "Epoch  82 / 200  -  train_rmse: 0.6751840070083627\n",
      "Epoch  83 / 200  -  train_rmse: 0.672362479836023\n",
      "Epoch  84 / 200  -  train_rmse: 0.6695299867937556\n",
      "Epoch  85 / 200  -  train_rmse: 0.6666854193651496\n",
      "Epoch  86 / 200  -  train_rmse: 0.6638301579162579\n",
      "Epoch  87 / 200  -  train_rmse: 0.6609645381032736\n",
      "Epoch  88 / 200  -  train_rmse: 0.658088428155861\n",
      "Epoch  89 / 200  -  train_rmse: 0.6552015091627251\n",
      "Epoch  90 / 200  -  train_rmse: 0.6523049560255928\n",
      "Epoch  91 / 200  -  train_rmse: 0.6493984699517817\n",
      "Epoch  92 / 200  -  train_rmse: 0.6464825105147705\n",
      "Epoch  93 / 200  -  train_rmse: 0.6435569068115814\n",
      "Epoch  94 / 200  -  train_rmse: 0.640622942985883\n",
      "Epoch  95 / 200  -  train_rmse: 0.637680284243456\n",
      "Epoch  96 / 200  -  train_rmse: 0.6347290277300327\n",
      "Epoch  97 / 200  -  train_rmse: 0.6317701329169588\n",
      "Epoch  98 / 200  -  train_rmse: 0.6288033540529747\n",
      "Epoch  99 / 200  -  train_rmse: 0.6258300227578343\n",
      "Epoch  100 / 200  -  train_rmse: 0.6228493123844501\n",
      "Epoch  101 / 200  -  train_rmse: 0.6198616174754463\n",
      "Epoch  102 / 200  -  train_rmse: 0.6168671462816222\n",
      "Epoch  103 / 200  -  train_rmse: 0.6138684904176198\n",
      "Epoch  104 / 200  -  train_rmse: 0.6108637186230369\n",
      "Epoch  105 / 200  -  train_rmse: 0.6078546357344732\n",
      "Epoch  106 / 200  -  train_rmse: 0.6048407772652596\n",
      "Epoch  107 / 200  -  train_rmse: 0.6018235110807405\n",
      "Epoch  108 / 200  -  train_rmse: 0.598802070044544\n",
      "Epoch  109 / 200  -  train_rmse: 0.5957780795803234\n",
      "Epoch  110 / 200  -  train_rmse: 0.5927511718320938\n",
      "Epoch  111 / 200  -  train_rmse: 0.5897216049191815\n",
      "Epoch  112 / 200  -  train_rmse: 0.5866911355604078\n",
      "Epoch  113 / 200  -  train_rmse: 0.5836591699568406\n",
      "Epoch  114 / 200  -  train_rmse: 0.5806261540828705\n",
      "Epoch  115 / 200  -  train_rmse: 0.5775927431678773\n",
      "Epoch  116 / 200  -  train_rmse: 0.5745596247031662\n",
      "Epoch  117 / 200  -  train_rmse: 0.5715269682425769\n",
      "Epoch  118 / 200  -  train_rmse: 0.5684952181722642\n",
      "Epoch  119 / 200  -  train_rmse: 0.5654652948665357\n",
      "Epoch  120 / 200  -  train_rmse: 0.5624373956868394\n",
      "Epoch  121 / 200  -  train_rmse: 0.5594107423112754\n",
      "Epoch  122 / 200  -  train_rmse: 0.5563871472885882\n",
      "Epoch  123 / 200  -  train_rmse: 0.5533669495056643\n",
      "Epoch  124 / 200  -  train_rmse: 0.5503498673848628\n",
      "Epoch  125 / 200  -  train_rmse: 0.5473367588674886\n",
      "Epoch  126 / 200  -  train_rmse: 0.5443282332124064\n",
      "Epoch  127 / 200  -  train_rmse: 0.5413246566599911\n",
      "Epoch  128 / 200  -  train_rmse: 0.5383261478295518\n",
      "Epoch  129 / 200  -  train_rmse: 0.535333152371374\n",
      "Epoch  130 / 200  -  train_rmse: 0.532346346077442\n",
      "Epoch  131 / 200  -  train_rmse: 0.5293656521783666\n",
      "Epoch  132 / 200  -  train_rmse: 0.5263917163965294\n",
      "Epoch  133 / 200  -  train_rmse: 0.5234246667355388\n",
      "Epoch  134 / 200  -  train_rmse: 0.5204658760651368\n",
      "Epoch  135 / 200  -  train_rmse: 0.5175144324600452\n",
      "Epoch  136 / 200  -  train_rmse: 0.5145703484934269\n",
      "Epoch  137 / 200  -  train_rmse: 0.5116347814315498\n",
      "Epoch  138 / 200  -  train_rmse: 0.5087078437113649\n",
      "Epoch  139 / 200  -  train_rmse: 0.5057898781429532\n",
      "Epoch  140 / 200  -  train_rmse: 0.5028821231594836\n",
      "Epoch  141 / 200  -  train_rmse: 0.499982808967365\n",
      "Epoch  142 / 200  -  train_rmse: 0.49709410067293247\n",
      "Epoch  143 / 200  -  train_rmse: 0.49421551483135506\n",
      "Epoch  144 / 200  -  train_rmse: 0.4913472665265715\n",
      "Epoch  145 / 200  -  train_rmse: 0.48848977788136977\n",
      "Epoch  146 / 200  -  train_rmse: 0.48564331913692294\n",
      "Epoch  147 / 200  -  train_rmse: 0.48280842224729403\n",
      "Epoch  148 / 200  -  train_rmse: 0.47998441070685993\n",
      "Epoch  149 / 200  -  train_rmse: 0.4771720425616565\n",
      "Epoch  150 / 200  -  train_rmse: 0.47437126404056607\n",
      "Epoch  151 / 200  -  train_rmse: 0.4715830419018291\n",
      "Epoch  152 / 200  -  train_rmse: 0.46880691800601143\n",
      "Epoch  153 / 200  -  train_rmse: 0.46604327445950866\n",
      "Epoch  154 / 200  -  train_rmse: 0.46329193775349486\n",
      "Epoch  155 / 200  -  train_rmse: 0.4605536146060766\n",
      "Epoch  156 / 200  -  train_rmse: 0.4578285875903358\n",
      "Epoch  157 / 200  -  train_rmse: 0.4551162465826812\n",
      "Epoch  158 / 200  -  train_rmse: 0.4524171538219373\n",
      "Epoch  159 / 200  -  train_rmse: 0.4497314505412893\n",
      "Epoch  160 / 200  -  train_rmse: 0.4470593588702322\n",
      "Epoch  161 / 200  -  train_rmse: 0.44440094213428605\n",
      "Epoch  162 / 200  -  train_rmse: 0.44175617122041616\n",
      "Epoch  163 / 200  -  train_rmse: 0.4391256601978659\n",
      "Epoch  164 / 200  -  train_rmse: 0.4365091078035546\n",
      "Epoch  165 / 200  -  train_rmse: 0.4339066273265853\n",
      "Epoch  166 / 200  -  train_rmse: 0.4313182446786481\n",
      "Epoch  167 / 200  -  train_rmse: 0.42874396155406996\n",
      "Epoch  168 / 200  -  train_rmse: 0.4261838601351058\n",
      "Epoch  169 / 200  -  train_rmse: 0.4236385336670554\n",
      "Epoch  170 / 200  -  train_rmse: 0.4211076565888693\n",
      "Epoch  171 / 200  -  train_rmse: 0.4185915193856511\n",
      "Epoch  172 / 200  -  train_rmse: 0.4160896405698665\n",
      "Epoch  173 / 200  -  train_rmse: 0.41360294266598885\n",
      "Epoch  174 / 200  -  train_rmse: 0.41113080925834966\n",
      "Epoch  175 / 200  -  train_rmse: 0.40867363565324194\n",
      "Epoch  176 / 200  -  train_rmse: 0.40623076542338626\n",
      "Epoch  177 / 200  -  train_rmse: 0.40380280114441086\n",
      "Epoch  178 / 200  -  train_rmse: 0.4013897291908237\n",
      "Epoch  179 / 200  -  train_rmse: 0.3989912304672422\n",
      "Epoch  180 / 200  -  train_rmse: 0.39660798063526026\n",
      "Epoch  181 / 200  -  train_rmse: 0.3942394281071693\n",
      "Epoch  182 / 200  -  train_rmse: 0.3918860413024395\n",
      "Epoch  183 / 200  -  train_rmse: 0.38954754989327334\n",
      "Epoch  184 / 200  -  train_rmse: 0.38722395121207087\n",
      "Epoch  185 / 200  -  train_rmse: 0.38491527979193574\n",
      "Epoch  186 / 200  -  train_rmse: 0.38262132612852634\n",
      "Epoch  187 / 200  -  train_rmse: 0.38034254909486626\n",
      "Epoch  188 / 200  -  train_rmse: 0.3780784968736197\n",
      "Epoch  189 / 200  -  train_rmse: 0.3758292912992858\n",
      "Epoch  190 / 200  -  train_rmse: 0.37359501266294337\n",
      "Epoch  191 / 200  -  train_rmse: 0.3713753937379644\n",
      "Epoch  192 / 200  -  train_rmse: 0.3691707771274951\n",
      "Epoch  193 / 200  -  train_rmse: 0.36698059320289267\n",
      "Epoch  194 / 200  -  train_rmse: 0.36480526148914455\n",
      "Epoch  195 / 200  -  train_rmse: 0.36264427579844993\n",
      "Epoch  196 / 200  -  train_rmse: 0.36049790355918854\n",
      "Epoch  197 / 200  -  train_rmse: 0.3583665583847659\n",
      "Epoch  198 / 200  -  train_rmse: 0.35624931836561835\n",
      "Epoch  199 / 200  -  train_rmse: 0.3541471508842249\n",
      "Epoch  200 / 200  -  train_rmse: 0.352058675046387\n"
     ]
    },
    {
     "data": {
      "text/plain": [
       "KernelMF(gamma=0.01, lr=0.001, n_epochs=200, reg=0.005)"
      ]
     },
     "execution_count": 70,
     "metadata": {},
     "output_type": "execute_result"
    }
   ],
   "source": [
    "matrix_fact = KernelMF(n_epochs=200, n_factors=100, lr=0.001, reg=0.005)\n",
    "matrix_fact.fit(X_train, y_train)"
   ]
  },
  {
   "cell_type": "code",
   "execution_count": 71,
   "metadata": {},
   "outputs": [
    {
     "data": {
      "text/plain": [
       "(0.8912834885715188, 0.23921742909052424)"
      ]
     },
     "execution_count": 71,
     "metadata": {},
     "output_type": "execute_result"
    }
   ],
   "source": [
    "pred = matrix_fact.predict(X_test)\n",
    "# pred = [round(x) for x in pred]\n",
    "rmse = mean_squared_error(y_test, pred, squared=False)\n",
    "r2 = r2_score(y_test, pred)\n",
    "metrics_mf_5 = (rmse, r2)\n",
    "metrics_mf_5"
   ]
  },
  {
   "cell_type": "code",
   "execution_count": 72,
   "metadata": {},
   "outputs": [
    {
     "data": {
      "text/plain": [
       "{'test_rmse': array([0.88580063, 0.88947961, 0.8904328 , 0.87536571, 0.87809171]),\n",
       " 'test_mae': array([0.68640185, 0.69153442, 0.6858767 , 0.67060675, 0.67861779]),\n",
       " 'fit_time': (1.4966890811920166,\n",
       "  2.2324306964874268,\n",
       "  1.7726728916168213,\n",
       "  2.0094029903411865,\n",
       "  2.187114953994751),\n",
       " 'test_time': (0.057893991470336914,\n",
       "  0.04312419891357422,\n",
       "  0.0748589038848877,\n",
       "  0.036364078521728516,\n",
       "  0.06193995475769043)}"
      ]
     },
     "execution_count": 72,
     "metadata": {},
     "output_type": "execute_result"
    }
   ],
   "source": [
    "df_train =  pd.concat([X_train, y_train], axis=1)\n",
    "\n",
    "reader = Reader()\n",
    "data = Dataset.load_from_df(df_train[['user_id', 'item_id', 'rating']], reader)\n",
    "\n",
    "svd = SVD()\n",
    "cross_validate(svd, data, measures=['RMSE','MAE'])"
   ]
  },
  {
   "cell_type": "code",
   "execution_count": 73,
   "metadata": {},
   "outputs": [
    {
     "data": {
      "text/plain": [
       "<surprise.prediction_algorithms.matrix_factorization.SVD at 0x7fc66fe4b160>"
      ]
     },
     "execution_count": 73,
     "metadata": {},
     "output_type": "execute_result"
    }
   ],
   "source": [
    "trainset = data.build_full_trainset()\n",
    "svd.fit(trainset)"
   ]
  },
  {
   "cell_type": "code",
   "execution_count": 74,
   "metadata": {},
   "outputs": [
    {
     "data": {
      "text/plain": [
       "(0.8682083588720827, 0.27810047177226516)"
      ]
     },
     "execution_count": 74,
     "metadata": {},
     "output_type": "execute_result"
    }
   ],
   "source": [
    "y_pred = []\n",
    "for line in range(len(X_test)):\n",
    "    y_pred.append(svd.predict(X_test.iloc[line,0],X_test.iloc[line,1],3)[3])\n",
    "rmse = mean_squared_error(y_test, y_pred, squared=False)\n",
    "r2 = r2_score(y_test, y_pred)\n",
    "metrics_svd_5 = (rmse, r2)\n",
    "metrics_svd_5"
   ]
  },
  {
   "cell_type": "code",
   "execution_count": 75,
   "metadata": {},
   "outputs": [],
   "source": [
    "X = df_50[['user_id','item_id']]\n",
    "y = df_50['rating']\n",
    "\n",
    "X_train, X_test, y_train, y_test = train_test_split(X, y, test_size=0.20, \\\n",
    "                                                    random_state=1000, \\\n",
    "                                    stratify = df_50['user_id'])"
   ]
  },
  {
   "cell_type": "code",
   "execution_count": 76,
   "metadata": {},
   "outputs": [
    {
     "name": "stdout",
     "output_type": "stream",
     "text": [
      "Epoch  1 / 200  -  train_rmse: 0.9937403630775791\n",
      "Epoch  2 / 200  -  train_rmse: 0.970878989726379\n",
      "Epoch  3 / 200  -  train_rmse: 0.9527447672297545\n",
      "Epoch  4 / 200  -  train_rmse: 0.9376743920841993\n",
      "Epoch  5 / 200  -  train_rmse: 0.9247976163136415\n",
      "Epoch  6 / 200  -  train_rmse: 0.9135908573439413\n",
      "Epoch  7 / 200  -  train_rmse: 0.903699439158772\n",
      "Epoch  8 / 200  -  train_rmse: 0.8948569027095192\n",
      "Epoch  9 / 200  -  train_rmse: 0.8868747040159788\n",
      "Epoch  10 / 200  -  train_rmse: 0.8796095490786321\n",
      "Epoch  11 / 200  -  train_rmse: 0.8729551529588141\n",
      "Epoch  12 / 200  -  train_rmse: 0.8668099170848047\n",
      "Epoch  13 / 200  -  train_rmse: 0.8610983875118586\n",
      "Epoch  14 / 200  -  train_rmse: 0.8557612319225105\n",
      "Epoch  15 / 200  -  train_rmse: 0.8507490809748535\n",
      "Epoch  16 / 200  -  train_rmse: 0.8460233291670766\n",
      "Epoch  17 / 200  -  train_rmse: 0.8415385295719109\n",
      "Epoch  18 / 200  -  train_rmse: 0.8372705666154656\n",
      "Epoch  19 / 200  -  train_rmse: 0.8331905279727869\n",
      "Epoch  20 / 200  -  train_rmse: 0.8292776651376987\n",
      "Epoch  21 / 200  -  train_rmse: 0.8255143918893144\n",
      "Epoch  22 / 200  -  train_rmse: 0.8218846274839481\n",
      "Epoch  23 / 200  -  train_rmse: 0.8183712491373449\n",
      "Epoch  24 / 200  -  train_rmse: 0.8149633660659766\n",
      "Epoch  25 / 200  -  train_rmse: 0.8116499451763856\n",
      "Epoch  26 / 200  -  train_rmse: 0.8084229143507989\n",
      "Epoch  27 / 200  -  train_rmse: 0.8052718881759453\n",
      "Epoch  28 / 200  -  train_rmse: 0.8021885525724604\n",
      "Epoch  29 / 200  -  train_rmse: 0.7991689449349698\n",
      "Epoch  30 / 200  -  train_rmse: 0.7962041449989521\n",
      "Epoch  31 / 200  -  train_rmse: 0.7932891912202836\n",
      "Epoch  32 / 200  -  train_rmse: 0.7904196971988907\n",
      "Epoch  33 / 200  -  train_rmse: 0.7875897878500717\n",
      "Epoch  34 / 200  -  train_rmse: 0.7847969841627608\n",
      "Epoch  35 / 200  -  train_rmse: 0.782037231127437\n",
      "Epoch  36 / 200  -  train_rmse: 0.7793065886399496\n",
      "Epoch  37 / 200  -  train_rmse: 0.7766021022046632\n",
      "Epoch  38 / 200  -  train_rmse: 0.7739200380729735\n",
      "Epoch  39 / 200  -  train_rmse: 0.7712588041063531\n",
      "Epoch  40 / 200  -  train_rmse: 0.7686171115174266\n",
      "Epoch  41 / 200  -  train_rmse: 0.7659904686689337\n",
      "Epoch  42 / 200  -  train_rmse: 0.7633779149265094\n",
      "Epoch  43 / 200  -  train_rmse: 0.7607765203401966\n",
      "Epoch  44 / 200  -  train_rmse: 0.7581843913823744\n",
      "Epoch  45 / 200  -  train_rmse: 0.7556013650190208\n",
      "Epoch  46 / 200  -  train_rmse: 0.7530246008635272\n",
      "Epoch  47 / 200  -  train_rmse: 0.750453587661071\n",
      "Epoch  48 / 200  -  train_rmse: 0.7478859664139259\n",
      "Epoch  49 / 200  -  train_rmse: 0.7453207565667976\n",
      "Epoch  50 / 200  -  train_rmse: 0.7427571924680726\n",
      "Epoch  51 / 200  -  train_rmse: 0.740192946324699\n",
      "Epoch  52 / 200  -  train_rmse: 0.7376278100134862\n",
      "Epoch  53 / 200  -  train_rmse: 0.7350598403225026\n",
      "Epoch  54 / 200  -  train_rmse: 0.7324891648135965\n",
      "Epoch  55 / 200  -  train_rmse: 0.7299145413969279\n",
      "Epoch  56 / 200  -  train_rmse: 0.7273360939336897\n",
      "Epoch  57 / 200  -  train_rmse: 0.7247504683463682\n",
      "Epoch  58 / 200  -  train_rmse: 0.722158521385146\n",
      "Epoch  59 / 200  -  train_rmse: 0.7195598348796189\n",
      "Epoch  60 / 200  -  train_rmse: 0.7169529658864113\n",
      "Epoch  61 / 200  -  train_rmse: 0.7143378537007501\n",
      "Epoch  62 / 200  -  train_rmse: 0.7117133677970354\n",
      "Epoch  63 / 200  -  train_rmse: 0.7090794228177012\n",
      "Epoch  64 / 200  -  train_rmse: 0.7064349411831475\n",
      "Epoch  65 / 200  -  train_rmse: 0.7037810603701224\n",
      "Epoch  66 / 200  -  train_rmse: 0.7011151923615201\n",
      "Epoch  67 / 200  -  train_rmse: 0.6984370533741314\n",
      "Epoch  68 / 200  -  train_rmse: 0.6957480123191866\n",
      "Epoch  69 / 200  -  train_rmse: 0.6930472268212438\n",
      "Epoch  70 / 200  -  train_rmse: 0.6903338210415787\n",
      "Epoch  71 / 200  -  train_rmse: 0.6876071922810097\n",
      "Epoch  72 / 200  -  train_rmse: 0.6848678608721336\n",
      "Epoch  73 / 200  -  train_rmse: 0.6821156909695923\n",
      "Epoch  74 / 200  -  train_rmse: 0.6793498013810332\n",
      "Epoch  75 / 200  -  train_rmse: 0.6765721225470515\n",
      "Epoch  76 / 200  -  train_rmse: 0.6737784453134998\n",
      "Epoch  77 / 200  -  train_rmse: 0.6709723338338848\n",
      "Epoch  78 / 200  -  train_rmse: 0.6681528116479706\n",
      "Epoch  79 / 200  -  train_rmse: 0.6653191552159724\n",
      "Epoch  80 / 200  -  train_rmse: 0.6624716771972986\n",
      "Epoch  81 / 200  -  train_rmse: 0.6596114646054179\n",
      "Epoch  82 / 200  -  train_rmse: 0.6567377861786546\n",
      "Epoch  83 / 200  -  train_rmse: 0.6538491595672664\n",
      "Epoch  84 / 200  -  train_rmse: 0.6509478269438526\n",
      "Epoch  85 / 200  -  train_rmse: 0.6480330702160971\n",
      "Epoch  86 / 200  -  train_rmse: 0.6451054605774037\n",
      "Epoch  87 / 200  -  train_rmse: 0.6421643162438699\n",
      "Epoch  88 / 200  -  train_rmse: 0.6392113977095198\n",
      "Epoch  89 / 200  -  train_rmse: 0.6362455048305947\n",
      "Epoch  90 / 200  -  train_rmse: 0.6332673063588757\n",
      "Epoch  91 / 200  -  train_rmse: 0.6302775325198333\n",
      "Epoch  92 / 200  -  train_rmse: 0.6272757982138706\n",
      "Epoch  93 / 200  -  train_rmse: 0.6242630051014548\n",
      "Epoch  94 / 200  -  train_rmse: 0.6212388662532458\n",
      "Epoch  95 / 200  -  train_rmse: 0.6182039005016304\n",
      "Epoch  96 / 200  -  train_rmse: 0.6151589059996995\n",
      "Epoch  97 / 200  -  train_rmse: 0.6121043627852841\n",
      "Epoch  98 / 200  -  train_rmse: 0.6090402336696301\n",
      "Epoch  99 / 200  -  train_rmse: 0.6059664389404887\n",
      "Epoch  100 / 200  -  train_rmse: 0.6028833747065553\n",
      "Epoch  101 / 200  -  train_rmse: 0.5997924823144609\n",
      "Epoch  102 / 200  -  train_rmse: 0.5966941176527173\n",
      "Epoch  103 / 200  -  train_rmse: 0.5935881728073424\n",
      "Epoch  104 / 200  -  train_rmse: 0.5904758287286178\n",
      "Epoch  105 / 200  -  train_rmse: 0.5873559563992842\n",
      "Epoch  106 / 200  -  train_rmse: 0.5842302572551137\n",
      "Epoch  107 / 200  -  train_rmse: 0.58109978807049\n",
      "Epoch  108 / 200  -  train_rmse: 0.5779645864970748\n",
      "Epoch  109 / 200  -  train_rmse: 0.5748232944243284\n",
      "Epoch  110 / 200  -  train_rmse: 0.5716794445816211\n",
      "Epoch  111 / 200  -  train_rmse: 0.568531353860478\n",
      "Epoch  112 / 200  -  train_rmse: 0.5653802645342685\n",
      "Epoch  113 / 200  -  train_rmse: 0.5622272248059478\n",
      "Epoch  114 / 200  -  train_rmse: 0.559071938682968\n",
      "Epoch  115 / 200  -  train_rmse: 0.5559162353560739\n",
      "Epoch  116 / 200  -  train_rmse: 0.5527587482713311\n",
      "Epoch  117 / 200  -  train_rmse: 0.549601773446397\n",
      "Epoch  118 / 200  -  train_rmse: 0.5464449835756631\n",
      "Epoch  119 / 200  -  train_rmse: 0.5432885992540886\n",
      "Epoch  120 / 200  -  train_rmse: 0.5401341029940222\n",
      "Epoch  121 / 200  -  train_rmse: 0.5369805923385098\n",
      "Epoch  122 / 200  -  train_rmse: 0.5338299005591212\n",
      "Epoch  123 / 200  -  train_rmse: 0.5306817262431854\n",
      "Epoch  124 / 200  -  train_rmse: 0.5275372964293961\n",
      "Epoch  125 / 200  -  train_rmse: 0.5243968098215347\n",
      "Epoch  126 / 200  -  train_rmse: 0.5212605144931824\n",
      "Epoch  127 / 200  -  train_rmse: 0.5181290792688166\n",
      "Epoch  128 / 200  -  train_rmse: 0.5150034546117873\n",
      "Epoch  129 / 200  -  train_rmse: 0.5118834156614649\n",
      "Epoch  130 / 200  -  train_rmse: 0.5087696782307323\n",
      "Epoch  131 / 200  -  train_rmse: 0.50566298730366\n",
      "Epoch  132 / 200  -  train_rmse: 0.5025638895326381\n",
      "Epoch  133 / 200  -  train_rmse: 0.4994716675695562\n",
      "Epoch  134 / 200  -  train_rmse: 0.496386918011147\n",
      "Epoch  135 / 200  -  train_rmse: 0.4933118107548627\n",
      "Epoch  136 / 200  -  train_rmse: 0.4902452795599981\n",
      "Epoch  137 / 200  -  train_rmse: 0.487188352937738\n",
      "Epoch  138 / 200  -  train_rmse: 0.484140762461518\n",
      "Epoch  139 / 200  -  train_rmse: 0.4811039130256976\n",
      "Epoch  140 / 200  -  train_rmse: 0.4780773250440151\n",
      "Epoch  141 / 200  -  train_rmse: 0.4750618420328189\n",
      "Epoch  142 / 200  -  train_rmse: 0.4720574040111079\n",
      "Epoch  143 / 200  -  train_rmse: 0.4690645459999733\n",
      "Epoch  144 / 200  -  train_rmse: 0.4660831216133826\n",
      "Epoch  145 / 200  -  train_rmse: 0.46311411135773217\n",
      "Epoch  146 / 200  -  train_rmse: 0.46015788551730047\n",
      "Epoch  147 / 200  -  train_rmse: 0.4572149509534679\n",
      "Epoch  148 / 200  -  train_rmse: 0.4542843351432171\n",
      "Epoch  149 / 200  -  train_rmse: 0.4513673300040905\n",
      "Epoch  150 / 200  -  train_rmse: 0.4484642414223829\n",
      "Epoch  151 / 200  -  train_rmse: 0.44557503477508126\n",
      "Epoch  152 / 200  -  train_rmse: 0.4427002084781484\n",
      "Epoch  153 / 200  -  train_rmse: 0.43984035811136646\n",
      "Epoch  154 / 200  -  train_rmse: 0.43699418095896414\n",
      "Epoch  155 / 200  -  train_rmse: 0.43416322146955916\n",
      "Epoch  156 / 200  -  train_rmse: 0.4313477902776998\n",
      "Epoch  157 / 200  -  train_rmse: 0.4285467701517896\n",
      "Epoch  158 / 200  -  train_rmse: 0.42576211472625086\n",
      "Epoch  159 / 200  -  train_rmse: 0.42299290335824735\n",
      "Epoch  160 / 200  -  train_rmse: 0.420239442159045\n",
      "Epoch  161 / 200  -  train_rmse: 0.4175010905918039\n",
      "Epoch  162 / 200  -  train_rmse: 0.41477978391080667\n",
      "Epoch  163 / 200  -  train_rmse: 0.41207422467829063\n",
      "Epoch  164 / 200  -  train_rmse: 0.4093855532883637\n",
      "Epoch  165 / 200  -  train_rmse: 0.40671301298425194\n",
      "Epoch  166 / 200  -  train_rmse: 0.4040565351734321\n",
      "Epoch  167 / 200  -  train_rmse: 0.40141681005295343\n",
      "Epoch  168 / 200  -  train_rmse: 0.3987937928792985\n",
      "Epoch  169 / 200  -  train_rmse: 0.3961885412285496\n",
      "Epoch  170 / 200  -  train_rmse: 0.3935994953620063\n",
      "Epoch  171 / 200  -  train_rmse: 0.3910276657559721\n",
      "Epoch  172 / 200  -  train_rmse: 0.3884731935723039\n",
      "Epoch  173 / 200  -  train_rmse: 0.3859355778374117\n",
      "Epoch  174 / 200  -  train_rmse: 0.3834148685068067\n",
      "Epoch  175 / 200  -  train_rmse: 0.3809110589407975\n",
      "Epoch  176 / 200  -  train_rmse: 0.3784243330070789\n",
      "Epoch  177 / 200  -  train_rmse: 0.3759551237586406\n",
      "Epoch  178 / 200  -  train_rmse: 0.3735031366150644\n",
      "Epoch  179 / 200  -  train_rmse: 0.3710680450644632\n",
      "Epoch  180 / 200  -  train_rmse: 0.3686508301215436\n",
      "Epoch  181 / 200  -  train_rmse: 0.3662507182768395\n",
      "Epoch  182 / 200  -  train_rmse: 0.3638678541452992\n",
      "Epoch  183 / 200  -  train_rmse: 0.36150229372791504\n",
      "Epoch  184 / 200  -  train_rmse: 0.3591542468126328\n",
      "Epoch  185 / 200  -  train_rmse: 0.35682254863323576\n",
      "Epoch  186 / 200  -  train_rmse: 0.3545083288956978\n",
      "Epoch  187 / 200  -  train_rmse: 0.35221125616061233\n",
      "Epoch  188 / 200  -  train_rmse: 0.34993126429040416\n",
      "Epoch  189 / 200  -  train_rmse: 0.3476682458102128\n",
      "Epoch  190 / 200  -  train_rmse: 0.3454223911613445\n",
      "Epoch  191 / 200  -  train_rmse: 0.34319364997782215\n",
      "Epoch  192 / 200  -  train_rmse: 0.34098141397499143\n",
      "Epoch  193 / 200  -  train_rmse: 0.3387861351515856\n",
      "Epoch  194 / 200  -  train_rmse: 0.3366078934339897\n",
      "Epoch  195 / 200  -  train_rmse: 0.3344466043102379\n",
      "Epoch  196 / 200  -  train_rmse: 0.33230147931821086\n",
      "Epoch  197 / 200  -  train_rmse: 0.33017322672554195\n",
      "Epoch  198 / 200  -  train_rmse: 0.32806186817076566\n",
      "Epoch  199 / 200  -  train_rmse: 0.32596582157067716\n",
      "Epoch  200 / 200  -  train_rmse: 0.32388652524624745\n"
     ]
    },
    {
     "data": {
      "text/plain": [
       "KernelMF(gamma=0.01, lr=0.001, n_epochs=200, reg=0.005)"
      ]
     },
     "execution_count": 76,
     "metadata": {},
     "output_type": "execute_result"
    }
   ],
   "source": [
    "matrix_fact = KernelMF(n_epochs=200, n_factors=100, lr=0.001, reg=0.005)\n",
    "matrix_fact.fit(X_train, y_train)"
   ]
  },
  {
   "cell_type": "code",
   "execution_count": 77,
   "metadata": {},
   "outputs": [
    {
     "data": {
      "text/plain": [
       "(0.8674316637697282, 0.2749594779555129)"
      ]
     },
     "execution_count": 77,
     "metadata": {},
     "output_type": "execute_result"
    }
   ],
   "source": [
    "pred = matrix_fact.predict(X_test)\n",
    "# pred = [round(x) for x in pred]\n",
    "rmse = mean_squared_error(y_test, pred, squared=False)\n",
    "r2 = r2_score(y_test, pred)\n",
    "metrics_mf_50 = (rmse, r2)\n",
    "metrics_mf_50"
   ]
  },
  {
   "cell_type": "code",
   "execution_count": 78,
   "metadata": {},
   "outputs": [
    {
     "data": {
      "text/plain": [
       "{'test_rmse': array([0.85738275, 0.8759611 , 0.86559115, 0.84735009, 0.85350167]),\n",
       " 'test_mae': array([0.66904146, 0.67824121, 0.67020022, 0.6561461 , 0.65647696]),\n",
       " 'fit_time': (1.379641056060791,\n",
       "  1.454758882522583,\n",
       "  1.1637837886810303,\n",
       "  1.3082029819488525,\n",
       "  1.1722650527954102),\n",
       " 'test_time': (0.027493000030517578,\n",
       "  0.06693816184997559,\n",
       "  0.07546091079711914,\n",
       "  0.02408599853515625,\n",
       "  0.022904157638549805)}"
      ]
     },
     "execution_count": 78,
     "metadata": {},
     "output_type": "execute_result"
    }
   ],
   "source": [
    "df_train =  pd.concat([X_train, y_train], axis=1)\n",
    "\n",
    "reader = Reader()\n",
    "data = Dataset.load_from_df(df_train[['user_id', 'item_id', 'rating']], reader)\n",
    "\n",
    "svd = SVD()\n",
    "cross_validate(svd, data, measures=['RMSE','MAE'])"
   ]
  },
  {
   "cell_type": "code",
   "execution_count": 79,
   "metadata": {},
   "outputs": [
    {
     "data": {
      "text/plain": [
       "<surprise.prediction_algorithms.matrix_factorization.SVD at 0x7fc6718f7190>"
      ]
     },
     "execution_count": 79,
     "metadata": {},
     "output_type": "execute_result"
    }
   ],
   "source": [
    "trainset = data.build_full_trainset()\n",
    "svd.fit(trainset)"
   ]
  },
  {
   "cell_type": "code",
   "execution_count": 80,
   "metadata": {},
   "outputs": [
    {
     "data": {
      "text/plain": [
       "(0.8476273641955087, 0.30768829411022736)"
      ]
     },
     "execution_count": 80,
     "metadata": {},
     "output_type": "execute_result"
    }
   ],
   "source": [
    "y_pred = []\n",
    "for line in range(len(X_test)):\n",
    "    y_pred.append(svd.predict(X_test.iloc[line,0],X_test.iloc[line,1],3)[3])\n",
    "rmse = mean_squared_error(y_test, y_pred, squared=False)\n",
    "r2 = r2_score(y_test, y_pred)\n",
    "metrics_svd_50 = (rmse, r2)\n",
    "metrics_svd_50"
   ]
  },
  {
   "cell_type": "code",
   "execution_count": 81,
   "metadata": {},
   "outputs": [
    {
     "name": "stdout",
     "output_type": "stream",
     "text": [
      "Epoch  1 / 200  -  train_rmse: 1.0105768399358541\n",
      "Epoch  2 / 200  -  train_rmse: 0.9869561584914457\n",
      "Epoch  3 / 200  -  train_rmse: 0.9680916069591633\n",
      "Epoch  4 / 200  -  train_rmse: 0.9524868427285419\n",
      "Epoch  5 / 200  -  train_rmse: 0.9392053737208098\n",
      "Epoch  6 / 200  -  train_rmse: 0.9276915614848554\n",
      "Epoch  7 / 200  -  train_rmse: 0.9175677965954505\n",
      "Epoch  8 / 200  -  train_rmse: 0.9085333649216165\n",
      "Epoch  9 / 200  -  train_rmse: 0.9003969457858123\n",
      "Epoch  10 / 200  -  train_rmse: 0.8929991659088667\n",
      "Epoch  11 / 200  -  train_rmse: 0.886210383131671\n",
      "Epoch  12 / 200  -  train_rmse: 0.8799380656890622\n",
      "Epoch  13 / 200  -  train_rmse: 0.8741100371535239\n",
      "Epoch  14 / 200  -  train_rmse: 0.8686562256695234\n",
      "Epoch  15 / 200  -  train_rmse: 0.8635255927933716\n",
      "Epoch  16 / 200  -  train_rmse: 0.8586761485317194\n",
      "Epoch  17 / 200  -  train_rmse: 0.8540753955948849\n",
      "Epoch  18 / 200  -  train_rmse: 0.8496912886378931\n",
      "Epoch  19 / 200  -  train_rmse: 0.8455015363299975\n",
      "Epoch  20 / 200  -  train_rmse: 0.8414824736684098\n",
      "Epoch  21 / 200  -  train_rmse: 0.8376174135467036\n",
      "Epoch  22 / 200  -  train_rmse: 0.8338872548824745\n",
      "Epoch  23 / 200  -  train_rmse: 0.8302826818867032\n",
      "Epoch  24 / 200  -  train_rmse: 0.826788225233398\n",
      "Epoch  25 / 200  -  train_rmse: 0.8233938670355637\n",
      "Epoch  26 / 200  -  train_rmse: 0.820091035316125\n",
      "Epoch  27 / 200  -  train_rmse: 0.816870700353376\n",
      "Epoch  28 / 200  -  train_rmse: 0.8137238158400755\n",
      "Epoch  29 / 200  -  train_rmse: 0.8106454176458676\n",
      "Epoch  30 / 200  -  train_rmse: 0.8076299938261913\n",
      "Epoch  31 / 200  -  train_rmse: 0.8046717532716156\n",
      "Epoch  32 / 200  -  train_rmse: 0.8017648123429529\n",
      "Epoch  33 / 200  -  train_rmse: 0.7989046260155048\n",
      "Epoch  34 / 200  -  train_rmse: 0.7960872531802533\n",
      "Epoch  35 / 200  -  train_rmse: 0.7933081205864738\n",
      "Epoch  36 / 200  -  train_rmse: 0.7905639508001415\n",
      "Epoch  37 / 200  -  train_rmse: 0.7878514258362557\n",
      "Epoch  38 / 200  -  train_rmse: 0.7851683105985725\n",
      "Epoch  39 / 200  -  train_rmse: 0.7825104486620849\n",
      "Epoch  40 / 200  -  train_rmse: 0.7798760439256288\n",
      "Epoch  41 / 200  -  train_rmse: 0.7772626930779662\n",
      "Epoch  42 / 200  -  train_rmse: 0.7746683211481288\n",
      "Epoch  43 / 200  -  train_rmse: 0.772089221247899\n",
      "Epoch  44 / 200  -  train_rmse: 0.7695255255783976\n",
      "Epoch  45 / 200  -  train_rmse: 0.7669731003533504\n",
      "Epoch  46 / 200  -  train_rmse: 0.764431436152282\n",
      "Epoch  47 / 200  -  train_rmse: 0.7618983217212146\n",
      "Epoch  48 / 200  -  train_rmse: 0.7593729316893697\n",
      "Epoch  49 / 200  -  train_rmse: 0.7568535357864666\n",
      "Epoch  50 / 200  -  train_rmse: 0.7543389782643397\n",
      "Epoch  51 / 200  -  train_rmse: 0.7518273689587985\n",
      "Epoch  52 / 200  -  train_rmse: 0.7493175756654141\n",
      "Epoch  53 / 200  -  train_rmse: 0.746808982062193\n",
      "Epoch  54 / 200  -  train_rmse: 0.7442999424833826\n",
      "Epoch  55 / 200  -  train_rmse: 0.7417897770735583\n",
      "Epoch  56 / 200  -  train_rmse: 0.7392775224038323\n",
      "Epoch  57 / 200  -  train_rmse: 0.7367620150841557\n",
      "Epoch  58 / 200  -  train_rmse: 0.734242353775968\n",
      "Epoch  59 / 200  -  train_rmse: 0.7317176532529487\n",
      "Epoch  60 / 200  -  train_rmse: 0.729188102725025\n",
      "Epoch  61 / 200  -  train_rmse: 0.72665171984171\n",
      "Epoch  62 / 200  -  train_rmse: 0.724109901231533\n",
      "Epoch  63 / 200  -  train_rmse: 0.7215584577743277\n",
      "Epoch  64 / 200  -  train_rmse: 0.7189984132958697\n",
      "Epoch  65 / 200  -  train_rmse: 0.7164298454306618\n",
      "Epoch  66 / 200  -  train_rmse: 0.7138526869976609\n",
      "Epoch  67 / 200  -  train_rmse: 0.7112658428463476\n",
      "Epoch  68 / 200  -  train_rmse: 0.7086691127969146\n",
      "Epoch  69 / 200  -  train_rmse: 0.7060614904436014\n",
      "Epoch  70 / 200  -  train_rmse: 0.703443665048741\n",
      "Epoch  71 / 200  -  train_rmse: 0.7008141443049155\n",
      "Epoch  72 / 200  -  train_rmse: 0.6981724447247837\n",
      "Epoch  73 / 200  -  train_rmse: 0.6955196245617452\n",
      "Epoch  74 / 200  -  train_rmse: 0.6928545301291976\n",
      "Epoch  75 / 200  -  train_rmse: 0.6901775102014696\n",
      "Epoch  76 / 200  -  train_rmse: 0.6874880767611711\n",
      "Epoch  77 / 200  -  train_rmse: 0.6847861984186977\n",
      "Epoch  78 / 200  -  train_rmse: 0.6820714938717664\n",
      "Epoch  79 / 200  -  train_rmse: 0.6793447145187139\n",
      "Epoch  80 / 200  -  train_rmse: 0.6766044566568049\n",
      "Epoch  81 / 200  -  train_rmse: 0.6738517662633327\n",
      "Epoch  82 / 200  -  train_rmse: 0.6710861703529063\n",
      "Epoch  83 / 200  -  train_rmse: 0.6683084676780413\n",
      "Epoch  84 / 200  -  train_rmse: 0.6655174674793312\n",
      "Epoch  85 / 200  -  train_rmse: 0.6627139866923447\n",
      "Epoch  86 / 200  -  train_rmse: 0.6598977968150895\n",
      "Epoch  87 / 200  -  train_rmse: 0.6570703034419275\n",
      "Epoch  88 / 200  -  train_rmse: 0.6542296653739444\n",
      "Epoch  89 / 200  -  train_rmse: 0.6513775036952838\n",
      "Epoch  90 / 200  -  train_rmse: 0.6485132938915927\n",
      "Epoch  91 / 200  -  train_rmse: 0.6456374748697045\n",
      "Epoch  92 / 200  -  train_rmse: 0.6427501990553752\n",
      "Epoch  93 / 200  -  train_rmse: 0.6398523148719182\n",
      "Epoch  94 / 200  -  train_rmse: 0.6369436975845518\n",
      "Epoch  95 / 200  -  train_rmse: 0.6340249478462044\n",
      "Epoch  96 / 200  -  train_rmse: 0.6310951471740242\n",
      "Epoch  97 / 200  -  train_rmse: 0.6281557199973563\n",
      "Epoch  98 / 200  -  train_rmse: 0.6252065407840314\n",
      "Epoch  99 / 200  -  train_rmse: 0.6222481428440513\n",
      "Epoch  100 / 200  -  train_rmse: 0.6192808099087732\n",
      "Epoch  101 / 200  -  train_rmse: 0.6163053475239203\n",
      "Epoch  102 / 200  -  train_rmse: 0.613322331313714\n",
      "Epoch  103 / 200  -  train_rmse: 0.6103317039876027\n",
      "Epoch  104 / 200  -  train_rmse: 0.6073336612392366\n",
      "Epoch  105 / 200  -  train_rmse: 0.6043290897567598\n",
      "Epoch  106 / 200  -  train_rmse: 0.6013181794203419\n",
      "Epoch  107 / 200  -  train_rmse: 0.5983017138920126\n",
      "Epoch  108 / 200  -  train_rmse: 0.59527994754153\n",
      "Epoch  109 / 200  -  train_rmse: 0.5922535979150545\n",
      "Epoch  110 / 200  -  train_rmse: 0.5892218964122078\n",
      "Epoch  111 / 200  -  train_rmse: 0.5861872714993848\n",
      "Epoch  112 / 200  -  train_rmse: 0.5831486802994218\n",
      "Epoch  113 / 200  -  train_rmse: 0.5801073066540691\n",
      "Epoch  114 / 200  -  train_rmse: 0.5770642977141278\n",
      "Epoch  115 / 200  -  train_rmse: 0.574018012337044\n",
      "Epoch  116 / 200  -  train_rmse: 0.5709709153664455\n",
      "Epoch  117 / 200  -  train_rmse: 0.5679225322242043\n",
      "Epoch  118 / 200  -  train_rmse: 0.5648736800005322\n",
      "Epoch  119 / 200  -  train_rmse: 0.5618252036921929\n",
      "Epoch  120 / 200  -  train_rmse: 0.5587768372724956\n",
      "Epoch  121 / 200  -  train_rmse: 0.5557291623779181\n",
      "Epoch  122 / 200  -  train_rmse: 0.5526837806715563\n",
      "Epoch  123 / 200  -  train_rmse: 0.5496393404668461\n",
      "Epoch  124 / 200  -  train_rmse: 0.5465982468744623\n",
      "Epoch  125 / 200  -  train_rmse: 0.5435592985298591\n",
      "Epoch  126 / 200  -  train_rmse: 0.5405241970116242\n",
      "Epoch  127 / 200  -  train_rmse: 0.5374926678939698\n",
      "Epoch  128 / 200  -  train_rmse: 0.5344661122080506\n",
      "Epoch  129 / 200  -  train_rmse: 0.5314438836873447\n",
      "Epoch  130 / 200  -  train_rmse: 0.5284261305524233\n",
      "Epoch  131 / 200  -  train_rmse: 0.5254140171992026\n",
      "Epoch  132 / 200  -  train_rmse: 0.5224081211637195\n",
      "Epoch  133 / 200  -  train_rmse: 0.5194090218502329\n",
      "Epoch  134 / 200  -  train_rmse: 0.5164170211357527\n",
      "Epoch  135 / 200  -  train_rmse: 0.5134310315747285\n",
      "Epoch  136 / 200  -  train_rmse: 0.5104534092600328\n",
      "Epoch  137 / 200  -  train_rmse: 0.5074842914673163\n",
      "Epoch  138 / 200  -  train_rmse: 0.504523076195197\n",
      "Epoch  139 / 200  -  train_rmse: 0.5015693228636211\n",
      "Epoch  140 / 200  -  train_rmse: 0.4986256790828158\n",
      "Epoch  141 / 200  -  train_rmse: 0.49569099696137225\n",
      "Epoch  142 / 200  -  train_rmse: 0.49276638913291393\n",
      "Epoch  143 / 200  -  train_rmse: 0.4898516431192449\n",
      "Epoch  144 / 200  -  train_rmse: 0.48694769564604895\n",
      "Epoch  145 / 200  -  train_rmse: 0.48405420073194405\n",
      "Epoch  146 / 200  -  train_rmse: 0.48117123272019113\n",
      "Epoch  147 / 200  -  train_rmse: 0.47829954323927004\n",
      "Epoch  148 / 200  -  train_rmse: 0.4754396397159565\n",
      "Epoch  149 / 200  -  train_rmse: 0.47259098758006096\n",
      "Epoch  150 / 200  -  train_rmse: 0.4697548549998137\n",
      "Epoch  151 / 200  -  train_rmse: 0.46693088433388097\n",
      "Epoch  152 / 200  -  train_rmse: 0.4641192246215291\n",
      "Epoch  153 / 200  -  train_rmse: 0.46132014296413393\n",
      "Epoch  154 / 200  -  train_rmse: 0.45853392360179124\n",
      "Epoch  155 / 200  -  train_rmse: 0.45576024576902324\n",
      "Epoch  156 / 200  -  train_rmse: 0.4530004842811274\n",
      "Epoch  157 / 200  -  train_rmse: 0.45025400899015877\n",
      "Epoch  158 / 200  -  train_rmse: 0.44752130498756065\n",
      "Epoch  159 / 200  -  train_rmse: 0.44480200352998234\n",
      "Epoch  160 / 200  -  train_rmse: 0.4420968425012634\n",
      "Epoch  161 / 200  -  train_rmse: 0.4394060351905152\n",
      "Epoch  162 / 200  -  train_rmse: 0.4367295745842175\n",
      "Epoch  163 / 200  -  train_rmse: 0.4340675374079374\n",
      "Epoch  164 / 200  -  train_rmse: 0.4314193627339997\n",
      "Epoch  165 / 200  -  train_rmse: 0.4287865314045865\n",
      "Epoch  166 / 200  -  train_rmse: 0.4261679775864718\n",
      "Epoch  167 / 200  -  train_rmse: 0.42356361031228623\n",
      "Epoch  168 / 200  -  train_rmse: 0.42097504451297585\n",
      "Epoch  169 / 200  -  train_rmse: 0.41840061327546013\n",
      "Epoch  170 / 200  -  train_rmse: 0.41584163306879557\n",
      "Epoch  171 / 200  -  train_rmse: 0.4132974299682226\n",
      "Epoch  172 / 200  -  train_rmse: 0.4107682502398866\n",
      "Epoch  173 / 200  -  train_rmse: 0.408254291514767\n",
      "Epoch  174 / 200  -  train_rmse: 0.4057560715202117\n",
      "Epoch  175 / 200  -  train_rmse: 0.4032731314062451\n",
      "Epoch  176 / 200  -  train_rmse: 0.4008055681917236\n",
      "Epoch  177 / 200  -  train_rmse: 0.3983533061926643\n",
      "Epoch  178 / 200  -  train_rmse: 0.3959163145753066\n",
      "Epoch  179 / 200  -  train_rmse: 0.39349510464474813\n",
      "Epoch  180 / 200  -  train_rmse: 0.39108849503521115\n",
      "Epoch  181 / 200  -  train_rmse: 0.38869786317178123\n",
      "Epoch  182 / 200  -  train_rmse: 0.38632274368561315\n",
      "Epoch  183 / 200  -  train_rmse: 0.3839632157031092\n",
      "Epoch  184 / 200  -  train_rmse: 0.3816188352291301\n",
      "Epoch  185 / 200  -  train_rmse: 0.37929009640011624\n",
      "Epoch  186 / 200  -  train_rmse: 0.3769765557015848\n",
      "Epoch  187 / 200  -  train_rmse: 0.37467893433032373\n",
      "Epoch  188 / 200  -  train_rmse: 0.37239570895710783\n",
      "Epoch  189 / 200  -  train_rmse: 0.3701287100746004\n",
      "Epoch  190 / 200  -  train_rmse: 0.36787698712740124\n",
      "Epoch  191 / 200  -  train_rmse: 0.3656405366449636\n",
      "Epoch  192 / 200  -  train_rmse: 0.3634195519890555\n",
      "Epoch  193 / 200  -  train_rmse: 0.36121353473573725\n",
      "Epoch  194 / 200  -  train_rmse: 0.35902263507195137\n",
      "Epoch  195 / 200  -  train_rmse: 0.3568472653436121\n",
      "Epoch  196 / 200  -  train_rmse: 0.3546868553882529\n",
      "Epoch  197 / 200  -  train_rmse: 0.35254140469993434\n",
      "Epoch  198 / 200  -  train_rmse: 0.35041077652773883\n",
      "Epoch  199 / 200  -  train_rmse: 0.3482952368738445\n",
      "Epoch  200 / 200  -  train_rmse: 0.3461945341413095\n"
     ]
    },
    {
     "data": {
      "text/plain": [
       "KernelMF(gamma=0.01, lr=0.001, n_epochs=200, reg=0.005)"
      ]
     },
     "execution_count": 81,
     "metadata": {},
     "output_type": "execute_result"
    }
   ],
   "source": [
    "df_20 = df[df['count']>20]\n",
    "X = df_20[['user_id','item_id']]\n",
    "y = df_20['rating']\n",
    "\n",
    "X_train, X_test, y_train, y_test = train_test_split(X, y, test_size=0.20, \\\n",
    "                                                    random_state=1000, \\\n",
    "                                    stratify = df_20['user_id'])\n",
    "\n",
    "matrix_fact = KernelMF(n_epochs=200, n_factors=100, lr=0.001, reg=0.005)\n",
    "matrix_fact.fit(X_train, y_train)"
   ]
  },
  {
   "cell_type": "code",
   "execution_count": 82,
   "metadata": {},
   "outputs": [
    {
     "data": {
      "text/plain": [
       "(0.897422562850779, 0.24733802752964074)"
      ]
     },
     "execution_count": 82,
     "metadata": {},
     "output_type": "execute_result"
    }
   ],
   "source": [
    "pred = matrix_fact.predict(X_test)\n",
    "# pred = [round(x) for x in pred]\n",
    "rmse = mean_squared_error(y_test, pred, squared=False)\n",
    "r2 = r2_score(y_test, pred)\n",
    "metrics_mf_20 = (rmse, r2)\n",
    "metrics_mf_20"
   ]
  },
  {
   "cell_type": "code",
   "execution_count": 83,
   "metadata": {},
   "outputs": [
    {
     "data": {
      "text/plain": [
       "{'test_rmse': array([0.86644703, 0.86993027, 0.87930108, 0.87483646, 0.87774957]),\n",
       " 'test_mae': array([0.67448952, 0.66673598, 0.68269939, 0.67702888, 0.67939608]),\n",
       " 'fit_time': (1.5751497745513916,\n",
       "  1.6598100662231445,\n",
       "  1.7232849597930908,\n",
       "  1.5627310276031494,\n",
       "  1.928947925567627),\n",
       " 'test_time': (0.06753897666931152,\n",
       "  0.05016303062438965,\n",
       "  0.04544210433959961,\n",
       "  0.06644892692565918,\n",
       "  0.03597903251647949)}"
      ]
     },
     "execution_count": 83,
     "metadata": {},
     "output_type": "execute_result"
    }
   ],
   "source": [
    "df_train =  pd.concat([X_train, y_train], axis=1)\n",
    "\n",
    "reader = Reader()\n",
    "data = Dataset.load_from_df(df_train[['user_id', 'item_id', 'rating']], reader)\n",
    "\n",
    "svd = SVD()\n",
    "cross_validate(svd, data, measures=['RMSE','MAE'])"
   ]
  },
  {
   "cell_type": "code",
   "execution_count": 84,
   "metadata": {},
   "outputs": [
    {
     "data": {
      "text/plain": [
       "<surprise.prediction_algorithms.matrix_factorization.SVD at 0x7fc670467e80>"
      ]
     },
     "execution_count": 84,
     "metadata": {},
     "output_type": "execute_result"
    }
   ],
   "source": [
    "trainset = data.build_full_trainset()\n",
    "svd.fit(trainset)"
   ]
  },
  {
   "cell_type": "code",
   "execution_count": 85,
   "metadata": {},
   "outputs": [
    {
     "data": {
      "text/plain": [
       "(0.8723889985850106, 0.2887433071752763)"
      ]
     },
     "execution_count": 85,
     "metadata": {},
     "output_type": "execute_result"
    }
   ],
   "source": [
    "y_pred = []\n",
    "for line in range(len(X_test)):\n",
    "    y_pred.append(svd.predict(X_test.iloc[line,0],X_test.iloc[line,1],3)[3])\n",
    "rmse = mean_squared_error(y_test, y_pred, squared=False)\n",
    "r2 = r2_score(y_test, y_pred)\n",
    "metrics_svd_20 = (rmse, r2)\n",
    "metrics_svd_20"
   ]
  },
  {
   "cell_type": "code",
   "execution_count": 86,
   "metadata": {},
   "outputs": [],
   "source": [
    "mins = [5,5,10,10,50,50,20,20]\n",
    "methods = [0,1,0,1,0,1,0,1]\n",
    "metrics = [metrics_mf_5,metrics_svd_5,metrics_mf_10, metrics_svd_10, metrics_mf_50, metrics_svd_50,metrics_mf_20, metrics_svd_20 ]\n",
    "rmses = []\n",
    "r2s = []\n",
    "for met in metrics:\n",
    "  rmses.append(met[0])\n",
    "  r2s.append(met[1])"
   ]
  },
  {
   "cell_type": "code",
   "execution_count": 87,
   "metadata": {},
   "outputs": [
    {
     "data": {
      "text/plain": [
       "[0.8912834885715188,\n",
       " 0.8682083588720827,\n",
       " 0.8908413562858296,\n",
       " 0.87377114924666,\n",
       " 0.8674316637697282,\n",
       " 0.8476273641955087,\n",
       " 0.897422562850779,\n",
       " 0.8723889985850106]"
      ]
     },
     "execution_count": 87,
     "metadata": {},
     "output_type": "execute_result"
    }
   ],
   "source": [
    "rmses"
   ]
  },
  {
   "cell_type": "code",
   "execution_count": 88,
   "metadata": {},
   "outputs": [
    {
     "data": {
      "text/plain": [
       "<matplotlib.colorbar.Colorbar at 0x7fc642c001c0>"
      ]
     },
     "execution_count": 88,
     "metadata": {},
     "output_type": "execute_result"
    },
    {
     "data": {
      "image/png": "[encoded data removed]",
      "text/plain": [
       "<Figure size 432x288 with 2 Axes>"
      ]
     },
     "metadata": {
      "needs_background": "light"
     },
     "output_type": "display_data"
    }
   ],
   "source": [
    "plt.scatter(x=rmses, y=r2s, s=mins, c=methods)\n",
    "plt.colorbar()"
   ]
  },
  {
   "cell_type": "code",
   "execution_count": 89,
   "metadata": {},
   "outputs": [
    {
     "ename": "KeyboardInterrupt",
     "evalue": "",
     "output_type": "error",
     "traceback": [
      "\u001b[0;31m---------------------------------------------------------------------------\u001b[0m",
      "\u001b[0;31mKeyboardInterrupt\u001b[0m                         Traceback (most recent call last)",
      "\u001b[0;32m<ipython-input-89-e5f6aeeabf08>\u001b[0m in \u001b[0;36m<module>\u001b[0;34m\u001b[0m\n\u001b[1;32m     18\u001b[0m     \u001b[0;32mfor\u001b[0m \u001b[0mlr\u001b[0m \u001b[0;32min\u001b[0m \u001b[0mlr_all\u001b[0m\u001b[0;34m:\u001b[0m\u001b[0;34m\u001b[0m\u001b[0;34m\u001b[0m\u001b[0m\n\u001b[1;32m     19\u001b[0m       \u001b[0msvd\u001b[0m \u001b[0;34m=\u001b[0m \u001b[0mSVD\u001b[0m\u001b[0;34m(\u001b[0m\u001b[0mn_factors\u001b[0m\u001b[0;34m=\u001b[0m\u001b[0mfac\u001b[0m\u001b[0;34m,\u001b[0m \u001b[0mn_epochs\u001b[0m\u001b[0;34m=\u001b[0m\u001b[0mepoch\u001b[0m\u001b[0;34m,\u001b[0m \u001b[0mlr_all\u001b[0m\u001b[0;34m=\u001b[0m\u001b[0mlr\u001b[0m\u001b[0;34m)\u001b[0m\u001b[0;34m\u001b[0m\u001b[0;34m\u001b[0m\u001b[0m\n\u001b[0;32m---> 20\u001b[0;31m       \u001b[0mcross_validate\u001b[0m\u001b[0;34m(\u001b[0m\u001b[0msvd\u001b[0m\u001b[0;34m,\u001b[0m \u001b[0mdata\u001b[0m\u001b[0;34m,\u001b[0m \u001b[0mmeasures\u001b[0m\u001b[0;34m=\u001b[0m\u001b[0;34m[\u001b[0m\u001b[0;34m'RMSE'\u001b[0m\u001b[0;34m,\u001b[0m\u001b[0;34m'MAE'\u001b[0m\u001b[0;34m]\u001b[0m\u001b[0;34m)\u001b[0m\u001b[0;34m\u001b[0m\u001b[0;34m\u001b[0m\u001b[0m\n\u001b[0m\u001b[1;32m     21\u001b[0m       \u001b[0mtrainset\u001b[0m \u001b[0;34m=\u001b[0m \u001b[0mdata\u001b[0m\u001b[0;34m.\u001b[0m\u001b[0mbuild_full_trainset\u001b[0m\u001b[0;34m(\u001b[0m\u001b[0;34m)\u001b[0m\u001b[0;34m\u001b[0m\u001b[0;34m\u001b[0m\u001b[0m\n\u001b[1;32m     22\u001b[0m       \u001b[0msvd\u001b[0m\u001b[0;34m.\u001b[0m\u001b[0mfit\u001b[0m\u001b[0;34m(\u001b[0m\u001b[0mtrainset\u001b[0m\u001b[0;34m)\u001b[0m\u001b[0;34m\u001b[0m\u001b[0;34m\u001b[0m\u001b[0m\n",
      "\u001b[0;32m~/opt/anaconda3/lib/python3.8/site-packages/surprise/model_selection/validation.py\u001b[0m in \u001b[0;36mcross_validate\u001b[0;34m(algo, data, measures, cv, return_train_measures, n_jobs, pre_dispatch, verbose)\u001b[0m\n\u001b[1;32m     99\u001b[0m                                            return_train_measures)\n\u001b[1;32m    100\u001b[0m                     for (trainset, testset) in cv.split(data))\n\u001b[0;32m--> 101\u001b[0;31m     \u001b[0mout\u001b[0m \u001b[0;34m=\u001b[0m \u001b[0mParallel\u001b[0m\u001b[0;34m(\u001b[0m\u001b[0mn_jobs\u001b[0m\u001b[0;34m=\u001b[0m\u001b[0mn_jobs\u001b[0m\u001b[0;34m,\u001b[0m \u001b[0mpre_dispatch\u001b[0m\u001b[0;34m=\u001b[0m\u001b[0mpre_dispatch\u001b[0m\u001b[0;34m)\u001b[0m\u001b[0;34m(\u001b[0m\u001b[0mdelayed_list\u001b[0m\u001b[0;34m)\u001b[0m\u001b[0;34m\u001b[0m\u001b[0;34m\u001b[0m\u001b[0m\n\u001b[0m\u001b[1;32m    102\u001b[0m \u001b[0;34m\u001b[0m\u001b[0m\n\u001b[1;32m    103\u001b[0m     (test_measures_dicts,\n",
      "\u001b[0;32m~/opt/anaconda3/lib/python3.8/site-packages/joblib/parallel.py\u001b[0m in \u001b[0;36m__call__\u001b[0;34m(self, iterable)\u001b[0m\n\u001b[1;32m   1030\u001b[0m                 \u001b[0mself\u001b[0m\u001b[0;34m.\u001b[0m\u001b[0m_iterating\u001b[0m \u001b[0;34m=\u001b[0m \u001b[0mself\u001b[0m\u001b[0;34m.\u001b[0m\u001b[0m_original_iterator\u001b[0m \u001b[0;32mis\u001b[0m \u001b[0;32mnot\u001b[0m \u001b[0;32mNone\u001b[0m\u001b[0;34m\u001b[0m\u001b[0;34m\u001b[0m\u001b[0m\n\u001b[1;32m   1031\u001b[0m \u001b[0;34m\u001b[0m\u001b[0m\n\u001b[0;32m-> 1032\u001b[0;31m             \u001b[0;32mwhile\u001b[0m \u001b[0mself\u001b[0m\u001b[0;34m.\u001b[0m\u001b[0mdispatch_one_batch\u001b[0m\u001b[0;34m(\u001b[0m\u001b[0miterator\u001b[0m\u001b[0;34m)\u001b[0m\u001b[0;34m:\u001b[0m\u001b[0;34m\u001b[0m\u001b[0;34m\u001b[0m\u001b[0m\n\u001b[0m\u001b[1;32m   1033\u001b[0m                 \u001b[0;32mpass\u001b[0m\u001b[0;34m\u001b[0m\u001b[0;34m\u001b[0m\u001b[0m\n\u001b[1;32m   1034\u001b[0m \u001b[0;34m\u001b[0m\u001b[0m\n",
      "\u001b[0;32m~/opt/anaconda3/lib/python3.8/site-packages/joblib/parallel.py\u001b[0m in \u001b[0;36mdispatch_one_batch\u001b[0;34m(self, iterator)\u001b[0m\n\u001b[1;32m    845\u001b[0m                 \u001b[0;32mreturn\u001b[0m \u001b[0;32mFalse\u001b[0m\u001b[0;34m\u001b[0m\u001b[0;34m\u001b[0m\u001b[0m\n\u001b[1;32m    846\u001b[0m             \u001b[0;32melse\u001b[0m\u001b[0;34m:\u001b[0m\u001b[0;34m\u001b[0m\u001b[0;34m\u001b[0m\u001b[0m\n\u001b[0;32m--> 847\u001b[0;31m                 \u001b[0mself\u001b[0m\u001b[0;34m.\u001b[0m\u001b[0m_dispatch\u001b[0m\u001b[0;34m(\u001b[0m\u001b[0mtasks\u001b[0m\u001b[0;34m)\u001b[0m\u001b[0;34m\u001b[0m\u001b[0;34m\u001b[0m\u001b[0m\n\u001b[0m\u001b[1;32m    848\u001b[0m                 \u001b[0;32mreturn\u001b[0m \u001b[0;32mTrue\u001b[0m\u001b[0;34m\u001b[0m\u001b[0;34m\u001b[0m\u001b[0m\n\u001b[1;32m    849\u001b[0m \u001b[0;34m\u001b[0m\u001b[0m\n",
      "\u001b[0;32m~/opt/anaconda3/lib/python3.8/site-packages/joblib/parallel.py\u001b[0m in \u001b[0;36m_dispatch\u001b[0;34m(self, batch)\u001b[0m\n\u001b[1;32m    763\u001b[0m         \u001b[0;32mwith\u001b[0m \u001b[0mself\u001b[0m\u001b[0;34m.\u001b[0m\u001b[0m_lock\u001b[0m\u001b[0;34m:\u001b[0m\u001b[0;34m\u001b[0m\u001b[0;34m\u001b[0m\u001b[0m\n\u001b[1;32m    764\u001b[0m             \u001b[0mjob_idx\u001b[0m \u001b[0;34m=\u001b[0m \u001b[0mlen\u001b[0m\u001b[0;34m(\u001b[0m\u001b[0mself\u001b[0m\u001b[0;34m.\u001b[0m\u001b[0m_jobs\u001b[0m\u001b[0;34m)\u001b[0m\u001b[0;34m\u001b[0m\u001b[0;34m\u001b[0m\u001b[0m\n\u001b[0;32m--> 765\u001b[0;31m             \u001b[0mjob\u001b[0m \u001b[0;34m=\u001b[0m \u001b[0mself\u001b[0m\u001b[0;34m.\u001b[0m\u001b[0m_backend\u001b[0m\u001b[0;34m.\u001b[0m\u001b[0mapply_async\u001b[0m\u001b[0;34m(\u001b[0m\u001b[0mbatch\u001b[0m\u001b[0;34m,\u001b[0m \u001b[0mcallback\u001b[0m\u001b[0;34m=\u001b[0m\u001b[0mcb\u001b[0m\u001b[0;34m)\u001b[0m\u001b[0;34m\u001b[0m\u001b[0;34m\u001b[0m\u001b[0m\n\u001b[0m\u001b[1;32m    766\u001b[0m             \u001b[0;31m# A job can complete so quickly than its callback is\u001b[0m\u001b[0;34m\u001b[0m\u001b[0;34m\u001b[0m\u001b[0;34m\u001b[0m\u001b[0m\n\u001b[1;32m    767\u001b[0m             \u001b[0;31m# called before we get here, causing self._jobs to\u001b[0m\u001b[0;34m\u001b[0m\u001b[0;34m\u001b[0m\u001b[0;34m\u001b[0m\u001b[0m\n",
      "\u001b[0;32m~/opt/anaconda3/lib/python3.8/site-packages/joblib/_parallel_backends.py\u001b[0m in \u001b[0;36mapply_async\u001b[0;34m(self, func, callback)\u001b[0m\n\u001b[1;32m    206\u001b[0m     \u001b[0;32mdef\u001b[0m \u001b[0mapply_async\u001b[0m\u001b[0;34m(\u001b[0m\u001b[0mself\u001b[0m\u001b[0;34m,\u001b[0m \u001b[0mfunc\u001b[0m\u001b[0;34m,\u001b[0m \u001b[0mcallback\u001b[0m\u001b[0;34m=\u001b[0m\u001b[0;32mNone\u001b[0m\u001b[0;34m)\u001b[0m\u001b[0;34m:\u001b[0m\u001b[0;34m\u001b[0m\u001b[0;34m\u001b[0m\u001b[0m\n\u001b[1;32m    207\u001b[0m         \u001b[0;34m\"\"\"Schedule a func to be run\"\"\"\u001b[0m\u001b[0;34m\u001b[0m\u001b[0;34m\u001b[0m\u001b[0m\n\u001b[0;32m--> 208\u001b[0;31m         \u001b[0mresult\u001b[0m \u001b[0;34m=\u001b[0m \u001b[0mImmediateResult\u001b[0m\u001b[0;34m(\u001b[0m\u001b[0mfunc\u001b[0m\u001b[0;34m)\u001b[0m\u001b[0;34m\u001b[0m\u001b[0;34m\u001b[0m\u001b[0m\n\u001b[0m\u001b[1;32m    209\u001b[0m         \u001b[0;32mif\u001b[0m \u001b[0mcallback\u001b[0m\u001b[0;34m:\u001b[0m\u001b[0;34m\u001b[0m\u001b[0;34m\u001b[0m\u001b[0m\n\u001b[1;32m    210\u001b[0m             \u001b[0mcallback\u001b[0m\u001b[0;34m(\u001b[0m\u001b[0mresult\u001b[0m\u001b[0;34m)\u001b[0m\u001b[0;34m\u001b[0m\u001b[0;34m\u001b[0m\u001b[0m\n",
      "\u001b[0;32m~/opt/anaconda3/lib/python3.8/site-packages/joblib/_parallel_backends.py\u001b[0m in \u001b[0;36m__init__\u001b[0;34m(self, batch)\u001b[0m\n\u001b[1;32m    570\u001b[0m         \u001b[0;31m# Don't delay the application, to avoid keeping the input\u001b[0m\u001b[0;34m\u001b[0m\u001b[0;34m\u001b[0m\u001b[0;34m\u001b[0m\u001b[0m\n\u001b[1;32m    571\u001b[0m         \u001b[0;31m# arguments in memory\u001b[0m\u001b[0;34m\u001b[0m\u001b[0;34m\u001b[0m\u001b[0;34m\u001b[0m\u001b[0m\n\u001b[0;32m--> 572\u001b[0;31m         \u001b[0mself\u001b[0m\u001b[0;34m.\u001b[0m\u001b[0mresults\u001b[0m \u001b[0;34m=\u001b[0m \u001b[0mbatch\u001b[0m\u001b[0;34m(\u001b[0m\u001b[0;34m)\u001b[0m\u001b[0;34m\u001b[0m\u001b[0;34m\u001b[0m\u001b[0m\n\u001b[0m\u001b[1;32m    573\u001b[0m \u001b[0;34m\u001b[0m\u001b[0m\n\u001b[1;32m    574\u001b[0m     \u001b[0;32mdef\u001b[0m \u001b[0mget\u001b[0m\u001b[0;34m(\u001b[0m\u001b[0mself\u001b[0m\u001b[0;34m)\u001b[0m\u001b[0;34m:\u001b[0m\u001b[0;34m\u001b[0m\u001b[0;34m\u001b[0m\u001b[0m\n",
      "\u001b[0;32m~/opt/anaconda3/lib/python3.8/site-packages/joblib/parallel.py\u001b[0m in \u001b[0;36m__call__\u001b[0;34m(self)\u001b[0m\n\u001b[1;32m    250\u001b[0m         \u001b[0;31m# change the default number of processes to -1\u001b[0m\u001b[0;34m\u001b[0m\u001b[0;34m\u001b[0m\u001b[0;34m\u001b[0m\u001b[0m\n\u001b[1;32m    251\u001b[0m         \u001b[0;32mwith\u001b[0m \u001b[0mparallel_backend\u001b[0m\u001b[0;34m(\u001b[0m\u001b[0mself\u001b[0m\u001b[0;34m.\u001b[0m\u001b[0m_backend\u001b[0m\u001b[0;34m,\u001b[0m \u001b[0mn_jobs\u001b[0m\u001b[0;34m=\u001b[0m\u001b[0mself\u001b[0m\u001b[0;34m.\u001b[0m\u001b[0m_n_jobs\u001b[0m\u001b[0;34m)\u001b[0m\u001b[0;34m:\u001b[0m\u001b[0;34m\u001b[0m\u001b[0;34m\u001b[0m\u001b[0m\n\u001b[0;32m--> 252\u001b[0;31m             return [func(*args, **kwargs)\n\u001b[0m\u001b[1;32m    253\u001b[0m                     for func, args, kwargs in self.items]\n\u001b[1;32m    254\u001b[0m \u001b[0;34m\u001b[0m\u001b[0m\n",
      "\u001b[0;32m~/opt/anaconda3/lib/python3.8/site-packages/joblib/parallel.py\u001b[0m in \u001b[0;36m<listcomp>\u001b[0;34m(.0)\u001b[0m\n\u001b[1;32m    250\u001b[0m         \u001b[0;31m# change the default number of processes to -1\u001b[0m\u001b[0;34m\u001b[0m\u001b[0;34m\u001b[0m\u001b[0;34m\u001b[0m\u001b[0m\n\u001b[1;32m    251\u001b[0m         \u001b[0;32mwith\u001b[0m \u001b[0mparallel_backend\u001b[0m\u001b[0;34m(\u001b[0m\u001b[0mself\u001b[0m\u001b[0;34m.\u001b[0m\u001b[0m_backend\u001b[0m\u001b[0;34m,\u001b[0m \u001b[0mn_jobs\u001b[0m\u001b[0;34m=\u001b[0m\u001b[0mself\u001b[0m\u001b[0;34m.\u001b[0m\u001b[0m_n_jobs\u001b[0m\u001b[0;34m)\u001b[0m\u001b[0;34m:\u001b[0m\u001b[0;34m\u001b[0m\u001b[0;34m\u001b[0m\u001b[0m\n\u001b[0;32m--> 252\u001b[0;31m             return [func(*args, **kwargs)\n\u001b[0m\u001b[1;32m    253\u001b[0m                     for func, args, kwargs in self.items]\n\u001b[1;32m    254\u001b[0m \u001b[0;34m\u001b[0m\u001b[0m\n",
      "\u001b[0;32m~/opt/anaconda3/lib/python3.8/site-packages/surprise/model_selection/validation.py\u001b[0m in \u001b[0;36mfit_and_score\u001b[0;34m(algo, trainset, testset, measures, return_train_measures)\u001b[0m\n\u001b[1;32m    162\u001b[0m \u001b[0;34m\u001b[0m\u001b[0m\n\u001b[1;32m    163\u001b[0m     \u001b[0mstart_fit\u001b[0m \u001b[0;34m=\u001b[0m \u001b[0mtime\u001b[0m\u001b[0;34m.\u001b[0m\u001b[0mtime\u001b[0m\u001b[0;34m(\u001b[0m\u001b[0;34m)\u001b[0m\u001b[0;34m\u001b[0m\u001b[0;34m\u001b[0m\u001b[0m\n\u001b[0;32m--> 164\u001b[0;31m     \u001b[0malgo\u001b[0m\u001b[0;34m.\u001b[0m\u001b[0mfit\u001b[0m\u001b[0;34m(\u001b[0m\u001b[0mtrainset\u001b[0m\u001b[0;34m)\u001b[0m\u001b[0;34m\u001b[0m\u001b[0;34m\u001b[0m\u001b[0m\n\u001b[0m\u001b[1;32m    165\u001b[0m     \u001b[0mfit_time\u001b[0m \u001b[0;34m=\u001b[0m \u001b[0mtime\u001b[0m\u001b[0;34m.\u001b[0m\u001b[0mtime\u001b[0m\u001b[0;34m(\u001b[0m\u001b[0;34m)\u001b[0m \u001b[0;34m-\u001b[0m \u001b[0mstart_fit\u001b[0m\u001b[0;34m\u001b[0m\u001b[0;34m\u001b[0m\u001b[0m\n\u001b[1;32m    166\u001b[0m     \u001b[0mstart_test\u001b[0m \u001b[0;34m=\u001b[0m \u001b[0mtime\u001b[0m\u001b[0;34m.\u001b[0m\u001b[0mtime\u001b[0m\u001b[0;34m(\u001b[0m\u001b[0;34m)\u001b[0m\u001b[0;34m\u001b[0m\u001b[0;34m\u001b[0m\u001b[0m\n",
      "\u001b[0;32m~/opt/anaconda3/lib/python3.8/site-packages/surprise/prediction_algorithms/matrix_factorization.pyx\u001b[0m in \u001b[0;36msurprise.prediction_algorithms.matrix_factorization.SVD.fit\u001b[0;34m()\u001b[0m\n",
      "\u001b[0;32m~/opt/anaconda3/lib/python3.8/site-packages/surprise/prediction_algorithms/matrix_factorization.pyx\u001b[0m in \u001b[0;36msurprise.prediction_algorithms.matrix_factorization.SVD.sgd\u001b[0;34m()\u001b[0m\n",
      "\u001b[0;32m~/opt/anaconda3/lib/python3.8/site-packages/surprise/trainset.py\u001b[0m in \u001b[0;36mall_ratings\u001b[0;34m(self)\u001b[0m\n\u001b[1;32m    187\u001b[0m         \u001b[0;32mfor\u001b[0m \u001b[0mu\u001b[0m\u001b[0;34m,\u001b[0m \u001b[0mu_ratings\u001b[0m \u001b[0;32min\u001b[0m \u001b[0miteritems\u001b[0m\u001b[0;34m(\u001b[0m\u001b[0mself\u001b[0m\u001b[0;34m.\u001b[0m\u001b[0mur\u001b[0m\u001b[0;34m)\u001b[0m\u001b[0;34m:\u001b[0m\u001b[0;34m\u001b[0m\u001b[0;34m\u001b[0m\u001b[0m\n\u001b[1;32m    188\u001b[0m             \u001b[0;32mfor\u001b[0m \u001b[0mi\u001b[0m\u001b[0;34m,\u001b[0m \u001b[0mr\u001b[0m \u001b[0;32min\u001b[0m \u001b[0mu_ratings\u001b[0m\u001b[0;34m:\u001b[0m\u001b[0;34m\u001b[0m\u001b[0;34m\u001b[0m\u001b[0m\n\u001b[0;32m--> 189\u001b[0;31m                 \u001b[0;32myield\u001b[0m \u001b[0mu\u001b[0m\u001b[0;34m,\u001b[0m \u001b[0mi\u001b[0m\u001b[0;34m,\u001b[0m \u001b[0mr\u001b[0m\u001b[0;34m\u001b[0m\u001b[0;34m\u001b[0m\u001b[0m\n\u001b[0m\u001b[1;32m    190\u001b[0m \u001b[0;34m\u001b[0m\u001b[0m\n\u001b[1;32m    191\u001b[0m     \u001b[0;32mdef\u001b[0m \u001b[0mbuild_testset\u001b[0m\u001b[0;34m(\u001b[0m\u001b[0mself\u001b[0m\u001b[0;34m)\u001b[0m\u001b[0;34m:\u001b[0m\u001b[0;34m\u001b[0m\u001b[0;34m\u001b[0m\u001b[0m\n",
      "\u001b[0;31mKeyboardInterrupt\u001b[0m: "
     ]
    }
   ],
   "source": [
    "# df_20 = df[df['count']>20]\n",
    "\n",
    "# df_train, df_test = train_test_split(df_20, test_size=0.20, \\\n",
    "#                                                     random_state=1000, \\\n",
    "#                                     stratify = df_20['user_id'])\n",
    "\n",
    "# factors = [100,200,500]\n",
    "# epochs = [20,50,100]\n",
    "# lr_all = [0.001,0.005,0.01]\n",
    "\n",
    "# reader = Reader()\n",
    "# data = Dataset.load_from_df(df_train[['user_id', 'item_id', 'rating']], reader)\n",
    "# rmse_20 = []\n",
    "# r2_20 = []\n",
    "# params = []\n",
    "# for fac in factors:\n",
    "#   for epoch in epochs:\n",
    "#     for lr in lr_all:\n",
    "#       svd = SVD(n_factors=fac, n_epochs=epoch, lr_all=lr)\n",
    "#       cross_validate(svd, data, measures=['RMSE','MAE'])\n",
    "#       trainset = data.build_full_trainset()\n",
    "#       svd.fit(trainset)\n",
    "#       y_pred = []\n",
    "#       for line in range(len(df_test)):\n",
    "#         y_pred.append(svd.predict(df_test.iloc[line,0],df_test.iloc[line,1],3)[3])\n",
    "#       rmse_20.append(mean_squared_error(df_test['rating'], y_pred, squared=False))\n",
    "#       r2_20.append(r2_score(df_test['rating'], y_pred))\n",
    "#       params.append((fac,epoch,lr))\n",
    "\n",
    "\n",
    "\n",
    "# np.argmin(rmse_20), np.argmax(r2_20), params[np.argmin(rmse_20)]"
   ]
  },
  {
   "cell_type": "code",
   "execution_count": 90,
   "metadata": {},
   "outputs": [
    {
     "data": {
      "text/plain": [
       "<matplotlib.colorbar.Colorbar at 0x7fc641ae50d0>"
      ]
     },
     "execution_count": 90,
     "metadata": {},
     "output_type": "execute_result"
    },
    {
     "data": {
      "image/png": "[encoded data removed]",
      "text/plain": [
       "<Figure size 432x288 with 2 Axes>"
      ]
     },
     "metadata": {
      "needs_background": "light"
     },
     "output_type": "display_data"
    }
   ],
   "source": [
    "factors_plt = [100,100,100,100,100,100,100,100,100,200,200,200,200,200,200,200,200,200,500,500,500,500,500,500,500,500,500]\n",
    "epochs_plt = [20,20,20,50,50,50,100,100,100,20,20,20,50,50,50,100,100,100,20,20,20,50,50,50,100,100,100]\n",
    "marker_plt = ['o','o','o','o','o','o','o','o','o','+','+','+','+','+','+','+','+','+','s','s','s','s','s','s','s','s','s']\n",
    "for _m, c, _s, _x, _y in zip(marker_plt, epochs_plt, factors_plt, rmse_20, r2_20):\n",
    "    plt.scatter(_x, _y, marker=_m, c=c, s=_s)\n",
    "# plt.scatter(x=rmse_20, y=r2_20, s=factors_plt, c=epochs_plt, marker=marker_plt)\n",
    "plt.colorbar()"
   ]
  },
  {
   "cell_type": "code",
   "execution_count": 91,
   "metadata": {},
   "outputs": [
    {
     "data": {
      "text/plain": [
       "<surprise.prediction_algorithms.matrix_factorization.SVD at 0x7fc67077dca0>"
      ]
     },
     "execution_count": 91,
     "metadata": {},
     "output_type": "execute_result"
    }
   ],
   "source": [
    "df_20 = df[df['count']>20]\n",
    "\n",
    "df_train, df_test = train_test_split(df_20, test_size=0.20, \\\n",
    "                                                    random_state=1000, \\\n",
    "                                    stratify = df_20['user_id'])\n",
    "\n",
    "reader = Reader()\n",
    "data = Dataset.load_from_df(df_train[['user_id', 'item_id', 'rating']], reader)\n",
    "svd = SVD(n_factors=500, n_epochs=100, lr_all=0.01)\n",
    "cross_validate(svd, data, measures=['RMSE','MAE'])\n",
    "trainset = data.build_full_trainset()\n",
    "svd.fit(trainset)"
   ]
  },
  {
   "cell_type": "code",
   "execution_count": null,
   "metadata": {},
   "outputs": [],
   "source": []
  },
  {
   "cell_type": "code",
   "execution_count": 92,
   "metadata": {},
   "outputs": [],
   "source": [
    "def get_10(user_id, top_n=10):\n",
    "    movies_id = df_20['item_id'].unique().tolist()\n",
    "    movie_rates = [(id, svd.predict(user_id, id)[3]) for id in movies_id]#\n",
    "    movie_rates = sorted(movie_rates, key=lambda x:x[1], reverse=True)\n",
    "    return dict(movie_rates[:top_n])"
   ]
  },
  {
   "cell_type": "code",
   "execution_count": 93,
   "metadata": {},
   "outputs": [
    {
     "data": {
      "text/plain": [
       "{1250: 5,\n",
       " 497: 5,\n",
       " 745: 5,\n",
       " 6283: 5,\n",
       " 1262: 4.998307311062384,\n",
       " 2502: 4.993410673215522,\n",
       " 1278: 4.9814352965716155,\n",
       " 1282: 4.9782726373926165,\n",
       " 1927: 4.9726234085629875,\n",
       " 608: 4.963069140618364}"
      ]
     },
     "execution_count": 93,
     "metadata": {},
     "output_type": "execute_result"
    }
   ],
   "source": [
    "get_10(1)"
   ]
  },
  {
   "cell_type": "markdown",
   "metadata": {},
   "source": [
    "## Hybrid Model\n",
    "\n",
    "The hybrid model uses both models in order to get a better prediction.\n",
    "\n",
    "First it uses the content base model to get 10 movies that are simmilar to the chosen movie.\n",
    "\n",
    "Then it takes that list and predict to each movie what is the rate that the specific user would give it.\n",
    "\n",
    "it uses both models to give a sorted list of recommended movies."
   ]
  },
  {
   "cell_type": "code",
   "execution_count": 250,
   "metadata": {},
   "outputs": [],
   "source": [
    "def hybrid(user_id, title):\n",
    "    indices = pd.Series(metadata_all.index, index=metadata_all['original_title'])\n",
    "\n",
    "    top_10_name = list(get_recommendations(title, indices, cosine_sim, top_n=10).keys())\n",
    "                               \n",
    "    top_10 = pd.DataFrame(top_10_name, columns=['title'])\n",
    "    \n",
    "    # get movies id\n",
    "    top_10_id = []\n",
    "    for movie in top_10_name:\n",
    "        try:\n",
    "            top_10_id.append(int(df_20.loc[df_20['original_title'] == movie, 'id'].iloc[0]))\n",
    "        except:\n",
    "            top_10_id.append(0)\n",
    "    top_10['id'] = top_10_id\n",
    "   \n",
    "    \n",
    "    # predict movie rate\n",
    "    m_rates = []\n",
    "    for m_id in top_10['id'].tolist():\n",
    "        if m_id != 0:\n",
    "            m_rates.append(svd.predict(user_id, m_id)[3])\n",
    "        else:\n",
    "            m_rates.append(0)\n",
    "    top_10['rate'] = m_rates\n",
    "\n",
    "    return top_10.sort_values(by=['rate'],  ascending=False)\n",
    "    \n"
   ]
  },
  {
   "cell_type": "code",
   "execution_count": 260,
   "metadata": {},
   "outputs": [
    {
     "data": {
      "text/html": [
       "<div>\n",
       "<style scoped>\n",
       "    .dataframe tbody tr th:only-of-type {\n",
       "        vertical-align: middle;\n",
       "    }\n",
       "\n",
       "    .dataframe tbody tr th {\n",
       "        vertical-align: top;\n",
       "    }\n",
       "\n",
       "    .dataframe thead th {\n",
       "        text-align: right;\n",
       "    }\n",
       "</style>\n",
       "<table border=\"1\" class=\"dataframe\">\n",
       "  <thead>\n",
       "    <tr style=\"text-align: right;\">\n",
       "      <th></th>\n",
       "      <th>title</th>\n",
       "      <th>id</th>\n",
       "      <th>rate</th>\n",
       "    </tr>\n",
       "  </thead>\n",
       "  <tbody>\n",
       "    <tr>\n",
       "      <th>3</th>\n",
       "      <td>Road to Perdition</td>\n",
       "      <td>4147</td>\n",
       "      <td>4.660</td>\n",
       "    </tr>\n",
       "    <tr>\n",
       "      <th>7</th>\n",
       "      <td>Jarhead</td>\n",
       "      <td>25</td>\n",
       "      <td>4.315</td>\n",
       "    </tr>\n",
       "    <tr>\n",
       "      <th>8</th>\n",
       "      <td>Titanic</td>\n",
       "      <td>597</td>\n",
       "      <td>4.180</td>\n",
       "    </tr>\n",
       "    <tr>\n",
       "      <th>1</th>\n",
       "      <td>Amadeus</td>\n",
       "      <td>279</td>\n",
       "      <td>4.136</td>\n",
       "    </tr>\n",
       "    <tr>\n",
       "      <th>5</th>\n",
       "      <td>Shakespeare in Love</td>\n",
       "      <td>1934</td>\n",
       "      <td>4.123</td>\n",
       "    </tr>\n",
       "    <tr>\n",
       "      <th>9</th>\n",
       "      <td>Forrest Gump</td>\n",
       "      <td>13</td>\n",
       "      <td>3.868</td>\n",
       "    </tr>\n",
       "    <tr>\n",
       "      <th>6</th>\n",
       "      <td>Rain Man</td>\n",
       "      <td>380</td>\n",
       "      <td>3.840</td>\n",
       "    </tr>\n",
       "    <tr>\n",
       "      <th>2</th>\n",
       "      <td>Schindler's List</td>\n",
       "      <td>424</td>\n",
       "      <td>3.491</td>\n",
       "    </tr>\n",
       "    <tr>\n",
       "      <th>0</th>\n",
       "      <td>Revolutionary Road</td>\n",
       "      <td>4148</td>\n",
       "      <td>3.312</td>\n",
       "    </tr>\n",
       "    <tr>\n",
       "      <th>4</th>\n",
       "      <td>The Piano</td>\n",
       "      <td>0</td>\n",
       "      <td>0.000</td>\n",
       "    </tr>\n",
       "  </tbody>\n",
       "</table>\n",
       "</div>"
      ],
      "text/plain": [
       "                 title    id   rate\n",
       "3    Road to Perdition  4147  4.660\n",
       "7              Jarhead    25  4.315\n",
       "8              Titanic   597  4.180\n",
       "1              Amadeus   279  4.136\n",
       "5  Shakespeare in Love  1934  4.123\n",
       "9         Forrest Gump    13  3.868\n",
       "6             Rain Man   380  3.840\n",
       "2     Schindler's List   424  3.491\n",
       "0   Revolutionary Road  4148  3.312\n",
       "4            The Piano     0  0.000"
      ]
     },
     "execution_count": 260,
     "metadata": {},
     "output_type": "execute_result"
    }
   ],
   "source": [
    "top_10 = hybrid(1, 'American Beauty')\n",
    "top_10"
   ]
  },
  {
   "cell_type": "code",
   "execution_count": null,
   "metadata": {},
   "outputs": [],
   "source": []
  },
  {
   "cell_type": "code",
   "execution_count": null,
   "metadata": {},
   "outputs": [],
   "source": []
  },
  {
   "cell_type": "code",
   "execution_count": null,
   "metadata": {},
   "outputs": [],
   "source": []
  },
  {
   "cell_type": "code",
   "execution_count": null,
   "metadata": {},
   "outputs": [],
   "source": []
  },
  {
   "cell_type": "code",
   "execution_count": null,
   "metadata": {},
   "outputs": [],
   "source": []
  }
 ],
 "metadata": {
  "kernelspec": {
   "display_name": "Python 3",
   "language": "python",
   "name": "python3"
  },
  "language_info": {
   "codemirror_mode": {
    "name": "ipython",
    "version": 3
   },
   "file_extension": ".py",
   "mimetype": "text/x-python",
   "name": "python",
   "nbconvert_exporter": "python",
   "pygments_lexer": "ipython3",
   "version": "3.8.3"
  },
  "toc": {
   "base_numbering": 1,
   "nav_menu": {},
   "number_sections": true,
   "sideBar": true,
   "skip_h1_title": false,
   "title_cell": "Table of Contents",
   "title_sidebar": "Contents",
   "toc_cell": false,
   "toc_position": {},
   "toc_section_display": true,
   "toc_window_display": false
  },
  "varInspector": {
   "cols": {
    "lenName": 16,
    "lenType": 16,
    "lenVar": 40
   },
   "kernels_config": {
    "python": {
     "delete_cmd_postfix": "",
     "delete_cmd_prefix": "del ",
     "library": "var_list.py",
     "varRefreshCmd": "print(var_dic_list())"
    },
    "r": {
     "delete_cmd_postfix": ") ",
     "delete_cmd_prefix": "rm(",
     "library": "var_list.r",
     "varRefreshCmd": "cat(var_dic_list()) "
    }
   },
   "types_to_exclude": [
    "module",
    "function",
    "builtin_function_or_method",
    "instance",
    "_Feature"
   ],
   "window_display": false
  }
 },
 "nbformat": 4,
 "nbformat_minor": 2
}
